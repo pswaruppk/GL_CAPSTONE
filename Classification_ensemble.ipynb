{
  "nbformat": 4,
  "nbformat_minor": 0,
  "metadata": {
    "colab": {
      "name": "Classification ensemble.ipynb",
      "provenance": [],
      "collapsed_sections": [],
      "toc_visible": true,
      "authorship_tag": "ABX9TyOioUkA78KMb1gWxUk9WM7D",
      "include_colab_link": true
    },
    "kernelspec": {
      "name": "python3",
      "display_name": "Python 3"
    }
  },
  "cells": [
    {
      "cell_type": "markdown",
      "metadata": {
        "id": "view-in-github",
        "colab_type": "text"
      },
      "source": [
        "<a href=\"https://colab.research.google.com/github/pswaruppk/GL_CAPSTONE/blob/master/Classification_ensemble.ipynb\" target=\"_parent\"><img src=\"https://colab.research.google.com/assets/colab-badge.svg\" alt=\"Open In Colab\"/></a>"
      ]
    },
    {
      "cell_type": "markdown",
      "metadata": {
        "id": "0b5mUEdnnDMM"
      },
      "source": [
        "#Ensemble of classification \n",
        "  This notebook will ensemble output of densenet121, InceptionResnetV2,Inception V3"
      ]
    },
    {
      "cell_type": "code",
      "metadata": {
        "id": "izliBxl6omOy"
      },
      "source": [
        "import os\n",
        "import pandas as pd"
      ],
      "execution_count": null,
      "outputs": []
    },
    {
      "cell_type": "code",
      "metadata": {
        "id": "kIr45yLaonEx",
        "outputId": "737d4a87-d564-4550-9f63-e9c5dfac099d",
        "colab": {
          "base_uri": "https://localhost:8080/",
          "height": 54
        }
      },
      "source": [
        "from google.colab import drive\n",
        "drive.mount('/content/drive')"
      ],
      "execution_count": null,
      "outputs": [
        {
          "output_type": "stream",
          "text": [
            "Drive already mounted at /content/drive; to attempt to forcibly remount, call drive.mount(\"/content/drive\", force_remount=True).\n"
          ],
          "name": "stdout"
        }
      ]
    },
    {
      "cell_type": "code",
      "metadata": {
        "id": "IT0cfoWMoo5K",
        "outputId": "90d85289-25db-42ee-e6b3-7f2575f7b608",
        "colab": {
          "base_uri": "https://localhost:8080/",
          "height": 35
        }
      },
      "source": [
        "project_path = \"/content/drive/My Drive/rsna-pneumonia-detection-challenge\"\n",
        "os.chdir(project_path)\n",
        "os.getcwd()"
      ],
      "execution_count": null,
      "outputs": [
        {
          "output_type": "execute_result",
          "data": {
            "application/vnd.google.colaboratory.intrinsic+json": {
              "type": "string"
            },
            "text/plain": [
              "'/content/drive/My Drive/rsna-pneumonia-detection-challenge'"
            ]
          },
          "metadata": {
            "tags": []
          },
          "execution_count": 106
        }
      ]
    },
    {
      "cell_type": "code",
      "metadata": {
        "id": "ok3lCRBE3Fji"
      },
      "source": [
        "BATCH_SIZE = 32\n",
        "IMAGE_SIZE = 299\n",
        "IMG_WIDTH = 1024"
      ],
      "execution_count": null,
      "outputs": []
    },
    {
      "cell_type": "code",
      "metadata": {
        "id": "GWKnYgnlm79U",
        "outputId": "c34f65d5-b88c-41a9-9b52-25878efb3a6f",
        "colab": {
          "base_uri": "https://localhost:8080/",
          "height": 34
        }
      },
      "source": [
        "BASE_MODEL = \"InceptionResNetV2\"\n",
        "MODEL_NAME  = \"Option-1\" + \".\" + BASE_MODEL\n",
        "pred_dump_file = MODEL_NAME + '/class_prediction_299.csv'\n",
        "print('Loading file:',pred_dump_file)\n",
        "inception_res_v2_df = pd.read_csv(pred_dump_file)"
      ],
      "execution_count": null,
      "outputs": [
        {
          "output_type": "stream",
          "text": [
            "Loading file: Option-1.InceptionResNetV2/class_prediction_299.csv\n"
          ],
          "name": "stdout"
        }
      ]
    },
    {
      "cell_type": "code",
      "metadata": {
        "id": "VuPpk7Rvssom"
      },
      "source": [
        "# inception_res_v2_df.drop(inception_res_v2_df.columns[0],inplace=True,axis=1)"
      ],
      "execution_count": null,
      "outputs": []
    },
    {
      "cell_type": "code",
      "metadata": {
        "id": "mIXlGnJnqJ0O",
        "outputId": "218601f8-af82-4a61-e507-0a6ef02f3838",
        "colab": {
          "base_uri": "https://localhost:8080/",
          "height": 203
        }
      },
      "source": [
        "inception_res_v2_df.head()"
      ],
      "execution_count": null,
      "outputs": [
        {
          "output_type": "execute_result",
          "data": {
            "text/html": [
              "<div>\n",
              "<style scoped>\n",
              "    .dataframe tbody tr th:only-of-type {\n",
              "        vertical-align: middle;\n",
              "    }\n",
              "\n",
              "    .dataframe tbody tr th {\n",
              "        vertical-align: top;\n",
              "    }\n",
              "\n",
              "    .dataframe thead th {\n",
              "        text-align: right;\n",
              "    }\n",
              "</style>\n",
              "<table border=\"1\" class=\"dataframe\">\n",
              "  <thead>\n",
              "    <tr style=\"text-align: right;\">\n",
              "      <th></th>\n",
              "      <th>patientId</th>\n",
              "      <th>PNEUMONIA</th>\n",
              "      <th>NOT_NORMAL</th>\n",
              "      <th>NORMAL</th>\n",
              "    </tr>\n",
              "  </thead>\n",
              "  <tbody>\n",
              "    <tr>\n",
              "      <th>0</th>\n",
              "      <td>9827bfae-729a-455c-817b-e775253bf568</td>\n",
              "      <td>0.217899</td>\n",
              "      <td>0.721338</td>\n",
              "      <td>0.060763</td>\n",
              "    </tr>\n",
              "    <tr>\n",
              "      <th>1</th>\n",
              "      <td>5006f783-56af-4ad9-a37b-c80bd789ddbd</td>\n",
              "      <td>0.039144</td>\n",
              "      <td>0.230550</td>\n",
              "      <td>0.730305</td>\n",
              "    </tr>\n",
              "    <tr>\n",
              "      <th>2</th>\n",
              "      <td>e065606f-3368-47ff-b4d1-ef783e97813f</td>\n",
              "      <td>0.900557</td>\n",
              "      <td>0.098824</td>\n",
              "      <td>0.000619</td>\n",
              "    </tr>\n",
              "    <tr>\n",
              "      <th>3</th>\n",
              "      <td>99306946-1577-4724-be54-9b8b1b1a7869</td>\n",
              "      <td>0.621295</td>\n",
              "      <td>0.370927</td>\n",
              "      <td>0.007778</td>\n",
              "    </tr>\n",
              "    <tr>\n",
              "      <th>4</th>\n",
              "      <td>156634a8-5ca7-4822-92cd-677aedc2247a</td>\n",
              "      <td>0.750515</td>\n",
              "      <td>0.229232</td>\n",
              "      <td>0.020253</td>\n",
              "    </tr>\n",
              "  </tbody>\n",
              "</table>\n",
              "</div>"
            ],
            "text/plain": [
              "                              patientId  PNEUMONIA  NOT_NORMAL    NORMAL\n",
              "0  9827bfae-729a-455c-817b-e775253bf568   0.217899    0.721338  0.060763\n",
              "1  5006f783-56af-4ad9-a37b-c80bd789ddbd   0.039144    0.230550  0.730305\n",
              "2  e065606f-3368-47ff-b4d1-ef783e97813f   0.900557    0.098824  0.000619\n",
              "3  99306946-1577-4724-be54-9b8b1b1a7869   0.621295    0.370927  0.007778\n",
              "4  156634a8-5ca7-4822-92cd-677aedc2247a   0.750515    0.229232  0.020253"
            ]
          },
          "metadata": {
            "tags": []
          },
          "execution_count": 110
        }
      ]
    },
    {
      "cell_type": "code",
      "metadata": {
        "id": "kACMuwkLnv9j",
        "outputId": "b5929593-7ad7-4338-d07a-11438034d316",
        "colab": {
          "base_uri": "https://localhost:8080/",
          "height": 34
        }
      },
      "source": [
        "BASE_MODEL = \"DenseNet121\"\n",
        "MODEL_NAME  = \"Option-1\" + \".\" + BASE_MODEL\n",
        "pred_dump_file = MODEL_NAME + '/class_prediction.csv'\n",
        "print('Loading file:',pred_dump_file)\n",
        "densenet_df = pd.read_csv(pred_dump_file)\n"
      ],
      "execution_count": null,
      "outputs": [
        {
          "output_type": "stream",
          "text": [
            "Loading file: Option-1.DenseNet121/class_prediction.csv\n"
          ],
          "name": "stdout"
        }
      ]
    },
    {
      "cell_type": "code",
      "metadata": {
        "id": "h8hM-83JqtN_",
        "outputId": "dca3853d-fb63-4e8a-bf7b-4cefb5152848",
        "colab": {
          "base_uri": "https://localhost:8080/",
          "height": 203
        }
      },
      "source": [
        "densenet_df.head()"
      ],
      "execution_count": null,
      "outputs": [
        {
          "output_type": "execute_result",
          "data": {
            "text/html": [
              "<div>\n",
              "<style scoped>\n",
              "    .dataframe tbody tr th:only-of-type {\n",
              "        vertical-align: middle;\n",
              "    }\n",
              "\n",
              "    .dataframe tbody tr th {\n",
              "        vertical-align: top;\n",
              "    }\n",
              "\n",
              "    .dataframe thead th {\n",
              "        text-align: right;\n",
              "    }\n",
              "</style>\n",
              "<table border=\"1\" class=\"dataframe\">\n",
              "  <thead>\n",
              "    <tr style=\"text-align: right;\">\n",
              "      <th></th>\n",
              "      <th>patientId</th>\n",
              "      <th>PNEUMONIA</th>\n",
              "      <th>NOT_NORMAL</th>\n",
              "      <th>NORMAL</th>\n",
              "    </tr>\n",
              "  </thead>\n",
              "  <tbody>\n",
              "    <tr>\n",
              "      <th>0</th>\n",
              "      <td>81cc48ed-0b64-436e-809e-47c3fc35006f</td>\n",
              "      <td>0.060745</td>\n",
              "      <td>0.181098</td>\n",
              "      <td>0.758157</td>\n",
              "    </tr>\n",
              "    <tr>\n",
              "      <th>1</th>\n",
              "      <td>74075cca-a426-4710-92de-e23aa74b76ac</td>\n",
              "      <td>0.783721</td>\n",
              "      <td>0.190050</td>\n",
              "      <td>0.026228</td>\n",
              "    </tr>\n",
              "    <tr>\n",
              "      <th>2</th>\n",
              "      <td>d442daf0-cc56-4c05-8874-94712aa53704</td>\n",
              "      <td>0.313819</td>\n",
              "      <td>0.411228</td>\n",
              "      <td>0.274952</td>\n",
              "    </tr>\n",
              "    <tr>\n",
              "      <th>3</th>\n",
              "      <td>2bbcfa00-cfcb-4761-b3e3-83687fd65d5b</td>\n",
              "      <td>0.690628</td>\n",
              "      <td>0.289071</td>\n",
              "      <td>0.020301</td>\n",
              "    </tr>\n",
              "    <tr>\n",
              "      <th>4</th>\n",
              "      <td>c97fe65e-3d97-4941-ad80-70f745d7d41f</td>\n",
              "      <td>0.032692</td>\n",
              "      <td>0.160328</td>\n",
              "      <td>0.806980</td>\n",
              "    </tr>\n",
              "  </tbody>\n",
              "</table>\n",
              "</div>"
            ],
            "text/plain": [
              "                              patientId  PNEUMONIA  NOT_NORMAL    NORMAL\n",
              "0  81cc48ed-0b64-436e-809e-47c3fc35006f   0.060745    0.181098  0.758157\n",
              "1  74075cca-a426-4710-92de-e23aa74b76ac   0.783721    0.190050  0.026228\n",
              "2  d442daf0-cc56-4c05-8874-94712aa53704   0.313819    0.411228  0.274952\n",
              "3  2bbcfa00-cfcb-4761-b3e3-83687fd65d5b   0.690628    0.289071  0.020301\n",
              "4  c97fe65e-3d97-4941-ad80-70f745d7d41f   0.032692    0.160328  0.806980"
            ]
          },
          "metadata": {
            "tags": []
          },
          "execution_count": 113
        }
      ]
    },
    {
      "cell_type": "code",
      "metadata": {
        "id": "OmsxqxFnypJR",
        "outputId": "3dd96fd5-b509-4dfe-94d4-cdb29a529f21",
        "colab": {
          "base_uri": "https://localhost:8080/",
          "height": 34
        }
      },
      "source": [
        "densenet_df.shape"
      ],
      "execution_count": null,
      "outputs": [
        {
          "output_type": "execute_result",
          "data": {
            "text/plain": [
              "(12624, 4)"
            ]
          },
          "metadata": {
            "tags": []
          },
          "execution_count": 114
        }
      ]
    },
    {
      "cell_type": "code",
      "metadata": {
        "id": "u3vjtdf1hbtT",
        "outputId": "8951ae1b-08b6-48ae-a93c-28b1d456191f",
        "colab": {
          "base_uri": "https://localhost:8080/",
          "height": 34
        }
      },
      "source": [
        "BASE_MODEL = \"InceptionV3\"\n",
        "MODEL_NAME  = \"Option-1\" + \".\" + BASE_MODEL\n",
        "pred_dump_file = MODEL_NAME + '/class_prediction.csv'\n",
        "print('Loading file:',pred_dump_file)\n",
        "inceptionV3_df = pd.read_csv(pred_dump_file)"
      ],
      "execution_count": null,
      "outputs": [
        {
          "output_type": "stream",
          "text": [
            "Loading file: Option-1.InceptionV3/class_prediction.csv\n"
          ],
          "name": "stdout"
        }
      ]
    },
    {
      "cell_type": "code",
      "metadata": {
        "id": "DXtRkRApvYlN"
      },
      "source": [
        "inceptionV3_df.drop(inceptionV3_df.columns[0],inplace=True,axis=1)"
      ],
      "execution_count": null,
      "outputs": []
    },
    {
      "cell_type": "code",
      "metadata": {
        "id": "pXYaiU9rvHjW",
        "outputId": "aec9eeca-286e-4a45-a727-507b381cc1c3",
        "colab": {
          "base_uri": "https://localhost:8080/",
          "height": 203
        }
      },
      "source": [
        "inceptionV3_df.head()"
      ],
      "execution_count": null,
      "outputs": [
        {
          "output_type": "execute_result",
          "data": {
            "text/html": [
              "<div>\n",
              "<style scoped>\n",
              "    .dataframe tbody tr th:only-of-type {\n",
              "        vertical-align: middle;\n",
              "    }\n",
              "\n",
              "    .dataframe tbody tr th {\n",
              "        vertical-align: top;\n",
              "    }\n",
              "\n",
              "    .dataframe thead th {\n",
              "        text-align: right;\n",
              "    }\n",
              "</style>\n",
              "<table border=\"1\" class=\"dataframe\">\n",
              "  <thead>\n",
              "    <tr style=\"text-align: right;\">\n",
              "      <th></th>\n",
              "      <th>patientId</th>\n",
              "      <th>PNEUMONIA</th>\n",
              "      <th>NOT_NORMAL</th>\n",
              "      <th>NORMAL</th>\n",
              "    </tr>\n",
              "  </thead>\n",
              "  <tbody>\n",
              "    <tr>\n",
              "      <th>0</th>\n",
              "      <td>2a607bec-696e-4248-b6cc-21a6266744bd</td>\n",
              "      <td>0.041635</td>\n",
              "      <td>0.195971</td>\n",
              "      <td>0.762393</td>\n",
              "    </tr>\n",
              "    <tr>\n",
              "      <th>1</th>\n",
              "      <td>e25063da-1731-4976-8a43-0830668a3fbd</td>\n",
              "      <td>0.006187</td>\n",
              "      <td>0.041193</td>\n",
              "      <td>0.952620</td>\n",
              "    </tr>\n",
              "    <tr>\n",
              "      <th>2</th>\n",
              "      <td>473cc35e-bf1d-4253-891e-5fab620cb47b</td>\n",
              "      <td>0.920030</td>\n",
              "      <td>0.079762</td>\n",
              "      <td>0.000208</td>\n",
              "    </tr>\n",
              "    <tr>\n",
              "      <th>3</th>\n",
              "      <td>6f5d9135-ffc5-4076-872d-ba8a5bf7e8e4</td>\n",
              "      <td>0.587962</td>\n",
              "      <td>0.186002</td>\n",
              "      <td>0.226037</td>\n",
              "    </tr>\n",
              "    <tr>\n",
              "      <th>4</th>\n",
              "      <td>69333c71-1675-48fa-a1d7-5a7d122293f4</td>\n",
              "      <td>0.017730</td>\n",
              "      <td>0.028607</td>\n",
              "      <td>0.953664</td>\n",
              "    </tr>\n",
              "  </tbody>\n",
              "</table>\n",
              "</div>"
            ],
            "text/plain": [
              "                              patientId  PNEUMONIA  NOT_NORMAL    NORMAL\n",
              "0  2a607bec-696e-4248-b6cc-21a6266744bd   0.041635    0.195971  0.762393\n",
              "1  e25063da-1731-4976-8a43-0830668a3fbd   0.006187    0.041193  0.952620\n",
              "2  473cc35e-bf1d-4253-891e-5fab620cb47b   0.920030    0.079762  0.000208\n",
              "3  6f5d9135-ffc5-4076-872d-ba8a5bf7e8e4   0.587962    0.186002  0.226037\n",
              "4  69333c71-1675-48fa-a1d7-5a7d122293f4   0.017730    0.028607  0.953664"
            ]
          },
          "metadata": {
            "tags": []
          },
          "execution_count": 117
        }
      ]
    },
    {
      "cell_type": "code",
      "metadata": {
        "id": "6FPQQsxX1OE4",
        "outputId": "52414c02-0948-4013-fd3e-cd287c716630",
        "colab": {
          "base_uri": "https://localhost:8080/",
          "height": 34
        }
      },
      "source": [
        "inceptionV3_df.shape"
      ],
      "execution_count": null,
      "outputs": [
        {
          "output_type": "execute_result",
          "data": {
            "text/plain": [
              "(12624, 4)"
            ]
          },
          "metadata": {
            "tags": []
          },
          "execution_count": 118
        }
      ]
    },
    {
      "cell_type": "code",
      "metadata": {
        "id": "0MB4mRqJ0wol"
      },
      "source": [
        "merge_df = pd.merge(inception_res_v2_df, inceptionV3_df, on=\"patientId\",how='inner')"
      ],
      "execution_count": null,
      "outputs": []
    },
    {
      "cell_type": "code",
      "metadata": {
        "id": "0AkxIyZtRwn-"
      },
      "source": [
        "merge_df = pd.merge(merge_df,densenet_df, on=\"patientId\",how='inner')"
      ],
      "execution_count": null,
      "outputs": []
    },
    {
      "cell_type": "code",
      "metadata": {
        "id": "fKvSB06V1DY8",
        "outputId": "e96eee5e-12a9-4159-8d0f-d16531e32a10",
        "colab": {
          "base_uri": "https://localhost:8080/",
          "height": 357
        }
      },
      "source": [
        "merge_df.head()"
      ],
      "execution_count": null,
      "outputs": [
        {
          "output_type": "execute_result",
          "data": {
            "text/html": [
              "<div>\n",
              "<style scoped>\n",
              "    .dataframe tbody tr th:only-of-type {\n",
              "        vertical-align: middle;\n",
              "    }\n",
              "\n",
              "    .dataframe tbody tr th {\n",
              "        vertical-align: top;\n",
              "    }\n",
              "\n",
              "    .dataframe thead th {\n",
              "        text-align: right;\n",
              "    }\n",
              "</style>\n",
              "<table border=\"1\" class=\"dataframe\">\n",
              "  <thead>\n",
              "    <tr style=\"text-align: right;\">\n",
              "      <th></th>\n",
              "      <th>patientId</th>\n",
              "      <th>PNEUMONIA_x</th>\n",
              "      <th>NOT_NORMAL_x</th>\n",
              "      <th>NORMAL_x</th>\n",
              "      <th>PNEUMONIA_y</th>\n",
              "      <th>NOT_NORMAL_y</th>\n",
              "      <th>NORMAL_y</th>\n",
              "      <th>PNEUMONIA</th>\n",
              "      <th>NOT_NORMAL</th>\n",
              "      <th>NORMAL</th>\n",
              "    </tr>\n",
              "  </thead>\n",
              "  <tbody>\n",
              "    <tr>\n",
              "      <th>0</th>\n",
              "      <td>9827bfae-729a-455c-817b-e775253bf568</td>\n",
              "      <td>0.217899</td>\n",
              "      <td>0.721338</td>\n",
              "      <td>0.060763</td>\n",
              "      <td>0.370083</td>\n",
              "      <td>0.560294</td>\n",
              "      <td>0.069624</td>\n",
              "      <td>0.357657</td>\n",
              "      <td>0.615552</td>\n",
              "      <td>0.026790</td>\n",
              "    </tr>\n",
              "    <tr>\n",
              "      <th>1</th>\n",
              "      <td>5006f783-56af-4ad9-a37b-c80bd789ddbd</td>\n",
              "      <td>0.039144</td>\n",
              "      <td>0.230550</td>\n",
              "      <td>0.730305</td>\n",
              "      <td>0.027647</td>\n",
              "      <td>0.298215</td>\n",
              "      <td>0.674138</td>\n",
              "      <td>0.068119</td>\n",
              "      <td>0.323079</td>\n",
              "      <td>0.608801</td>\n",
              "    </tr>\n",
              "    <tr>\n",
              "      <th>2</th>\n",
              "      <td>e065606f-3368-47ff-b4d1-ef783e97813f</td>\n",
              "      <td>0.900557</td>\n",
              "      <td>0.098824</td>\n",
              "      <td>0.000619</td>\n",
              "      <td>0.898731</td>\n",
              "      <td>0.094028</td>\n",
              "      <td>0.007241</td>\n",
              "      <td>0.723882</td>\n",
              "      <td>0.268343</td>\n",
              "      <td>0.007775</td>\n",
              "    </tr>\n",
              "    <tr>\n",
              "      <th>3</th>\n",
              "      <td>99306946-1577-4724-be54-9b8b1b1a7869</td>\n",
              "      <td>0.621295</td>\n",
              "      <td>0.370927</td>\n",
              "      <td>0.007778</td>\n",
              "      <td>0.470769</td>\n",
              "      <td>0.524746</td>\n",
              "      <td>0.004485</td>\n",
              "      <td>0.491383</td>\n",
              "      <td>0.505415</td>\n",
              "      <td>0.003202</td>\n",
              "    </tr>\n",
              "    <tr>\n",
              "      <th>4</th>\n",
              "      <td>156634a8-5ca7-4822-92cd-677aedc2247a</td>\n",
              "      <td>0.750515</td>\n",
              "      <td>0.229232</td>\n",
              "      <td>0.020253</td>\n",
              "      <td>0.874663</td>\n",
              "      <td>0.122560</td>\n",
              "      <td>0.002777</td>\n",
              "      <td>0.571656</td>\n",
              "      <td>0.425702</td>\n",
              "      <td>0.002642</td>\n",
              "    </tr>\n",
              "  </tbody>\n",
              "</table>\n",
              "</div>"
            ],
            "text/plain": [
              "                              patientId  PNEUMONIA_x  ...  NOT_NORMAL    NORMAL\n",
              "0  9827bfae-729a-455c-817b-e775253bf568     0.217899  ...    0.615552  0.026790\n",
              "1  5006f783-56af-4ad9-a37b-c80bd789ddbd     0.039144  ...    0.323079  0.608801\n",
              "2  e065606f-3368-47ff-b4d1-ef783e97813f     0.900557  ...    0.268343  0.007775\n",
              "3  99306946-1577-4724-be54-9b8b1b1a7869     0.621295  ...    0.505415  0.003202\n",
              "4  156634a8-5ca7-4822-92cd-677aedc2247a     0.750515  ...    0.425702  0.002642\n",
              "\n",
              "[5 rows x 10 columns]"
            ]
          },
          "metadata": {
            "tags": []
          },
          "execution_count": 122
        }
      ]
    },
    {
      "cell_type": "code",
      "metadata": {
        "id": "-GGxsjij2bNx",
        "outputId": "f210c7cc-d20b-4a90-ef61-b2f0e1e47a5b",
        "colab": {
          "base_uri": "https://localhost:8080/",
          "height": 209
        }
      },
      "source": [
        "merge_df.isna().any()"
      ],
      "execution_count": null,
      "outputs": [
        {
          "output_type": "execute_result",
          "data": {
            "text/plain": [
              "patientId       False\n",
              "PNEUMONIA_x     False\n",
              "NOT_NORMAL_x    False\n",
              "NORMAL_x        False\n",
              "PNEUMONIA_y     False\n",
              "NOT_NORMAL_y    False\n",
              "NORMAL_y        False\n",
              "PNEUMONIA       False\n",
              "NOT_NORMAL      False\n",
              "NORMAL          False\n",
              "dtype: bool"
            ]
          },
          "metadata": {
            "tags": []
          },
          "execution_count": 123
        }
      ]
    },
    {
      "cell_type": "code",
      "metadata": {
        "id": "fDPFiDRq1Jcy",
        "outputId": "eab7fd69-bcb0-4c99-b467-91dcc452cd6c",
        "colab": {
          "base_uri": "https://localhost:8080/",
          "height": 34
        }
      },
      "source": [
        "merge_df.shape"
      ],
      "execution_count": null,
      "outputs": [
        {
          "output_type": "execute_result",
          "data": {
            "text/plain": [
              "(12624, 10)"
            ]
          },
          "metadata": {
            "tags": []
          },
          "execution_count": 124
        }
      ]
    },
    {
      "cell_type": "code",
      "metadata": {
        "id": "qAU2uFMXzNqf",
        "outputId": "5fb03979-4267-4e3d-fa34-0ecc547c05d9",
        "colab": {
          "base_uri": "https://localhost:8080/",
          "height": 87
        }
      },
      "source": [
        "oldPath = os.getcwd()\n",
        "utility_path = \"/content/drive/My Drive/GL_CAPSTONE\"\n",
        "os.chdir(utility_path)\n",
        "%run pneumonia_utility.ipynb\n",
        "os.chdir(oldPath)\n",
        "print(os.getcwd())\n"
      ],
      "execution_count": null,
      "outputs": [
        {
          "output_type": "stream",
          "text": [
            "Loading functions from Pneumonia utility notebook\n",
            "Loading pydicom package\n",
            "Requirement already satisfied: pydicom in /usr/local/lib/python3.6/dist-packages (2.0.0)\n",
            "/content/drive/My Drive/rsna-pneumonia-detection-challenge\n"
          ],
          "name": "stdout"
        }
      ]
    },
    {
      "cell_type": "code",
      "metadata": {
        "id": "ngB6_Xur1zww",
        "outputId": "42b404a4-2708-4689-a03c-0c86a408d432",
        "colab": {
          "base_uri": "https://localhost:8080/",
          "height": 52
        }
      },
      "source": [
        "full_df,bbox_map,class_enc = loadData()"
      ],
      "execution_count": null,
      "outputs": [
        {
          "output_type": "stream",
          "text": [
            "Loading full CXR info\n",
            "Loading bbox map\n"
          ],
          "name": "stdout"
        }
      ]
    },
    {
      "cell_type": "code",
      "metadata": {
        "id": "IET_Q05929SB",
        "outputId": "3232d69b-978d-45dd-848d-38b6503b6041",
        "colab": {
          "base_uri": "https://localhost:8080/",
          "height": 185
        }
      },
      "source": [
        "full_df.head(1)"
      ],
      "execution_count": null,
      "outputs": [
        {
          "output_type": "execute_result",
          "data": {
            "text/html": [
              "<div>\n",
              "<style scoped>\n",
              "    .dataframe tbody tr th:only-of-type {\n",
              "        vertical-align: middle;\n",
              "    }\n",
              "\n",
              "    .dataframe tbody tr th {\n",
              "        vertical-align: top;\n",
              "    }\n",
              "\n",
              "    .dataframe thead th {\n",
              "        text-align: right;\n",
              "    }\n",
              "</style>\n",
              "<table border=\"1\" class=\"dataframe\">\n",
              "  <thead>\n",
              "    <tr style=\"text-align: right;\">\n",
              "      <th></th>\n",
              "      <th>Unnamed: 0</th>\n",
              "      <th>patientId</th>\n",
              "      <th>x</th>\n",
              "      <th>y</th>\n",
              "      <th>width</th>\n",
              "      <th>height</th>\n",
              "      <th>Target</th>\n",
              "      <th>BboxNo</th>\n",
              "      <th>PatientAge</th>\n",
              "      <th>PatientSex</th>\n",
              "      <th>ViewPosition</th>\n",
              "      <th>class</th>\n",
              "      <th>class_id</th>\n",
              "      <th>class_vector</th>\n",
              "      <th>path</th>\n",
              "    </tr>\n",
              "  </thead>\n",
              "  <tbody>\n",
              "    <tr>\n",
              "      <th>0</th>\n",
              "      <td>0</td>\n",
              "      <td>0004cfab-14fd-4e49-80ba-63a80b6bddd6</td>\n",
              "      <td>NaN</td>\n",
              "      <td>NaN</td>\n",
              "      <td>NaN</td>\n",
              "      <td>NaN</td>\n",
              "      <td>0</td>\n",
              "      <td>1</td>\n",
              "      <td>51</td>\n",
              "      <td>0</td>\n",
              "      <td>0</td>\n",
              "      <td>No Lung Opacity / Not Normal</td>\n",
              "      <td>1</td>\n",
              "      <td>[0.0, 1.0, 0.0]</td>\n",
              "      <td>stage_2_train_images/0004cfab-14fd-4e49-80ba-6...</td>\n",
              "    </tr>\n",
              "  </tbody>\n",
              "</table>\n",
              "</div>"
            ],
            "text/plain": [
              "   Unnamed: 0  ...                                               path\n",
              "0           0  ...  stage_2_train_images/0004cfab-14fd-4e49-80ba-6...\n",
              "\n",
              "[1 rows x 15 columns]"
            ]
          },
          "metadata": {
            "tags": []
          },
          "execution_count": 127
        }
      ]
    },
    {
      "cell_type": "code",
      "metadata": {
        "id": "cN20fZph3hbG"
      },
      "source": [
        "class_df = full_df[['patientId','class_id']]"
      ],
      "execution_count": null,
      "outputs": []
    },
    {
      "cell_type": "code",
      "metadata": {
        "id": "7wrPkLLt3WTL",
        "outputId": "85d045ac-f33a-47f7-c4d1-9e4c5319c6b4",
        "colab": {
          "base_uri": "https://localhost:8080/",
          "height": 203
        }
      },
      "source": [
        "class_df.head()"
      ],
      "execution_count": null,
      "outputs": [
        {
          "output_type": "execute_result",
          "data": {
            "text/html": [
              "<div>\n",
              "<style scoped>\n",
              "    .dataframe tbody tr th:only-of-type {\n",
              "        vertical-align: middle;\n",
              "    }\n",
              "\n",
              "    .dataframe tbody tr th {\n",
              "        vertical-align: top;\n",
              "    }\n",
              "\n",
              "    .dataframe thead th {\n",
              "        text-align: right;\n",
              "    }\n",
              "</style>\n",
              "<table border=\"1\" class=\"dataframe\">\n",
              "  <thead>\n",
              "    <tr style=\"text-align: right;\">\n",
              "      <th></th>\n",
              "      <th>patientId</th>\n",
              "      <th>class_id</th>\n",
              "    </tr>\n",
              "  </thead>\n",
              "  <tbody>\n",
              "    <tr>\n",
              "      <th>0</th>\n",
              "      <td>0004cfab-14fd-4e49-80ba-63a80b6bddd6</td>\n",
              "      <td>1</td>\n",
              "    </tr>\n",
              "    <tr>\n",
              "      <th>1</th>\n",
              "      <td>00313ee0-9eaa-42f4-b0ab-c148ed3241cd</td>\n",
              "      <td>1</td>\n",
              "    </tr>\n",
              "    <tr>\n",
              "      <th>2</th>\n",
              "      <td>00322d4d-1c29-4943-afc9-b6754be640eb</td>\n",
              "      <td>1</td>\n",
              "    </tr>\n",
              "    <tr>\n",
              "      <th>3</th>\n",
              "      <td>003d8fa0-6bf1-40ed-b54c-ac657f8495c5</td>\n",
              "      <td>2</td>\n",
              "    </tr>\n",
              "    <tr>\n",
              "      <th>4</th>\n",
              "      <td>00436515-870c-4b36-a041-de91049b9ab4</td>\n",
              "      <td>0</td>\n",
              "    </tr>\n",
              "  </tbody>\n",
              "</table>\n",
              "</div>"
            ],
            "text/plain": [
              "                              patientId  class_id\n",
              "0  0004cfab-14fd-4e49-80ba-63a80b6bddd6         1\n",
              "1  00313ee0-9eaa-42f4-b0ab-c148ed3241cd         1\n",
              "2  00322d4d-1c29-4943-afc9-b6754be640eb         1\n",
              "3  003d8fa0-6bf1-40ed-b54c-ac657f8495c5         2\n",
              "4  00436515-870c-4b36-a041-de91049b9ab4         0"
            ]
          },
          "metadata": {
            "tags": []
          },
          "execution_count": 129
        }
      ]
    },
    {
      "cell_type": "code",
      "metadata": {
        "id": "RfF5a5YU4GKa",
        "outputId": "76ebf9dd-76bf-40d3-e898-8a60f9f0a543",
        "colab": {
          "base_uri": "https://localhost:8080/",
          "height": 34
        }
      },
      "source": [
        "class_df.shape"
      ],
      "execution_count": null,
      "outputs": [
        {
          "output_type": "execute_result",
          "data": {
            "text/plain": [
              "(30227, 2)"
            ]
          },
          "metadata": {
            "tags": []
          },
          "execution_count": 130
        }
      ]
    },
    {
      "cell_type": "code",
      "metadata": {
        "id": "AXnGaWOX4K1K",
        "outputId": "d6eba19a-1cda-4e90-a431-26254ca362ac",
        "colab": {
          "base_uri": "https://localhost:8080/",
          "height": 124
        }
      },
      "source": [
        "class_df.drop_duplicates(subset =\"patientId\", \n",
        "                     keep = 'first', inplace = True)\n"
      ],
      "execution_count": null,
      "outputs": [
        {
          "output_type": "stream",
          "text": [
            "/usr/local/lib/python3.6/dist-packages/ipykernel_launcher.py:2: SettingWithCopyWarning: \n",
            "A value is trying to be set on a copy of a slice from a DataFrame\n",
            "\n",
            "See the caveats in the documentation: https://pandas.pydata.org/pandas-docs/stable/user_guide/indexing.html#returning-a-view-versus-a-copy\n",
            "  \n"
          ],
          "name": "stderr"
        }
      ]
    },
    {
      "cell_type": "code",
      "metadata": {
        "id": "V-eF2BhI47RE",
        "outputId": "9e3bf6c5-3dc4-4531-9136-0ceae4059438",
        "colab": {
          "base_uri": "https://localhost:8080/",
          "height": 34
        }
      },
      "source": [
        "class_df.shape"
      ],
      "execution_count": null,
      "outputs": [
        {
          "output_type": "execute_result",
          "data": {
            "text/plain": [
              "(26684, 2)"
            ]
          },
          "metadata": {
            "tags": []
          },
          "execution_count": 132
        }
      ]
    },
    {
      "cell_type": "code",
      "metadata": {
        "id": "iu2Y-iQm5FaA"
      },
      "source": [
        "merge_df = pd.merge(merge_df, class_df, on=\"patientId\",how='inner')"
      ],
      "execution_count": null,
      "outputs": []
    },
    {
      "cell_type": "code",
      "metadata": {
        "id": "dnyR7Ho65RP3",
        "outputId": "cbec1d21-b303-48da-cd11-212b0ec6e570",
        "colab": {
          "base_uri": "https://localhost:8080/",
          "height": 479
        }
      },
      "source": [
        "merge_df.sample(5)"
      ],
      "execution_count": null,
      "outputs": [
        {
          "output_type": "execute_result",
          "data": {
            "text/html": [
              "<div>\n",
              "<style scoped>\n",
              "    .dataframe tbody tr th:only-of-type {\n",
              "        vertical-align: middle;\n",
              "    }\n",
              "\n",
              "    .dataframe tbody tr th {\n",
              "        vertical-align: top;\n",
              "    }\n",
              "\n",
              "    .dataframe thead th {\n",
              "        text-align: right;\n",
              "    }\n",
              "</style>\n",
              "<table border=\"1\" class=\"dataframe\">\n",
              "  <thead>\n",
              "    <tr style=\"text-align: right;\">\n",
              "      <th></th>\n",
              "      <th>patientId</th>\n",
              "      <th>PNEUMONIA_x</th>\n",
              "      <th>NOT_NORMAL_x</th>\n",
              "      <th>NORMAL_x</th>\n",
              "      <th>PNEUMONIA_y</th>\n",
              "      <th>NOT_NORMAL_y</th>\n",
              "      <th>NORMAL_y</th>\n",
              "      <th>PNEUMONIA</th>\n",
              "      <th>NOT_NORMAL</th>\n",
              "      <th>NORMAL</th>\n",
              "      <th>class_id</th>\n",
              "    </tr>\n",
              "  </thead>\n",
              "  <tbody>\n",
              "    <tr>\n",
              "      <th>8003</th>\n",
              "      <td>97b0ce05-4da2-4ec6-a48b-786b8562dd82</td>\n",
              "      <td>0.807109</td>\n",
              "      <td>0.186278</td>\n",
              "      <td>0.006612</td>\n",
              "      <td>0.856719</td>\n",
              "      <td>0.139938</td>\n",
              "      <td>0.003343</td>\n",
              "      <td>0.815318</td>\n",
              "      <td>0.175556</td>\n",
              "      <td>0.009125</td>\n",
              "      <td>0</td>\n",
              "    </tr>\n",
              "    <tr>\n",
              "      <th>8218</th>\n",
              "      <td>87c2b21c-7a98-492d-94c8-4f72620c5847</td>\n",
              "      <td>0.019682</td>\n",
              "      <td>0.127442</td>\n",
              "      <td>0.852876</td>\n",
              "      <td>0.144059</td>\n",
              "      <td>0.417568</td>\n",
              "      <td>0.438373</td>\n",
              "      <td>0.100891</td>\n",
              "      <td>0.265160</td>\n",
              "      <td>0.633950</td>\n",
              "      <td>2</td>\n",
              "    </tr>\n",
              "    <tr>\n",
              "      <th>11229</th>\n",
              "      <td>3d59faf9-6b80-42e5-b5fb-95048344c92a</td>\n",
              "      <td>0.383037</td>\n",
              "      <td>0.598625</td>\n",
              "      <td>0.018337</td>\n",
              "      <td>0.331641</td>\n",
              "      <td>0.566191</td>\n",
              "      <td>0.102168</td>\n",
              "      <td>0.411752</td>\n",
              "      <td>0.495085</td>\n",
              "      <td>0.093163</td>\n",
              "      <td>0</td>\n",
              "    </tr>\n",
              "    <tr>\n",
              "      <th>2056</th>\n",
              "      <td>b80c4378-bfb8-4dd6-8e93-a5e84fdb19ff</td>\n",
              "      <td>0.076754</td>\n",
              "      <td>0.151717</td>\n",
              "      <td>0.771530</td>\n",
              "      <td>0.080662</td>\n",
              "      <td>0.090374</td>\n",
              "      <td>0.828964</td>\n",
              "      <td>0.176738</td>\n",
              "      <td>0.183984</td>\n",
              "      <td>0.639277</td>\n",
              "      <td>2</td>\n",
              "    </tr>\n",
              "    <tr>\n",
              "      <th>9584</th>\n",
              "      <td>5b5676e3-f3d2-45d1-b46a-2f5cfcd19462</td>\n",
              "      <td>0.287325</td>\n",
              "      <td>0.525846</td>\n",
              "      <td>0.186829</td>\n",
              "      <td>0.306993</td>\n",
              "      <td>0.568924</td>\n",
              "      <td>0.124083</td>\n",
              "      <td>0.184737</td>\n",
              "      <td>0.528256</td>\n",
              "      <td>0.287007</td>\n",
              "      <td>1</td>\n",
              "    </tr>\n",
              "  </tbody>\n",
              "</table>\n",
              "</div>"
            ],
            "text/plain": [
              "                                  patientId  PNEUMONIA_x  ...    NORMAL  class_id\n",
              "8003   97b0ce05-4da2-4ec6-a48b-786b8562dd82     0.807109  ...  0.009125         0\n",
              "8218   87c2b21c-7a98-492d-94c8-4f72620c5847     0.019682  ...  0.633950         2\n",
              "11229  3d59faf9-6b80-42e5-b5fb-95048344c92a     0.383037  ...  0.093163         0\n",
              "2056   b80c4378-bfb8-4dd6-8e93-a5e84fdb19ff     0.076754  ...  0.639277         2\n",
              "9584   5b5676e3-f3d2-45d1-b46a-2f5cfcd19462     0.287325  ...  0.287007         1\n",
              "\n",
              "[5 rows x 11 columns]"
            ]
          },
          "metadata": {
            "tags": []
          },
          "execution_count": 134
        }
      ]
    },
    {
      "cell_type": "code",
      "metadata": {
        "id": "PKMRKeZg5TBn"
      },
      "source": [
        "y = merge_df['class_id']\n",
        "X = merge_df[merge_df.columns[1:10]]"
      ],
      "execution_count": null,
      "outputs": []
    },
    {
      "cell_type": "code",
      "metadata": {
        "id": "Yalo2_Rk9iCK",
        "outputId": "31fcdab4-e20a-44e7-c3ad-67ae05764f4d",
        "colab": {
          "base_uri": "https://localhost:8080/",
          "height": 226
        }
      },
      "source": [
        "y"
      ],
      "execution_count": null,
      "outputs": [
        {
          "output_type": "execute_result",
          "data": {
            "text/plain": [
              "0        1\n",
              "1        2\n",
              "2        0\n",
              "3        1\n",
              "4        0\n",
              "        ..\n",
              "12619    1\n",
              "12620    1\n",
              "12621    0\n",
              "12622    2\n",
              "12623    0\n",
              "Name: class_id, Length: 12624, dtype: int64"
            ]
          },
          "metadata": {
            "tags": []
          },
          "execution_count": 136
        }
      ]
    },
    {
      "cell_type": "code",
      "metadata": {
        "id": "-_CtLdJc9QqX"
      },
      "source": [
        "from sklearn.model_selection import train_test_split\n",
        "X_train, X_test, y_train, y_test = train_test_split(X, y, test_size=0.10, random_state=42)"
      ],
      "execution_count": null,
      "outputs": []
    },
    {
      "cell_type": "code",
      "metadata": {
        "id": "qE9QYvfb9t9X",
        "outputId": "74cd1bbb-b772-4176-89a3-05caf6a88264",
        "colab": {
          "base_uri": "https://localhost:8080/",
          "height": 203
        }
      },
      "source": [
        "X.head()"
      ],
      "execution_count": null,
      "outputs": [
        {
          "output_type": "execute_result",
          "data": {
            "text/html": [
              "<div>\n",
              "<style scoped>\n",
              "    .dataframe tbody tr th:only-of-type {\n",
              "        vertical-align: middle;\n",
              "    }\n",
              "\n",
              "    .dataframe tbody tr th {\n",
              "        vertical-align: top;\n",
              "    }\n",
              "\n",
              "    .dataframe thead th {\n",
              "        text-align: right;\n",
              "    }\n",
              "</style>\n",
              "<table border=\"1\" class=\"dataframe\">\n",
              "  <thead>\n",
              "    <tr style=\"text-align: right;\">\n",
              "      <th></th>\n",
              "      <th>PNEUMONIA_x</th>\n",
              "      <th>NOT_NORMAL_x</th>\n",
              "      <th>NORMAL_x</th>\n",
              "      <th>PNEUMONIA_y</th>\n",
              "      <th>NOT_NORMAL_y</th>\n",
              "      <th>NORMAL_y</th>\n",
              "      <th>PNEUMONIA</th>\n",
              "      <th>NOT_NORMAL</th>\n",
              "      <th>NORMAL</th>\n",
              "    </tr>\n",
              "  </thead>\n",
              "  <tbody>\n",
              "    <tr>\n",
              "      <th>0</th>\n",
              "      <td>0.217899</td>\n",
              "      <td>0.721338</td>\n",
              "      <td>0.060763</td>\n",
              "      <td>0.370083</td>\n",
              "      <td>0.560294</td>\n",
              "      <td>0.069624</td>\n",
              "      <td>0.357657</td>\n",
              "      <td>0.615552</td>\n",
              "      <td>0.026790</td>\n",
              "    </tr>\n",
              "    <tr>\n",
              "      <th>1</th>\n",
              "      <td>0.039144</td>\n",
              "      <td>0.230550</td>\n",
              "      <td>0.730305</td>\n",
              "      <td>0.027647</td>\n",
              "      <td>0.298215</td>\n",
              "      <td>0.674138</td>\n",
              "      <td>0.068119</td>\n",
              "      <td>0.323079</td>\n",
              "      <td>0.608801</td>\n",
              "    </tr>\n",
              "    <tr>\n",
              "      <th>2</th>\n",
              "      <td>0.900557</td>\n",
              "      <td>0.098824</td>\n",
              "      <td>0.000619</td>\n",
              "      <td>0.898731</td>\n",
              "      <td>0.094028</td>\n",
              "      <td>0.007241</td>\n",
              "      <td>0.723882</td>\n",
              "      <td>0.268343</td>\n",
              "      <td>0.007775</td>\n",
              "    </tr>\n",
              "    <tr>\n",
              "      <th>3</th>\n",
              "      <td>0.621295</td>\n",
              "      <td>0.370927</td>\n",
              "      <td>0.007778</td>\n",
              "      <td>0.470769</td>\n",
              "      <td>0.524746</td>\n",
              "      <td>0.004485</td>\n",
              "      <td>0.491383</td>\n",
              "      <td>0.505415</td>\n",
              "      <td>0.003202</td>\n",
              "    </tr>\n",
              "    <tr>\n",
              "      <th>4</th>\n",
              "      <td>0.750515</td>\n",
              "      <td>0.229232</td>\n",
              "      <td>0.020253</td>\n",
              "      <td>0.874663</td>\n",
              "      <td>0.122560</td>\n",
              "      <td>0.002777</td>\n",
              "      <td>0.571656</td>\n",
              "      <td>0.425702</td>\n",
              "      <td>0.002642</td>\n",
              "    </tr>\n",
              "  </tbody>\n",
              "</table>\n",
              "</div>"
            ],
            "text/plain": [
              "   PNEUMONIA_x  NOT_NORMAL_x  NORMAL_x  ...  PNEUMONIA  NOT_NORMAL    NORMAL\n",
              "0     0.217899      0.721338  0.060763  ...   0.357657    0.615552  0.026790\n",
              "1     0.039144      0.230550  0.730305  ...   0.068119    0.323079  0.608801\n",
              "2     0.900557      0.098824  0.000619  ...   0.723882    0.268343  0.007775\n",
              "3     0.621295      0.370927  0.007778  ...   0.491383    0.505415  0.003202\n",
              "4     0.750515      0.229232  0.020253  ...   0.571656    0.425702  0.002642\n",
              "\n",
              "[5 rows x 9 columns]"
            ]
          },
          "metadata": {
            "tags": []
          },
          "execution_count": 138
        }
      ]
    },
    {
      "cell_type": "code",
      "metadata": {
        "id": "dsDiBiklAWRZ"
      },
      "source": [
        "from keras.utils import to_categorical\n",
        "# one hot encode target values\n",
        "\n",
        "y_train = to_categorical(y_train)\n",
        "y_test = to_categorical(y_test)"
      ],
      "execution_count": null,
      "outputs": []
    },
    {
      "cell_type": "code",
      "metadata": {
        "id": "E7K_ENn3BAHq",
        "outputId": "4a9fe71c-a0e1-4f2a-9f2f-f1cb77bacf85",
        "colab": {
          "base_uri": "https://localhost:8080/",
          "height": 139
        }
      },
      "source": [
        "y_train"
      ],
      "execution_count": null,
      "outputs": [
        {
          "output_type": "execute_result",
          "data": {
            "text/plain": [
              "array([[0., 0., 1.],\n",
              "       [1., 0., 0.],\n",
              "       [0., 1., 0.],\n",
              "       ...,\n",
              "       [0., 0., 1.],\n",
              "       [1., 0., 0.],\n",
              "       [0., 1., 0.]], dtype=float32)"
            ]
          },
          "metadata": {
            "tags": []
          },
          "execution_count": 140
        }
      ]
    },
    {
      "cell_type": "markdown",
      "metadata": {
        "id": "UX1i0iya8Xnn"
      },
      "source": [
        "#Build ensemble model"
      ]
    },
    {
      "cell_type": "code",
      "metadata": {
        "id": "8C-gH79H8dV_"
      },
      "source": [
        "#Build neural netwrok\n",
        "\n",
        "from tensorflow.keras.layers import  Reshape\n",
        "def add_layer(model):\n",
        "  kinit ='he_normal' #tf.keras.initializers.he_normal()\n",
        "  actv = 'relu' #activation.relu\n",
        "  # model.add(Reshape((6,),input_shape=(32,32,)))\n",
        "  # #Add batch normalization to avoid NAN in training loss\n",
        "  # model.add(kl.normalization.BatchNormalization())\n",
        "  #Add input layer -- \n",
        "  model.add(Dense(9,input_dim= 9,activation=actv,kernel_initializer=kinit))\n",
        "  model.add(BatchNormalization())\n",
        "  #How many hidden layer? No clear rule, trial & error? Literature says, it 3 hidden layer sufficient\n",
        "  #Add hidden layer -1\n",
        "  model.add(Dense(16,activation=actv,kernel_initializer=kinit))\n",
        "  model.add(BatchNormalization())\n",
        "  #Add hidden layer -2\n",
        "  model.add(Dense(8,activation=actv,kernel_initializer=kinit))\n",
        "  model.add(BatchNormalization())\n",
        "  #Add hidden layer -3\n",
        "  model.add(Dense(4,activation=actv,kernel_initializer=kinit))\n",
        "  model.add(BatchNormalization())\n",
        "\n",
        "\n",
        "  #Add output layer -- number of output neoron 1(as the number of output is 10)\n",
        "  #Add hidden layer -1\n",
        "  model.add(Dense(3,activation='softmax',kernel_initializer=kinit))\n",
        "  \n",
        "en_model = Sequential()\n",
        "add_layer(en_model)"
      ],
      "execution_count": null,
      "outputs": []
    },
    {
      "cell_type": "code",
      "metadata": {
        "id": "RnZUICt28aEn",
        "outputId": "048f82fd-0837-4287-fc29-aca87fa00a77",
        "colab": {
          "base_uri": "https://localhost:8080/",
          "height": 1000
        }
      },
      "source": [
        "def fit_model(opt,model,epoch=60,verbo=1,batchsize=128):\n",
        "  model.compile(optimizer = opt, loss = 'categorical_crossentropy', metrics = ['accuracy'])\n",
        "  history = model.fit(X_train, y_train, validation_data=(X_test,y_test),batch_size=batchsize, epochs=epoch, verbose=verbo)\n",
        "  return history\n",
        "opt = Adam()\n",
        "history = fit_model(opt,en_model)"
      ],
      "execution_count": null,
      "outputs": [
        {
          "output_type": "stream",
          "text": [
            "Epoch 1/60\n",
            "89/89 [==============================] - 0s 5ms/step - loss: 1.5127 - accuracy: 0.4751 - val_loss: 1.0954 - val_accuracy: 0.4276\n",
            "Epoch 2/60\n",
            "89/89 [==============================] - 0s 2ms/step - loss: 0.7453 - accuracy: 0.7012 - val_loss: 0.8812 - val_accuracy: 0.6112\n",
            "Epoch 3/60\n",
            "89/89 [==============================] - 0s 2ms/step - loss: 0.6772 - accuracy: 0.7246 - val_loss: 0.7153 - val_accuracy: 0.7086\n",
            "Epoch 4/60\n",
            "89/89 [==============================] - 0s 2ms/step - loss: 0.6547 - accuracy: 0.7276 - val_loss: 0.6715 - val_accuracy: 0.7213\n",
            "Epoch 5/60\n",
            "89/89 [==============================] - 0s 2ms/step - loss: 0.6416 - accuracy: 0.7272 - val_loss: 0.6578 - val_accuracy: 0.7165\n",
            "Epoch 6/60\n",
            "89/89 [==============================] - 0s 2ms/step - loss: 0.6339 - accuracy: 0.7295 - val_loss: 0.6542 - val_accuracy: 0.7237\n",
            "Epoch 7/60\n",
            "89/89 [==============================] - 0s 2ms/step - loss: 0.6298 - accuracy: 0.7304 - val_loss: 0.6494 - val_accuracy: 0.7197\n",
            "Epoch 8/60\n",
            "89/89 [==============================] - 0s 2ms/step - loss: 0.6280 - accuracy: 0.7303 - val_loss: 0.6471 - val_accuracy: 0.7189\n",
            "Epoch 9/60\n",
            "89/89 [==============================] - 0s 3ms/step - loss: 0.6211 - accuracy: 0.7334 - val_loss: 0.6426 - val_accuracy: 0.7229\n",
            "Epoch 10/60\n",
            "89/89 [==============================] - 0s 3ms/step - loss: 0.6186 - accuracy: 0.7337 - val_loss: 0.6395 - val_accuracy: 0.7245\n",
            "Epoch 11/60\n",
            "89/89 [==============================] - 0s 3ms/step - loss: 0.6157 - accuracy: 0.7316 - val_loss: 0.6370 - val_accuracy: 0.7205\n",
            "Epoch 12/60\n",
            "89/89 [==============================] - 0s 3ms/step - loss: 0.6124 - accuracy: 0.7329 - val_loss: 0.6385 - val_accuracy: 0.7165\n",
            "Epoch 13/60\n",
            "89/89 [==============================] - 0s 3ms/step - loss: 0.6104 - accuracy: 0.7366 - val_loss: 0.6345 - val_accuracy: 0.7158\n",
            "Epoch 14/60\n",
            "89/89 [==============================] - 0s 2ms/step - loss: 0.6116 - accuracy: 0.7352 - val_loss: 0.6365 - val_accuracy: 0.7253\n",
            "Epoch 15/60\n",
            "89/89 [==============================] - 0s 2ms/step - loss: 0.6100 - accuracy: 0.7337 - val_loss: 0.6309 - val_accuracy: 0.7165\n",
            "Epoch 16/60\n",
            "89/89 [==============================] - 0s 2ms/step - loss: 0.6077 - accuracy: 0.7340 - val_loss: 0.6300 - val_accuracy: 0.7276\n",
            "Epoch 17/60\n",
            "89/89 [==============================] - 0s 2ms/step - loss: 0.6101 - accuracy: 0.7336 - val_loss: 0.6322 - val_accuracy: 0.7316\n",
            "Epoch 18/60\n",
            "89/89 [==============================] - 0s 3ms/step - loss: 0.6045 - accuracy: 0.7329 - val_loss: 0.6297 - val_accuracy: 0.7308\n",
            "Epoch 19/60\n",
            "89/89 [==============================] - 0s 2ms/step - loss: 0.6068 - accuracy: 0.7334 - val_loss: 0.6286 - val_accuracy: 0.7245\n",
            "Epoch 20/60\n",
            "89/89 [==============================] - 0s 3ms/step - loss: 0.6073 - accuracy: 0.7335 - val_loss: 0.6279 - val_accuracy: 0.7189\n",
            "Epoch 21/60\n",
            "89/89 [==============================] - 0s 2ms/step - loss: 0.6039 - accuracy: 0.7346 - val_loss: 0.6276 - val_accuracy: 0.7253\n",
            "Epoch 22/60\n",
            "89/89 [==============================] - 0s 3ms/step - loss: 0.6031 - accuracy: 0.7366 - val_loss: 0.6274 - val_accuracy: 0.7229\n",
            "Epoch 23/60\n",
            "89/89 [==============================] - 0s 3ms/step - loss: 0.6001 - accuracy: 0.7356 - val_loss: 0.6260 - val_accuracy: 0.7245\n",
            "Epoch 24/60\n",
            "89/89 [==============================] - 0s 2ms/step - loss: 0.6019 - accuracy: 0.7341 - val_loss: 0.6301 - val_accuracy: 0.7213\n",
            "Epoch 25/60\n",
            "89/89 [==============================] - 0s 2ms/step - loss: 0.6005 - accuracy: 0.7361 - val_loss: 0.6253 - val_accuracy: 0.7229\n",
            "Epoch 26/60\n",
            "89/89 [==============================] - 0s 2ms/step - loss: 0.6014 - accuracy: 0.7363 - val_loss: 0.6264 - val_accuracy: 0.7229\n",
            "Epoch 27/60\n",
            "89/89 [==============================] - 0s 2ms/step - loss: 0.6032 - accuracy: 0.7357 - val_loss: 0.6249 - val_accuracy: 0.7237\n",
            "Epoch 28/60\n",
            "89/89 [==============================] - 0s 2ms/step - loss: 0.6005 - accuracy: 0.7388 - val_loss: 0.6242 - val_accuracy: 0.7268\n",
            "Epoch 29/60\n",
            "89/89 [==============================] - 0s 2ms/step - loss: 0.6017 - accuracy: 0.7344 - val_loss: 0.6259 - val_accuracy: 0.7276\n",
            "Epoch 30/60\n",
            "89/89 [==============================] - 0s 2ms/step - loss: 0.6033 - accuracy: 0.7344 - val_loss: 0.6228 - val_accuracy: 0.7237\n",
            "Epoch 31/60\n",
            "89/89 [==============================] - 0s 2ms/step - loss: 0.5994 - accuracy: 0.7332 - val_loss: 0.6228 - val_accuracy: 0.7276\n",
            "Epoch 32/60\n",
            "89/89 [==============================] - 0s 2ms/step - loss: 0.6012 - accuracy: 0.7347 - val_loss: 0.6246 - val_accuracy: 0.7229\n",
            "Epoch 33/60\n",
            "89/89 [==============================] - 0s 2ms/step - loss: 0.5991 - accuracy: 0.7345 - val_loss: 0.6240 - val_accuracy: 0.7308\n",
            "Epoch 34/60\n",
            "89/89 [==============================] - 0s 2ms/step - loss: 0.5986 - accuracy: 0.7378 - val_loss: 0.6257 - val_accuracy: 0.7292\n",
            "Epoch 35/60\n",
            "89/89 [==============================] - 0s 2ms/step - loss: 0.5988 - accuracy: 0.7393 - val_loss: 0.6238 - val_accuracy: 0.7268\n",
            "Epoch 36/60\n",
            "89/89 [==============================] - 0s 2ms/step - loss: 0.5989 - accuracy: 0.7369 - val_loss: 0.6247 - val_accuracy: 0.7260\n",
            "Epoch 37/60\n",
            "89/89 [==============================] - 0s 2ms/step - loss: 0.5978 - accuracy: 0.7404 - val_loss: 0.6231 - val_accuracy: 0.7237\n",
            "Epoch 38/60\n",
            "89/89 [==============================] - 0s 2ms/step - loss: 0.6007 - accuracy: 0.7354 - val_loss: 0.6201 - val_accuracy: 0.7268\n",
            "Epoch 39/60\n",
            "89/89 [==============================] - 0s 2ms/step - loss: 0.6003 - accuracy: 0.7351 - val_loss: 0.6226 - val_accuracy: 0.7316\n",
            "Epoch 40/60\n",
            "89/89 [==============================] - 0s 2ms/step - loss: 0.5977 - accuracy: 0.7375 - val_loss: 0.6210 - val_accuracy: 0.7316\n",
            "Epoch 41/60\n",
            "89/89 [==============================] - 0s 2ms/step - loss: 0.5995 - accuracy: 0.7365 - val_loss: 0.6223 - val_accuracy: 0.7292\n",
            "Epoch 42/60\n",
            "89/89 [==============================] - 0s 2ms/step - loss: 0.5994 - accuracy: 0.7369 - val_loss: 0.6214 - val_accuracy: 0.7245\n",
            "Epoch 43/60\n",
            "89/89 [==============================] - 0s 2ms/step - loss: 0.5976 - accuracy: 0.7377 - val_loss: 0.6230 - val_accuracy: 0.7268\n",
            "Epoch 44/60\n",
            "89/89 [==============================] - 0s 2ms/step - loss: 0.5989 - accuracy: 0.7358 - val_loss: 0.6251 - val_accuracy: 0.7276\n",
            "Epoch 45/60\n",
            "89/89 [==============================] - 0s 2ms/step - loss: 0.5972 - accuracy: 0.7367 - val_loss: 0.6218 - val_accuracy: 0.7300\n",
            "Epoch 46/60\n",
            "89/89 [==============================] - 0s 2ms/step - loss: 0.5973 - accuracy: 0.7399 - val_loss: 0.6223 - val_accuracy: 0.7213\n",
            "Epoch 47/60\n",
            "89/89 [==============================] - 0s 2ms/step - loss: 0.5976 - accuracy: 0.7362 - val_loss: 0.6223 - val_accuracy: 0.7229\n",
            "Epoch 48/60\n",
            "89/89 [==============================] - 0s 2ms/step - loss: 0.5975 - accuracy: 0.7338 - val_loss: 0.6225 - val_accuracy: 0.7213\n",
            "Epoch 49/60\n",
            "89/89 [==============================] - 0s 2ms/step - loss: 0.5982 - accuracy: 0.7376 - val_loss: 0.6241 - val_accuracy: 0.7268\n",
            "Epoch 50/60\n",
            "89/89 [==============================] - 0s 2ms/step - loss: 0.5999 - accuracy: 0.7353 - val_loss: 0.6205 - val_accuracy: 0.7237\n",
            "Epoch 51/60\n",
            "89/89 [==============================] - 0s 2ms/step - loss: 0.5947 - accuracy: 0.7408 - val_loss: 0.6208 - val_accuracy: 0.7284\n",
            "Epoch 52/60\n",
            "89/89 [==============================] - 0s 2ms/step - loss: 0.5975 - accuracy: 0.7369 - val_loss: 0.6229 - val_accuracy: 0.7213\n",
            "Epoch 53/60\n",
            "89/89 [==============================] - 0s 2ms/step - loss: 0.5944 - accuracy: 0.7402 - val_loss: 0.6242 - val_accuracy: 0.7260\n",
            "Epoch 54/60\n",
            "89/89 [==============================] - 0s 2ms/step - loss: 0.5941 - accuracy: 0.7346 - val_loss: 0.6253 - val_accuracy: 0.7324\n",
            "Epoch 55/60\n",
            "89/89 [==============================] - 0s 2ms/step - loss: 0.5988 - accuracy: 0.7368 - val_loss: 0.6221 - val_accuracy: 0.7213\n",
            "Epoch 56/60\n",
            "89/89 [==============================] - 0s 2ms/step - loss: 0.5964 - accuracy: 0.7397 - val_loss: 0.6210 - val_accuracy: 0.7292\n",
            "Epoch 57/60\n",
            "89/89 [==============================] - 0s 2ms/step - loss: 0.5978 - accuracy: 0.7366 - val_loss: 0.6247 - val_accuracy: 0.7213\n",
            "Epoch 58/60\n",
            "89/89 [==============================] - 0s 2ms/step - loss: 0.5963 - accuracy: 0.7381 - val_loss: 0.6225 - val_accuracy: 0.7213\n",
            "Epoch 59/60\n",
            "89/89 [==============================] - 0s 2ms/step - loss: 0.5952 - accuracy: 0.7373 - val_loss: 0.6239 - val_accuracy: 0.7237\n",
            "Epoch 60/60\n",
            "89/89 [==============================] - 0s 2ms/step - loss: 0.5947 - accuracy: 0.7400 - val_loss: 0.6291 - val_accuracy: 0.7260\n"
          ],
          "name": "stdout"
        }
      ]
    },
    {
      "cell_type": "code",
      "metadata": {
        "id": "nJy9s_MW9IQ_"
      },
      "source": [
        "pred_y = en_model.predict(X)"
      ],
      "execution_count": null,
      "outputs": []
    },
    {
      "cell_type": "code",
      "metadata": {
        "id": "SawckvoIBdpr",
        "outputId": "944f18b5-97db-4c1d-fb10-9f0f07c662cd",
        "colab": {
          "base_uri": "https://localhost:8080/",
          "height": 139
        }
      },
      "source": [
        "pred_y"
      ],
      "execution_count": null,
      "outputs": [
        {
          "output_type": "execute_result",
          "data": {
            "text/plain": [
              "array([[0.24607512, 0.7352676 , 0.01865735],\n",
              "       [0.01017449, 0.4109104 , 0.5789152 ],\n",
              "       [0.9464455 , 0.050311  , 0.00324354],\n",
              "       ...,\n",
              "       [0.89622444, 0.09802904, 0.00574652],\n",
              "       [0.01992593, 0.18576063, 0.7943135 ],\n",
              "       [0.01165251, 0.034091  , 0.9542565 ]], dtype=float32)"
            ]
          },
          "metadata": {
            "tags": []
          },
          "execution_count": 147
        }
      ]
    },
    {
      "cell_type": "code",
      "metadata": {
        "id": "k4AqOYxuCBX7"
      },
      "source": [
        "pred_map = {}\n",
        "patients = merge_df.patientId.to_numpy()\n",
        "for  idx,patient in enumerate(patients):\n",
        "  if patient not in pred_map:\n",
        "    classes = pred_y[idx]\n",
        "    pred_map[patient] = {'PNEUMONIA':classes[0],'NOT_NORMAL':classes[1], \"NORMAL\":classes[2] }\n",
        "pred_df = pd.DataFrame(pred_map).T"
      ],
      "execution_count": null,
      "outputs": []
    },
    {
      "cell_type": "code",
      "metadata": {
        "id": "C3g29JAcDWu7",
        "outputId": "b7f76270-708b-4fc5-f1b8-af0f0f31dfd9",
        "colab": {
          "base_uri": "https://localhost:8080/",
          "height": 203
        }
      },
      "source": [
        "pred_df.head()"
      ],
      "execution_count": null,
      "outputs": [
        {
          "output_type": "execute_result",
          "data": {
            "text/html": [
              "<div>\n",
              "<style scoped>\n",
              "    .dataframe tbody tr th:only-of-type {\n",
              "        vertical-align: middle;\n",
              "    }\n",
              "\n",
              "    .dataframe tbody tr th {\n",
              "        vertical-align: top;\n",
              "    }\n",
              "\n",
              "    .dataframe thead th {\n",
              "        text-align: right;\n",
              "    }\n",
              "</style>\n",
              "<table border=\"1\" class=\"dataframe\">\n",
              "  <thead>\n",
              "    <tr style=\"text-align: right;\">\n",
              "      <th></th>\n",
              "      <th>PNEUMONIA</th>\n",
              "      <th>NOT_NORMAL</th>\n",
              "      <th>NORMAL</th>\n",
              "    </tr>\n",
              "  </thead>\n",
              "  <tbody>\n",
              "    <tr>\n",
              "      <th>9827bfae-729a-455c-817b-e775253bf568</th>\n",
              "      <td>0.246075</td>\n",
              "      <td>0.735268</td>\n",
              "      <td>0.018657</td>\n",
              "    </tr>\n",
              "    <tr>\n",
              "      <th>5006f783-56af-4ad9-a37b-c80bd789ddbd</th>\n",
              "      <td>0.010174</td>\n",
              "      <td>0.410910</td>\n",
              "      <td>0.578915</td>\n",
              "    </tr>\n",
              "    <tr>\n",
              "      <th>e065606f-3368-47ff-b4d1-ef783e97813f</th>\n",
              "      <td>0.946446</td>\n",
              "      <td>0.050311</td>\n",
              "      <td>0.003244</td>\n",
              "    </tr>\n",
              "    <tr>\n",
              "      <th>99306946-1577-4724-be54-9b8b1b1a7869</th>\n",
              "      <td>0.559465</td>\n",
              "      <td>0.429270</td>\n",
              "      <td>0.011264</td>\n",
              "    </tr>\n",
              "    <tr>\n",
              "      <th>156634a8-5ca7-4822-92cd-677aedc2247a</th>\n",
              "      <td>0.921125</td>\n",
              "      <td>0.075900</td>\n",
              "      <td>0.002976</td>\n",
              "    </tr>\n",
              "  </tbody>\n",
              "</table>\n",
              "</div>"
            ],
            "text/plain": [
              "                                      PNEUMONIA  NOT_NORMAL    NORMAL\n",
              "9827bfae-729a-455c-817b-e775253bf568   0.246075    0.735268  0.018657\n",
              "5006f783-56af-4ad9-a37b-c80bd789ddbd   0.010174    0.410910  0.578915\n",
              "e065606f-3368-47ff-b4d1-ef783e97813f   0.946446    0.050311  0.003244\n",
              "99306946-1577-4724-be54-9b8b1b1a7869   0.559465    0.429270  0.011264\n",
              "156634a8-5ca7-4822-92cd-677aedc2247a   0.921125    0.075900  0.002976"
            ]
          },
          "metadata": {
            "tags": []
          },
          "execution_count": 149
        }
      ]
    },
    {
      "cell_type": "code",
      "metadata": {
        "id": "8p8Gb_XwEE73",
        "outputId": "4ab6d736-2f87-47fe-b314-45e5b9280e8c",
        "colab": {
          "base_uri": "https://localhost:8080/",
          "height": 203
        }
      },
      "source": [
        "pred_df.reset_index(inplace=True)\n",
        "# pred_df.columns = ['patientId', 'PNEUMONIA', 'NOT_NORMAL', 'NORMAL']\n",
        "\n",
        "pred_df.rename(columns={'index':'patientId'},inplace=True)\n",
        "pred_df.head()"
      ],
      "execution_count": null,
      "outputs": [
        {
          "output_type": "execute_result",
          "data": {
            "text/html": [
              "<div>\n",
              "<style scoped>\n",
              "    .dataframe tbody tr th:only-of-type {\n",
              "        vertical-align: middle;\n",
              "    }\n",
              "\n",
              "    .dataframe tbody tr th {\n",
              "        vertical-align: top;\n",
              "    }\n",
              "\n",
              "    .dataframe thead th {\n",
              "        text-align: right;\n",
              "    }\n",
              "</style>\n",
              "<table border=\"1\" class=\"dataframe\">\n",
              "  <thead>\n",
              "    <tr style=\"text-align: right;\">\n",
              "      <th></th>\n",
              "      <th>patientId</th>\n",
              "      <th>PNEUMONIA</th>\n",
              "      <th>NOT_NORMAL</th>\n",
              "      <th>NORMAL</th>\n",
              "    </tr>\n",
              "  </thead>\n",
              "  <tbody>\n",
              "    <tr>\n",
              "      <th>0</th>\n",
              "      <td>9827bfae-729a-455c-817b-e775253bf568</td>\n",
              "      <td>0.246075</td>\n",
              "      <td>0.735268</td>\n",
              "      <td>0.018657</td>\n",
              "    </tr>\n",
              "    <tr>\n",
              "      <th>1</th>\n",
              "      <td>5006f783-56af-4ad9-a37b-c80bd789ddbd</td>\n",
              "      <td>0.010174</td>\n",
              "      <td>0.410910</td>\n",
              "      <td>0.578915</td>\n",
              "    </tr>\n",
              "    <tr>\n",
              "      <th>2</th>\n",
              "      <td>e065606f-3368-47ff-b4d1-ef783e97813f</td>\n",
              "      <td>0.946446</td>\n",
              "      <td>0.050311</td>\n",
              "      <td>0.003244</td>\n",
              "    </tr>\n",
              "    <tr>\n",
              "      <th>3</th>\n",
              "      <td>99306946-1577-4724-be54-9b8b1b1a7869</td>\n",
              "      <td>0.559465</td>\n",
              "      <td>0.429270</td>\n",
              "      <td>0.011264</td>\n",
              "    </tr>\n",
              "    <tr>\n",
              "      <th>4</th>\n",
              "      <td>156634a8-5ca7-4822-92cd-677aedc2247a</td>\n",
              "      <td>0.921125</td>\n",
              "      <td>0.075900</td>\n",
              "      <td>0.002976</td>\n",
              "    </tr>\n",
              "  </tbody>\n",
              "</table>\n",
              "</div>"
            ],
            "text/plain": [
              "                              patientId  PNEUMONIA  NOT_NORMAL    NORMAL\n",
              "0  9827bfae-729a-455c-817b-e775253bf568   0.246075    0.735268  0.018657\n",
              "1  5006f783-56af-4ad9-a37b-c80bd789ddbd   0.010174    0.410910  0.578915\n",
              "2  e065606f-3368-47ff-b4d1-ef783e97813f   0.946446    0.050311  0.003244\n",
              "3  99306946-1577-4724-be54-9b8b1b1a7869   0.559465    0.429270  0.011264\n",
              "4  156634a8-5ca7-4822-92cd-677aedc2247a   0.921125    0.075900  0.002976"
            ]
          },
          "metadata": {
            "tags": []
          },
          "execution_count": 150
        }
      ]
    },
    {
      "cell_type": "code",
      "metadata": {
        "id": "It55F3taDdIk",
        "outputId": "34da4682-acd8-4a0a-e0be-4bf27cdb0ddd",
        "colab": {
          "base_uri": "https://localhost:8080/",
          "height": 203
        }
      },
      "source": [
        "merged_pred_meta_df = get_pred_merged_meta_data(pred_df,full_df)\n",
        "merged_pred_meta_df.head()"
      ],
      "execution_count": null,
      "outputs": [
        {
          "output_type": "execute_result",
          "data": {
            "text/html": [
              "<div>\n",
              "<style scoped>\n",
              "    .dataframe tbody tr th:only-of-type {\n",
              "        vertical-align: middle;\n",
              "    }\n",
              "\n",
              "    .dataframe tbody tr th {\n",
              "        vertical-align: top;\n",
              "    }\n",
              "\n",
              "    .dataframe thead th {\n",
              "        text-align: right;\n",
              "    }\n",
              "</style>\n",
              "<table border=\"1\" class=\"dataframe\">\n",
              "  <thead>\n",
              "    <tr style=\"text-align: right;\">\n",
              "      <th></th>\n",
              "      <th>PNEUMONIA</th>\n",
              "      <th>NOT_NORMAL</th>\n",
              "      <th>NORMAL</th>\n",
              "      <th>PatientAge</th>\n",
              "      <th>PatientSex</th>\n",
              "      <th>ViewPosition</th>\n",
              "      <th>Target</th>\n",
              "    </tr>\n",
              "  </thead>\n",
              "  <tbody>\n",
              "    <tr>\n",
              "      <th>9827bfae-729a-455c-817b-e775253bf568</th>\n",
              "      <td>0.246075</td>\n",
              "      <td>0.735268</td>\n",
              "      <td>0.018657</td>\n",
              "      <td>23.0</td>\n",
              "      <td>1.0</td>\n",
              "      <td>1.0</td>\n",
              "      <td>0.0</td>\n",
              "    </tr>\n",
              "    <tr>\n",
              "      <th>5006f783-56af-4ad9-a37b-c80bd789ddbd</th>\n",
              "      <td>0.010174</td>\n",
              "      <td>0.410910</td>\n",
              "      <td>0.578915</td>\n",
              "      <td>80.0</td>\n",
              "      <td>0.0</td>\n",
              "      <td>0.0</td>\n",
              "      <td>0.0</td>\n",
              "    </tr>\n",
              "    <tr>\n",
              "      <th>e065606f-3368-47ff-b4d1-ef783e97813f</th>\n",
              "      <td>0.946446</td>\n",
              "      <td>0.050311</td>\n",
              "      <td>0.003244</td>\n",
              "      <td>44.0</td>\n",
              "      <td>1.0</td>\n",
              "      <td>1.0</td>\n",
              "      <td>1.0</td>\n",
              "    </tr>\n",
              "    <tr>\n",
              "      <th>99306946-1577-4724-be54-9b8b1b1a7869</th>\n",
              "      <td>0.559465</td>\n",
              "      <td>0.429270</td>\n",
              "      <td>0.011264</td>\n",
              "      <td>56.0</td>\n",
              "      <td>0.0</td>\n",
              "      <td>1.0</td>\n",
              "      <td>0.0</td>\n",
              "    </tr>\n",
              "    <tr>\n",
              "      <th>156634a8-5ca7-4822-92cd-677aedc2247a</th>\n",
              "      <td>0.921125</td>\n",
              "      <td>0.075900</td>\n",
              "      <td>0.002976</td>\n",
              "      <td>22.0</td>\n",
              "      <td>1.0</td>\n",
              "      <td>1.0</td>\n",
              "      <td>1.0</td>\n",
              "    </tr>\n",
              "  </tbody>\n",
              "</table>\n",
              "</div>"
            ],
            "text/plain": [
              "                                      PNEUMONIA  ...  Target\n",
              "9827bfae-729a-455c-817b-e775253bf568   0.246075  ...     0.0\n",
              "5006f783-56af-4ad9-a37b-c80bd789ddbd   0.010174  ...     0.0\n",
              "e065606f-3368-47ff-b4d1-ef783e97813f   0.946446  ...     1.0\n",
              "99306946-1577-4724-be54-9b8b1b1a7869   0.559465  ...     0.0\n",
              "156634a8-5ca7-4822-92cd-677aedc2247a   0.921125  ...     1.0\n",
              "\n",
              "[5 rows x 7 columns]"
            ]
          },
          "metadata": {
            "tags": []
          },
          "execution_count": 151
        }
      ]
    },
    {
      "cell_type": "code",
      "metadata": {
        "id": "SR-Mr9HgD6_H",
        "outputId": "e28c7e87-a354-4d17-e837-ab3a64f0de56",
        "colab": {
          "base_uri": "https://localhost:8080/",
          "height": 203
        }
      },
      "source": [
        "merged_pred_meta_df.reset_index(inplace=True)\n",
        "merged_pred_meta_df.rename(columns={'index':'patientId'},inplace=True)\n",
        "merged_pred_meta_df.head()"
      ],
      "execution_count": null,
      "outputs": [
        {
          "output_type": "execute_result",
          "data": {
            "text/html": [
              "<div>\n",
              "<style scoped>\n",
              "    .dataframe tbody tr th:only-of-type {\n",
              "        vertical-align: middle;\n",
              "    }\n",
              "\n",
              "    .dataframe tbody tr th {\n",
              "        vertical-align: top;\n",
              "    }\n",
              "\n",
              "    .dataframe thead th {\n",
              "        text-align: right;\n",
              "    }\n",
              "</style>\n",
              "<table border=\"1\" class=\"dataframe\">\n",
              "  <thead>\n",
              "    <tr style=\"text-align: right;\">\n",
              "      <th></th>\n",
              "      <th>patientId</th>\n",
              "      <th>PNEUMONIA</th>\n",
              "      <th>NOT_NORMAL</th>\n",
              "      <th>NORMAL</th>\n",
              "      <th>PatientAge</th>\n",
              "      <th>PatientSex</th>\n",
              "      <th>ViewPosition</th>\n",
              "      <th>Target</th>\n",
              "    </tr>\n",
              "  </thead>\n",
              "  <tbody>\n",
              "    <tr>\n",
              "      <th>0</th>\n",
              "      <td>9827bfae-729a-455c-817b-e775253bf568</td>\n",
              "      <td>0.246075</td>\n",
              "      <td>0.735268</td>\n",
              "      <td>0.018657</td>\n",
              "      <td>23.0</td>\n",
              "      <td>1.0</td>\n",
              "      <td>1.0</td>\n",
              "      <td>0.0</td>\n",
              "    </tr>\n",
              "    <tr>\n",
              "      <th>1</th>\n",
              "      <td>5006f783-56af-4ad9-a37b-c80bd789ddbd</td>\n",
              "      <td>0.010174</td>\n",
              "      <td>0.410910</td>\n",
              "      <td>0.578915</td>\n",
              "      <td>80.0</td>\n",
              "      <td>0.0</td>\n",
              "      <td>0.0</td>\n",
              "      <td>0.0</td>\n",
              "    </tr>\n",
              "    <tr>\n",
              "      <th>2</th>\n",
              "      <td>e065606f-3368-47ff-b4d1-ef783e97813f</td>\n",
              "      <td>0.946446</td>\n",
              "      <td>0.050311</td>\n",
              "      <td>0.003244</td>\n",
              "      <td>44.0</td>\n",
              "      <td>1.0</td>\n",
              "      <td>1.0</td>\n",
              "      <td>1.0</td>\n",
              "    </tr>\n",
              "    <tr>\n",
              "      <th>3</th>\n",
              "      <td>99306946-1577-4724-be54-9b8b1b1a7869</td>\n",
              "      <td>0.559465</td>\n",
              "      <td>0.429270</td>\n",
              "      <td>0.011264</td>\n",
              "      <td>56.0</td>\n",
              "      <td>0.0</td>\n",
              "      <td>1.0</td>\n",
              "      <td>0.0</td>\n",
              "    </tr>\n",
              "    <tr>\n",
              "      <th>4</th>\n",
              "      <td>156634a8-5ca7-4822-92cd-677aedc2247a</td>\n",
              "      <td>0.921125</td>\n",
              "      <td>0.075900</td>\n",
              "      <td>0.002976</td>\n",
              "      <td>22.0</td>\n",
              "      <td>1.0</td>\n",
              "      <td>1.0</td>\n",
              "      <td>1.0</td>\n",
              "    </tr>\n",
              "  </tbody>\n",
              "</table>\n",
              "</div>"
            ],
            "text/plain": [
              "                              patientId  PNEUMONIA  ...  ViewPosition  Target\n",
              "0  9827bfae-729a-455c-817b-e775253bf568   0.246075  ...           1.0     0.0\n",
              "1  5006f783-56af-4ad9-a37b-c80bd789ddbd   0.010174  ...           0.0     0.0\n",
              "2  e065606f-3368-47ff-b4d1-ef783e97813f   0.946446  ...           1.0     1.0\n",
              "3  99306946-1577-4724-be54-9b8b1b1a7869   0.559465  ...           1.0     0.0\n",
              "4  156634a8-5ca7-4822-92cd-677aedc2247a   0.921125  ...           1.0     1.0\n",
              "\n",
              "[5 rows x 8 columns]"
            ]
          },
          "metadata": {
            "tags": []
          },
          "execution_count": 152
        }
      ]
    },
    {
      "cell_type": "code",
      "metadata": {
        "id": "oQvpkB-uE_Rv"
      },
      "source": [
        "y = merged_pred_meta_df['Target'].to_numpy()\n",
        "X = merged_pred_meta_df[merged_pred_meta_df.columns[1:7]]"
      ],
      "execution_count": null,
      "outputs": []
    },
    {
      "cell_type": "code",
      "metadata": {
        "id": "1AlPWLTsFDoO"
      },
      "source": [
        "from sklearn.model_selection import train_test_split\n",
        "X_train, X_test, y_train, y_test = train_test_split(X, y, test_size=0.10, random_state=42)"
      ],
      "execution_count": null,
      "outputs": []
    },
    {
      "cell_type": "code",
      "metadata": {
        "id": "PrYe40MuFI7h"
      },
      "source": [
        "from tensorflow.keras.layers import  Reshape\n",
        "def add_layer(model):\n",
        "  kinit ='he_normal' #tf.keras.initializers.he_normal()\n",
        "  actv = 'relu' #activation.relu\n",
        "  # model.add(Reshape((6,),input_shape=(32,32,)))\n",
        "  # #Add batch normalization to avoid NAN in training loss\n",
        "  # model.add(kl.normalization.BatchNormalization())\n",
        "  #Add input layer -- \n",
        "  model.add(Dense(6,input_dim= 6,activation=actv,kernel_initializer=kinit))\n",
        "  model.add(BatchNormalization())\n",
        "  #How many hidden layer? No clear rule, trial & error? Literature says, it 3 hidden layer sufficient\n",
        "  #Add hidden layer -1\n",
        "  model.add(Dense(16,activation=actv,kernel_initializer=kinit))\n",
        "  model.add(BatchNormalization())\n",
        "  #Add hidden layer -2\n",
        "  model.add(Dense(8,activation=actv,kernel_initializer=kinit))\n",
        "  model.add(BatchNormalization())\n",
        "  #Add hidden layer -3\n",
        "  model.add(Dense(4,activation=actv,kernel_initializer=kinit))\n",
        "  model.add(BatchNormalization())\n",
        "\n",
        "\n",
        "  #Add output layer -- number of output neoron 1(as the number of output is 10)\n",
        "  #Add hidden layer -1\n",
        "  model.add(Dense(1,activation='sigmoid',kernel_initializer=kinit))\n",
        "  \n",
        "nn_model = Sequential()\n",
        "add_layer(nn_model)"
      ],
      "execution_count": null,
      "outputs": []
    },
    {
      "cell_type": "code",
      "metadata": {
        "id": "Ako_6RzbFO91",
        "outputId": "626bdb34-37fd-4f34-9050-55e6e8075620",
        "colab": {
          "base_uri": "https://localhost:8080/",
          "height": 1000
        }
      },
      "source": [
        "def fit_model(opt,model,epoch=60,verbo=1,batchsize=128):\n",
        "  model.compile(optimizer = opt, loss = 'binary_crossentropy', metrics = ['accuracy'])\n",
        "  history = model.fit(X_train, y_train, validation_data=(X_test,y_test),batch_size=batchsize, epochs=epoch, verbose=verbo)\n",
        "  return history\n",
        "LEARN_RATE = 1e-4\n",
        "opt = Adam(lr = LEARN_RATE)\n",
        "history = fit_model(opt,nn_model)"
      ],
      "execution_count": null,
      "outputs": [
        {
          "output_type": "stream",
          "text": [
            "Epoch 1/60\n",
            "89/89 [==============================] - 0s 4ms/step - loss: 1.0400 - accuracy: 0.5310 - val_loss: 1.0658 - val_accuracy: 0.3872\n",
            "Epoch 2/60\n",
            "89/89 [==============================] - 0s 2ms/step - loss: 0.9308 - accuracy: 0.5580 - val_loss: 1.0938 - val_accuracy: 0.4759\n",
            "Epoch 3/60\n",
            "89/89 [==============================] - 0s 2ms/step - loss: 0.8276 - accuracy: 0.6009 - val_loss: 0.9936 - val_accuracy: 0.5075\n",
            "Epoch 4/60\n",
            "89/89 [==============================] - 0s 2ms/step - loss: 0.7522 - accuracy: 0.6261 - val_loss: 0.9088 - val_accuracy: 0.5598\n",
            "Epoch 5/60\n",
            "89/89 [==============================] - 0s 2ms/step - loss: 0.6996 - accuracy: 0.6488 - val_loss: 0.8731 - val_accuracy: 0.5416\n",
            "Epoch 6/60\n",
            "89/89 [==============================] - 0s 2ms/step - loss: 0.6534 - accuracy: 0.6808 - val_loss: 0.8056 - val_accuracy: 0.5724\n",
            "Epoch 7/60\n",
            "89/89 [==============================] - 0s 2ms/step - loss: 0.6250 - accuracy: 0.6899 - val_loss: 0.7298 - val_accuracy: 0.6287\n",
            "Epoch 8/60\n",
            "89/89 [==============================] - 0s 2ms/step - loss: 0.5954 - accuracy: 0.7096 - val_loss: 0.6910 - val_accuracy: 0.6445\n",
            "Epoch 9/60\n",
            "89/89 [==============================] - 0s 2ms/step - loss: 0.5747 - accuracy: 0.7193 - val_loss: 0.6492 - val_accuracy: 0.6738\n",
            "Epoch 10/60\n",
            "89/89 [==============================] - 0s 2ms/step - loss: 0.5532 - accuracy: 0.7347 - val_loss: 0.6149 - val_accuracy: 0.6865\n",
            "Epoch 11/60\n",
            "89/89 [==============================] - 0s 2ms/step - loss: 0.5363 - accuracy: 0.7465 - val_loss: 0.5886 - val_accuracy: 0.7086\n",
            "Epoch 12/60\n",
            "89/89 [==============================] - 0s 2ms/step - loss: 0.5211 - accuracy: 0.7620 - val_loss: 0.5622 - val_accuracy: 0.7268\n",
            "Epoch 13/60\n",
            "89/89 [==============================] - 0s 2ms/step - loss: 0.5110 - accuracy: 0.7724 - val_loss: 0.5476 - val_accuracy: 0.7490\n",
            "Epoch 14/60\n",
            "89/89 [==============================] - 0s 2ms/step - loss: 0.5027 - accuracy: 0.7832 - val_loss: 0.5367 - val_accuracy: 0.7617\n",
            "Epoch 15/60\n",
            "89/89 [==============================] - 0s 2ms/step - loss: 0.4903 - accuracy: 0.7952 - val_loss: 0.5246 - val_accuracy: 0.7743\n",
            "Epoch 16/60\n",
            "89/89 [==============================] - 0s 2ms/step - loss: 0.4801 - accuracy: 0.8017 - val_loss: 0.5178 - val_accuracy: 0.7823\n",
            "Epoch 17/60\n",
            "89/89 [==============================] - 0s 2ms/step - loss: 0.4792 - accuracy: 0.8020 - val_loss: 0.5128 - val_accuracy: 0.7870\n",
            "Epoch 18/60\n",
            "89/89 [==============================] - 0s 2ms/step - loss: 0.4772 - accuracy: 0.8094 - val_loss: 0.5080 - val_accuracy: 0.7926\n",
            "Epoch 19/60\n",
            "89/89 [==============================] - 0s 2ms/step - loss: 0.4679 - accuracy: 0.8146 - val_loss: 0.5041 - val_accuracy: 0.7941\n",
            "Epoch 20/60\n",
            "89/89 [==============================] - 0s 2ms/step - loss: 0.4638 - accuracy: 0.8156 - val_loss: 0.5025 - val_accuracy: 0.7981\n",
            "Epoch 21/60\n",
            "89/89 [==============================] - 0s 2ms/step - loss: 0.4651 - accuracy: 0.8143 - val_loss: 0.5013 - val_accuracy: 0.7933\n",
            "Epoch 22/60\n",
            "89/89 [==============================] - 0s 2ms/step - loss: 0.4596 - accuracy: 0.8172 - val_loss: 0.4984 - val_accuracy: 0.7981\n",
            "Epoch 23/60\n",
            "89/89 [==============================] - 0s 2ms/step - loss: 0.4587 - accuracy: 0.8145 - val_loss: 0.4957 - val_accuracy: 0.7981\n",
            "Epoch 24/60\n",
            "89/89 [==============================] - 0s 2ms/step - loss: 0.4553 - accuracy: 0.8182 - val_loss: 0.4948 - val_accuracy: 0.7957\n",
            "Epoch 25/60\n",
            "89/89 [==============================] - 0s 2ms/step - loss: 0.4509 - accuracy: 0.8224 - val_loss: 0.4943 - val_accuracy: 0.7941\n",
            "Epoch 26/60\n",
            "89/89 [==============================] - 0s 2ms/step - loss: 0.4533 - accuracy: 0.8183 - val_loss: 0.4930 - val_accuracy: 0.7973\n",
            "Epoch 27/60\n",
            "89/89 [==============================] - 0s 2ms/step - loss: 0.4489 - accuracy: 0.8215 - val_loss: 0.4907 - val_accuracy: 0.7997\n",
            "Epoch 28/60\n",
            "89/89 [==============================] - 0s 2ms/step - loss: 0.4466 - accuracy: 0.8235 - val_loss: 0.4904 - val_accuracy: 0.7949\n",
            "Epoch 29/60\n",
            "89/89 [==============================] - 0s 2ms/step - loss: 0.4416 - accuracy: 0.8260 - val_loss: 0.4883 - val_accuracy: 0.7973\n",
            "Epoch 30/60\n",
            "89/89 [==============================] - 0s 2ms/step - loss: 0.4458 - accuracy: 0.8227 - val_loss: 0.4872 - val_accuracy: 0.7989\n",
            "Epoch 31/60\n",
            "89/89 [==============================] - 0s 2ms/step - loss: 0.4409 - accuracy: 0.8253 - val_loss: 0.4847 - val_accuracy: 0.7997\n",
            "Epoch 32/60\n",
            "89/89 [==============================] - 0s 2ms/step - loss: 0.4424 - accuracy: 0.8257 - val_loss: 0.4834 - val_accuracy: 0.7997\n",
            "Epoch 33/60\n",
            "89/89 [==============================] - 0s 2ms/step - loss: 0.4357 - accuracy: 0.8281 - val_loss: 0.4846 - val_accuracy: 0.7989\n",
            "Epoch 34/60\n",
            "89/89 [==============================] - 0s 2ms/step - loss: 0.4355 - accuracy: 0.8301 - val_loss: 0.4822 - val_accuracy: 0.7989\n",
            "Epoch 35/60\n",
            "89/89 [==============================] - 0s 2ms/step - loss: 0.4317 - accuracy: 0.8315 - val_loss: 0.4841 - val_accuracy: 0.7949\n",
            "Epoch 36/60\n",
            "89/89 [==============================] - 0s 2ms/step - loss: 0.4337 - accuracy: 0.8282 - val_loss: 0.4835 - val_accuracy: 0.7926\n",
            "Epoch 37/60\n",
            "89/89 [==============================] - 0s 2ms/step - loss: 0.4335 - accuracy: 0.8286 - val_loss: 0.4807 - val_accuracy: 0.7997\n",
            "Epoch 38/60\n",
            "89/89 [==============================] - 0s 2ms/step - loss: 0.4285 - accuracy: 0.8325 - val_loss: 0.4776 - val_accuracy: 0.7989\n",
            "Epoch 39/60\n",
            "89/89 [==============================] - 0s 2ms/step - loss: 0.4280 - accuracy: 0.8284 - val_loss: 0.4766 - val_accuracy: 0.7981\n",
            "Epoch 40/60\n",
            "89/89 [==============================] - 0s 2ms/step - loss: 0.4288 - accuracy: 0.8280 - val_loss: 0.4732 - val_accuracy: 0.8005\n",
            "Epoch 41/60\n",
            "89/89 [==============================] - 0s 2ms/step - loss: 0.4251 - accuracy: 0.8306 - val_loss: 0.4747 - val_accuracy: 0.7981\n",
            "Epoch 42/60\n",
            "89/89 [==============================] - 0s 2ms/step - loss: 0.4250 - accuracy: 0.8311 - val_loss: 0.4749 - val_accuracy: 0.7981\n",
            "Epoch 43/60\n",
            "89/89 [==============================] - 0s 2ms/step - loss: 0.4262 - accuracy: 0.8327 - val_loss: 0.4719 - val_accuracy: 0.8013\n",
            "Epoch 44/60\n",
            "89/89 [==============================] - 0s 2ms/step - loss: 0.4231 - accuracy: 0.8300 - val_loss: 0.4737 - val_accuracy: 0.8013\n",
            "Epoch 45/60\n",
            "89/89 [==============================] - 0s 2ms/step - loss: 0.4220 - accuracy: 0.8318 - val_loss: 0.4722 - val_accuracy: 0.8005\n",
            "Epoch 46/60\n",
            "89/89 [==============================] - 0s 2ms/step - loss: 0.4220 - accuracy: 0.8320 - val_loss: 0.4686 - val_accuracy: 0.8013\n",
            "Epoch 47/60\n",
            "89/89 [==============================] - 0s 2ms/step - loss: 0.4192 - accuracy: 0.8321 - val_loss: 0.4691 - val_accuracy: 0.7997\n",
            "Epoch 48/60\n",
            "89/89 [==============================] - 0s 2ms/step - loss: 0.4190 - accuracy: 0.8331 - val_loss: 0.4667 - val_accuracy: 0.7997\n",
            "Epoch 49/60\n",
            "89/89 [==============================] - 0s 2ms/step - loss: 0.4189 - accuracy: 0.8302 - val_loss: 0.4663 - val_accuracy: 0.7989\n",
            "Epoch 50/60\n",
            "89/89 [==============================] - 0s 2ms/step - loss: 0.4145 - accuracy: 0.8334 - val_loss: 0.4660 - val_accuracy: 0.7989\n",
            "Epoch 51/60\n",
            "89/89 [==============================] - 0s 2ms/step - loss: 0.4136 - accuracy: 0.8321 - val_loss: 0.4643 - val_accuracy: 0.7965\n",
            "Epoch 52/60\n",
            "89/89 [==============================] - 0s 2ms/step - loss: 0.4110 - accuracy: 0.8338 - val_loss: 0.4620 - val_accuracy: 0.8036\n",
            "Epoch 53/60\n",
            "89/89 [==============================] - 0s 2ms/step - loss: 0.4128 - accuracy: 0.8335 - val_loss: 0.4652 - val_accuracy: 0.7989\n",
            "Epoch 54/60\n",
            "89/89 [==============================] - 0s 2ms/step - loss: 0.4127 - accuracy: 0.8333 - val_loss: 0.4588 - val_accuracy: 0.8060\n",
            "Epoch 55/60\n",
            "89/89 [==============================] - 0s 2ms/step - loss: 0.4122 - accuracy: 0.8336 - val_loss: 0.4596 - val_accuracy: 0.7997\n",
            "Epoch 56/60\n",
            "89/89 [==============================] - 0s 2ms/step - loss: 0.4102 - accuracy: 0.8329 - val_loss: 0.4573 - val_accuracy: 0.8029\n",
            "Epoch 57/60\n",
            "89/89 [==============================] - 0s 2ms/step - loss: 0.4052 - accuracy: 0.8359 - val_loss: 0.4550 - val_accuracy: 0.8044\n",
            "Epoch 58/60\n",
            "89/89 [==============================] - 0s 2ms/step - loss: 0.4068 - accuracy: 0.8340 - val_loss: 0.4544 - val_accuracy: 0.8044\n",
            "Epoch 59/60\n",
            "89/89 [==============================] - 0s 2ms/step - loss: 0.4066 - accuracy: 0.8350 - val_loss: 0.4544 - val_accuracy: 0.8036\n",
            "Epoch 60/60\n",
            "89/89 [==============================] - 0s 2ms/step - loss: 0.4074 - accuracy: 0.8328 - val_loss: 0.4527 - val_accuracy: 0.8044\n"
          ],
          "name": "stdout"
        }
      ]
    },
    {
      "cell_type": "code",
      "metadata": {
        "id": "MXoEAmmsFSyF"
      },
      "source": [
        "pred_y = nn_model.predict(X_test)"
      ],
      "execution_count": null,
      "outputs": []
    },
    {
      "cell_type": "code",
      "metadata": {
        "id": "4BsSaGHjFWGd"
      },
      "source": [
        "pred_y_class = (pred_y >= 0.45).astype(np.int)"
      ],
      "execution_count": null,
      "outputs": []
    },
    {
      "cell_type": "code",
      "metadata": {
        "id": "z0umgsEUFZq_"
      },
      "source": [
        "y_test = (y_test >= 0.5).astype(np.int)"
      ],
      "execution_count": null,
      "outputs": []
    },
    {
      "cell_type": "code",
      "metadata": {
        "id": "aSiCkHKHFcpO",
        "outputId": "3506f017-eb33-4387-b6e2-b506ce7d64a5",
        "colab": {
          "base_uri": "https://localhost:8080/",
          "height": 261
        }
      },
      "source": [
        "print(\"Confusion Matrix:- \\n\", metrics.confusion_matrix(y_test, pred_y_class), \"\\n\")\n",
        "print(\"Classification Report:- \\n\", metrics.classification_report(y_test, pred_y_class))"
      ],
      "execution_count": null,
      "outputs": [
        {
          "output_type": "stream",
          "text": [
            "Confusion Matrix:- \n",
            " [[757  87]\n",
            " [158 261]] \n",
            "\n",
            "Classification Report:- \n",
            "               precision    recall  f1-score   support\n",
            "\n",
            "           0       0.83      0.90      0.86       844\n",
            "           1       0.75      0.62      0.68       419\n",
            "\n",
            "    accuracy                           0.81      1263\n",
            "   macro avg       0.79      0.76      0.77      1263\n",
            "weighted avg       0.80      0.81      0.80      1263\n",
            "\n"
          ],
          "name": "stdout"
        }
      ]
    },
    {
      "cell_type": "code",
      "metadata": {
        "id": "ORnU_xbUFf0B",
        "outputId": "a073dab4-f5f1-4357-e118-8cd3d4d1e2cd",
        "colab": {
          "base_uri": "https://localhost:8080/",
          "height": 1000
        }
      },
      "source": [
        "from sklearn.metrics import roc_curve, roc_auc_score\n",
        "from matplotlib.font_manager import FontProperties\n",
        "fontP = FontProperties()\n",
        "fontP.set_size('xx-small')\n",
        "fpr, tpr, _ = roc_curve(y_test, pred_y)\n",
        "fig, ax1 = plt.subplots(1,1, figsize = (5, 5), dpi = 250)\n",
        "ax1.plot(fpr, tpr, marker='.', label = 'Ensemble (AUC:%2.2f)' % roc_auc_score(y_test, pred_y))\n",
        "ax1.plot(fpr, fpr, linestyle='--', label = 'Random Guessing')\n",
        "ax1.legend(title='legend',  loc='lower right', prop=fontP)\n",
        "ax1.set_xlabel('False Positive Rate')\n",
        "ax1.set_ylabel('True Positive Rate');\n",
        "ax1.set_title('Lung Opacity ROC Curve')"
      ],
      "execution_count": null,
      "outputs": [
        {
          "output_type": "execute_result",
          "data": {
            "text/plain": [
              "Text(0.5, 1.0, 'Lung Opacity ROC Curve')"
            ]
          },
          "metadata": {
            "tags": []
          },
          "execution_count": 166
        },
        {
          "output_type": "display_data",
          "data": {
            "image/png": "[encoded data removed]",
            "text/plain": [
              "<Figure size 1250x1250 with 1 Axes>"
            ]
          },
          "metadata": {
            "tags": [],
            "needs_background": "light"
          }
        }
      ]
    },
    {
      "cell_type": "code",
      "metadata": {
        "id": "XN-oG5uQFz4x"
      },
      "source": [
        ""
      ],
      "execution_count": null,
      "outputs": []
    }
  ]
}