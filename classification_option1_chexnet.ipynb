{
  "nbformat": 4,
  "nbformat_minor": 0,
  "metadata": {
    "colab": {
      "name": "classification_option1_chexnet.ipynb",
      "provenance": [],
      "collapsed_sections": [],
      "toc_visible": true,
      "include_colab_link": true
    },
    "kernelspec": {
      "name": "python3",
      "display_name": "Python 3"
    },
    "accelerator": "GPU"
  },
  "cells": [
    {
      "cell_type": "markdown",
      "metadata": {
        "id": "view-in-github",
        "colab_type": "text"
      },
      "source": [
        "<a href=\"https://colab.research.google.com/github/pswaruppk/GL_CAPSTONE/blob/master/classification_option1_chexnet.ipynb\" target=\"_parent\"><img src=\"https://colab.research.google.com/assets/colab-badge.svg\" alt=\"Open In Colab\"/></a>"
      ]
    },
    {
      "cell_type": "markdown",
      "metadata": {
        "id": "58f4F_QondId"
      },
      "source": [
        "#Hybrid model\n",
        "  This notebook is trying to build option-1 which includes classification followed by detection.\n",
        "\n",
        "Classification:\n",
        "  1. **ChexNet- Densnet121** - This has been implemented here.\n",
        "  2. VGG NET\n",
        "  3. InceptionV3\n",
        "  4. InceptionRestNetV2\n",
        "\n",
        "Detection:\n",
        "  RetinaNet based architecture\n",
        "  1. ResNet101 \n",
        "  2. ResNet152"
      ]
    },
    {
      "cell_type": "code",
      "metadata": {
        "id": "kbTCr_5QEzad"
      },
      "source": [
        "import os"
      ],
      "execution_count": null,
      "outputs": []
    },
    {
      "cell_type": "code",
      "metadata": {
        "id": "Rkx68scFlb8-",
        "outputId": "c47b21d9-866b-4777-9bf1-7705afe90cf2",
        "colab": {
          "base_uri": "https://localhost:8080/",
          "height": 34
        }
      },
      "source": [
        "from google.colab import drive\n",
        "drive.mount('/content/drive')"
      ],
      "execution_count": null,
      "outputs": [
        {
          "output_type": "stream",
          "text": [
            "Mounted at /content/drive\n"
          ],
          "name": "stdout"
        }
      ]
    },
    {
      "cell_type": "code",
      "metadata": {
        "id": "uOtuMJIjncTt",
        "outputId": "e1a7065e-cf8f-46e8-a691-9af5e4485332",
        "colab": {
          "base_uri": "https://localhost:8080/",
          "height": 35
        }
      },
      "source": [
        "project_path = \"/content/drive/My Drive/rsna-pneumonia-detection-challenge\"\n",
        "os.chdir(project_path)\n",
        "os.getcwd()"
      ],
      "execution_count": null,
      "outputs": [
        {
          "output_type": "execute_result",
          "data": {
            "application/vnd.google.colaboratory.intrinsic+json": {
              "type": "string"
            },
            "text/plain": [
              "'/content/drive/My Drive/rsna-pneumonia-detection-challenge'"
            ]
          },
          "metadata": {
            "tags": []
          },
          "execution_count": 3
        }
      ]
    },
    {
      "cell_type": "markdown",
      "metadata": {
        "id": "zxH2DzwT8mkl"
      },
      "source": [
        "## Model Parameters"
      ]
    },
    {
      "cell_type": "code",
      "metadata": {
        "id": "wFHbskXlX4QR"
      },
      "source": [
        "#Set global parameters here\n",
        "BASE_MODEL = \"DenseNet121\"\n",
        "MODEL_NAME  = \"Option-1\" + \".\" + BASE_MODEL\n",
        "if os.path.isdir(MODEL_NAME) == False:\n",
        "  os.mkdir(MODEL_NAME)\n",
        "WEIGHTS_FILE = MODEL_NAME+\"/\" + \"weights.best.h5\"\n",
        "HISTORY_FILE = MODEL_NAME+\"/\" +\"history.csv\"\n",
        "BATCH_SIZE = 16\n",
        "IMAGE_SIZE = 224 #target image width\n",
        "IMG_WIDTH = 1024 #Original image width\n",
        "FORCE_TRAINING = False #True , change it to force training\n",
        "DROPOUT = 0.25 # [0, 0.25, 0.5]\n",
        "DENSE_COUNT = 128 # [32, 64, 128, 256]\n",
        "LEARN_RATE = 1e-4 # [1e-4, 1e-3, 4e-3]\n",
        "ALPHA = 1.0\n",
        "EPOCHS = 5"
      ],
      "execution_count": null,
      "outputs": []
    },
    {
      "cell_type": "code",
      "metadata": {
        "id": "brBroOQSp-5M",
        "outputId": "eb9b2d5e-bbd9-42fb-ed50-2d29513f8e5b",
        "colab": {
          "base_uri": "https://localhost:8080/",
          "height": 281
        }
      },
      "source": [
        "oldPath = os.getcwd()\n",
        "utility_path = \"/content/drive/My Drive/GL_CAPSTONE\"\n",
        "os.chdir(utility_path)\n",
        "%run pneumonia_utility.ipynb\n",
        "baseModel,preprocess_input = selectBaseModel(BASE_MODEL)\n",
        "os.chdir(oldPath)\n",
        "print(os.getcwd())\n",
        "print(baseModel,preprocess_input)"
      ],
      "execution_count": null,
      "outputs": [
        {
          "output_type": "stream",
          "text": [
            "Loading functions from Pneumonia utility notebook\n",
            "Loading pydicom package\n",
            "Collecting pydicom\n",
            "\u001b[?25l  Downloading https://files.pythonhosted.org/packages/d3/56/342e1f8ce5afe63bf65c23d0b2c1cd5a05600caad1c211c39725d3a4cc56/pydicom-2.0.0-py3-none-any.whl (35.4MB)\n",
            "\u001b[K     |████████████████████████████████| 35.5MB 89kB/s \n",
            "\u001b[?25hInstalling collected packages: pydicom\n",
            "Successfully installed pydicom-2.0.0\n",
            "Setting baseModel : DenseNet121\n",
            "<module 'tensorflow.keras.applications.densenet' from '/usr/local/lib/python3.6/dist-packages/tensorflow/keras/applications/densenet/__init__.py'>\n",
            "global BaseModel; BaseModel =np.DenseNet121\n",
            "global preprocess_input; preprocess_input =np.preprocess_input\n",
            "<class 'function'>\n",
            "/content/drive/My Drive/rsna-pneumonia-detection-challenge\n",
            "<function DenseNet121 at 0x7fadabb2b6a8> <function preprocess_input at 0x7fadabb2b840>\n"
          ],
          "name": "stdout"
        }
      ]
    },
    {
      "cell_type": "code",
      "metadata": {
        "id": "oFPh9QxB5-1b",
        "outputId": "d08dca1b-4469-4d8f-cc20-9ce8d9610722",
        "colab": {
          "base_uri": "https://localhost:8080/",
          "height": 52
        }
      },
      "source": [
        "baseModel,preprocess_input"
      ],
      "execution_count": null,
      "outputs": [
        {
          "output_type": "execute_result",
          "data": {
            "text/plain": [
              "(<function tensorflow.python.keras.applications.densenet.DenseNet121>,\n",
              " <function tensorflow.python.keras.applications.densenet.preprocess_input>)"
            ]
          },
          "metadata": {
            "tags": []
          },
          "execution_count": 6
        }
      ]
    },
    {
      "cell_type": "code",
      "metadata": {
        "id": "n2y2P8aO7Rpw",
        "outputId": "b623a07f-0729-48f6-ac44-961fc30921b2",
        "colab": {
          "base_uri": "https://localhost:8080/",
          "height": 34
        }
      },
      "source": [
        "\n",
        "image_shape = MODEL_MAP[BASE_MODEL]['input_shape']\n",
        "IMAGE_SIZE = image_shape[0]\n",
        "image_shape,IMAGE_SIZE"
      ],
      "execution_count": null,
      "outputs": [
        {
          "output_type": "execute_result",
          "data": {
            "text/plain": [
              "((224, 224, 3), 224)"
            ]
          },
          "metadata": {
            "tags": []
          },
          "execution_count": 7
        }
      ]
    },
    {
      "cell_type": "code",
      "metadata": {
        "id": "7GDQHACIndcb",
        "outputId": "b7bd2d87-2db0-4e8a-a513-3af28600a3af",
        "colab": {
          "base_uri": "https://localhost:8080/",
          "height": 52
        }
      },
      "source": [
        "#Loading full data\n",
        "full_df,bbox_map,class_enc = loadData()"
      ],
      "execution_count": null,
      "outputs": [
        {
          "output_type": "stream",
          "text": [
            "Loading full CXR info\n",
            "Loading bbox map\n"
          ],
          "name": "stdout"
        }
      ]
    },
    {
      "cell_type": "code",
      "metadata": {
        "id": "3PcE8k6vu1HK"
      },
      "source": [
        "\n",
        "# CLASS_VECTORS = get_class_map(full_df)"
      ],
      "execution_count": null,
      "outputs": []
    },
    {
      "cell_type": "code",
      "metadata": {
        "id": "Qmw2L5Yo3SE1",
        "outputId": "d6cd1f28-2a4e-4d91-edfa-cb43070d7c81",
        "colab": {
          "base_uri": "https://localhost:8080/",
          "height": 284
        }
      },
      "source": [
        "full_df.head(2)"
      ],
      "execution_count": null,
      "outputs": [
        {
          "output_type": "execute_result",
          "data": {
            "text/html": [
              "<div>\n",
              "<style scoped>\n",
              "    .dataframe tbody tr th:only-of-type {\n",
              "        vertical-align: middle;\n",
              "    }\n",
              "\n",
              "    .dataframe tbody tr th {\n",
              "        vertical-align: top;\n",
              "    }\n",
              "\n",
              "    .dataframe thead th {\n",
              "        text-align: right;\n",
              "    }\n",
              "</style>\n",
              "<table border=\"1\" class=\"dataframe\">\n",
              "  <thead>\n",
              "    <tr style=\"text-align: right;\">\n",
              "      <th></th>\n",
              "      <th>Unnamed: 0</th>\n",
              "      <th>patientId</th>\n",
              "      <th>x</th>\n",
              "      <th>y</th>\n",
              "      <th>width</th>\n",
              "      <th>height</th>\n",
              "      <th>Target</th>\n",
              "      <th>BboxNo</th>\n",
              "      <th>PatientAge</th>\n",
              "      <th>PatientSex</th>\n",
              "      <th>ViewPosition</th>\n",
              "      <th>class</th>\n",
              "      <th>class_id</th>\n",
              "      <th>class_vector</th>\n",
              "      <th>path</th>\n",
              "    </tr>\n",
              "  </thead>\n",
              "  <tbody>\n",
              "    <tr>\n",
              "      <th>0</th>\n",
              "      <td>0</td>\n",
              "      <td>0004cfab-14fd-4e49-80ba-63a80b6bddd6</td>\n",
              "      <td>NaN</td>\n",
              "      <td>NaN</td>\n",
              "      <td>NaN</td>\n",
              "      <td>NaN</td>\n",
              "      <td>0</td>\n",
              "      <td>1</td>\n",
              "      <td>51</td>\n",
              "      <td>0</td>\n",
              "      <td>0</td>\n",
              "      <td>No Lung Opacity / Not Normal</td>\n",
              "      <td>1</td>\n",
              "      <td>[0.0, 1.0, 0.0]</td>\n",
              "      <td>stage_2_train_images/0004cfab-14fd-4e49-80ba-6...</td>\n",
              "    </tr>\n",
              "    <tr>\n",
              "      <th>1</th>\n",
              "      <td>1</td>\n",
              "      <td>00313ee0-9eaa-42f4-b0ab-c148ed3241cd</td>\n",
              "      <td>NaN</td>\n",
              "      <td>NaN</td>\n",
              "      <td>NaN</td>\n",
              "      <td>NaN</td>\n",
              "      <td>0</td>\n",
              "      <td>1</td>\n",
              "      <td>48</td>\n",
              "      <td>0</td>\n",
              "      <td>0</td>\n",
              "      <td>No Lung Opacity / Not Normal</td>\n",
              "      <td>1</td>\n",
              "      <td>[0.0, 1.0, 0.0]</td>\n",
              "      <td>stage_2_train_images/00313ee0-9eaa-42f4-b0ab-c...</td>\n",
              "    </tr>\n",
              "  </tbody>\n",
              "</table>\n",
              "</div>"
            ],
            "text/plain": [
              "   Unnamed: 0  ...                                               path\n",
              "0           0  ...  stage_2_train_images/0004cfab-14fd-4e49-80ba-6...\n",
              "1           1  ...  stage_2_train_images/00313ee0-9eaa-42f4-b0ab-c...\n",
              "\n",
              "[2 rows x 15 columns]"
            ]
          },
          "metadata": {
            "tags": []
          },
          "execution_count": 10
        }
      ]
    },
    {
      "cell_type": "code",
      "metadata": {
        "id": "j5JQWuj59Y7q"
      },
      "source": [
        "full_df.drop(full_df.columns[0],inplace=True,axis=1)"
      ],
      "execution_count": null,
      "outputs": []
    },
    {
      "cell_type": "code",
      "metadata": {
        "id": "_MjIEYAJPBIc",
        "outputId": "db196ecb-4064-4d76-a087-f3f278ecf270",
        "colab": {
          "base_uri": "https://localhost:8080/",
          "height": 34
        }
      },
      "source": [
        "print('{}:Total Pneumonia Patient'.format(len(full_df[full_df.Target == 1])))"
      ],
      "execution_count": null,
      "outputs": [
        {
          "output_type": "stream",
          "text": [
            "9555:Total Pneumonia Patient\n"
          ],
          "name": "stdout"
        }
      ]
    },
    {
      "cell_type": "code",
      "metadata": {
        "id": "36J8-8yN4mtp",
        "outputId": "bfabc1b1-6983-4236-c202-7de81e4766fb",
        "colab": {
          "base_uri": "https://localhost:8080/",
          "height": 87
        }
      },
      "source": [
        "#Split the dataset  into 3 train/valid/test\n",
        "unbalanced_train_df, valid_df, test_df = splitData(full_df,target='class')"
      ],
      "execution_count": null,
      "outputs": [
        {
          "output_type": "stream",
          "text": [
            "(21347, 14) training data\n",
            "(5337, 14) raw validation data\n",
            "(2668, 14) Validation data\n",
            "(2669, 14) test data\n"
          ],
          "name": "stdout"
        }
      ]
    },
    {
      "cell_type": "code",
      "metadata": {
        "id": "ljMpXIjlAYtE",
        "outputId": "e8f0bec2-bacd-4ceb-e391-919742b8fe2c",
        "colab": {
          "base_uri": "https://localhost:8080/",
          "height": 34
        }
      },
      "source": [
        "unbalanced_train_df[unbalanced_train_df.class_id == 0].shape[0]"
      ],
      "execution_count": null,
      "outputs": [
        {
          "output_type": "execute_result",
          "data": {
            "text/plain": [
              "4809"
            ]
          },
          "metadata": {
            "tags": []
          },
          "execution_count": 14
        }
      ]
    },
    {
      "cell_type": "code",
      "metadata": {
        "id": "RylZ8ieH5umF",
        "outputId": "92bae292-7a2b-42e8-d464-df4eb9e84ad2",
        "colab": {
          "base_uri": "https://localhost:8080/",
          "height": 489
        }
      },
      "source": [
        "import matplotlib.pyplot as plt\n",
        "TRAIN_SAMPLES = 12624 # 4208 x 3 class targets\n",
        "#Balancing training set\n",
        "train_df = balance_df(unbalanced_train_df,TRAIN_SAMPLES,target='class')\n",
        "print(train_df.shape[0], 'Final training size')"
      ],
      "execution_count": null,
      "outputs": [
        {
          "output_type": "stream",
          "text": [
            "12624 Final training size\n"
          ],
          "name": "stdout"
        },
        {
          "output_type": "display_data",
          "data": {
            "image/png": "[encoded data removed]",
            "text/plain": [
              "<Figure size 720x360 with 2 Axes>"
            ]
          },
          "metadata": {
            "tags": [],
            "needs_background": "light"
          }
        }
      ]
    },
    {
      "cell_type": "code",
      "metadata": {
        "id": "MWvrQj9tjG_M"
      },
      "source": [
        "train_df = pd.read_csv('classification_train_df.csv',converters={'class_vector':eval})\n",
        "valid_df = pd.read_csv('classification_valid_df.csv',converters={'class_vector':eval})\n",
        "test_df = pd.read_csv('classification_test_df.csv',converters={'class_vector':eval})"
      ],
      "execution_count": null,
      "outputs": []
    },
    {
      "cell_type": "code",
      "metadata": {
        "id": "m3O2gjJMjJpq",
        "outputId": "73a1ebce-52c5-4e6a-a4d0-c7dc584df9c6",
        "colab": {
          "base_uri": "https://localhost:8080/",
          "height": 34
        }
      },
      "source": [
        "y = train_df.class_vector[0]\n",
        "type(y)"
      ],
      "execution_count": null,
      "outputs": [
        {
          "output_type": "execute_result",
          "data": {
            "text/plain": [
              "list"
            ]
          },
          "metadata": {
            "tags": []
          },
          "execution_count": 18
        }
      ]
    },
    {
      "cell_type": "markdown",
      "metadata": {
        "id": "kkJH_Cet8AlW"
      },
      "source": [
        "## Build model"
      ]
    },
    {
      "cell_type": "code",
      "metadata": {
        "id": "u4mdtUO2U2UH",
        "outputId": "5e4e95c6-c24a-4b12-b296-1b60dfaf73e9",
        "colab": {
          "base_uri": "https://localhost:8080/",
          "height": 34
        }
      },
      "source": [
        "len(np.unique(train_df[\"path\"].to_numpy()))"
      ],
      "execution_count": null,
      "outputs": [
        {
          "output_type": "execute_result",
          "data": {
            "text/plain": [
              "12624"
            ]
          },
          "metadata": {
            "tags": []
          },
          "execution_count": 19
        }
      ]
    },
    {
      "cell_type": "code",
      "metadata": {
        "id": "wN24TMo_E2wE",
        "outputId": "274a7b94-f06c-4c11-8ea1-5421b64adf72",
        "colab": {
          "base_uri": "https://localhost:8080/",
          "height": 87
        }
      },
      "source": [
        "# BATCH_SIZE = 8\n",
        "# IMAGE_SIZE = 224\n",
        "# IMG_WIDTH = 1024\n",
        "train_gen = MyLabelDataGenerator(train_df)\n",
        "valid_gen = MyLabelDataGenerator(valid_df)\n",
        "\n",
        "print(len(train_gen), \"# of iterations in one train epoch\")\n",
        "print(len(valid_gen), \"# of iterations in one validate epoch\")"
      ],
      "execution_count": null,
      "outputs": [
        {
          "output_type": "stream",
          "text": [
            "12624 :No of generator Image\n",
            "2668 :No of generator Image\n",
            "789 # of iterations in one train epoch\n",
            "166 # of iterations in one validate epoch\n"
          ],
          "name": "stdout"
        }
      ]
    },
    {
      "cell_type": "code",
      "metadata": {
        "id": "nVBX69WApYW1",
        "outputId": "b5bdb539-5b53-4eda-e2ef-9e46404ae43d",
        "colab": {
          "base_uri": "https://localhost:8080/",
          "height": 286
        }
      },
      "source": [
        "path = bbox_map['000db696-cf54-4385-b10b-6b16fbb3f985'].get('path')\n",
        "img = train_gen.getImage(path)\n",
        "plt.imshow(img, cmap=plt.cm.bone)"
      ],
      "execution_count": null,
      "outputs": [
        {
          "output_type": "execute_result",
          "data": {
            "text/plain": [
              "<matplotlib.image.AxesImage at 0x7fad47ff2048>"
            ]
          },
          "metadata": {
            "tags": []
          },
          "execution_count": 22
        },
        {
          "output_type": "display_data",
          "data": {
            "image/png": "[encoded data removed]",
            "text/plain": [
              "<Figure size 432x288 with 1 Axes>"
            ]
          },
          "metadata": {
            "tags": [],
            "needs_background": "light"
          }
        }
      ]
    },
    {
      "cell_type": "code",
      "metadata": {
        "id": "UPrqPNLZYVgB"
      },
      "source": [
        "imageSet = train_gen[9][0]\n",
        "maskSet = train_gen[9][1]   #Label"
      ],
      "execution_count": null,
      "outputs": []
    },
    {
      "cell_type": "code",
      "metadata": {
        "id": "eBuvjnaOZq2a",
        "outputId": "0a672a18-62f3-4eff-adcb-f09f64b86156",
        "colab": {
          "base_uri": "https://localhost:8080/",
          "height": 34
        }
      },
      "source": [
        "imageSet.shape,maskSet.shape"
      ],
      "execution_count": null,
      "outputs": [
        {
          "output_type": "execute_result",
          "data": {
            "text/plain": [
              "((16, 224, 224, 3), (16, 3))"
            ]
          },
          "metadata": {
            "tags": []
          },
          "execution_count": 24
        }
      ]
    },
    {
      "cell_type": "code",
      "metadata": {
        "id": "3NjGWW0OKDQp",
        "outputId": "a77d16a5-687a-4e8a-d0af-56afe7836ca0",
        "colab": {
          "base_uri": "https://localhost:8080/",
          "height": 304
        }
      },
      "source": [
        "plt.imshow(imageSet[9], cmap=plt.cm.bone)"
      ],
      "execution_count": null,
      "outputs": [
        {
          "output_type": "stream",
          "text": [
            "Clipping input data to the valid range for imshow with RGB data ([0..1] for floats or [0..255] for integers).\n"
          ],
          "name": "stderr"
        },
        {
          "output_type": "execute_result",
          "data": {
            "text/plain": [
              "<matplotlib.image.AxesImage at 0x7fad47fca978>"
            ]
          },
          "metadata": {
            "tags": []
          },
          "execution_count": 25
        },
        {
          "output_type": "display_data",
          "data": {
            "image/png": "[encoded data removed]",
            "text/plain": [
              "<Figure size 432x288 with 1 Axes>"
            ]
          },
          "metadata": {
            "tags": [],
            "needs_background": "light"
          }
        }
      ]
    },
    {
      "cell_type": "code",
      "metadata": {
        "id": "6XDAF8UlwUKu"
      },
      "source": [
        "\n",
        "def build_pretrained_model():\n",
        "  #Build base model\n",
        "  input_shape = MODEL_MAP[BASE_MODEL]['input_shape']\n",
        "  base_pretrained_model = BaseModel(input_shape =  input_shape, \n",
        "                              include_top = False, weights = 'imagenet')\n",
        "  base_pretrained_model.trainable = False\n",
        "  #Build Top layer\n",
        "  lastlayer = MODEL_MAP[BASE_MODEL]['last_conv_layer']\n",
        "  lastlayershape = base_pretrained_model.get_layer(lastlayer).output_shape[1:]\n",
        "  pt_features = Input(lastlayershape, name = 'feature_input')\n",
        "    \n",
        "  bn_features = BatchNormalization()(pt_features)\n",
        "  gap = GlobalAveragePooling2D()(bn_features)\n",
        "\n",
        "  gap_dr = Dropout(DROPOUT)(gap)\n",
        "  dr_steps = Dropout(DROPOUT)(Dense(DENSE_COUNT, activation = 'linear', use_bias=False)(gap_dr))\n",
        "  dr_steps = BatchNormalization()(dr_steps)\n",
        "  dr_steps = layers.LeakyReLU(0.1)(dr_steps)\n",
        "  out_layer = Dense(3, activation = 'softmax')(dr_steps)\n",
        "\n",
        "  attn_model = Model(inputs = [pt_features], \n",
        "                    outputs = [out_layer], name = 'top_model')\n",
        "  #Combine base & top model\n",
        "  pneu_model = Sequential(name = 'combined_model')\n",
        "  # base_pretrained_model.trainable = False\n",
        "  pneu_model.add(base_pretrained_model)\n",
        "  pneu_model.add(attn_model)\n",
        "  #Add loss & optimizer\n",
        "  lr = LEARN_RATE\n",
        "  decay = lr/10 # or in the factor of 10\n",
        "  adamOptimizer = Adam(lr=lr, beta_1=0.9, beta_2=0.999, epsilon=None, decay=decay, amsgrad=False)\n",
        "  pneu_model.compile(optimizer =adamOptimizer, loss = 'categorical_crossentropy',\n",
        "                           metrics = ['categorical_accuracy'])\n",
        "  \n",
        "  return pneu_model,base_pretrained_model,attn_model"
      ],
      "execution_count": null,
      "outputs": []
    },
    {
      "cell_type": "code",
      "metadata": {
        "id": "4qJ9-w2xU7Lu",
        "outputId": "0ff7f07c-2235-4856-8de3-152a20a1fe57",
        "colab": {
          "base_uri": "https://localhost:8080/",
          "height": 281
        }
      },
      "source": [
        "class_model,base_model,top_model = build_pretrained_model()\n",
        "class_model.summary()"
      ],
      "execution_count": null,
      "outputs": [
        {
          "output_type": "stream",
          "text": [
            "Downloading data from https://storage.googleapis.com/tensorflow/keras-applications/densenet/densenet121_weights_tf_dim_ordering_tf_kernels_notop.h5\n",
            "29089792/29084464 [==============================] - 1s 0us/step\n",
            "Model: \"combined_model\"\n",
            "_________________________________________________________________\n",
            "Layer (type)                 Output Shape              Param #   \n",
            "=================================================================\n",
            "densenet121 (Functional)     (None, 7, 7, 1024)        7037504   \n",
            "_________________________________________________________________\n",
            "top_model (Functional)       (None, 3)                 136067    \n",
            "=================================================================\n",
            "Total params: 7,173,571\n",
            "Trainable params: 133,763\n",
            "Non-trainable params: 7,039,808\n",
            "_________________________________________________________________\n"
          ],
          "name": "stdout"
        }
      ]
    },
    {
      "cell_type": "code",
      "metadata": {
        "id": "rgvZwss8LeKW",
        "outputId": "8f236873-e3f5-40b9-b899-4fcaf43f6356",
        "colab": {
          "base_uri": "https://localhost:8080/",
          "height": 272
        }
      },
      "source": [
        "from keras.utils.vis_utils import plot_model\n",
        "plot_model(class_model)"
      ],
      "execution_count": null,
      "outputs": [
        {
          "output_type": "execute_result",
          "data": {
            "image/png": "[encoded data removed]",
            "text/plain": [
              "<IPython.core.display.Image object>"
            ]
          },
          "metadata": {
            "tags": []
          },
          "execution_count": 28
        }
      ]
    },
    {
      "cell_type": "code",
      "metadata": {
        "id": "jqkqIBnl12yZ",
        "outputId": "54b62169-468b-4633-86b1-0fe6badf98e7",
        "colab": {
          "base_uri": "https://localhost:8080/",
          "height": 34
        }
      },
      "source": [
        "checkpoint = ModelCheckpoint(WEIGHTS_FILE, monitor='val_loss', verbose=1, \n",
        "                             save_best_only=True, mode='min', save_weights_only = True)\n",
        "\n",
        "reduceLROnPlat = ReduceLROnPlateau(monitor='val_loss', factor=0.8, \n",
        "                                   patience=10, verbose=1, mode='auto', \n",
        "                                   epsilon=0.0001, cooldown=5, min_lr=0.0001)\n",
        "early = EarlyStopping(monitor=\"val_loss\", \n",
        "                      mode=\"min\", \n",
        "                      patience=10) \n",
        "callbacks_list = [checkpoint, early, reduceLROnPlat]"
      ],
      "execution_count": null,
      "outputs": [
        {
          "output_type": "stream",
          "text": [
            "WARNING:tensorflow:`epsilon` argument is deprecated and will be removed, use `min_delta` instead.\n"
          ],
          "name": "stdout"
        }
      ]
    },
    {
      "cell_type": "markdown",
      "metadata": {
        "id": "pSyqHQCl76q_"
      },
      "source": [
        "##Model Fit"
      ]
    },
    {
      "cell_type": "code",
      "metadata": {
        "id": "MgwtfdmOFb3f",
        "outputId": "1dbaef4a-e538-4cfc-de6e-e5f625d72578",
        "colab": {
          "base_uri": "https://localhost:8080/",
          "height": 52
        }
      },
      "source": [
        "%%time\n",
        "history = pd.DataFrame()\n",
        "\n",
        "if (os.path.isfile(WEIGHTS_FILE) & (FORCE_TRAINING == False) ):\n",
        "  class_model.load_weights(WEIGHTS_FILE)\n",
        "  history = loadHistory(HISTORY_FILE)\n",
        "else:\n",
        "  if (os.path.isfile(WEIGHTS_FILE)):\n",
        "    class_model.load_weights(WEIGHTS_FILE)\n",
        "  history = class_model.fit(train_gen,   # (X_train, y_train)\n",
        "                        epochs=EPOCHS,\n",
        "                        validation_data=valid_gen,#(X_valid, y_valid)\n",
        "                        callbacks=callbacks_list,\n",
        "                        shuffle=True,\n",
        "                        verbose=1)\n",
        "  \n",
        "  history = saveHistory(history,HISTORY_FILE)"
      ],
      "execution_count": null,
      "outputs": [
        {
          "output_type": "stream",
          "text": [
            "CPU times: user 504 ms, sys: 87.9 ms, total: 591 ms\n",
            "Wall time: 584 ms\n"
          ],
          "name": "stdout"
        }
      ]
    },
    {
      "cell_type": "markdown",
      "metadata": {
        "id": "EoKqYv0gT_Vx"
      },
      "source": [
        "## History"
      ]
    },
    {
      "cell_type": "code",
      "metadata": {
        "id": "mOOZuv5TNRRz",
        "outputId": "f685596c-ce25-4dca-df08-28c88b7673d7",
        "colab": {
          "base_uri": "https://localhost:8080/",
          "height": 374
        }
      },
      "source": [
        "plot_his(history,'categorical_accuracy')\n",
        "#Save the model as well for future use"
      ],
      "execution_count": null,
      "outputs": [
        {
          "output_type": "display_data",
          "data": {
            "image/png": "[encoded data removed]",
            "text/plain": [
              "<Figure size 1080x432 with 2 Axes>"
            ]
          },
          "metadata": {
            "tags": [],
            "needs_background": "light"
          }
        }
      ]
    },
    {
      "cell_type": "markdown",
      "metadata": {
        "id": "CMghxAoEigFA"
      },
      "source": [
        "## Classification-Stage1 performance"
      ]
    },
    {
      "cell_type": "code",
      "metadata": {
        "id": "ujDI37BRimfi",
        "outputId": "9ef8d0d3-d938-47e6-8605-7c81f794b658",
        "colab": {
          "base_uri": "https://localhost:8080/",
          "height": 34
        }
      },
      "source": [
        "predict_gen = MyLabelTestDataGenerator(train_df)"
      ],
      "execution_count": null,
      "outputs": [
        {
          "output_type": "stream",
          "text": [
            "12624 :No of generator Image\n"
          ],
          "name": "stdout"
        }
      ]
    },
    {
      "cell_type": "code",
      "metadata": {
        "id": "CFOJOc2sugIm",
        "outputId": "93860b19-5aff-48a0-92d4-b974359aaba3",
        "colab": {
          "base_uri": "https://localhost:8080/",
          "height": 34
        }
      },
      "source": [
        "patients, pred_Y,valid_Y = class_predict(predict_gen,class_model,no_of_batch=0)"
      ],
      "execution_count": null,
      "outputs": [
        {
          "output_type": "stream",
          "text": [
            "100%|██████████| 789/789 [2:21:11<00:00, 10.74s/it]\n"
          ],
          "name": "stderr"
        }
      ]
    },
    {
      "cell_type": "code",
      "metadata": {
        "id": "veC7zOqEi46F",
        "outputId": "7e756882-2051-48b7-b932-73df10d556d3",
        "colab": {
          "base_uri": "https://localhost:8080/",
          "height": 449
        }
      },
      "source": [
        "from sklearn.metrics import confusion_matrix\n",
        "plt.matshow(confusion_matrix(np.argmax(valid_Y, -1), np.argmax(pred_Y,-1)))\n",
        "print(classification_report(np.argmax(valid_Y, -1), \n",
        "                            np.argmax(pred_Y,-1), target_names = class_enc.classes_))"
      ],
      "execution_count": null,
      "outputs": [
        {
          "output_type": "stream",
          "text": [
            "                              precision    recall  f1-score   support\n",
            "\n",
            "                Lung Opacity       0.71      0.71      0.71      4208\n",
            "No Lung Opacity / Not Normal       0.60      0.51      0.55      4208\n",
            "                      Normal       0.75      0.86      0.80      4208\n",
            "\n",
            "                    accuracy                           0.69     12624\n",
            "                   macro avg       0.69      0.69      0.69     12624\n",
            "                weighted avg       0.69      0.69      0.69     12624\n",
            "\n"
          ],
          "name": "stdout"
        },
        {
          "output_type": "display_data",
          "data": {
            "image/png": "[encoded data removed]",
            "text/plain": [
              "<Figure size 288x288 with 1 Axes>"
            ]
          },
          "metadata": {
            "tags": [],
            "needs_background": "light"
          }
        }
      ]
    },
    {
      "cell_type": "markdown",
      "metadata": {
        "id": "TIQ4xwvp66AV"
      },
      "source": [
        "### ROC AUC"
      ]
    },
    {
      "cell_type": "code",
      "metadata": {
        "id": "o22yVE447piN",
        "outputId": "b0b3973d-477a-4d2c-9509-56e0205fb182",
        "colab": {
          "base_uri": "https://localhost:8080/",
          "height": 34
        }
      },
      "source": [
        "type(valid_Y[0])"
      ],
      "execution_count": null,
      "outputs": [
        {
          "output_type": "execute_result",
          "data": {
            "text/plain": [
              "numpy.ndarray"
            ]
          },
          "metadata": {
            "tags": []
          },
          "execution_count": 38
        }
      ]
    },
    {
      "cell_type": "code",
      "metadata": {
        "id": "H8VR0Ow88BcZ",
        "outputId": "24720e1c-b9b6-4dad-f033-62f9d7ca9474",
        "colab": {
          "base_uri": "https://localhost:8080/",
          "height": 34
        }
      },
      "source": [
        "np.argmax(valid_Y,-1)==0"
      ],
      "execution_count": null,
      "outputs": [
        {
          "output_type": "execute_result",
          "data": {
            "text/plain": [
              "array([False,  True, False, ..., False, False,  True])"
            ]
          },
          "metadata": {
            "tags": []
          },
          "execution_count": 39
        }
      ]
    },
    {
      "cell_type": "code",
      "metadata": {
        "id": "-j6VGtG869Q0"
      },
      "source": [
        "# from sklearn.metrics import roc_curve, roc_auc_score\n",
        "# fpr, tpr, _ = roc_curve(np.argmax(valid_Y,-1)==0, pred_Y)\n",
        "# fig, ax1 = plt.subplots(1,1, figsize = (5, 5), dpi = 250)\n",
        "# ax1.plot(fpr, tpr, 'b.-', label = 'DenseNet1 (AUC:%2.2f)' % roc_auc_score(np.argmax(valid_Y,-1)==0, pred_Y))\n",
        "# ax1.plot(fpr, fpr, 'k-', label = 'Random Guessing')\n",
        "# ax1.legend(loc = 4)\n",
        "# ax1.set_xlabel('False Positive Rate')\n",
        "# ax1.set_ylabel('True Positive Rate');\n",
        "# ax1.set_title('Lung Opacity ROC Curve')"
      ],
      "execution_count": null,
      "outputs": []
    },
    {
      "cell_type": "markdown",
      "metadata": {
        "id": "-zONHMPADYtl"
      },
      "source": [
        "## Generate class prediction"
      ]
    },
    {
      "cell_type": "code",
      "metadata": {
        "id": "P2SZXxDLaQ8a"
      },
      "source": [
        "pred_df = get_prediction_map(patients,pred_Y)"
      ],
      "execution_count": null,
      "outputs": []
    },
    {
      "cell_type": "code",
      "metadata": {
        "id": "zMJC1XFXpDn0",
        "outputId": "10e988bd-a2db-4c01-b6f8-986dd59f2320",
        "colab": {
          "base_uri": "https://localhost:8080/",
          "height": 203
        }
      },
      "source": [
        "pred_df.reset_index(inplace=True)\n",
        "# pred_df.columns = ['patientId', 'PNEUMONIA', 'NOT_NORMAL', 'NORMAL']\n",
        "\n",
        "pred_df.rename(columns={'index':'patientId'},inplace=True)\n",
        "pred_df.head()"
      ],
      "execution_count": null,
      "outputs": [
        {
          "output_type": "execute_result",
          "data": {
            "text/html": [
              "<div>\n",
              "<style scoped>\n",
              "    .dataframe tbody tr th:only-of-type {\n",
              "        vertical-align: middle;\n",
              "    }\n",
              "\n",
              "    .dataframe tbody tr th {\n",
              "        vertical-align: top;\n",
              "    }\n",
              "\n",
              "    .dataframe thead th {\n",
              "        text-align: right;\n",
              "    }\n",
              "</style>\n",
              "<table border=\"1\" class=\"dataframe\">\n",
              "  <thead>\n",
              "    <tr style=\"text-align: right;\">\n",
              "      <th></th>\n",
              "      <th>patientId</th>\n",
              "      <th>PNEUMONIA</th>\n",
              "      <th>NOT_NORMAL</th>\n",
              "      <th>NORMAL</th>\n",
              "    </tr>\n",
              "  </thead>\n",
              "  <tbody>\n",
              "    <tr>\n",
              "      <th>0</th>\n",
              "      <td>81cc48ed-0b64-436e-809e-47c3fc35006f</td>\n",
              "      <td>0.060745</td>\n",
              "      <td>0.181098</td>\n",
              "      <td>0.758157</td>\n",
              "    </tr>\n",
              "    <tr>\n",
              "      <th>1</th>\n",
              "      <td>74075cca-a426-4710-92de-e23aa74b76ac</td>\n",
              "      <td>0.783721</td>\n",
              "      <td>0.190050</td>\n",
              "      <td>0.026228</td>\n",
              "    </tr>\n",
              "    <tr>\n",
              "      <th>2</th>\n",
              "      <td>d442daf0-cc56-4c05-8874-94712aa53704</td>\n",
              "      <td>0.313819</td>\n",
              "      <td>0.411228</td>\n",
              "      <td>0.274952</td>\n",
              "    </tr>\n",
              "    <tr>\n",
              "      <th>3</th>\n",
              "      <td>2bbcfa00-cfcb-4761-b3e3-83687fd65d5b</td>\n",
              "      <td>0.690628</td>\n",
              "      <td>0.289071</td>\n",
              "      <td>0.020301</td>\n",
              "    </tr>\n",
              "    <tr>\n",
              "      <th>4</th>\n",
              "      <td>c97fe65e-3d97-4941-ad80-70f745d7d41f</td>\n",
              "      <td>0.032692</td>\n",
              "      <td>0.160328</td>\n",
              "      <td>0.806980</td>\n",
              "    </tr>\n",
              "  </tbody>\n",
              "</table>\n",
              "</div>"
            ],
            "text/plain": [
              "                              patientId  PNEUMONIA  NOT_NORMAL    NORMAL\n",
              "0  81cc48ed-0b64-436e-809e-47c3fc35006f   0.060745    0.181098  0.758157\n",
              "1  74075cca-a426-4710-92de-e23aa74b76ac   0.783721    0.190050  0.026228\n",
              "2  d442daf0-cc56-4c05-8874-94712aa53704   0.313819    0.411228  0.274952\n",
              "3  2bbcfa00-cfcb-4761-b3e3-83687fd65d5b   0.690628    0.289071  0.020301\n",
              "4  c97fe65e-3d97-4941-ad80-70f745d7d41f   0.032692    0.160328  0.806980"
            ]
          },
          "metadata": {
            "tags": []
          },
          "execution_count": 42
        }
      ]
    },
    {
      "cell_type": "code",
      "metadata": {
        "id": "MMCUGE0hzVYo",
        "outputId": "3e427d3d-5218-41b2-fd48-3c3ce6ed71f9",
        "colab": {
          "base_uri": "https://localhost:8080/",
          "height": 209
        }
      },
      "source": [
        "pred_df.info()"
      ],
      "execution_count": null,
      "outputs": [
        {
          "output_type": "stream",
          "text": [
            "<class 'pandas.core.frame.DataFrame'>\n",
            "RangeIndex: 12624 entries, 0 to 12623\n",
            "Data columns (total 4 columns):\n",
            " #   Column      Non-Null Count  Dtype  \n",
            "---  ------      --------------  -----  \n",
            " 0   patientId   12624 non-null  object \n",
            " 1   PNEUMONIA   12624 non-null  float64\n",
            " 2   NOT_NORMAL  12624 non-null  float64\n",
            " 3   NORMAL      12624 non-null  float64\n",
            "dtypes: float64(3), object(1)\n",
            "memory usage: 394.6+ KB\n"
          ],
          "name": "stdout"
        }
      ]
    },
    {
      "cell_type": "code",
      "metadata": {
        "id": "j9b8lb7YVMhH"
      },
      "source": [
        "pred_dump_file = MODEL_NAME + '/class_prediction.csv'\n",
        "if (os.path.isfile(pred_dump_file)):\n",
        "  os.remove(pred_dump_file)"
      ],
      "execution_count": null,
      "outputs": []
    },
    {
      "cell_type": "code",
      "metadata": {
        "id": "YeZC3ixOprbZ",
        "outputId": "b42e9d37-149b-421b-9bc4-e74b14035522",
        "colab": {
          "base_uri": "https://localhost:8080/",
          "height": 34
        }
      },
      "source": [
        "#Dump the prediction as it is very time consuming task.\n",
        "\n",
        "import pandas as pd\n",
        "# pred_df = pd.DataFrame()\n",
        "if (os.path.isfile(pred_dump_file)):\n",
        "  print(\"Loading prediction:\",pred_dump_file)\n",
        "  pred_df = pd.read_csv(pred_dump_file)\n",
        "else:\n",
        "  print(\"Dumping prediction:\",pred_dump_file)\n",
        "  pred_df.to_csv(pred_dump_file,index=False)"
      ],
      "execution_count": null,
      "outputs": [
        {
          "output_type": "stream",
          "text": [
            "Dumping prediction: Option-1.DenseNet121/class_prediction.csv\n"
          ],
          "name": "stdout"
        }
      ]
    },
    {
      "cell_type": "code",
      "metadata": {
        "id": "6V8cufe4N338"
      },
      "source": [
        "# pred_df.drop(pred_df.columns[0],inplace=True,axis=1)"
      ],
      "execution_count": null,
      "outputs": []
    },
    {
      "cell_type": "code",
      "metadata": {
        "id": "k95nunBlcS4v",
        "outputId": "903780e4-475a-47f8-e247-f9144972a517",
        "colab": {
          "base_uri": "https://localhost:8080/",
          "height": 203
        }
      },
      "source": [
        "merged_pred_meta_df = get_pred_merged_meta_data(pred_df,full_df)\n",
        "merged_pred_meta_df.head()"
      ],
      "execution_count": null,
      "outputs": [
        {
          "output_type": "execute_result",
          "data": {
            "text/html": [
              "<div>\n",
              "<style scoped>\n",
              "    .dataframe tbody tr th:only-of-type {\n",
              "        vertical-align: middle;\n",
              "    }\n",
              "\n",
              "    .dataframe tbody tr th {\n",
              "        vertical-align: top;\n",
              "    }\n",
              "\n",
              "    .dataframe thead th {\n",
              "        text-align: right;\n",
              "    }\n",
              "</style>\n",
              "<table border=\"1\" class=\"dataframe\">\n",
              "  <thead>\n",
              "    <tr style=\"text-align: right;\">\n",
              "      <th></th>\n",
              "      <th>PNEUMONIA</th>\n",
              "      <th>NOT_NORMAL</th>\n",
              "      <th>NORMAL</th>\n",
              "      <th>PatientAge</th>\n",
              "      <th>PatientSex</th>\n",
              "      <th>ViewPosition</th>\n",
              "      <th>Target</th>\n",
              "    </tr>\n",
              "  </thead>\n",
              "  <tbody>\n",
              "    <tr>\n",
              "      <th>81cc48ed-0b64-436e-809e-47c3fc35006f</th>\n",
              "      <td>0.060745</td>\n",
              "      <td>0.181098</td>\n",
              "      <td>0.758157</td>\n",
              "      <td>52.0</td>\n",
              "      <td>1.0</td>\n",
              "      <td>0.0</td>\n",
              "      <td>0.0</td>\n",
              "    </tr>\n",
              "    <tr>\n",
              "      <th>74075cca-a426-4710-92de-e23aa74b76ac</th>\n",
              "      <td>0.783721</td>\n",
              "      <td>0.190050</td>\n",
              "      <td>0.026228</td>\n",
              "      <td>50.0</td>\n",
              "      <td>1.0</td>\n",
              "      <td>0.0</td>\n",
              "      <td>1.0</td>\n",
              "    </tr>\n",
              "    <tr>\n",
              "      <th>d442daf0-cc56-4c05-8874-94712aa53704</th>\n",
              "      <td>0.313819</td>\n",
              "      <td>0.411228</td>\n",
              "      <td>0.274952</td>\n",
              "      <td>58.0</td>\n",
              "      <td>1.0</td>\n",
              "      <td>1.0</td>\n",
              "      <td>0.0</td>\n",
              "    </tr>\n",
              "    <tr>\n",
              "      <th>2bbcfa00-cfcb-4761-b3e3-83687fd65d5b</th>\n",
              "      <td>0.690628</td>\n",
              "      <td>0.289071</td>\n",
              "      <td>0.020301</td>\n",
              "      <td>80.0</td>\n",
              "      <td>0.0</td>\n",
              "      <td>1.0</td>\n",
              "      <td>1.0</td>\n",
              "    </tr>\n",
              "    <tr>\n",
              "      <th>c97fe65e-3d97-4941-ad80-70f745d7d41f</th>\n",
              "      <td>0.032692</td>\n",
              "      <td>0.160328</td>\n",
              "      <td>0.806980</td>\n",
              "      <td>35.0</td>\n",
              "      <td>1.0</td>\n",
              "      <td>1.0</td>\n",
              "      <td>0.0</td>\n",
              "    </tr>\n",
              "  </tbody>\n",
              "</table>\n",
              "</div>"
            ],
            "text/plain": [
              "                                      PNEUMONIA  ...  Target\n",
              "81cc48ed-0b64-436e-809e-47c3fc35006f   0.060745  ...     0.0\n",
              "74075cca-a426-4710-92de-e23aa74b76ac   0.783721  ...     1.0\n",
              "d442daf0-cc56-4c05-8874-94712aa53704   0.313819  ...     0.0\n",
              "2bbcfa00-cfcb-4761-b3e3-83687fd65d5b   0.690628  ...     1.0\n",
              "c97fe65e-3d97-4941-ad80-70f745d7d41f   0.032692  ...     0.0\n",
              "\n",
              "[5 rows x 7 columns]"
            ]
          },
          "metadata": {
            "tags": []
          },
          "execution_count": 47
        }
      ]
    },
    {
      "cell_type": "code",
      "metadata": {
        "id": "M0rL6YAEgeXp",
        "outputId": "dfd4e8f9-6c4f-4ee4-a4f9-3520fddfff96",
        "colab": {
          "base_uri": "https://localhost:8080/"
        }
      },
      "source": [
        "merged_pred_meta_df.reset_index(inplace=True)\n",
        "merged_pred_meta_df.rename(columns={'index':'patientId'},inplace=True)\n",
        "merged_pred_meta_df.head()"
      ],
      "execution_count": null,
      "outputs": [
        {
          "output_type": "execute_result",
          "data": {
            "text/html": [
              "<div>\n",
              "<style scoped>\n",
              "    .dataframe tbody tr th:only-of-type {\n",
              "        vertical-align: middle;\n",
              "    }\n",
              "\n",
              "    .dataframe tbody tr th {\n",
              "        vertical-align: top;\n",
              "    }\n",
              "\n",
              "    .dataframe thead th {\n",
              "        text-align: right;\n",
              "    }\n",
              "</style>\n",
              "<table border=\"1\" class=\"dataframe\">\n",
              "  <thead>\n",
              "    <tr style=\"text-align: right;\">\n",
              "      <th></th>\n",
              "      <th>patientId</th>\n",
              "      <th>PNEUMONIA</th>\n",
              "      <th>NOT_NORMAL</th>\n",
              "      <th>NORMAL</th>\n",
              "      <th>PatientAge</th>\n",
              "      <th>PatientSex</th>\n",
              "      <th>ViewPosition</th>\n",
              "      <th>Target</th>\n",
              "    </tr>\n",
              "  </thead>\n",
              "  <tbody>\n",
              "    <tr>\n",
              "      <th>0</th>\n",
              "      <td>81cc48ed-0b64-436e-809e-47c3fc35006f</td>\n",
              "      <td>0.060745</td>\n",
              "      <td>0.181098</td>\n",
              "      <td>0.758157</td>\n",
              "      <td>52.0</td>\n",
              "      <td>1.0</td>\n",
              "      <td>0.0</td>\n",
              "      <td>0.0</td>\n",
              "    </tr>\n",
              "    <tr>\n",
              "      <th>1</th>\n",
              "      <td>74075cca-a426-4710-92de-e23aa74b76ac</td>\n",
              "      <td>0.783721</td>\n",
              "      <td>0.190050</td>\n",
              "      <td>0.026228</td>\n",
              "      <td>50.0</td>\n",
              "      <td>1.0</td>\n",
              "      <td>0.0</td>\n",
              "      <td>1.0</td>\n",
              "    </tr>\n",
              "    <tr>\n",
              "      <th>2</th>\n",
              "      <td>d442daf0-cc56-4c05-8874-94712aa53704</td>\n",
              "      <td>0.313819</td>\n",
              "      <td>0.411228</td>\n",
              "      <td>0.274952</td>\n",
              "      <td>58.0</td>\n",
              "      <td>1.0</td>\n",
              "      <td>1.0</td>\n",
              "      <td>0.0</td>\n",
              "    </tr>\n",
              "    <tr>\n",
              "      <th>3</th>\n",
              "      <td>2bbcfa00-cfcb-4761-b3e3-83687fd65d5b</td>\n",
              "      <td>0.690628</td>\n",
              "      <td>0.289071</td>\n",
              "      <td>0.020301</td>\n",
              "      <td>80.0</td>\n",
              "      <td>0.0</td>\n",
              "      <td>1.0</td>\n",
              "      <td>1.0</td>\n",
              "    </tr>\n",
              "    <tr>\n",
              "      <th>4</th>\n",
              "      <td>c97fe65e-3d97-4941-ad80-70f745d7d41f</td>\n",
              "      <td>0.032692</td>\n",
              "      <td>0.160328</td>\n",
              "      <td>0.806980</td>\n",
              "      <td>35.0</td>\n",
              "      <td>1.0</td>\n",
              "      <td>1.0</td>\n",
              "      <td>0.0</td>\n",
              "    </tr>\n",
              "  </tbody>\n",
              "</table>\n",
              "</div>"
            ],
            "text/plain": [
              "                              patientId  PNEUMONIA  ...  ViewPosition  Target\n",
              "0  81cc48ed-0b64-436e-809e-47c3fc35006f   0.060745  ...           0.0     0.0\n",
              "1  74075cca-a426-4710-92de-e23aa74b76ac   0.783721  ...           0.0     1.0\n",
              "2  d442daf0-cc56-4c05-8874-94712aa53704   0.313819  ...           1.0     0.0\n",
              "3  2bbcfa00-cfcb-4761-b3e3-83687fd65d5b   0.690628  ...           1.0     1.0\n",
              "4  c97fe65e-3d97-4941-ad80-70f745d7d41f   0.032692  ...           1.0     0.0\n",
              "\n",
              "[5 rows x 8 columns]"
            ]
          },
          "metadata": {
            "tags": []
          },
          "execution_count": 48
        }
      ]
    },
    {
      "cell_type": "code",
      "metadata": {
        "id": "i7adCsuzghyL",
        "outputId": "9fd95242-9bfa-4885-e1d1-886388fbcf08",
        "colab": {
          "base_uri": "https://localhost:8080/"
        }
      },
      "source": [
        "merged_pred_meta_df[merged_pred_meta_df.Target==1].sample(5)"
      ],
      "execution_count": null,
      "outputs": [
        {
          "output_type": "execute_result",
          "data": {
            "text/html": [
              "<div>\n",
              "<style scoped>\n",
              "    .dataframe tbody tr th:only-of-type {\n",
              "        vertical-align: middle;\n",
              "    }\n",
              "\n",
              "    .dataframe tbody tr th {\n",
              "        vertical-align: top;\n",
              "    }\n",
              "\n",
              "    .dataframe thead th {\n",
              "        text-align: right;\n",
              "    }\n",
              "</style>\n",
              "<table border=\"1\" class=\"dataframe\">\n",
              "  <thead>\n",
              "    <tr style=\"text-align: right;\">\n",
              "      <th></th>\n",
              "      <th>patientId</th>\n",
              "      <th>PNEUMONIA</th>\n",
              "      <th>NOT_NORMAL</th>\n",
              "      <th>NORMAL</th>\n",
              "      <th>PatientAge</th>\n",
              "      <th>PatientSex</th>\n",
              "      <th>ViewPosition</th>\n",
              "      <th>Target</th>\n",
              "    </tr>\n",
              "  </thead>\n",
              "  <tbody>\n",
              "    <tr>\n",
              "      <th>5175</th>\n",
              "      <td>9131bb85-6251-4f0e-9ccb-4a4189f84087</td>\n",
              "      <td>0.650082</td>\n",
              "      <td>0.328029</td>\n",
              "      <td>0.021888</td>\n",
              "      <td>26.0</td>\n",
              "      <td>1.0</td>\n",
              "      <td>1.0</td>\n",
              "      <td>1.0</td>\n",
              "    </tr>\n",
              "    <tr>\n",
              "      <th>6069</th>\n",
              "      <td>830029b1-3429-48f3-b13d-c7c611865d6e</td>\n",
              "      <td>0.646471</td>\n",
              "      <td>0.216838</td>\n",
              "      <td>0.136691</td>\n",
              "      <td>6.0</td>\n",
              "      <td>1.0</td>\n",
              "      <td>1.0</td>\n",
              "      <td>1.0</td>\n",
              "    </tr>\n",
              "    <tr>\n",
              "      <th>12297</th>\n",
              "      <td>aef45568-9947-4c75-83d8-3643210d9c3b</td>\n",
              "      <td>0.509257</td>\n",
              "      <td>0.474935</td>\n",
              "      <td>0.015808</td>\n",
              "      <td>53.0</td>\n",
              "      <td>1.0</td>\n",
              "      <td>1.0</td>\n",
              "      <td>1.0</td>\n",
              "    </tr>\n",
              "    <tr>\n",
              "      <th>3382</th>\n",
              "      <td>f02e36df-ac4d-43f1-8001-3e0494145b0a</td>\n",
              "      <td>0.970737</td>\n",
              "      <td>0.029230</td>\n",
              "      <td>0.000033</td>\n",
              "      <td>24.0</td>\n",
              "      <td>1.0</td>\n",
              "      <td>1.0</td>\n",
              "      <td>1.0</td>\n",
              "    </tr>\n",
              "    <tr>\n",
              "      <th>1219</th>\n",
              "      <td>79fdfa10-9752-4ab8-a1ca-7f33037dd5aa</td>\n",
              "      <td>0.752080</td>\n",
              "      <td>0.229829</td>\n",
              "      <td>0.018092</td>\n",
              "      <td>19.0</td>\n",
              "      <td>0.0</td>\n",
              "      <td>1.0</td>\n",
              "      <td>1.0</td>\n",
              "    </tr>\n",
              "  </tbody>\n",
              "</table>\n",
              "</div>"
            ],
            "text/plain": [
              "                                  patientId  PNEUMONIA  ...  ViewPosition  Target\n",
              "5175   9131bb85-6251-4f0e-9ccb-4a4189f84087   0.650082  ...           1.0     1.0\n",
              "6069   830029b1-3429-48f3-b13d-c7c611865d6e   0.646471  ...           1.0     1.0\n",
              "12297  aef45568-9947-4c75-83d8-3643210d9c3b   0.509257  ...           1.0     1.0\n",
              "3382   f02e36df-ac4d-43f1-8001-3e0494145b0a   0.970737  ...           1.0     1.0\n",
              "1219   79fdfa10-9752-4ab8-a1ca-7f33037dd5aa   0.752080  ...           1.0     1.0\n",
              "\n",
              "[5 rows x 8 columns]"
            ]
          },
          "metadata": {
            "tags": []
          },
          "execution_count": 49
        }
      ]
    },
    {
      "cell_type": "code",
      "metadata": {
        "id": "8fS3QANFgkz_",
        "outputId": "6274d67a-6c26-404e-a934-56ba2db77ab7",
        "colab": {
          "base_uri": "https://localhost:8080/",
          "height": 54
        }
      },
      "source": [
        "import matplotlib.pyplot as plt\n",
        "import numpy as np\n",
        "unique_values, count = np.unique(merged_pred_meta_df['Target'], return_counts=True)\n",
        "\n",
        "plt.pie(count, labels = ['0-No Pneumonia', '1-Pneumonia'],\n",
        "          autopct='%1.1f%%', startangle=90)\n",
        "plt.show()\n",
        "#Need to balance the data here."
      ],
      "execution_count": null,
      "outputs": [
        {
          "output_type": "display_data",
          "data": {
            "image/png": "[encoded data removed]",
            "text/plain": [
              "<Figure size 432x288 with 1 Axes>"
            ]
          },
          "metadata": {
            "tags": []
          }
        }
      ]
    },
    {
      "cell_type": "code",
      "metadata": {
        "id": "5FJd_jgMgriX"
      },
      "source": [
        "#Split the data into train & valid\n",
        "y = merged_pred_meta_df['Target'].to_numpy()\n",
        "X = merged_pred_meta_df[merged_pred_meta_df.columns[1:7]]"
      ],
      "execution_count": null,
      "outputs": []
    },
    {
      "cell_type": "code",
      "metadata": {
        "id": "F-JzQDWZgse_",
        "outputId": "869a03d3-8fac-4c0d-d66a-440b0accc236",
        "colab": {
          "base_uri": "https://localhost:8080/"
        }
      },
      "source": [
        "X.head()"
      ],
      "execution_count": null,
      "outputs": [
        {
          "output_type": "execute_result",
          "data": {
            "text/html": [
              "<div>\n",
              "<style scoped>\n",
              "    .dataframe tbody tr th:only-of-type {\n",
              "        vertical-align: middle;\n",
              "    }\n",
              "\n",
              "    .dataframe tbody tr th {\n",
              "        vertical-align: top;\n",
              "    }\n",
              "\n",
              "    .dataframe thead th {\n",
              "        text-align: right;\n",
              "    }\n",
              "</style>\n",
              "<table border=\"1\" class=\"dataframe\">\n",
              "  <thead>\n",
              "    <tr style=\"text-align: right;\">\n",
              "      <th></th>\n",
              "      <th>PNEUMONIA</th>\n",
              "      <th>NOT_NORMAL</th>\n",
              "      <th>NORMAL</th>\n",
              "      <th>PatientAge</th>\n",
              "      <th>PatientSex</th>\n",
              "      <th>ViewPosition</th>\n",
              "    </tr>\n",
              "  </thead>\n",
              "  <tbody>\n",
              "    <tr>\n",
              "      <th>0</th>\n",
              "      <td>0.060745</td>\n",
              "      <td>0.181098</td>\n",
              "      <td>0.758157</td>\n",
              "      <td>52.0</td>\n",
              "      <td>1.0</td>\n",
              "      <td>0.0</td>\n",
              "    </tr>\n",
              "    <tr>\n",
              "      <th>1</th>\n",
              "      <td>0.783721</td>\n",
              "      <td>0.190050</td>\n",
              "      <td>0.026228</td>\n",
              "      <td>50.0</td>\n",
              "      <td>1.0</td>\n",
              "      <td>0.0</td>\n",
              "    </tr>\n",
              "    <tr>\n",
              "      <th>2</th>\n",
              "      <td>0.313819</td>\n",
              "      <td>0.411228</td>\n",
              "      <td>0.274952</td>\n",
              "      <td>58.0</td>\n",
              "      <td>1.0</td>\n",
              "      <td>1.0</td>\n",
              "    </tr>\n",
              "    <tr>\n",
              "      <th>3</th>\n",
              "      <td>0.690628</td>\n",
              "      <td>0.289071</td>\n",
              "      <td>0.020301</td>\n",
              "      <td>80.0</td>\n",
              "      <td>0.0</td>\n",
              "      <td>1.0</td>\n",
              "    </tr>\n",
              "    <tr>\n",
              "      <th>4</th>\n",
              "      <td>0.032692</td>\n",
              "      <td>0.160328</td>\n",
              "      <td>0.806980</td>\n",
              "      <td>35.0</td>\n",
              "      <td>1.0</td>\n",
              "      <td>1.0</td>\n",
              "    </tr>\n",
              "  </tbody>\n",
              "</table>\n",
              "</div>"
            ],
            "text/plain": [
              "   PNEUMONIA  NOT_NORMAL    NORMAL  PatientAge  PatientSex  ViewPosition\n",
              "0   0.060745    0.181098  0.758157        52.0         1.0           0.0\n",
              "1   0.783721    0.190050  0.026228        50.0         1.0           0.0\n",
              "2   0.313819    0.411228  0.274952        58.0         1.0           1.0\n",
              "3   0.690628    0.289071  0.020301        80.0         0.0           1.0\n",
              "4   0.032692    0.160328  0.806980        35.0         1.0           1.0"
            ]
          },
          "metadata": {
            "tags": []
          },
          "execution_count": 52
        }
      ]
    },
    {
      "cell_type": "code",
      "metadata": {
        "id": "A6tMdhPygxWY"
      },
      "source": [
        "from sklearn.model_selection import train_test_split\n",
        "X_train, X_test, y_train, y_test = train_test_split(X, y, test_size=0.10, random_state=42)"
      ],
      "execution_count": null,
      "outputs": []
    },
    {
      "cell_type": "markdown",
      "metadata": {
        "id": "eijJdoREf0m1"
      },
      "source": [
        "## FFNN model"
      ]
    },
    {
      "cell_type": "code",
      "metadata": {
        "id": "8toeJToDg4Fn"
      },
      "source": [
        "#Build neural netwrok\n",
        "\n",
        "from tensorflow.keras.layers import  Reshape\n",
        "def add_layer(model):\n",
        "  kinit ='he_normal' #tf.keras.initializers.he_normal()\n",
        "  actv = 'relu' #activation.relu\n",
        "  # model.add(Reshape((6,),input_shape=(32,32,)))\n",
        "  # #Add batch normalization to avoid NAN in training loss\n",
        "  # model.add(kl.normalization.BatchNormalization())\n",
        "  #Add input layer -- \n",
        "  model.add(Dense(6,input_dim= 6,activation=actv,kernel_initializer=kinit))\n",
        "  model.add(BatchNormalization())\n",
        "  #How many hidden layer? No clear rule, trial & error? Literature says, it 3 hidden layer sufficient\n",
        "  #Add hidden layer -1\n",
        "  model.add(Dense(16,activation=actv,kernel_initializer=kinit))\n",
        "  model.add(BatchNormalization())\n",
        "  #Add hidden layer -2\n",
        "  model.add(Dense(8,activation=actv,kernel_initializer=kinit))\n",
        "  model.add(BatchNormalization())\n",
        "  #Add hidden layer -3\n",
        "  model.add(Dense(4,activation=actv,kernel_initializer=kinit))\n",
        "  model.add(BatchNormalization())\n",
        "\n",
        "\n",
        "  #Add output layer -- number of output neoron 1(as the number of output is 10)\n",
        "  #Add hidden layer -1\n",
        "  model.add(Dense(1,activation='sigmoid',kernel_initializer=kinit))\n",
        "  \n",
        "nn_model = Sequential()\n",
        "add_layer(nn_model)"
      ],
      "execution_count": null,
      "outputs": []
    },
    {
      "cell_type": "code",
      "metadata": {
        "id": "-Y4QjrKJg5GX",
        "outputId": "998e9273-e142-4782-da4f-3b3022ba8d25",
        "colab": {
          "base_uri": "https://localhost:8080/",
          "height": 1000
        }
      },
      "source": [
        "def fit_model(opt,model,epoch=60,verbo=1,batchsize=128):\n",
        "  model.compile(optimizer = opt, loss = 'binary_crossentropy', metrics = ['accuracy'])\n",
        "  history = model.fit(X_train, y_train, validation_data=(X_test,y_test),batch_size=batchsize, epochs=epoch, verbose=verbo)\n",
        "  return history\n",
        "opt = Adam(lr = LEARN_RATE)\n",
        "history = fit_model(opt,nn_model)"
      ],
      "execution_count": null,
      "outputs": [
        {
          "output_type": "stream",
          "text": [
            "Epoch 1/60\n",
            "89/89 [==============================] - 1s 10ms/step - loss: 0.7654 - accuracy: 0.5827 - val_loss: 0.7537 - val_accuracy: 0.6295\n",
            "Epoch 2/60\n",
            "89/89 [==============================] - 1s 7ms/step - loss: 0.7238 - accuracy: 0.6057 - val_loss: 0.7959 - val_accuracy: 0.5875\n",
            "Epoch 3/60\n",
            "89/89 [==============================] - 1s 8ms/step - loss: 0.6901 - accuracy: 0.6352 - val_loss: 0.8347 - val_accuracy: 0.5764\n",
            "Epoch 4/60\n",
            "89/89 [==============================] - 1s 8ms/step - loss: 0.6602 - accuracy: 0.6734 - val_loss: 0.8545 - val_accuracy: 0.5661\n",
            "Epoch 5/60\n",
            "89/89 [==============================] - 1s 7ms/step - loss: 0.6345 - accuracy: 0.7023 - val_loss: 0.7972 - val_accuracy: 0.5352\n",
            "Epoch 6/60\n",
            "89/89 [==============================] - 1s 8ms/step - loss: 0.6145 - accuracy: 0.7153 - val_loss: 0.6990 - val_accuracy: 0.5922\n",
            "Epoch 7/60\n",
            "89/89 [==============================] - 1s 7ms/step - loss: 0.5949 - accuracy: 0.7173 - val_loss: 0.6280 - val_accuracy: 0.7039\n",
            "Epoch 8/60\n",
            "89/89 [==============================] - 1s 7ms/step - loss: 0.5781 - accuracy: 0.7276 - val_loss: 0.5994 - val_accuracy: 0.7308\n",
            "Epoch 9/60\n",
            "89/89 [==============================] - 1s 8ms/step - loss: 0.5623 - accuracy: 0.7361 - val_loss: 0.5651 - val_accuracy: 0.7403\n",
            "Epoch 10/60\n",
            "89/89 [==============================] - 1s 7ms/step - loss: 0.5491 - accuracy: 0.7434 - val_loss: 0.5270 - val_accuracy: 0.7530\n",
            "Epoch 11/60\n",
            "89/89 [==============================] - 1s 7ms/step - loss: 0.5338 - accuracy: 0.7501 - val_loss: 0.5106 - val_accuracy: 0.7561\n",
            "Epoch 12/60\n",
            "89/89 [==============================] - 1s 7ms/step - loss: 0.5226 - accuracy: 0.7546 - val_loss: 0.4996 - val_accuracy: 0.7664\n",
            "Epoch 13/60\n",
            "89/89 [==============================] - 1s 7ms/step - loss: 0.5127 - accuracy: 0.7586 - val_loss: 0.4951 - val_accuracy: 0.7585\n",
            "Epoch 14/60\n",
            "89/89 [==============================] - 1s 7ms/step - loss: 0.4998 - accuracy: 0.7658 - val_loss: 0.4789 - val_accuracy: 0.7743\n",
            "Epoch 15/60\n",
            "89/89 [==============================] - 1s 8ms/step - loss: 0.4902 - accuracy: 0.7674 - val_loss: 0.4742 - val_accuracy: 0.7815\n",
            "Epoch 16/60\n",
            "89/89 [==============================] - 1s 7ms/step - loss: 0.4805 - accuracy: 0.7718 - val_loss: 0.4655 - val_accuracy: 0.7838\n",
            "Epoch 17/60\n",
            "89/89 [==============================] - 1s 8ms/step - loss: 0.4781 - accuracy: 0.7737 - val_loss: 0.4545 - val_accuracy: 0.7831\n",
            "Epoch 18/60\n",
            "89/89 [==============================] - 1s 8ms/step - loss: 0.4710 - accuracy: 0.7800 - val_loss: 0.4536 - val_accuracy: 0.7846\n",
            "Epoch 19/60\n",
            "89/89 [==============================] - 1s 7ms/step - loss: 0.4668 - accuracy: 0.7814 - val_loss: 0.4509 - val_accuracy: 0.7862\n",
            "Epoch 20/60\n",
            "89/89 [==============================] - 1s 8ms/step - loss: 0.4618 - accuracy: 0.7851 - val_loss: 0.4562 - val_accuracy: 0.7838\n",
            "Epoch 21/60\n",
            "89/89 [==============================] - 1s 8ms/step - loss: 0.4569 - accuracy: 0.7888 - val_loss: 0.4538 - val_accuracy: 0.7870\n",
            "Epoch 22/60\n",
            "89/89 [==============================] - 1s 9ms/step - loss: 0.4537 - accuracy: 0.7930 - val_loss: 0.4456 - val_accuracy: 0.7886\n",
            "Epoch 23/60\n",
            "89/89 [==============================] - 1s 8ms/step - loss: 0.4516 - accuracy: 0.7898 - val_loss: 0.4391 - val_accuracy: 0.7941\n",
            "Epoch 24/60\n",
            "89/89 [==============================] - 1s 9ms/step - loss: 0.4488 - accuracy: 0.7941 - val_loss: 0.4380 - val_accuracy: 0.7965\n",
            "Epoch 25/60\n",
            "89/89 [==============================] - 1s 8ms/step - loss: 0.4459 - accuracy: 0.7932 - val_loss: 0.4402 - val_accuracy: 0.7933\n",
            "Epoch 26/60\n",
            "89/89 [==============================] - 1s 8ms/step - loss: 0.4442 - accuracy: 0.7941 - val_loss: 0.4407 - val_accuracy: 0.7933\n",
            "Epoch 27/60\n",
            "89/89 [==============================] - 1s 7ms/step - loss: 0.4411 - accuracy: 0.7983 - val_loss: 0.4514 - val_accuracy: 0.7870\n",
            "Epoch 28/60\n",
            "89/89 [==============================] - 1s 7ms/step - loss: 0.4420 - accuracy: 0.7963 - val_loss: 0.4369 - val_accuracy: 0.7965\n",
            "Epoch 29/60\n",
            "89/89 [==============================] - 1s 9ms/step - loss: 0.4395 - accuracy: 0.7954 - val_loss: 0.4426 - val_accuracy: 0.7973\n",
            "Epoch 30/60\n",
            "89/89 [==============================] - 1s 8ms/step - loss: 0.4373 - accuracy: 0.7980 - val_loss: 0.4377 - val_accuracy: 0.7973\n",
            "Epoch 31/60\n",
            "89/89 [==============================] - 1s 8ms/step - loss: 0.4368 - accuracy: 0.7962 - val_loss: 0.4303 - val_accuracy: 0.7918\n",
            "Epoch 32/60\n",
            "89/89 [==============================] - 1s 7ms/step - loss: 0.4361 - accuracy: 0.7965 - val_loss: 0.4315 - val_accuracy: 0.7926\n",
            "Epoch 33/60\n",
            "89/89 [==============================] - 1s 8ms/step - loss: 0.4346 - accuracy: 0.7967 - val_loss: 0.4333 - val_accuracy: 0.7957\n",
            "Epoch 34/60\n",
            "89/89 [==============================] - 1s 8ms/step - loss: 0.4358 - accuracy: 0.7961 - val_loss: 0.4364 - val_accuracy: 0.7981\n",
            "Epoch 35/60\n",
            "89/89 [==============================] - 1s 9ms/step - loss: 0.4343 - accuracy: 0.7978 - val_loss: 0.4289 - val_accuracy: 0.7941\n",
            "Epoch 36/60\n",
            "89/89 [==============================] - 1s 7ms/step - loss: 0.4324 - accuracy: 0.8000 - val_loss: 0.4302 - val_accuracy: 0.7949\n",
            "Epoch 37/60\n",
            "89/89 [==============================] - 1s 7ms/step - loss: 0.4321 - accuracy: 0.8024 - val_loss: 0.4349 - val_accuracy: 0.7957\n",
            "Epoch 38/60\n",
            "89/89 [==============================] - 1s 7ms/step - loss: 0.4333 - accuracy: 0.7965 - val_loss: 0.4293 - val_accuracy: 0.7933\n",
            "Epoch 39/60\n",
            "89/89 [==============================] - 1s 8ms/step - loss: 0.4290 - accuracy: 0.8017 - val_loss: 0.4322 - val_accuracy: 0.7941\n",
            "Epoch 40/60\n",
            "89/89 [==============================] - 1s 8ms/step - loss: 0.4295 - accuracy: 0.8014 - val_loss: 0.4265 - val_accuracy: 0.7941\n",
            "Epoch 41/60\n",
            "89/89 [==============================] - 1s 7ms/step - loss: 0.4291 - accuracy: 0.8007 - val_loss: 0.4274 - val_accuracy: 0.7949\n",
            "Epoch 42/60\n",
            "89/89 [==============================] - 1s 9ms/step - loss: 0.4275 - accuracy: 0.8000 - val_loss: 0.4285 - val_accuracy: 0.7973\n",
            "Epoch 43/60\n",
            "89/89 [==============================] - 1s 9ms/step - loss: 0.4268 - accuracy: 0.8022 - val_loss: 0.4275 - val_accuracy: 0.7965\n",
            "Epoch 44/60\n",
            "89/89 [==============================] - 1s 9ms/step - loss: 0.4264 - accuracy: 0.8032 - val_loss: 0.4273 - val_accuracy: 0.7989\n",
            "Epoch 45/60\n",
            "89/89 [==============================] - 1s 9ms/step - loss: 0.4271 - accuracy: 0.8020 - val_loss: 0.4310 - val_accuracy: 0.7989\n",
            "Epoch 46/60\n",
            "89/89 [==============================] - 1s 7ms/step - loss: 0.4267 - accuracy: 0.8024 - val_loss: 0.4234 - val_accuracy: 0.8005\n",
            "Epoch 47/60\n",
            "89/89 [==============================] - 1s 9ms/step - loss: 0.4263 - accuracy: 0.8027 - val_loss: 0.4241 - val_accuracy: 0.7965\n",
            "Epoch 48/60\n",
            "89/89 [==============================] - 1s 9ms/step - loss: 0.4249 - accuracy: 0.8021 - val_loss: 0.4246 - val_accuracy: 0.8005\n",
            "Epoch 49/60\n",
            "89/89 [==============================] - 1s 9ms/step - loss: 0.4251 - accuracy: 0.8026 - val_loss: 0.4236 - val_accuracy: 0.7957\n",
            "Epoch 50/60\n",
            "89/89 [==============================] - 1s 9ms/step - loss: 0.4260 - accuracy: 0.8019 - val_loss: 0.4228 - val_accuracy: 0.7965\n",
            "Epoch 51/60\n",
            "89/89 [==============================] - 1s 8ms/step - loss: 0.4252 - accuracy: 0.8005 - val_loss: 0.4244 - val_accuracy: 0.8005\n",
            "Epoch 52/60\n",
            "89/89 [==============================] - 1s 8ms/step - loss: 0.4246 - accuracy: 0.8022 - val_loss: 0.4308 - val_accuracy: 0.8013\n",
            "Epoch 53/60\n",
            "89/89 [==============================] - 1s 8ms/step - loss: 0.4248 - accuracy: 0.8002 - val_loss: 0.4233 - val_accuracy: 0.7981\n",
            "Epoch 54/60\n",
            "89/89 [==============================] - 1s 7ms/step - loss: 0.4251 - accuracy: 0.8032 - val_loss: 0.4223 - val_accuracy: 0.7965\n",
            "Epoch 55/60\n",
            "89/89 [==============================] - 1s 9ms/step - loss: 0.4249 - accuracy: 0.8015 - val_loss: 0.4216 - val_accuracy: 0.8005\n",
            "Epoch 56/60\n",
            "89/89 [==============================] - 1s 7ms/step - loss: 0.4240 - accuracy: 0.8018 - val_loss: 0.4218 - val_accuracy: 0.7989\n",
            "Epoch 57/60\n",
            "89/89 [==============================] - 1s 8ms/step - loss: 0.4243 - accuracy: 0.8036 - val_loss: 0.4225 - val_accuracy: 0.8013\n",
            "Epoch 58/60\n",
            "89/89 [==============================] - 1s 8ms/step - loss: 0.4233 - accuracy: 0.8023 - val_loss: 0.4247 - val_accuracy: 0.7973\n",
            "Epoch 59/60\n",
            "89/89 [==============================] - 1s 7ms/step - loss: 0.4226 - accuracy: 0.8020 - val_loss: 0.4214 - val_accuracy: 0.7973\n",
            "Epoch 60/60\n",
            "89/89 [==============================] - 1s 7ms/step - loss: 0.4225 - accuracy: 0.8039 - val_loss: 0.4221 - val_accuracy: 0.7965\n"
          ],
          "name": "stdout"
        }
      ]
    },
    {
      "cell_type": "code",
      "metadata": {
        "id": "Xt0uxoAqh4g1"
      },
      "source": [
        "HISTORY_FILE = MODEL_NAME+\"/\" +\"history_FFNN.csv\"\n",
        "his_ffnn = saveHistory(history,HISTORY_FILE)"
      ],
      "execution_count": null,
      "outputs": []
    },
    {
      "cell_type": "markdown",
      "metadata": {
        "id": "nQILEwofEBon"
      },
      "source": [
        "## Classification Performance(Recall)"
      ]
    },
    {
      "cell_type": "code",
      "metadata": {
        "id": "wtzHlRxbhdLw",
        "outputId": "40276c15-3ae7-4970-d83b-6a175a2d3b77",
        "colab": {
          "base_uri": "https://localhost:8080/"
        }
      },
      "source": [
        "plot_his(his_ffnn,'accuracy')"
      ],
      "execution_count": null,
      "outputs": [
        {
          "output_type": "display_data",
          "data": {
            "image/png": "[encoded data removed]",
            "text/plain": [
              "<Figure size 1080x432 with 2 Axes>"
            ]
          },
          "metadata": {
            "tags": [],
            "needs_background": "light"
          }
        }
      ]
    },
    {
      "cell_type": "code",
      "metadata": {
        "id": "_r7pfll_hASO"
      },
      "source": [
        "pred_y = nn_model.predict(X_test)"
      ],
      "execution_count": null,
      "outputs": []
    },
    {
      "cell_type": "code",
      "metadata": {
        "id": "s1lp1ZDgPJHO",
        "outputId": "909abde0-101c-4bd8-8689-6229a212e0af",
        "colab": {
          "base_uri": "https://localhost:8080/",
          "height": 139
        }
      },
      "source": [
        "pred_y"
      ],
      "execution_count": null,
      "outputs": [
        {
          "output_type": "execute_result",
          "data": {
            "text/plain": [
              "array([[0.07010298],\n",
              "       [0.05434309],\n",
              "       [0.8722344 ],\n",
              "       ...,\n",
              "       [0.05962332],\n",
              "       [0.2611385 ],\n",
              "       [0.2099396 ]], dtype=float32)"
            ]
          },
          "metadata": {
            "tags": []
          },
          "execution_count": 59
        }
      ]
    },
    {
      "cell_type": "code",
      "metadata": {
        "id": "cau9QmZSupPQ"
      },
      "source": [
        "pred_y_class = (pred_y >= 0.45).astype(np.int)"
      ],
      "execution_count": null,
      "outputs": []
    },
    {
      "cell_type": "code",
      "metadata": {
        "id": "gT-A3gSdxdwp"
      },
      "source": [
        "y_test = (y_test >= 0.5).astype(np.int)\n"
      ],
      "execution_count": null,
      "outputs": []
    },
    {
      "cell_type": "code",
      "metadata": {
        "id": "mk2Ow2pMQvzF",
        "outputId": "a28d00e8-694c-4fed-ee27-3f162da7d825",
        "colab": {
          "base_uri": "https://localhost:8080/",
          "height": 261
        }
      },
      "source": [
        "print(\"Confusion Matrix:- \\n\", metrics.confusion_matrix(y_test, pred_y_class), \"\\n\")\n",
        "print(\"Classification Report:- \\n\", metrics.classification_report(y_test, pred_y_class))"
      ],
      "execution_count": null,
      "outputs": [
        {
          "output_type": "stream",
          "text": [
            "Confusion Matrix:- \n",
            " [[738 106]\n",
            " [147 272]] \n",
            "\n",
            "Classification Report:- \n",
            "               precision    recall  f1-score   support\n",
            "\n",
            "           0       0.83      0.87      0.85       844\n",
            "           1       0.72      0.65      0.68       419\n",
            "\n",
            "    accuracy                           0.80      1263\n",
            "   macro avg       0.78      0.76      0.77      1263\n",
            "weighted avg       0.80      0.80      0.80      1263\n",
            "\n"
          ],
          "name": "stdout"
        }
      ]
    },
    {
      "cell_type": "markdown",
      "metadata": {
        "id": "6YX2FQZd53lA"
      },
      "source": [
        "### ROC curve"
      ]
    },
    {
      "cell_type": "code",
      "metadata": {
        "id": "q13uvWLk56pf",
        "outputId": "42b9a123-dd42-4ed4-9aac-3343c0312410",
        "colab": {
          "base_uri": "https://localhost:8080/",
          "height": 1000
        }
      },
      "source": [
        "from sklearn.metrics import roc_curve, roc_auc_score\n",
        "from matplotlib.font_manager import FontProperties\n",
        "fontP = FontProperties()\n",
        "fontP.set_size('xx-small')\n",
        "fpr, tpr, _ = roc_curve(y_test, pred_y)\n",
        "fig, ax1 = plt.subplots(1,1, figsize = (5, 5), dpi = 250)\n",
        "ax1.plot(fpr, tpr, marker='.', label = 'DenseNet121 (AUC:%2.2f)' % roc_auc_score(y_test, pred_y))\n",
        "ax1.plot(fpr, fpr, linestyle='--', label = 'Random Guessing')\n",
        "ax1.legend(title='legend',  loc='lower right', prop=fontP)\n",
        "ax1.set_xlabel('False Positive Rate')\n",
        "ax1.set_ylabel('True Positive Rate');\n",
        "ax1.set_title('Lung Opacity ROC Curve')"
      ],
      "execution_count": null,
      "outputs": [
        {
          "output_type": "execute_result",
          "data": {
            "text/plain": [
              "Text(0.5, 1.0, 'Lung Opacity ROC Curve')"
            ]
          },
          "metadata": {
            "tags": []
          },
          "execution_count": 63
        },
        {
          "output_type": "display_data",
          "data": {
            "image/png": "[encoded data removed]",
            "text/plain": [
              "<Figure size 1250x1250 with 1 Axes>"
            ]
          },
          "metadata": {
            "tags": [],
            "needs_background": "light"
          }
        }
      ]
    },
    {
      "cell_type": "markdown",
      "metadata": {
        "id": "q2SKp66bF8kg"
      },
      "source": [
        "## Conclusion"
      ]
    }
  ]
}