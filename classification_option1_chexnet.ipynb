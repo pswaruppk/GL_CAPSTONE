{
  "nbformat": 4,
  "nbformat_minor": 0,
  "metadata": {
    "colab": {
      "name": "classification_option1_chexnet.ipynb",
      "provenance": [],
      "collapsed_sections": [],
      "toc_visible": true,
      "include_colab_link": true
    },
    "kernelspec": {
      "name": "python3",
      "display_name": "Python 3"
    },
    "accelerator": "GPU"
  },
  "cells": [
    {
      "cell_type": "markdown",
      "metadata": {
        "id": "view-in-github",
        "colab_type": "text"
      },
      "source": [
        "<a href=\"https://colab.research.google.com/github/pswaruppk/GL_CAPSTONE/blob/master/classification_option1_chexnet.ipynb\" target=\"_parent\"><img src=\"https://colab.research.google.com/assets/colab-badge.svg\" alt=\"Open In Colab\"/></a>"
      ]
    },
    {
      "cell_type": "markdown",
      "metadata": {
        "id": "58f4F_QondId"
      },
      "source": [
        "#Hybrid model\n",
        "  This notebook is trying to build option-1 which includes classification followed by detection.\n",
        "\n",
        "Classification:\n",
        "  1. **ChexNet- Densnet121** - This has been implemented here.\n",
        "  2. VGG NET\n",
        "  3. InceptionV3\n",
        "  4. InceptionRestNetV2\n",
        "\n",
        "Detection:\n",
        "  RetinaNet based architecture\n",
        "  1. ResNet101 \n",
        "  2. ResNet152"
      ]
    },
    {
      "cell_type": "code",
      "metadata": {
        "id": "kbTCr_5QEzad"
      },
      "source": [
        "import os"
      ],
      "execution_count": null,
      "outputs": []
    },
    {
      "cell_type": "code",
      "metadata": {
        "id": "Rkx68scFlb8-",
        "outputId": "c7c610e8-79a7-4e96-940f-81a4f3658a4f",
        "colab": {
          "base_uri": "https://localhost:8080/",
          "height": 34
        }
      },
      "source": [
        "from google.colab import drive\n",
        "drive.mount('/content/drive')"
      ],
      "execution_count": null,
      "outputs": [
        {
          "output_type": "stream",
          "text": [
            "Mounted at /content/drive\n"
          ],
          "name": "stdout"
        }
      ]
    },
    {
      "cell_type": "code",
      "metadata": {
        "id": "uOtuMJIjncTt",
        "outputId": "4c272509-e6ab-4cd5-b22e-37cfc0e017c9",
        "colab": {
          "base_uri": "https://localhost:8080/",
          "height": 35
        }
      },
      "source": [
        "project_path = \"/content/drive/My Drive/rsna-pneumonia-detection-challenge\"\n",
        "os.chdir(project_path)\n",
        "os.getcwd()"
      ],
      "execution_count": null,
      "outputs": [
        {
          "output_type": "execute_result",
          "data": {
            "application/vnd.google.colaboratory.intrinsic+json": {
              "type": "string"
            },
            "text/plain": [
              "'/content/drive/My Drive/rsna-pneumonia-detection-challenge'"
            ]
          },
          "metadata": {
            "tags": []
          },
          "execution_count": 3
        }
      ]
    },
    {
      "cell_type": "markdown",
      "metadata": {
        "id": "zxH2DzwT8mkl"
      },
      "source": [
        "## Model Parameters"
      ]
    },
    {
      "cell_type": "code",
      "metadata": {
        "id": "wFHbskXlX4QR"
      },
      "source": [
        "#Set global parameters here\n",
        "BASE_MODEL = \"DenseNet121\"\n",
        "MODEL_NAME  = \"Option-1\" + \".\" + BASE_MODEL\n",
        "if os.path.isdir(MODEL_NAME) == False:\n",
        "  os.mkdir(MODEL_NAME)\n",
        "WEIGHTS_FILE = MODEL_NAME+\"/\" + \"weights.best.final1.h5\"\n",
        "HISTORY_FILE = MODEL_NAME+\"/\" +\"history_final1.csv\"\n",
        "PREDICTION_FILE = MODEL_NAME+\"/\" + \"prediction_final1.pkl\"\n",
        "BATCH_SIZE = 32\n",
        "IMAGE_SIZE = 224 #target image width\n",
        "IMG_WIDTH = 1024 #Original image width\n",
        "FORCE_TRAINING = False #True , change it to force training\n",
        "DROPOUT = 0.25 # [0, 0.25, 0.5]\n",
        "DENSE_COUNT = 128 # [32, 64, 128, 256]\n",
        "LEARN_RATE = 1e-4 # [1e-4, 1e-3, 4e-3]\n",
        "ALPHA = 1.0\n",
        "EPOCHS = 6"
      ],
      "execution_count": null,
      "outputs": []
    },
    {
      "cell_type": "code",
      "metadata": {
        "id": "brBroOQSp-5M",
        "outputId": "60b07c42-50e2-494e-d862-a9dc82448ed5",
        "colab": {
          "base_uri": "https://localhost:8080/",
          "height": 281
        }
      },
      "source": [
        "oldPath = os.getcwd()\n",
        "utility_path = \"/content/drive/My Drive/GL_CAPSTONE\"\n",
        "os.chdir(utility_path)\n",
        "%run pneumonia_utility.ipynb\n",
        "baseModel,preprocess_input = selectBaseModel(BASE_MODEL)\n",
        "os.chdir(oldPath)\n",
        "print(os.getcwd())\n",
        "print(baseModel,preprocess_input)"
      ],
      "execution_count": null,
      "outputs": [
        {
          "output_type": "stream",
          "text": [
            "Loading functions from Pneumonia utility notebook\n",
            "Loading pydicom package\n",
            "Collecting pydicom\n",
            "\u001b[?25l  Downloading https://files.pythonhosted.org/packages/d3/56/342e1f8ce5afe63bf65c23d0b2c1cd5a05600caad1c211c39725d3a4cc56/pydicom-2.0.0-py3-none-any.whl (35.4MB)\n",
            "\u001b[K     |████████████████████████████████| 35.5MB 84kB/s \n",
            "\u001b[?25hInstalling collected packages: pydicom\n",
            "Successfully installed pydicom-2.0.0\n",
            "Setting baseModel : DenseNet121\n",
            "<module 'tensorflow.keras.applications.densenet' from '/usr/local/lib/python3.6/dist-packages/tensorflow/keras/applications/densenet/__init__.py'>\n",
            "global BaseModel; BaseModel =np.DenseNet121\n",
            "global preprocess_input; preprocess_input =np.preprocess_input\n",
            "<class 'function'>\n",
            "/content/drive/My Drive/rsna-pneumonia-detection-challenge\n",
            "<function DenseNet121 at 0x7fb9c1ae00d0> <function preprocess_input at 0x7fb9c1ae0268>\n"
          ],
          "name": "stdout"
        }
      ]
    },
    {
      "cell_type": "code",
      "metadata": {
        "id": "oFPh9QxB5-1b",
        "outputId": "24ae501d-35dd-4919-eba8-e545c50409a8",
        "colab": {
          "base_uri": "https://localhost:8080/",
          "height": 52
        }
      },
      "source": [
        "baseModel,preprocess_input"
      ],
      "execution_count": null,
      "outputs": [
        {
          "output_type": "execute_result",
          "data": {
            "text/plain": [
              "(<function tensorflow.python.keras.applications.densenet.DenseNet121>,\n",
              " <function tensorflow.python.keras.applications.densenet.preprocess_input>)"
            ]
          },
          "metadata": {
            "tags": []
          },
          "execution_count": 6
        }
      ]
    },
    {
      "cell_type": "code",
      "metadata": {
        "id": "n2y2P8aO7Rpw",
        "outputId": "944e8aba-b5b6-4032-e874-1629f4fca0f7",
        "colab": {
          "base_uri": "https://localhost:8080/",
          "height": 34
        }
      },
      "source": [
        "\n",
        "\n",
        "image_shape = MODEL_MAP[BASE_MODEL]['input_shape']\n",
        "IMAGE_SIZE = image_shape[0]\n",
        "image_shape,IMAGE_SIZE"
      ],
      "execution_count": null,
      "outputs": [
        {
          "output_type": "execute_result",
          "data": {
            "text/plain": [
              "((224, 224, 3), 224)"
            ]
          },
          "metadata": {
            "tags": []
          },
          "execution_count": 7
        }
      ]
    },
    {
      "cell_type": "code",
      "metadata": {
        "id": "7GDQHACIndcb",
        "outputId": "e3e11080-d710-40ff-dc74-44089a80c14b",
        "colab": {
          "base_uri": "https://localhost:8080/",
          "height": 52
        }
      },
      "source": [
        "#Loading full data\n",
        "full_df,bbox_map,class_enc = loadData()"
      ],
      "execution_count": null,
      "outputs": [
        {
          "output_type": "stream",
          "text": [
            "Loading full CXR info\n",
            "Loading bbox map\n"
          ],
          "name": "stdout"
        }
      ]
    },
    {
      "cell_type": "code",
      "metadata": {
        "id": "3PcE8k6vu1HK"
      },
      "source": [
        "\n",
        "# CLASS_VECTORS = get_class_map(full_df)"
      ],
      "execution_count": null,
      "outputs": []
    },
    {
      "cell_type": "code",
      "metadata": {
        "id": "Qmw2L5Yo3SE1",
        "outputId": "dc8e9ebb-c0be-4364-dc1e-f4d8fd4db7b7",
        "colab": {
          "base_uri": "https://localhost:8080/",
          "height": 284
        }
      },
      "source": [
        "full_df.head(2)"
      ],
      "execution_count": null,
      "outputs": [
        {
          "output_type": "execute_result",
          "data": {
            "text/html": [
              "<div>\n",
              "<style scoped>\n",
              "    .dataframe tbody tr th:only-of-type {\n",
              "        vertical-align: middle;\n",
              "    }\n",
              "\n",
              "    .dataframe tbody tr th {\n",
              "        vertical-align: top;\n",
              "    }\n",
              "\n",
              "    .dataframe thead th {\n",
              "        text-align: right;\n",
              "    }\n",
              "</style>\n",
              "<table border=\"1\" class=\"dataframe\">\n",
              "  <thead>\n",
              "    <tr style=\"text-align: right;\">\n",
              "      <th></th>\n",
              "      <th>Unnamed: 0</th>\n",
              "      <th>patientId</th>\n",
              "      <th>x</th>\n",
              "      <th>y</th>\n",
              "      <th>width</th>\n",
              "      <th>height</th>\n",
              "      <th>Target</th>\n",
              "      <th>BboxNo</th>\n",
              "      <th>PatientAge</th>\n",
              "      <th>PatientSex</th>\n",
              "      <th>ViewPosition</th>\n",
              "      <th>class</th>\n",
              "      <th>class_id</th>\n",
              "      <th>class_vector</th>\n",
              "      <th>path</th>\n",
              "    </tr>\n",
              "  </thead>\n",
              "  <tbody>\n",
              "    <tr>\n",
              "      <th>0</th>\n",
              "      <td>0</td>\n",
              "      <td>0004cfab-14fd-4e49-80ba-63a80b6bddd6</td>\n",
              "      <td>NaN</td>\n",
              "      <td>NaN</td>\n",
              "      <td>NaN</td>\n",
              "      <td>NaN</td>\n",
              "      <td>0</td>\n",
              "      <td>1</td>\n",
              "      <td>51</td>\n",
              "      <td>0</td>\n",
              "      <td>0</td>\n",
              "      <td>No Lung Opacity / Not Normal</td>\n",
              "      <td>1</td>\n",
              "      <td>[0.0, 1.0, 0.0]</td>\n",
              "      <td>stage_2_train_images/0004cfab-14fd-4e49-80ba-6...</td>\n",
              "    </tr>\n",
              "    <tr>\n",
              "      <th>1</th>\n",
              "      <td>1</td>\n",
              "      <td>00313ee0-9eaa-42f4-b0ab-c148ed3241cd</td>\n",
              "      <td>NaN</td>\n",
              "      <td>NaN</td>\n",
              "      <td>NaN</td>\n",
              "      <td>NaN</td>\n",
              "      <td>0</td>\n",
              "      <td>1</td>\n",
              "      <td>48</td>\n",
              "      <td>0</td>\n",
              "      <td>0</td>\n",
              "      <td>No Lung Opacity / Not Normal</td>\n",
              "      <td>1</td>\n",
              "      <td>[0.0, 1.0, 0.0]</td>\n",
              "      <td>stage_2_train_images/00313ee0-9eaa-42f4-b0ab-c...</td>\n",
              "    </tr>\n",
              "  </tbody>\n",
              "</table>\n",
              "</div>"
            ],
            "text/plain": [
              "   Unnamed: 0  ...                                               path\n",
              "0           0  ...  stage_2_train_images/0004cfab-14fd-4e49-80ba-6...\n",
              "1           1  ...  stage_2_train_images/00313ee0-9eaa-42f4-b0ab-c...\n",
              "\n",
              "[2 rows x 15 columns]"
            ]
          },
          "metadata": {
            "tags": []
          },
          "execution_count": 10
        }
      ]
    },
    {
      "cell_type": "code",
      "metadata": {
        "id": "j5JQWuj59Y7q"
      },
      "source": [
        "full_df.drop(full_df.columns[0],inplace=True,axis=1)"
      ],
      "execution_count": null,
      "outputs": []
    },
    {
      "cell_type": "code",
      "metadata": {
        "id": "_MjIEYAJPBIc",
        "outputId": "1891b8c2-9028-4596-99d4-c230a664637a",
        "colab": {
          "base_uri": "https://localhost:8080/",
          "height": 34
        }
      },
      "source": [
        "print('{}:Total Pneumonia Patient'.format(len(full_df[full_df.Target == 1])))"
      ],
      "execution_count": null,
      "outputs": [
        {
          "output_type": "stream",
          "text": [
            "9555:Total Pneumonia Patient\n"
          ],
          "name": "stdout"
        }
      ]
    },
    {
      "cell_type": "code",
      "metadata": {
        "id": "36J8-8yN4mtp",
        "outputId": "fe30712e-d710-49e2-bb97-83b08e64772f",
        "colab": {
          "base_uri": "https://localhost:8080/",
          "height": 87
        }
      },
      "source": [
        "#Split the dataset  into 3 train/valid/test\n",
        "unbalanced_train_df, valid_df, test_df = splitData(full_df,target='class')"
      ],
      "execution_count": null,
      "outputs": [
        {
          "output_type": "stream",
          "text": [
            "(21347, 14) training data\n",
            "(5337, 14) raw validation data\n",
            "(2668, 14) Validation data\n",
            "(2669, 14) test data\n"
          ],
          "name": "stdout"
        }
      ]
    },
    {
      "cell_type": "code",
      "metadata": {
        "id": "ljMpXIjlAYtE",
        "outputId": "3be1d229-9a2b-46e3-900d-881d5838bce0",
        "colab": {
          "base_uri": "https://localhost:8080/",
          "height": 34
        }
      },
      "source": [
        "unbalanced_train_df[unbalanced_train_df.class_id == 0].shape[0]"
      ],
      "execution_count": null,
      "outputs": [
        {
          "output_type": "execute_result",
          "data": {
            "text/plain": [
              "4809"
            ]
          },
          "metadata": {
            "tags": []
          },
          "execution_count": 14
        }
      ]
    },
    {
      "cell_type": "code",
      "metadata": {
        "id": "RylZ8ieH5umF",
        "outputId": "e03bcf38-7937-4755-b093-c18e8904582d",
        "colab": {
          "base_uri": "https://localhost:8080/",
          "height": 489
        }
      },
      "source": [
        "import matplotlib.pyplot as plt\n",
        "TRAIN_SAMPLES = 12624 # 4208 x 3 class targets\n",
        "#Balancing training set\n",
        "train_df = balance_df(unbalanced_train_df,TRAIN_SAMPLES,target='class')\n",
        "print(train_df.shape[0], 'Final training size')"
      ],
      "execution_count": null,
      "outputs": [
        {
          "output_type": "stream",
          "text": [
            "12624 Final training size\n"
          ],
          "name": "stdout"
        },
        {
          "output_type": "display_data",
          "data": {
            "image/png": "[encoded data removed]",
            "text/plain": [
              "<Figure size 720x360 with 2 Axes>"
            ]
          },
          "metadata": {
            "tags": [],
            "needs_background": "light"
          }
        }
      ]
    },
    {
      "cell_type": "code",
      "metadata": {
        "id": "MWvrQj9tjG_M"
      },
      "source": [
        "train_df = pd.read_csv('classification_train_df.csv',converters={'class_vector':eval})\n",
        "valid_df = pd.read_csv('classification_valid_df.csv',converters={'class_vector':eval})\n",
        "test_df = pd.read_csv('classification_test_df.csv',converters={'class_vector':eval})"
      ],
      "execution_count": null,
      "outputs": []
    },
    {
      "cell_type": "code",
      "metadata": {
        "id": "m3O2gjJMjJpq",
        "outputId": "aa035ab9-11b0-417b-99e7-49af27d9689a",
        "colab": {
          "base_uri": "https://localhost:8080/",
          "height": 34
        }
      },
      "source": [
        "y = train_df.class_vector[0]\n",
        "type(y)"
      ],
      "execution_count": null,
      "outputs": [
        {
          "output_type": "execute_result",
          "data": {
            "text/plain": [
              "list"
            ]
          },
          "metadata": {
            "tags": []
          },
          "execution_count": 17
        }
      ]
    },
    {
      "cell_type": "markdown",
      "metadata": {
        "id": "kkJH_Cet8AlW"
      },
      "source": [
        "## Build model"
      ]
    },
    {
      "cell_type": "code",
      "metadata": {
        "id": "u4mdtUO2U2UH",
        "outputId": "0fb58592-2886-40ef-bcb8-b14c0714b0bb",
        "colab": {
          "base_uri": "https://localhost:8080/",
          "height": 34
        }
      },
      "source": [
        "len(np.unique(train_df[\"path\"].to_numpy()))"
      ],
      "execution_count": null,
      "outputs": [
        {
          "output_type": "execute_result",
          "data": {
            "text/plain": [
              "12624"
            ]
          },
          "metadata": {
            "tags": []
          },
          "execution_count": 18
        }
      ]
    },
    {
      "cell_type": "code",
      "metadata": {
        "id": "wN24TMo_E2wE",
        "outputId": "f1d30488-03cc-4aa5-98d1-ceea8f57de02",
        "colab": {
          "base_uri": "https://localhost:8080/",
          "height": 87
        }
      },
      "source": [
        "# BATCH_SIZE = 8\n",
        "# IMAGE_SIZE = 224\n",
        "# IMG_WIDTH = 1024\n",
        "train_gen = MyLabelDataGenerator(train_df,augment= True)\n",
        "valid_gen = MyLabelDataGenerator(valid_df,augment= True)\n",
        "\n",
        "print(len(train_gen), \"# of iterations in one train epoch\")\n",
        "print(len(valid_gen), \"# of iterations in one validate epoch\")"
      ],
      "execution_count": null,
      "outputs": [
        {
          "output_type": "stream",
          "text": [
            "12624 :No of generator Image\n",
            "2668 :No of generator Image\n",
            "394 # of iterations in one train epoch\n",
            "83 # of iterations in one validate epoch\n"
          ],
          "name": "stdout"
        }
      ]
    },
    {
      "cell_type": "code",
      "metadata": {
        "id": "UPrqPNLZYVgB"
      },
      "source": [
        "Set = 0\n",
        "imageSet = train_gen[Set][0]\n",
        "maskSet = train_gen[Set][1]   #Label"
      ],
      "execution_count": null,
      "outputs": []
    },
    {
      "cell_type": "code",
      "metadata": {
        "id": "eBuvjnaOZq2a",
        "outputId": "2d821327-fd79-4731-aa9c-3110cd873567",
        "colab": {
          "base_uri": "https://localhost:8080/",
          "height": 34
        }
      },
      "source": [
        "imageSet.shape,maskSet.shape"
      ],
      "execution_count": null,
      "outputs": [
        {
          "output_type": "execute_result",
          "data": {
            "text/plain": [
              "((32, 224, 224, 3), (32, 3))"
            ]
          },
          "metadata": {
            "tags": []
          },
          "execution_count": 22
        }
      ]
    },
    {
      "cell_type": "code",
      "metadata": {
        "id": "3NjGWW0OKDQp"
      },
      "source": [
        "SetIndex = 0\n",
        "imageIndex = Set*BATCH_SIZE + SetIndex\n",
        "path = train_gen.filenames[imageIndex]\n",
        "img = train_gen.getImage(path)"
      ],
      "execution_count": null,
      "outputs": []
    },
    {
      "cell_type": "code",
      "metadata": {
        "id": "HY9eyUHVnO6k",
        "outputId": "89ad4359-8fec-4357-9567-68ed0d2206ad",
        "colab": {
          "base_uri": "https://localhost:8080/",
          "height": 335
        }
      },
      "source": [
        "f, ax = plt.subplots(1, 2, figsize=(10,7))\n",
        "ax[0].imshow(img, cmap=plt.cm.bone)\n",
        "ax[0].set_title(\"Original Xray\")\n",
        "ax[1].imshow(imageSet[SetIndex][:,:,0],cmap=plt.cm.bone)\n",
        "ax[1].set_title(\"Pre-Processed:Label:{}\".format(maskSet[SetIndex]))\n",
        "# The images are converted from RGB to BGR, \n",
        "#then each color channel is zero-centered with respect to the ImageNet dataset, without scaling."
      ],
      "execution_count": null,
      "outputs": [
        {
          "output_type": "execute_result",
          "data": {
            "text/plain": [
              "Text(0.5, 1.0, 'Pre-Processed:Label:[0. 1. 0.]')"
            ]
          },
          "metadata": {
            "tags": []
          },
          "execution_count": 24
        },
        {
          "output_type": "display_data",
          "data": {
            "image/png": "[encoded data removed]",
            "text/plain": [
              "<Figure size 720x504 with 2 Axes>"
            ]
          },
          "metadata": {
            "tags": [],
            "needs_background": "light"
          }
        }
      ]
    },
    {
      "cell_type": "code",
      "metadata": {
        "id": "6XDAF8UlwUKu"
      },
      "source": [
        "\n",
        "def build_pretrained_model():\n",
        "  #Build base model\n",
        "  input_shape = MODEL_MAP[BASE_MODEL]['input_shape']\n",
        "  base_pretrained_model = BaseModel(input_shape =  input_shape, \n",
        "                              include_top = False, weights = 'imagenet')\n",
        "  base_pretrained_model.trainable = False\n",
        "  #Build Top layer\n",
        "  lastlayer = MODEL_MAP[BASE_MODEL]['last_conv_layer']\n",
        "  lastlayershape = base_pretrained_model.get_layer(lastlayer).output_shape[1:]\n",
        "  pt_features = Input(lastlayershape, name = 'feature_input')\n",
        "    \n",
        "  bn_features = BatchNormalization()(pt_features)\n",
        "  gap = GlobalAveragePooling2D()(bn_features)\n",
        "\n",
        "  gap_dr = Dropout(DROPOUT)(gap)\n",
        "  dr_steps = Dropout(DROPOUT)(Dense(DENSE_COUNT, activation = 'linear', use_bias=False)(gap_dr))\n",
        "  dr_steps = BatchNormalization()(dr_steps)\n",
        "  dr_steps = layers.LeakyReLU(0.1)(dr_steps)\n",
        "  out_layer = Dense(3, activation = 'softmax')(dr_steps)\n",
        "\n",
        "  attn_model = Model(inputs = [pt_features], \n",
        "                    outputs = [out_layer], name = 'top_model')\n",
        "  #Combine base & top model\n",
        "  pneu_model = Sequential(name = 'combined_model')\n",
        "  # base_pretrained_model.trainable = False\n",
        "  pneu_model.add(base_pretrained_model)\n",
        "  pneu_model.add(attn_model)\n",
        "  #Add loss & optimizer\n",
        "  lr = LEARN_RATE\n",
        "  decay = lr/10 # or in the factor of 10\n",
        "  adamOptimizer = Adam(lr=lr, beta_1=0.9, beta_2=0.999, epsilon=None, decay=decay, amsgrad=False)\n",
        "  pneu_model.compile(optimizer =adamOptimizer, loss = 'categorical_crossentropy',\n",
        "                           metrics = ['categorical_accuracy'])\n",
        "  \n",
        "  return pneu_model,base_pretrained_model,attn_model"
      ],
      "execution_count": null,
      "outputs": []
    },
    {
      "cell_type": "code",
      "metadata": {
        "id": "4qJ9-w2xU7Lu",
        "outputId": "00993aac-63f8-4230-dca7-83cc29009204",
        "colab": {
          "base_uri": "https://localhost:8080/",
          "height": 281
        }
      },
      "source": [
        "class_model,base_model,top_model = build_pretrained_model()\n",
        "class_model.summary()"
      ],
      "execution_count": null,
      "outputs": [
        {
          "output_type": "stream",
          "text": [
            "Downloading data from https://storage.googleapis.com/tensorflow/keras-applications/densenet/densenet121_weights_tf_dim_ordering_tf_kernels_notop.h5\n",
            "29089792/29084464 [==============================] - 0s 0us/step\n",
            "Model: \"combined_model\"\n",
            "_________________________________________________________________\n",
            "Layer (type)                 Output Shape              Param #   \n",
            "=================================================================\n",
            "densenet121 (Functional)     (None, 7, 7, 1024)        7037504   \n",
            "_________________________________________________________________\n",
            "top_model (Functional)       (None, 3)                 136067    \n",
            "=================================================================\n",
            "Total params: 7,173,571\n",
            "Trainable params: 133,763\n",
            "Non-trainable params: 7,039,808\n",
            "_________________________________________________________________\n"
          ],
          "name": "stdout"
        }
      ]
    },
    {
      "cell_type": "code",
      "metadata": {
        "id": "rgvZwss8LeKW",
        "outputId": "01d05ae7-a679-47c7-d9e9-13e40154f7b4",
        "colab": {
          "base_uri": "https://localhost:8080/",
          "height": 272
        }
      },
      "source": [
        "from keras.utils.vis_utils import plot_model\n",
        "plot_model(class_model)"
      ],
      "execution_count": null,
      "outputs": [
        {
          "output_type": "execute_result",
          "data": {
            "image/png": "[encoded data removed]",
            "text/plain": [
              "<IPython.core.display.Image object>"
            ]
          },
          "metadata": {
            "tags": []
          },
          "execution_count": 27
        }
      ]
    },
    {
      "cell_type": "code",
      "metadata": {
        "id": "jqkqIBnl12yZ",
        "outputId": "c611920f-7d1e-4827-c978-3fc6806b8a10",
        "colab": {
          "base_uri": "https://localhost:8080/",
          "height": 34
        }
      },
      "source": [
        "checkpoint = ModelCheckpoint(WEIGHTS_FILE, monitor='val_loss', verbose=1, \n",
        "                             save_best_only=True, mode='min', save_weights_only = True)\n",
        "\n",
        "reduceLROnPlat = ReduceLROnPlateau(monitor='val_loss', factor=0.2, \n",
        "                                   patience=3, verbose=1, mode='auto', \n",
        "                                   epsilon=0.0001, cooldown=5, min_lr=0.0001)\n",
        "early = EarlyStopping(monitor=\"val_loss\", \n",
        "                      mode=\"min\", \n",
        "                      patience=3) \n",
        "callbacks_list = [checkpoint, early, reduceLROnPlat]"
      ],
      "execution_count": null,
      "outputs": [
        {
          "output_type": "stream",
          "text": [
            "WARNING:tensorflow:`epsilon` argument is deprecated and will be removed, use `min_delta` instead.\n"
          ],
          "name": "stdout"
        }
      ]
    },
    {
      "cell_type": "markdown",
      "metadata": {
        "id": "pSyqHQCl76q_"
      },
      "source": [
        "##Model Fit"
      ]
    },
    {
      "cell_type": "code",
      "metadata": {
        "id": "MgwtfdmOFb3f",
        "outputId": "6af6f0b6-3da3-45ba-e49c-591b67ec3d05",
        "colab": {
          "base_uri": "https://localhost:8080/",
          "height": 491
        }
      },
      "source": [
        "%%time\n",
        "history = pd.DataFrame()\n",
        "\n",
        "if (os.path.isfile(WEIGHTS_FILE) & (FORCE_TRAINING == False) ):\n",
        "  class_model.load_weights(WEIGHTS_FILE)\n",
        "  history = loadHistory(HISTORY_FILE)\n",
        "else:\n",
        "  if (os.path.isfile(WEIGHTS_FILE)):\n",
        "    class_model.load_weights(WEIGHTS_FILE)\n",
        "  history = class_model.fit(train_gen,   # (X_train, y_train)\n",
        "                        epochs=EPOCHS,\n",
        "                        validation_data=valid_gen,#(X_valid, y_valid)\n",
        "                        callbacks=callbacks_list,\n",
        "                        shuffle=True,\n",
        "                        verbose=1)\n",
        "  \n",
        "  history = saveHistory(history,HISTORY_FILE)"
      ],
      "execution_count": null,
      "outputs": [
        {
          "output_type": "stream",
          "text": [
            "Epoch 1/6\n",
            "394/394 [==============================] - ETA: 0s - loss: 0.9695 - categorical_accuracy: 0.5546\n",
            "Epoch 00001: val_loss improved from inf to 0.83427, saving model to Option-1.DenseNet121/weights.best.final1.h5\n",
            "394/394 [==============================] - 2315s 6s/step - loss: 0.9695 - categorical_accuracy: 0.5546 - val_loss: 0.8343 - val_categorical_accuracy: 0.5953\n",
            "Epoch 2/6\n",
            "394/394 [==============================] - ETA: 0s - loss: 0.8434 - categorical_accuracy: 0.6079\n",
            "Epoch 00002: val_loss improved from 0.83427 to 0.78205, saving model to Option-1.DenseNet121/weights.best.final1.h5\n",
            "394/394 [==============================] - 2300s 6s/step - loss: 0.8434 - categorical_accuracy: 0.6079 - val_loss: 0.7821 - val_categorical_accuracy: 0.6178\n",
            "Epoch 3/6\n",
            "394/394 [==============================] - ETA: 0s - loss: 0.8073 - categorical_accuracy: 0.6225\n",
            "Epoch 00003: val_loss improved from 0.78205 to 0.77531, saving model to Option-1.DenseNet121/weights.best.final1.h5\n",
            "394/394 [==============================] - 2292s 6s/step - loss: 0.8073 - categorical_accuracy: 0.6225 - val_loss: 0.7753 - val_categorical_accuracy: 0.6291\n",
            "Epoch 4/6\n",
            "394/394 [==============================] - ETA: 0s - loss: 0.7901 - categorical_accuracy: 0.6326\n",
            "Epoch 00004: val_loss improved from 0.77531 to 0.76244, saving model to Option-1.DenseNet121/weights.best.final1.h5\n",
            "394/394 [==============================] - 2300s 6s/step - loss: 0.7901 - categorical_accuracy: 0.6326 - val_loss: 0.7624 - val_categorical_accuracy: 0.6367\n",
            "Epoch 5/6\n",
            "394/394 [==============================] - ETA: 0s - loss: 0.7743 - categorical_accuracy: 0.6400\n",
            "Epoch 00005: val_loss improved from 0.76244 to 0.75865, saving model to Option-1.DenseNet121/weights.best.final1.h5\n",
            "394/394 [==============================] - 2309s 6s/step - loss: 0.7743 - categorical_accuracy: 0.6400 - val_loss: 0.7586 - val_categorical_accuracy: 0.6382\n",
            "Epoch 6/6\n",
            "394/394 [==============================] - ETA: 0s - loss: 0.7656 - categorical_accuracy: 0.6513\n",
            "Epoch 00006: val_loss improved from 0.75865 to 0.75702, saving model to Option-1.DenseNet121/weights.best.final1.h5\n",
            "394/394 [==============================] - 2322s 6s/step - loss: 0.7656 - categorical_accuracy: 0.6513 - val_loss: 0.7570 - val_categorical_accuracy: 0.6340\n",
            "CPU times: user 7h 15min 54s, sys: 5min 51s, total: 7h 21min 46s\n",
            "Wall time: 3h 51min 19s\n"
          ],
          "name": "stdout"
        }
      ]
    },
    {
      "cell_type": "markdown",
      "metadata": {
        "id": "EoKqYv0gT_Vx"
      },
      "source": [
        "## History"
      ]
    },
    {
      "cell_type": "code",
      "metadata": {
        "id": "mOOZuv5TNRRz",
        "outputId": "ce8ab115-8345-4212-d2f2-d031cfff2554",
        "colab": {
          "base_uri": "https://localhost:8080/",
          "height": 374
        }
      },
      "source": [
        "plot_his(history,'categorical_accuracy')\n",
        "#Save the model as well for future use"
      ],
      "execution_count": null,
      "outputs": [
        {
          "output_type": "display_data",
          "data": {
            "image/png": "[encoded data removed]",
            "text/plain": [
              "<Figure size 1080x432 with 2 Axes>"
            ]
          },
          "metadata": {
            "tags": [],
            "needs_background": "light"
          }
        }
      ]
    },
    {
      "cell_type": "markdown",
      "metadata": {
        "id": "CMghxAoEigFA"
      },
      "source": [
        "## Classification-Stage1 performance"
      ]
    },
    {
      "cell_type": "code",
      "metadata": {
        "id": "71rnwm4J7bol",
        "outputId": "53e23bfa-035f-414b-98fa-a1128b164ecb",
        "colab": {
          "base_uri": "https://localhost:8080/",
          "height": 52
        }
      },
      "source": [
        "# FORCE_TRAINING = False\n",
        "patients= []\n",
        "pred_Y= []\n",
        "valid_Y = []\n",
        "if (os.path.isfile(PREDICTION_FILE) & (FORCE_TRAINING == False) ):\n",
        "  file = open(PREDICTION_FILE, 'rb')\n",
        "  patients = pickle.load(file)\n",
        "  pred_Y = pickle.load(file)\n",
        "  valid_Y = pickle.load(file)\n",
        "  file.close()\n",
        "else:\n",
        "  predict_gen = MyLabelTestDataGenerator(train_df)\n",
        "  patients, pred_Y,valid_Y = class_predict(predict_gen,class_model,no_of_batch=0)\n",
        "  file = open(PREDICTION_FILE,'wb')\n",
        "  pickle.dump(patients, file)\n",
        "  pickle.dump(pred_Y, file)\n",
        "  pickle.dump(valid_Y, file)\n",
        "  file.close()"
      ],
      "execution_count": null,
      "outputs": [
        {
          "output_type": "stream",
          "text": [
            "\r  0%|          | 0/395 [00:00<?, ?it/s]"
          ],
          "name": "stderr"
        },
        {
          "output_type": "stream",
          "text": [
            "12624 :No of generator Image\n"
          ],
          "name": "stdout"
        },
        {
          "output_type": "stream",
          "text": [
            "100%|██████████| 395/395 [1:19:25<00:00, 12.06s/it]\n"
          ],
          "name": "stderr"
        }
      ]
    },
    {
      "cell_type": "code",
      "metadata": {
        "id": "SME6R5Rt7gPc",
        "outputId": "7c41d552-d674-448e-f6a3-340f34dbb725",
        "colab": {
          "base_uri": "https://localhost:8080/",
          "height": 52
        }
      },
      "source": [
        "predict_gen = MyLabelTestDataGenerator(test_df)\n",
        "test_patients, test_pred_Y, test_Y = class_predict(predict_gen,class_model,no_of_batch=0)"
      ],
      "execution_count": null,
      "outputs": [
        {
          "output_type": "stream",
          "text": [
            "\r  0%|          | 0/84 [00:00<?, ?it/s]"
          ],
          "name": "stderr"
        },
        {
          "output_type": "stream",
          "text": [
            "2669 :No of generator Image\n"
          ],
          "name": "stdout"
        },
        {
          "output_type": "stream",
          "text": [
            "100%|██████████| 84/84 [16:52<00:00, 12.06s/it]\n"
          ],
          "name": "stderr"
        }
      ]
    },
    {
      "cell_type": "code",
      "metadata": {
        "id": "vhc5iD1x7mT8",
        "outputId": "820cb2ef-90a8-4096-fd52-9790075d2cf6",
        "colab": {
          "base_uri": "https://localhost:8080/",
          "height": 539
        }
      },
      "source": [
        "from sklearn.metrics import confusion_matrix\n",
        "plt.matshow(confusion_matrix(np.argmax(valid_Y, -1), np.argmax(pred_Y,-1)))\n",
        "print(confusion_matrix(np.argmax(valid_Y, -1), np.argmax(pred_Y,-1)))\n",
        "print(classification_report(np.argmax(valid_Y, -1), \n",
        "                            np.argmax(pred_Y,-1), target_names = class_enc.classes_))\n",
        "plt.title('Confusion Matrix Train Set', fontsize = 12, fontweight=\"bold\")\n",
        "plt.xlabel('Predicted')\n",
        "plt.ylabel('True')"
      ],
      "execution_count": null,
      "outputs": [
        {
          "output_type": "stream",
          "text": [
            "[[3001  864  343]\n",
            " [1247 1972  989]\n",
            " [  98  429 3681]]\n",
            "                              precision    recall  f1-score   support\n",
            "\n",
            "                Lung Opacity       0.69      0.71      0.70      4208\n",
            "No Lung Opacity / Not Normal       0.60      0.47      0.53      4208\n",
            "                      Normal       0.73      0.87      0.80      4208\n",
            "\n",
            "                    accuracy                           0.69     12624\n",
            "                   macro avg       0.68      0.69      0.68     12624\n",
            "                weighted avg       0.68      0.69      0.68     12624\n",
            "\n"
          ],
          "name": "stdout"
        },
        {
          "output_type": "execute_result",
          "data": {
            "text/plain": [
              "Text(0, 0.5, 'True')"
            ]
          },
          "metadata": {
            "tags": []
          },
          "execution_count": 32
        },
        {
          "output_type": "display_data",
          "data": {
            "image/png": "[encoded data removed]",
            "text/plain": [
              "<Figure size 288x288 with 1 Axes>"
            ]
          },
          "metadata": {
            "tags": [],
            "needs_background": "light"
          }
        }
      ]
    },
    {
      "cell_type": "code",
      "metadata": {
        "id": "Byyub5w27o6Y",
        "outputId": "00bec9bd-45c7-45bb-c066-80c9495e58f1",
        "colab": {
          "base_uri": "https://localhost:8080/",
          "height": 522
        }
      },
      "source": [
        "from sklearn.metrics import confusion_matrix\n",
        "plt.matshow(confusion_matrix(np.argmax(test_Y, -1), np.argmax(test_pred_Y,-1)))\n",
        "print(confusion_matrix(np.argmax(test_Y, -1), np.argmax(test_pred_Y,-1)))\n",
        "print(classification_report(np.argmax(test_Y, -1), np.argmax(test_pred_Y,-1), target_names = class_enc.classes_))\n",
        "plt.title('Confusion Matrix Test Set', fontsize = 12, fontweight=\"bold\")\n",
        "plt.xlabel('Predicted')\n",
        "plt.ylabel('True')\n",
        "plt.show()"
      ],
      "execution_count": null,
      "outputs": [
        {
          "output_type": "stream",
          "text": [
            "[[395 158  49]\n",
            " [340 572 270]\n",
            " [ 23 103 759]]\n",
            "                              precision    recall  f1-score   support\n",
            "\n",
            "                Lung Opacity       0.52      0.66      0.58       602\n",
            "No Lung Opacity / Not Normal       0.69      0.48      0.57      1182\n",
            "                      Normal       0.70      0.86      0.77       885\n",
            "\n",
            "                    accuracy                           0.65      2669\n",
            "                   macro avg       0.64      0.67      0.64      2669\n",
            "                weighted avg       0.66      0.65      0.64      2669\n",
            "\n"
          ],
          "name": "stdout"
        },
        {
          "output_type": "display_data",
          "data": {
            "image/png": "[encoded data removed]",
            "text/plain": [
              "<Figure size 288x288 with 1 Axes>"
            ]
          },
          "metadata": {
            "tags": [],
            "needs_background": "light"
          }
        }
      ]
    },
    {
      "cell_type": "code",
      "metadata": {
        "id": "uzUU9KWO7uhm",
        "outputId": "18a25f31-dd4d-4cdf-d347-14e879e2fce3",
        "colab": {
          "base_uri": "https://localhost:8080/",
          "height": 327
        }
      },
      "source": [
        "import seaborn as sns\n",
        "plt.figure(figsize= (15,10))\n",
        "plt.subplot(2,2,1)\n",
        "\n",
        "mat = metrics.confusion_matrix(np.argmax(valid_Y, -1), np.argmax(pred_Y,-1))\n",
        "sns.heatmap(mat, square=True, annot = True, fmt = 'd', cbar = False, linewidth=0.5)\n",
        "plt.title('Confusion Matrix Train Set', fontsize = 15, fontweight=\"bold\")\n",
        "plt.xlabel('Predicted')\n",
        "plt.ylabel('True')\n",
        "\n",
        "plt.subplot(2,2,2)\n",
        "mat = metrics.confusion_matrix(np.argmax(test_Y, -1), np.argmax(test_pred_Y,-1))\n",
        "sns.heatmap(mat, square=True, annot = True, fmt = 'd', cbar = False, linewidth=0.5)\n",
        "plt.title('Confusion Matrix Test Set', fontsize = 15, fontweight=\"bold\")\n",
        "plt.xlabel('Predicted')\n",
        "plt.ylabel('True')\n",
        "plt.show()"
      ],
      "execution_count": null,
      "outputs": [
        {
          "output_type": "display_data",
          "data": {
            "image/png": "[encoded data removed]",
            "text/plain": [
              "<Figure size 1080x720 with 2 Axes>"
            ]
          },
          "metadata": {
            "tags": [],
            "needs_background": "light"
          }
        }
      ]
    },
    {
      "cell_type": "markdown",
      "metadata": {
        "id": "TIQ4xwvp66AV"
      },
      "source": [
        "### ROC AUC"
      ]
    },
    {
      "cell_type": "code",
      "metadata": {
        "id": "o22yVE447piN",
        "outputId": "3dbadb23-4e3c-4c6d-b02e-e6b100cf5cc4",
        "colab": {
          "base_uri": "https://localhost:8080/",
          "height": 34
        }
      },
      "source": [
        "type(valid_Y[0])"
      ],
      "execution_count": null,
      "outputs": [
        {
          "output_type": "execute_result",
          "data": {
            "text/plain": [
              "numpy.ndarray"
            ]
          },
          "metadata": {
            "tags": []
          },
          "execution_count": 35
        }
      ]
    },
    {
      "cell_type": "code",
      "metadata": {
        "id": "H8VR0Ow88BcZ",
        "outputId": "5f3936f2-59b6-4008-c2a2-97b2252ab275",
        "colab": {
          "base_uri": "https://localhost:8080/",
          "height": 34
        }
      },
      "source": [
        "np.argmax(valid_Y,-1)==0"
      ],
      "execution_count": null,
      "outputs": [
        {
          "output_type": "execute_result",
          "data": {
            "text/plain": [
              "array([False, False, False, ..., False, False,  True])"
            ]
          },
          "metadata": {
            "tags": []
          },
          "execution_count": 36
        }
      ]
    },
    {
      "cell_type": "code",
      "metadata": {
        "id": "-j6VGtG869Q0"
      },
      "source": [
        "# from sklearn.metrics import roc_curve, roc_auc_score\n",
        "# fpr, tpr, _ = roc_curve(np.argmax(valid_Y,-1)==0, pred_Y)\n",
        "# fig, ax1 = plt.subplots(1,1, figsize = (5, 5), dpi = 250)\n",
        "# ax1.plot(fpr, tpr, 'b.-', label = 'DenseNet1 (AUC:%2.2f)' % roc_auc_score(np.argmax(valid_Y,-1)==0, pred_Y))\n",
        "# ax1.plot(fpr, fpr, 'k-', label = 'Random Guessing')\n",
        "# ax1.legend(loc = 4)\n",
        "# ax1.set_xlabel('False Positive Rate')\n",
        "# ax1.set_ylabel('True Positive Rate');\n",
        "# ax1.set_title('Lung Opacity ROC Curve')"
      ],
      "execution_count": null,
      "outputs": []
    },
    {
      "cell_type": "markdown",
      "metadata": {
        "id": "-zONHMPADYtl"
      },
      "source": [
        "## Generate class prediction"
      ]
    },
    {
      "cell_type": "code",
      "metadata": {
        "id": "P2SZXxDLaQ8a"
      },
      "source": [
        "pred_df = get_prediction_map(patients,pred_Y)"
      ],
      "execution_count": null,
      "outputs": []
    },
    {
      "cell_type": "code",
      "metadata": {
        "id": "zMJC1XFXpDn0",
        "outputId": "8dc20873-d0e5-41df-8c6c-26eac419c75e",
        "colab": {
          "base_uri": "https://localhost:8080/",
          "height": 203
        }
      },
      "source": [
        "pred_df.reset_index(inplace=True)\n",
        "# pred_df.columns = ['patientId', 'PNEUMONIA', 'NOT_NORMAL', 'NORMAL']\n",
        "\n",
        "pred_df.rename(columns={'index':'patientId'},inplace=True)\n",
        "pred_df.head()"
      ],
      "execution_count": null,
      "outputs": [
        {
          "output_type": "execute_result",
          "data": {
            "text/html": [
              "<div>\n",
              "<style scoped>\n",
              "    .dataframe tbody tr th:only-of-type {\n",
              "        vertical-align: middle;\n",
              "    }\n",
              "\n",
              "    .dataframe tbody tr th {\n",
              "        vertical-align: top;\n",
              "    }\n",
              "\n",
              "    .dataframe thead th {\n",
              "        text-align: right;\n",
              "    }\n",
              "</style>\n",
              "<table border=\"1\" class=\"dataframe\">\n",
              "  <thead>\n",
              "    <tr style=\"text-align: right;\">\n",
              "      <th></th>\n",
              "      <th>patientId</th>\n",
              "      <th>PNEUMONIA</th>\n",
              "      <th>NOT_NORMAL</th>\n",
              "      <th>NORMAL</th>\n",
              "    </tr>\n",
              "  </thead>\n",
              "  <tbody>\n",
              "    <tr>\n",
              "      <th>0</th>\n",
              "      <td>87344c44-8544-4e4f-bd7d-4d9b335e65c5</td>\n",
              "      <td>0.194481</td>\n",
              "      <td>0.542762</td>\n",
              "      <td>0.262757</td>\n",
              "    </tr>\n",
              "    <tr>\n",
              "      <th>1</th>\n",
              "      <td>b3c3a0b7-e29b-4e0c-ba93-8c00c26ba5ad</td>\n",
              "      <td>0.001528</td>\n",
              "      <td>0.008788</td>\n",
              "      <td>0.989685</td>\n",
              "    </tr>\n",
              "    <tr>\n",
              "      <th>2</th>\n",
              "      <td>762f405c-b9fc-4b1c-abf0-a6c5a3f92b16</td>\n",
              "      <td>0.639516</td>\n",
              "      <td>0.357265</td>\n",
              "      <td>0.003219</td>\n",
              "    </tr>\n",
              "    <tr>\n",
              "      <th>3</th>\n",
              "      <td>543f4f16-4b7f-43bc-8d44-da66513c58b0</td>\n",
              "      <td>0.898975</td>\n",
              "      <td>0.098440</td>\n",
              "      <td>0.002586</td>\n",
              "    </tr>\n",
              "    <tr>\n",
              "      <th>4</th>\n",
              "      <td>7ae8181a-854b-413b-8574-8c7236fdb64b</td>\n",
              "      <td>0.093673</td>\n",
              "      <td>0.349353</td>\n",
              "      <td>0.556973</td>\n",
              "    </tr>\n",
              "  </tbody>\n",
              "</table>\n",
              "</div>"
            ],
            "text/plain": [
              "                              patientId  PNEUMONIA  NOT_NORMAL    NORMAL\n",
              "0  87344c44-8544-4e4f-bd7d-4d9b335e65c5   0.194481    0.542762  0.262757\n",
              "1  b3c3a0b7-e29b-4e0c-ba93-8c00c26ba5ad   0.001528    0.008788  0.989685\n",
              "2  762f405c-b9fc-4b1c-abf0-a6c5a3f92b16   0.639516    0.357265  0.003219\n",
              "3  543f4f16-4b7f-43bc-8d44-da66513c58b0   0.898975    0.098440  0.002586\n",
              "4  7ae8181a-854b-413b-8574-8c7236fdb64b   0.093673    0.349353  0.556973"
            ]
          },
          "metadata": {
            "tags": []
          },
          "execution_count": 39
        }
      ]
    },
    {
      "cell_type": "code",
      "metadata": {
        "id": "MMCUGE0hzVYo",
        "outputId": "1e2c3a4f-3915-412d-9b76-5c81e5dcc028",
        "colab": {
          "base_uri": "https://localhost:8080/",
          "height": 209
        }
      },
      "source": [
        "pred_df.info()"
      ],
      "execution_count": null,
      "outputs": [
        {
          "output_type": "stream",
          "text": [
            "<class 'pandas.core.frame.DataFrame'>\n",
            "RangeIndex: 12624 entries, 0 to 12623\n",
            "Data columns (total 4 columns):\n",
            " #   Column      Non-Null Count  Dtype  \n",
            "---  ------      --------------  -----  \n",
            " 0   patientId   12624 non-null  object \n",
            " 1   PNEUMONIA   12624 non-null  float64\n",
            " 2   NOT_NORMAL  12624 non-null  float64\n",
            " 3   NORMAL      12624 non-null  float64\n",
            "dtypes: float64(3), object(1)\n",
            "memory usage: 394.6+ KB\n"
          ],
          "name": "stdout"
        }
      ]
    },
    {
      "cell_type": "code",
      "metadata": {
        "id": "j9b8lb7YVMhH"
      },
      "source": [
        "pred_dump_file = MODEL_NAME + '/class_prediction.csv'\n",
        "if (os.path.isfile(pred_dump_file)):\n",
        "  os.remove(pred_dump_file)"
      ],
      "execution_count": null,
      "outputs": []
    },
    {
      "cell_type": "code",
      "metadata": {
        "id": "YeZC3ixOprbZ",
        "outputId": "b66c8457-f4c9-4af9-b444-2869d2388fe7",
        "colab": {
          "base_uri": "https://localhost:8080/",
          "height": 34
        }
      },
      "source": [
        "#Dump the prediction as it is very time consuming task.\n",
        "\n",
        "import pandas as pd\n",
        "# pred_df = pd.DataFrame()\n",
        "if (os.path.isfile(pred_dump_file)):\n",
        "  print(\"Loading prediction:\",pred_dump_file)\n",
        "  pred_df = pd.read_csv(pred_dump_file)\n",
        "else:\n",
        "  print(\"Dumping prediction:\",pred_dump_file)\n",
        "  pred_df.to_csv(pred_dump_file,index=False)"
      ],
      "execution_count": null,
      "outputs": [
        {
          "output_type": "stream",
          "text": [
            "Dumping prediction: Option-1.DenseNet121/class_prediction.csv\n"
          ],
          "name": "stdout"
        }
      ]
    },
    {
      "cell_type": "code",
      "metadata": {
        "id": "6V8cufe4N338"
      },
      "source": [
        "# pred_df.drop(pred_df.columns[0],inplace=True,axis=1)"
      ],
      "execution_count": null,
      "outputs": []
    },
    {
      "cell_type": "code",
      "metadata": {
        "id": "k95nunBlcS4v",
        "outputId": "69ed2b86-8ee6-415a-e198-762e0c64a95a",
        "colab": {
          "base_uri": "https://localhost:8080/",
          "height": 203
        }
      },
      "source": [
        "merged_pred_meta_df = get_pred_merged_meta_data(pred_df,full_df)\n",
        "merged_pred_meta_df.head()"
      ],
      "execution_count": null,
      "outputs": [
        {
          "output_type": "execute_result",
          "data": {
            "text/html": [
              "<div>\n",
              "<style scoped>\n",
              "    .dataframe tbody tr th:only-of-type {\n",
              "        vertical-align: middle;\n",
              "    }\n",
              "\n",
              "    .dataframe tbody tr th {\n",
              "        vertical-align: top;\n",
              "    }\n",
              "\n",
              "    .dataframe thead th {\n",
              "        text-align: right;\n",
              "    }\n",
              "</style>\n",
              "<table border=\"1\" class=\"dataframe\">\n",
              "  <thead>\n",
              "    <tr style=\"text-align: right;\">\n",
              "      <th></th>\n",
              "      <th>PNEUMONIA</th>\n",
              "      <th>NOT_NORMAL</th>\n",
              "      <th>NORMAL</th>\n",
              "      <th>PatientAge</th>\n",
              "      <th>PatientSex</th>\n",
              "      <th>ViewPosition</th>\n",
              "      <th>Target</th>\n",
              "    </tr>\n",
              "  </thead>\n",
              "  <tbody>\n",
              "    <tr>\n",
              "      <th>87344c44-8544-4e4f-bd7d-4d9b335e65c5</th>\n",
              "      <td>0.194481</td>\n",
              "      <td>0.542762</td>\n",
              "      <td>0.262757</td>\n",
              "      <td>53.0</td>\n",
              "      <td>1.0</td>\n",
              "      <td>1.0</td>\n",
              "      <td>0.0</td>\n",
              "    </tr>\n",
              "    <tr>\n",
              "      <th>b3c3a0b7-e29b-4e0c-ba93-8c00c26ba5ad</th>\n",
              "      <td>0.001528</td>\n",
              "      <td>0.008788</td>\n",
              "      <td>0.989685</td>\n",
              "      <td>28.0</td>\n",
              "      <td>0.0</td>\n",
              "      <td>0.0</td>\n",
              "      <td>0.0</td>\n",
              "    </tr>\n",
              "    <tr>\n",
              "      <th>762f405c-b9fc-4b1c-abf0-a6c5a3f92b16</th>\n",
              "      <td>0.639516</td>\n",
              "      <td>0.357265</td>\n",
              "      <td>0.003219</td>\n",
              "      <td>79.0</td>\n",
              "      <td>1.0</td>\n",
              "      <td>1.0</td>\n",
              "      <td>0.0</td>\n",
              "    </tr>\n",
              "    <tr>\n",
              "      <th>543f4f16-4b7f-43bc-8d44-da66513c58b0</th>\n",
              "      <td>0.898975</td>\n",
              "      <td>0.098440</td>\n",
              "      <td>0.002586</td>\n",
              "      <td>47.0</td>\n",
              "      <td>0.0</td>\n",
              "      <td>1.0</td>\n",
              "      <td>1.0</td>\n",
              "    </tr>\n",
              "    <tr>\n",
              "      <th>7ae8181a-854b-413b-8574-8c7236fdb64b</th>\n",
              "      <td>0.093673</td>\n",
              "      <td>0.349353</td>\n",
              "      <td>0.556973</td>\n",
              "      <td>25.0</td>\n",
              "      <td>1.0</td>\n",
              "      <td>0.0</td>\n",
              "      <td>0.0</td>\n",
              "    </tr>\n",
              "  </tbody>\n",
              "</table>\n",
              "</div>"
            ],
            "text/plain": [
              "                                      PNEUMONIA  ...  Target\n",
              "87344c44-8544-4e4f-bd7d-4d9b335e65c5   0.194481  ...     0.0\n",
              "b3c3a0b7-e29b-4e0c-ba93-8c00c26ba5ad   0.001528  ...     0.0\n",
              "762f405c-b9fc-4b1c-abf0-a6c5a3f92b16   0.639516  ...     0.0\n",
              "543f4f16-4b7f-43bc-8d44-da66513c58b0   0.898975  ...     1.0\n",
              "7ae8181a-854b-413b-8574-8c7236fdb64b   0.093673  ...     0.0\n",
              "\n",
              "[5 rows x 7 columns]"
            ]
          },
          "metadata": {
            "tags": []
          },
          "execution_count": 44
        }
      ]
    },
    {
      "cell_type": "code",
      "metadata": {
        "id": "M0rL6YAEgeXp",
        "outputId": "bf5e283b-b59c-4163-823a-5c7e2797e990",
        "colab": {
          "base_uri": "https://localhost:8080/",
          "height": 203
        }
      },
      "source": [
        "merged_pred_meta_df.reset_index(inplace=True)\n",
        "merged_pred_meta_df.rename(columns={'index':'patientId'},inplace=True)\n",
        "merged_pred_meta_df.head()"
      ],
      "execution_count": null,
      "outputs": [
        {
          "output_type": "execute_result",
          "data": {
            "text/html": [
              "<div>\n",
              "<style scoped>\n",
              "    .dataframe tbody tr th:only-of-type {\n",
              "        vertical-align: middle;\n",
              "    }\n",
              "\n",
              "    .dataframe tbody tr th {\n",
              "        vertical-align: top;\n",
              "    }\n",
              "\n",
              "    .dataframe thead th {\n",
              "        text-align: right;\n",
              "    }\n",
              "</style>\n",
              "<table border=\"1\" class=\"dataframe\">\n",
              "  <thead>\n",
              "    <tr style=\"text-align: right;\">\n",
              "      <th></th>\n",
              "      <th>patientId</th>\n",
              "      <th>PNEUMONIA</th>\n",
              "      <th>NOT_NORMAL</th>\n",
              "      <th>NORMAL</th>\n",
              "      <th>PatientAge</th>\n",
              "      <th>PatientSex</th>\n",
              "      <th>ViewPosition</th>\n",
              "      <th>Target</th>\n",
              "    </tr>\n",
              "  </thead>\n",
              "  <tbody>\n",
              "    <tr>\n",
              "      <th>0</th>\n",
              "      <td>87344c44-8544-4e4f-bd7d-4d9b335e65c5</td>\n",
              "      <td>0.194481</td>\n",
              "      <td>0.542762</td>\n",
              "      <td>0.262757</td>\n",
              "      <td>53.0</td>\n",
              "      <td>1.0</td>\n",
              "      <td>1.0</td>\n",
              "      <td>0.0</td>\n",
              "    </tr>\n",
              "    <tr>\n",
              "      <th>1</th>\n",
              "      <td>b3c3a0b7-e29b-4e0c-ba93-8c00c26ba5ad</td>\n",
              "      <td>0.001528</td>\n",
              "      <td>0.008788</td>\n",
              "      <td>0.989685</td>\n",
              "      <td>28.0</td>\n",
              "      <td>0.0</td>\n",
              "      <td>0.0</td>\n",
              "      <td>0.0</td>\n",
              "    </tr>\n",
              "    <tr>\n",
              "      <th>2</th>\n",
              "      <td>762f405c-b9fc-4b1c-abf0-a6c5a3f92b16</td>\n",
              "      <td>0.639516</td>\n",
              "      <td>0.357265</td>\n",
              "      <td>0.003219</td>\n",
              "      <td>79.0</td>\n",
              "      <td>1.0</td>\n",
              "      <td>1.0</td>\n",
              "      <td>0.0</td>\n",
              "    </tr>\n",
              "    <tr>\n",
              "      <th>3</th>\n",
              "      <td>543f4f16-4b7f-43bc-8d44-da66513c58b0</td>\n",
              "      <td>0.898975</td>\n",
              "      <td>0.098440</td>\n",
              "      <td>0.002586</td>\n",
              "      <td>47.0</td>\n",
              "      <td>0.0</td>\n",
              "      <td>1.0</td>\n",
              "      <td>1.0</td>\n",
              "    </tr>\n",
              "    <tr>\n",
              "      <th>4</th>\n",
              "      <td>7ae8181a-854b-413b-8574-8c7236fdb64b</td>\n",
              "      <td>0.093673</td>\n",
              "      <td>0.349353</td>\n",
              "      <td>0.556973</td>\n",
              "      <td>25.0</td>\n",
              "      <td>1.0</td>\n",
              "      <td>0.0</td>\n",
              "      <td>0.0</td>\n",
              "    </tr>\n",
              "  </tbody>\n",
              "</table>\n",
              "</div>"
            ],
            "text/plain": [
              "                              patientId  PNEUMONIA  ...  ViewPosition  Target\n",
              "0  87344c44-8544-4e4f-bd7d-4d9b335e65c5   0.194481  ...           1.0     0.0\n",
              "1  b3c3a0b7-e29b-4e0c-ba93-8c00c26ba5ad   0.001528  ...           0.0     0.0\n",
              "2  762f405c-b9fc-4b1c-abf0-a6c5a3f92b16   0.639516  ...           1.0     0.0\n",
              "3  543f4f16-4b7f-43bc-8d44-da66513c58b0   0.898975  ...           1.0     1.0\n",
              "4  7ae8181a-854b-413b-8574-8c7236fdb64b   0.093673  ...           0.0     0.0\n",
              "\n",
              "[5 rows x 8 columns]"
            ]
          },
          "metadata": {
            "tags": []
          },
          "execution_count": 45
        }
      ]
    },
    {
      "cell_type": "code",
      "metadata": {
        "id": "i7adCsuzghyL",
        "outputId": "65b06dae-7a0d-4daf-c380-04b1a5748542",
        "colab": {
          "base_uri": "https://localhost:8080/",
          "height": 203
        }
      },
      "source": [
        "merged_pred_meta_df[merged_pred_meta_df.Target==1].sample(5)"
      ],
      "execution_count": null,
      "outputs": [
        {
          "output_type": "execute_result",
          "data": {
            "text/html": [
              "<div>\n",
              "<style scoped>\n",
              "    .dataframe tbody tr th:only-of-type {\n",
              "        vertical-align: middle;\n",
              "    }\n",
              "\n",
              "    .dataframe tbody tr th {\n",
              "        vertical-align: top;\n",
              "    }\n",
              "\n",
              "    .dataframe thead th {\n",
              "        text-align: right;\n",
              "    }\n",
              "</style>\n",
              "<table border=\"1\" class=\"dataframe\">\n",
              "  <thead>\n",
              "    <tr style=\"text-align: right;\">\n",
              "      <th></th>\n",
              "      <th>patientId</th>\n",
              "      <th>PNEUMONIA</th>\n",
              "      <th>NOT_NORMAL</th>\n",
              "      <th>NORMAL</th>\n",
              "      <th>PatientAge</th>\n",
              "      <th>PatientSex</th>\n",
              "      <th>ViewPosition</th>\n",
              "      <th>Target</th>\n",
              "    </tr>\n",
              "  </thead>\n",
              "  <tbody>\n",
              "    <tr>\n",
              "      <th>4225</th>\n",
              "      <td>06bc1519-c307-4a98-b00b-8329f2ddf615</td>\n",
              "      <td>0.537230</td>\n",
              "      <td>0.458858</td>\n",
              "      <td>0.003912</td>\n",
              "      <td>39.0</td>\n",
              "      <td>1.0</td>\n",
              "      <td>0.0</td>\n",
              "      <td>1.0</td>\n",
              "    </tr>\n",
              "    <tr>\n",
              "      <th>416</th>\n",
              "      <td>3a9196af-16e0-4a6a-95e4-426614770eb2</td>\n",
              "      <td>0.173393</td>\n",
              "      <td>0.620051</td>\n",
              "      <td>0.206556</td>\n",
              "      <td>59.0</td>\n",
              "      <td>1.0</td>\n",
              "      <td>0.0</td>\n",
              "      <td>1.0</td>\n",
              "    </tr>\n",
              "    <tr>\n",
              "      <th>8958</th>\n",
              "      <td>737aa32f-2044-45a6-b50c-b3aadb51394a</td>\n",
              "      <td>0.850772</td>\n",
              "      <td>0.143708</td>\n",
              "      <td>0.005520</td>\n",
              "      <td>49.0</td>\n",
              "      <td>0.0</td>\n",
              "      <td>1.0</td>\n",
              "      <td>1.0</td>\n",
              "    </tr>\n",
              "    <tr>\n",
              "      <th>9090</th>\n",
              "      <td>69220eb7-f35f-4620-9a62-cd5478fc9f99</td>\n",
              "      <td>0.389266</td>\n",
              "      <td>0.562721</td>\n",
              "      <td>0.048013</td>\n",
              "      <td>44.0</td>\n",
              "      <td>0.0</td>\n",
              "      <td>1.0</td>\n",
              "      <td>1.0</td>\n",
              "    </tr>\n",
              "    <tr>\n",
              "      <th>8857</th>\n",
              "      <td>acb5c720-f741-415c-993c-65855be08ffa</td>\n",
              "      <td>0.607913</td>\n",
              "      <td>0.384872</td>\n",
              "      <td>0.007215</td>\n",
              "      <td>65.0</td>\n",
              "      <td>0.0</td>\n",
              "      <td>0.0</td>\n",
              "      <td>1.0</td>\n",
              "    </tr>\n",
              "  </tbody>\n",
              "</table>\n",
              "</div>"
            ],
            "text/plain": [
              "                                 patientId  PNEUMONIA  ...  ViewPosition  Target\n",
              "4225  06bc1519-c307-4a98-b00b-8329f2ddf615   0.537230  ...           0.0     1.0\n",
              "416   3a9196af-16e0-4a6a-95e4-426614770eb2   0.173393  ...           0.0     1.0\n",
              "8958  737aa32f-2044-45a6-b50c-b3aadb51394a   0.850772  ...           1.0     1.0\n",
              "9090  69220eb7-f35f-4620-9a62-cd5478fc9f99   0.389266  ...           1.0     1.0\n",
              "8857  acb5c720-f741-415c-993c-65855be08ffa   0.607913  ...           0.0     1.0\n",
              "\n",
              "[5 rows x 8 columns]"
            ]
          },
          "metadata": {
            "tags": []
          },
          "execution_count": 46
        }
      ]
    },
    {
      "cell_type": "code",
      "metadata": {
        "id": "8fS3QANFgkz_",
        "outputId": "e72adb2e-f580-4264-8d14-97114275c245",
        "colab": {
          "base_uri": "https://localhost:8080/",
          "height": 248
        }
      },
      "source": [
        "import matplotlib.pyplot as plt\n",
        "import numpy as np\n",
        "unique_values, count = np.unique(merged_pred_meta_df['Target'], return_counts=True)\n",
        "\n",
        "plt.pie(count, labels = ['0-No Pneumonia', '1-Pneumonia'],\n",
        "          autopct='%1.1f%%', startangle=90)\n",
        "plt.show()\n",
        "#Need to balance the data here."
      ],
      "execution_count": null,
      "outputs": [
        {
          "output_type": "display_data",
          "data": {
            "image/png": "[encoded data removed]",
            "text/plain": [
              "<Figure size 432x288 with 1 Axes>"
            ]
          },
          "metadata": {
            "tags": []
          }
        }
      ]
    },
    {
      "cell_type": "code",
      "metadata": {
        "id": "5FJd_jgMgriX"
      },
      "source": [
        "#Split the data into train & valid\n",
        "y = merged_pred_meta_df['Target'].to_numpy()\n",
        "X = merged_pred_meta_df[merged_pred_meta_df.columns[1:7]]"
      ],
      "execution_count": null,
      "outputs": []
    },
    {
      "cell_type": "code",
      "metadata": {
        "id": "F-JzQDWZgse_",
        "outputId": "7b8d9570-8de3-47f0-be73-5c0e0e9ae0b0",
        "colab": {
          "base_uri": "https://localhost:8080/",
          "height": 203
        }
      },
      "source": [
        "X.head()"
      ],
      "execution_count": null,
      "outputs": [
        {
          "output_type": "execute_result",
          "data": {
            "text/html": [
              "<div>\n",
              "<style scoped>\n",
              "    .dataframe tbody tr th:only-of-type {\n",
              "        vertical-align: middle;\n",
              "    }\n",
              "\n",
              "    .dataframe tbody tr th {\n",
              "        vertical-align: top;\n",
              "    }\n",
              "\n",
              "    .dataframe thead th {\n",
              "        text-align: right;\n",
              "    }\n",
              "</style>\n",
              "<table border=\"1\" class=\"dataframe\">\n",
              "  <thead>\n",
              "    <tr style=\"text-align: right;\">\n",
              "      <th></th>\n",
              "      <th>PNEUMONIA</th>\n",
              "      <th>NOT_NORMAL</th>\n",
              "      <th>NORMAL</th>\n",
              "      <th>PatientAge</th>\n",
              "      <th>PatientSex</th>\n",
              "      <th>ViewPosition</th>\n",
              "    </tr>\n",
              "  </thead>\n",
              "  <tbody>\n",
              "    <tr>\n",
              "      <th>0</th>\n",
              "      <td>0.194481</td>\n",
              "      <td>0.542762</td>\n",
              "      <td>0.262757</td>\n",
              "      <td>53.0</td>\n",
              "      <td>1.0</td>\n",
              "      <td>1.0</td>\n",
              "    </tr>\n",
              "    <tr>\n",
              "      <th>1</th>\n",
              "      <td>0.001528</td>\n",
              "      <td>0.008788</td>\n",
              "      <td>0.989685</td>\n",
              "      <td>28.0</td>\n",
              "      <td>0.0</td>\n",
              "      <td>0.0</td>\n",
              "    </tr>\n",
              "    <tr>\n",
              "      <th>2</th>\n",
              "      <td>0.639516</td>\n",
              "      <td>0.357265</td>\n",
              "      <td>0.003219</td>\n",
              "      <td>79.0</td>\n",
              "      <td>1.0</td>\n",
              "      <td>1.0</td>\n",
              "    </tr>\n",
              "    <tr>\n",
              "      <th>3</th>\n",
              "      <td>0.898975</td>\n",
              "      <td>0.098440</td>\n",
              "      <td>0.002586</td>\n",
              "      <td>47.0</td>\n",
              "      <td>0.0</td>\n",
              "      <td>1.0</td>\n",
              "    </tr>\n",
              "    <tr>\n",
              "      <th>4</th>\n",
              "      <td>0.093673</td>\n",
              "      <td>0.349353</td>\n",
              "      <td>0.556973</td>\n",
              "      <td>25.0</td>\n",
              "      <td>1.0</td>\n",
              "      <td>0.0</td>\n",
              "    </tr>\n",
              "  </tbody>\n",
              "</table>\n",
              "</div>"
            ],
            "text/plain": [
              "   PNEUMONIA  NOT_NORMAL    NORMAL  PatientAge  PatientSex  ViewPosition\n",
              "0   0.194481    0.542762  0.262757        53.0         1.0           1.0\n",
              "1   0.001528    0.008788  0.989685        28.0         0.0           0.0\n",
              "2   0.639516    0.357265  0.003219        79.0         1.0           1.0\n",
              "3   0.898975    0.098440  0.002586        47.0         0.0           1.0\n",
              "4   0.093673    0.349353  0.556973        25.0         1.0           0.0"
            ]
          },
          "metadata": {
            "tags": []
          },
          "execution_count": 49
        }
      ]
    },
    {
      "cell_type": "code",
      "metadata": {
        "id": "A6tMdhPygxWY"
      },
      "source": [
        "from sklearn.model_selection import train_test_split\n",
        "X_train, X_test, y_train, y_test = train_test_split(X, y, test_size=0.10, random_state=42)"
      ],
      "execution_count": null,
      "outputs": []
    },
    {
      "cell_type": "markdown",
      "metadata": {
        "id": "eijJdoREf0m1"
      },
      "source": [
        "## FFNN model"
      ]
    },
    {
      "cell_type": "code",
      "metadata": {
        "id": "8toeJToDg4Fn"
      },
      "source": [
        "#Build neural netwrok\n",
        "\n",
        "from tensorflow.keras.layers import  Reshape\n",
        "def add_layer(model):\n",
        "  kinit ='he_normal' #tf.keras.initializers.he_normal()\n",
        "  actv = 'relu' #activation.relu\n",
        "  # model.add(Reshape((6,),input_shape=(32,32,)))\n",
        "  # #Add batch normalization to avoid NAN in training loss\n",
        "  # model.add(kl.normalization.BatchNormalization())\n",
        "  #Add input layer -- \n",
        "  model.add(Dense(6,input_dim= 6,activation=actv,kernel_initializer=kinit))\n",
        "  model.add(BatchNormalization())\n",
        "  #How many hidden layer? No clear rule, trial & error? Literature says, it 3 hidden layer sufficient\n",
        "  #Add hidden layer -1\n",
        "  model.add(Dense(16,activation=actv,kernel_initializer=kinit))\n",
        "  model.add(BatchNormalization())\n",
        "  #Add hidden layer -2\n",
        "  model.add(Dense(8,activation=actv,kernel_initializer=kinit))\n",
        "  model.add(BatchNormalization())\n",
        "  #Add hidden layer -3\n",
        "  model.add(Dense(4,activation=actv,kernel_initializer=kinit))\n",
        "  model.add(BatchNormalization())\n",
        "\n",
        "\n",
        "  #Add output layer -- number of output neoron 1(as the number of output is 10)\n",
        "  #Add hidden layer -1\n",
        "  model.add(Dense(1,activation='sigmoid',kernel_initializer=kinit))\n",
        "  \n",
        "nn_model = Sequential()\n",
        "add_layer(nn_model)"
      ],
      "execution_count": null,
      "outputs": []
    },
    {
      "cell_type": "code",
      "metadata": {
        "id": "-Y4QjrKJg5GX",
        "outputId": "85556730-4a43-452b-d07b-5243bf7d33e7",
        "colab": {
          "base_uri": "https://localhost:8080/",
          "height": 1000
        }
      },
      "source": [
        "def fit_model(opt,model,epoch=60,verbo=1,batchsize=128):\n",
        "  model.compile(optimizer = opt, loss = 'binary_crossentropy', metrics = ['accuracy'])\n",
        "  history = model.fit(X_train, y_train, validation_data=(X_test,y_test),batch_size=batchsize, epochs=epoch, verbose=verbo)\n",
        "  return history\n",
        "opt = Adam(lr = LEARN_RATE)\n",
        "history = fit_model(opt,nn_model)"
      ],
      "execution_count": null,
      "outputs": [
        {
          "output_type": "stream",
          "text": [
            "Epoch 1/60\n",
            "89/89 [==============================] - 1s 9ms/step - loss: 0.8006 - accuracy: 0.5868 - val_loss: 0.6203 - val_accuracy: 0.6873\n",
            "Epoch 2/60\n",
            "89/89 [==============================] - 0s 5ms/step - loss: 0.7265 - accuracy: 0.6146 - val_loss: 0.6082 - val_accuracy: 0.6801\n",
            "Epoch 3/60\n",
            "89/89 [==============================] - 0s 5ms/step - loss: 0.6721 - accuracy: 0.6503 - val_loss: 0.6141 - val_accuracy: 0.6762\n",
            "Epoch 4/60\n",
            "89/89 [==============================] - 0s 5ms/step - loss: 0.6334 - accuracy: 0.6759 - val_loss: 0.6278 - val_accuracy: 0.6683\n",
            "Epoch 5/60\n",
            "89/89 [==============================] - 0s 5ms/step - loss: 0.6102 - accuracy: 0.6969 - val_loss: 0.6047 - val_accuracy: 0.6833\n",
            "Epoch 6/60\n",
            "89/89 [==============================] - 0s 5ms/step - loss: 0.5943 - accuracy: 0.7153 - val_loss: 0.5865 - val_accuracy: 0.6999\n",
            "Epoch 7/60\n",
            "89/89 [==============================] - 0s 5ms/step - loss: 0.5778 - accuracy: 0.7229 - val_loss: 0.5605 - val_accuracy: 0.7276\n",
            "Epoch 8/60\n",
            "89/89 [==============================] - 0s 5ms/step - loss: 0.5668 - accuracy: 0.7304 - val_loss: 0.5519 - val_accuracy: 0.7356\n",
            "Epoch 9/60\n",
            "89/89 [==============================] - 0s 5ms/step - loss: 0.5539 - accuracy: 0.7355 - val_loss: 0.5520 - val_accuracy: 0.7371\n",
            "Epoch 10/60\n",
            "89/89 [==============================] - 0s 5ms/step - loss: 0.5458 - accuracy: 0.7444 - val_loss: 0.5600 - val_accuracy: 0.7340\n",
            "Epoch 11/60\n",
            "89/89 [==============================] - 0s 5ms/step - loss: 0.5370 - accuracy: 0.7476 - val_loss: 0.5836 - val_accuracy: 0.7284\n",
            "Epoch 12/60\n",
            "89/89 [==============================] - 0s 5ms/step - loss: 0.5259 - accuracy: 0.7525 - val_loss: 0.6082 - val_accuracy: 0.7213\n",
            "Epoch 13/60\n",
            "89/89 [==============================] - 0s 5ms/step - loss: 0.5200 - accuracy: 0.7563 - val_loss: 0.6120 - val_accuracy: 0.7245\n",
            "Epoch 14/60\n",
            "89/89 [==============================] - 0s 5ms/step - loss: 0.5129 - accuracy: 0.7600 - val_loss: 0.5941 - val_accuracy: 0.7253\n",
            "Epoch 15/60\n",
            "89/89 [==============================] - 0s 5ms/step - loss: 0.5065 - accuracy: 0.7636 - val_loss: 0.6214 - val_accuracy: 0.7150\n",
            "Epoch 16/60\n",
            "89/89 [==============================] - 0s 5ms/step - loss: 0.5016 - accuracy: 0.7630 - val_loss: 0.6085 - val_accuracy: 0.7213\n",
            "Epoch 17/60\n",
            "89/89 [==============================] - 0s 5ms/step - loss: 0.4944 - accuracy: 0.7689 - val_loss: 0.5504 - val_accuracy: 0.7490\n",
            "Epoch 18/60\n",
            "89/89 [==============================] - 0s 5ms/step - loss: 0.4840 - accuracy: 0.7728 - val_loss: 0.5243 - val_accuracy: 0.7601\n",
            "Epoch 19/60\n",
            "89/89 [==============================] - 0s 5ms/step - loss: 0.4742 - accuracy: 0.7752 - val_loss: 0.5268 - val_accuracy: 0.7767\n",
            "Epoch 20/60\n",
            "89/89 [==============================] - 0s 5ms/step - loss: 0.4703 - accuracy: 0.7791 - val_loss: 0.5791 - val_accuracy: 0.7799\n",
            "Epoch 21/60\n",
            "89/89 [==============================] - 0s 5ms/step - loss: 0.4623 - accuracy: 0.7843 - val_loss: 0.7367 - val_accuracy: 0.7530\n",
            "Epoch 22/60\n",
            "89/89 [==============================] - 0s 5ms/step - loss: 0.4590 - accuracy: 0.7826 - val_loss: 0.6835 - val_accuracy: 0.7569\n",
            "Epoch 23/60\n",
            "89/89 [==============================] - 0s 5ms/step - loss: 0.4563 - accuracy: 0.7835 - val_loss: 0.6177 - val_accuracy: 0.7656\n",
            "Epoch 24/60\n",
            "89/89 [==============================] - 0s 5ms/step - loss: 0.4506 - accuracy: 0.7874 - val_loss: 0.6080 - val_accuracy: 0.7648\n",
            "Epoch 25/60\n",
            "89/89 [==============================] - 0s 5ms/step - loss: 0.4497 - accuracy: 0.7891 - val_loss: 0.4797 - val_accuracy: 0.7965\n",
            "Epoch 26/60\n",
            "89/89 [==============================] - 0s 5ms/step - loss: 0.4494 - accuracy: 0.7888 - val_loss: 0.4353 - val_accuracy: 0.7949\n",
            "Epoch 27/60\n",
            "89/89 [==============================] - 0s 5ms/step - loss: 0.4465 - accuracy: 0.7912 - val_loss: 0.4368 - val_accuracy: 0.7933\n",
            "Epoch 28/60\n",
            "89/89 [==============================] - 0s 5ms/step - loss: 0.4445 - accuracy: 0.7927 - val_loss: 0.4367 - val_accuracy: 0.7933\n",
            "Epoch 29/60\n",
            "89/89 [==============================] - 0s 5ms/step - loss: 0.4456 - accuracy: 0.7902 - val_loss: 0.4396 - val_accuracy: 0.7981\n",
            "Epoch 30/60\n",
            "89/89 [==============================] - 0s 5ms/step - loss: 0.4413 - accuracy: 0.7930 - val_loss: 0.4307 - val_accuracy: 0.7989\n",
            "Epoch 31/60\n",
            "89/89 [==============================] - 0s 5ms/step - loss: 0.4388 - accuracy: 0.7936 - val_loss: 0.4314 - val_accuracy: 0.7926\n",
            "Epoch 32/60\n",
            "89/89 [==============================] - 0s 5ms/step - loss: 0.4402 - accuracy: 0.7927 - val_loss: 0.4335 - val_accuracy: 0.7918\n",
            "Epoch 33/60\n",
            "89/89 [==============================] - 0s 5ms/step - loss: 0.4390 - accuracy: 0.7932 - val_loss: 0.4343 - val_accuracy: 0.7933\n",
            "Epoch 34/60\n",
            "89/89 [==============================] - 0s 5ms/step - loss: 0.4383 - accuracy: 0.7940 - val_loss: 0.4404 - val_accuracy: 0.7957\n",
            "Epoch 35/60\n",
            "89/89 [==============================] - 0s 5ms/step - loss: 0.4380 - accuracy: 0.7921 - val_loss: 0.4398 - val_accuracy: 0.7941\n",
            "Epoch 36/60\n",
            "89/89 [==============================] - 0s 5ms/step - loss: 0.4367 - accuracy: 0.7933 - val_loss: 0.4503 - val_accuracy: 0.7870\n",
            "Epoch 37/60\n",
            "89/89 [==============================] - 0s 5ms/step - loss: 0.4359 - accuracy: 0.7934 - val_loss: 0.4453 - val_accuracy: 0.7941\n",
            "Epoch 38/60\n",
            "89/89 [==============================] - 0s 5ms/step - loss: 0.4356 - accuracy: 0.7947 - val_loss: 0.4501 - val_accuracy: 0.7926\n",
            "Epoch 39/60\n",
            "89/89 [==============================] - 0s 5ms/step - loss: 0.4352 - accuracy: 0.7935 - val_loss: 0.4296 - val_accuracy: 0.7941\n",
            "Epoch 40/60\n",
            "89/89 [==============================] - 0s 5ms/step - loss: 0.4337 - accuracy: 0.7956 - val_loss: 0.4381 - val_accuracy: 0.7957\n",
            "Epoch 41/60\n",
            "89/89 [==============================] - 0s 5ms/step - loss: 0.4342 - accuracy: 0.7965 - val_loss: 0.4434 - val_accuracy: 0.7941\n",
            "Epoch 42/60\n",
            "89/89 [==============================] - 0s 5ms/step - loss: 0.4310 - accuracy: 0.7978 - val_loss: 0.4435 - val_accuracy: 0.7926\n",
            "Epoch 43/60\n",
            "89/89 [==============================] - 0s 5ms/step - loss: 0.4317 - accuracy: 0.7956 - val_loss: 0.4490 - val_accuracy: 0.7878\n",
            "Epoch 44/60\n",
            "89/89 [==============================] - 0s 5ms/step - loss: 0.4329 - accuracy: 0.7960 - val_loss: 0.4361 - val_accuracy: 0.7910\n",
            "Epoch 45/60\n",
            "89/89 [==============================] - 0s 5ms/step - loss: 0.4331 - accuracy: 0.7946 - val_loss: 0.4279 - val_accuracy: 0.7949\n",
            "Epoch 46/60\n",
            "89/89 [==============================] - 0s 5ms/step - loss: 0.4341 - accuracy: 0.7972 - val_loss: 0.4279 - val_accuracy: 0.7973\n",
            "Epoch 47/60\n",
            "89/89 [==============================] - 0s 5ms/step - loss: 0.4314 - accuracy: 0.7974 - val_loss: 0.4273 - val_accuracy: 0.7941\n",
            "Epoch 48/60\n",
            "89/89 [==============================] - 0s 5ms/step - loss: 0.4322 - accuracy: 0.7975 - val_loss: 0.4266 - val_accuracy: 0.7957\n",
            "Epoch 49/60\n",
            "89/89 [==============================] - 0s 5ms/step - loss: 0.4308 - accuracy: 0.7951 - val_loss: 0.4256 - val_accuracy: 0.7933\n",
            "Epoch 50/60\n",
            "89/89 [==============================] - 0s 5ms/step - loss: 0.4314 - accuracy: 0.7964 - val_loss: 0.4323 - val_accuracy: 0.7926\n",
            "Epoch 51/60\n",
            "89/89 [==============================] - 0s 5ms/step - loss: 0.4319 - accuracy: 0.7959 - val_loss: 0.4268 - val_accuracy: 0.7965\n",
            "Epoch 52/60\n",
            "89/89 [==============================] - 0s 5ms/step - loss: 0.4300 - accuracy: 0.7986 - val_loss: 0.4224 - val_accuracy: 0.8029\n",
            "Epoch 53/60\n",
            "89/89 [==============================] - 0s 5ms/step - loss: 0.4312 - accuracy: 0.7963 - val_loss: 0.4338 - val_accuracy: 0.7949\n",
            "Epoch 54/60\n",
            "89/89 [==============================] - 0s 5ms/step - loss: 0.4319 - accuracy: 0.7964 - val_loss: 0.4347 - val_accuracy: 0.7926\n",
            "Epoch 55/60\n",
            "89/89 [==============================] - 0s 5ms/step - loss: 0.4284 - accuracy: 0.7983 - val_loss: 0.4222 - val_accuracy: 0.8005\n",
            "Epoch 56/60\n",
            "89/89 [==============================] - 0s 5ms/step - loss: 0.4320 - accuracy: 0.7974 - val_loss: 0.4284 - val_accuracy: 0.7949\n",
            "Epoch 57/60\n",
            "89/89 [==============================] - 0s 5ms/step - loss: 0.4310 - accuracy: 0.7964 - val_loss: 0.4338 - val_accuracy: 0.7902\n",
            "Epoch 58/60\n",
            "89/89 [==============================] - 0s 5ms/step - loss: 0.4313 - accuracy: 0.7968 - val_loss: 0.4284 - val_accuracy: 0.7949\n",
            "Epoch 59/60\n",
            "89/89 [==============================] - 0s 5ms/step - loss: 0.4292 - accuracy: 0.7978 - val_loss: 0.4358 - val_accuracy: 0.7941\n",
            "Epoch 60/60\n",
            "89/89 [==============================] - 0s 5ms/step - loss: 0.4303 - accuracy: 0.7968 - val_loss: 0.4261 - val_accuracy: 0.7965\n"
          ],
          "name": "stdout"
        }
      ]
    },
    {
      "cell_type": "code",
      "metadata": {
        "id": "Xt0uxoAqh4g1"
      },
      "source": [
        "HISTORY_FILE = MODEL_NAME+\"/\" +\"history_FFNN_final.csv\"\n",
        "his_ffnn = saveHistory(history,HISTORY_FILE)"
      ],
      "execution_count": null,
      "outputs": []
    },
    {
      "cell_type": "markdown",
      "metadata": {
        "id": "nQILEwofEBon"
      },
      "source": [
        "## Classification Performance(Recall)"
      ]
    },
    {
      "cell_type": "code",
      "metadata": {
        "id": "wtzHlRxbhdLw",
        "outputId": "bc515f25-8e30-46fc-bb8b-5dfd6f511498",
        "colab": {
          "base_uri": "https://localhost:8080/",
          "height": 374
        }
      },
      "source": [
        "plot_his(his_ffnn,'accuracy')"
      ],
      "execution_count": null,
      "outputs": [
        {
          "output_type": "display_data",
          "data": {
            "image/png": "[encoded data removed]",
            "text/plain": [
              "<Figure size 1080x432 with 2 Axes>"
            ]
          },
          "metadata": {
            "tags": [],
            "needs_background": "light"
          }
        }
      ]
    },
    {
      "cell_type": "code",
      "metadata": {
        "id": "2HM2z2-k-p6e"
      },
      "source": [
        "pred_y_train = nn_model.predict(X_train)\n",
        "pred_y_train_class = (pred_y_train >= 0.45).astype(np.int)"
      ],
      "execution_count": null,
      "outputs": []
    },
    {
      "cell_type": "code",
      "metadata": {
        "id": "_r7pfll_hASO"
      },
      "source": [
        "pred_y = nn_model.predict(X_test)"
      ],
      "execution_count": null,
      "outputs": []
    },
    {
      "cell_type": "code",
      "metadata": {
        "id": "s1lp1ZDgPJHO",
        "outputId": "87c8a06f-bac1-491b-ad75-f5e5c53776e4",
        "colab": {
          "base_uri": "https://localhost:8080/",
          "height": 139
        }
      },
      "source": [
        "pred_y"
      ],
      "execution_count": null,
      "outputs": [
        {
          "output_type": "execute_result",
          "data": {
            "text/plain": [
              "array([[0.5301667 ],\n",
              "       [0.42177293],\n",
              "       [0.7964841 ],\n",
              "       ...,\n",
              "       [0.4866893 ],\n",
              "       [0.10387224],\n",
              "       [0.20502986]], dtype=float32)"
            ]
          },
          "metadata": {
            "tags": []
          },
          "execution_count": 57
        }
      ]
    },
    {
      "cell_type": "code",
      "metadata": {
        "id": "cau9QmZSupPQ"
      },
      "source": [
        "pred_y_class = (pred_y >= 0.45).astype(np.int)"
      ],
      "execution_count": null,
      "outputs": []
    },
    {
      "cell_type": "code",
      "metadata": {
        "id": "gT-A3gSdxdwp"
      },
      "source": [
        "y_test = (y_test >= 0.5).astype(np.int)\n"
      ],
      "execution_count": null,
      "outputs": []
    },
    {
      "cell_type": "code",
      "metadata": {
        "id": "nBHNQG5x-9RK",
        "outputId": "f7b5b037-a747-4b62-a492-b90971103742",
        "colab": {
          "base_uri": "https://localhost:8080/",
          "height": 325
        }
      },
      "source": [
        "plt.figure(figsize= (15,10))\n",
        "plt.subplot(2,2,1)\n",
        "\n",
        "mat = metrics.confusion_matrix(y_train, pred_y_train_class)\n",
        "sns.heatmap(mat, square=True, annot = True, fmt = 'd', cbar = False, linewidth=0.5)\n",
        "plt.title('Confusion Matrix Train Set', fontsize = 12, fontweight=\"bold\")\n",
        "plt.xlabel('Predicted')\n",
        "plt.ylabel('True')\n",
        "#plt.show()\n",
        "\n",
        "plt.subplot(2,2,2)\n",
        "mat = metrics.confusion_matrix(y_test, pred_y_class)\n",
        "sns.heatmap(mat, square=True, annot = True, fmt = 'd', cbar = False, linewidth=0.5)\n",
        "plt.title('Confusion Matrix Test Set', fontsize = 12, fontweight=\"bold\")\n",
        "plt.xlabel('Predicted')\n",
        "plt.ylabel('True')\n",
        "plt.show()"
      ],
      "execution_count": null,
      "outputs": [
        {
          "output_type": "display_data",
          "data": {
            "image/png": "[encoded data removed]",
            "text/plain": [
              "<Figure size 1080x720 with 2 Axes>"
            ]
          },
          "metadata": {
            "tags": [],
            "needs_background": "light"
          }
        }
      ]
    },
    {
      "cell_type": "code",
      "metadata": {
        "id": "75Omtsd9_Eh5",
        "outputId": "8b0eaee9-7e79-4f9b-c61d-f66a170ffc15",
        "colab": {
          "base_uri": "https://localhost:8080/",
          "height": 261
        }
      },
      "source": [
        "print(\"Confusion Matrix:- \\n\", metrics.confusion_matrix(y_train, pred_y_train_class), \"\\n\")\n",
        "print(\"Classification Report Test Set:- \\n\", metrics.classification_report(y_train, pred_y_train_class))"
      ],
      "execution_count": null,
      "outputs": [
        {
          "output_type": "stream",
          "text": [
            "Confusion Matrix:- \n",
            " [[6202 1379]\n",
            " [ 958 2822]] \n",
            "\n",
            "Classification Report Test Set:- \n",
            "               precision    recall  f1-score   support\n",
            "\n",
            "         0.0       0.87      0.82      0.84      7581\n",
            "         1.0       0.67      0.75      0.71      3780\n",
            "\n",
            "    accuracy                           0.79     11361\n",
            "   macro avg       0.77      0.78      0.77     11361\n",
            "weighted avg       0.80      0.79      0.80     11361\n",
            "\n"
          ],
          "name": "stdout"
        }
      ]
    },
    {
      "cell_type": "code",
      "metadata": {
        "id": "mk2Ow2pMQvzF",
        "outputId": "f2e8d191-30ea-4921-ab6e-0244278b9a1a",
        "colab": {
          "base_uri": "https://localhost:8080/",
          "height": 261
        }
      },
      "source": [
        "print(\"Confusion Matrix:- \\n\", metrics.confusion_matrix(y_test, pred_y_class), \"\\n\")\n",
        "print(\"Classification Report:- \\n\", metrics.classification_report(y_test, pred_y_class))"
      ],
      "execution_count": null,
      "outputs": [
        {
          "output_type": "stream",
          "text": [
            "Confusion Matrix:- \n",
            " [[680 155]\n",
            " [107 321]] \n",
            "\n",
            "Classification Report:- \n",
            "               precision    recall  f1-score   support\n",
            "\n",
            "           0       0.86      0.81      0.84       835\n",
            "           1       0.67      0.75      0.71       428\n",
            "\n",
            "    accuracy                           0.79      1263\n",
            "   macro avg       0.77      0.78      0.77      1263\n",
            "weighted avg       0.80      0.79      0.79      1263\n",
            "\n"
          ],
          "name": "stdout"
        }
      ]
    },
    {
      "cell_type": "markdown",
      "metadata": {
        "id": "6YX2FQZd53lA"
      },
      "source": [
        "### ROC curve"
      ]
    },
    {
      "cell_type": "code",
      "metadata": {
        "id": "q13uvWLk56pf",
        "outputId": "ee306a3b-317c-4a03-bcf5-675494d8f04e",
        "colab": {
          "base_uri": "https://localhost:8080/",
          "height": 1000
        }
      },
      "source": [
        "from sklearn.metrics import roc_curve, roc_auc_score\n",
        "from matplotlib.font_manager import FontProperties\n",
        "fontP = FontProperties()\n",
        "fontP.set_size('xx-small')\n",
        "fpr, tpr, _ = roc_curve(y_test, pred_y)\n",
        "fig, ax1 = plt.subplots(1,1, figsize = (5, 5), dpi = 250)\n",
        "ax1.plot(fpr, tpr, marker='.', label = 'DenseNet121 (AUC:%2.2f)' % roc_auc_score(y_test, pred_y))\n",
        "ax1.plot(fpr, fpr, linestyle='--', label = 'Random Guessing')\n",
        "ax1.legend(title='legend',  loc='lower right', prop=fontP)\n",
        "ax1.set_xlabel('False Positive Rate')\n",
        "ax1.set_ylabel('True Positive Rate');\n",
        "ax1.set_title('Lung Opacity ROC Curve')"
      ],
      "execution_count": null,
      "outputs": [
        {
          "output_type": "execute_result",
          "data": {
            "text/plain": [
              "Text(0.5, 1.0, 'Lung Opacity ROC Curve')"
            ]
          },
          "metadata": {
            "tags": []
          },
          "execution_count": 63
        },
        {
          "output_type": "display_data",
          "data": {
            "image/png": "[encoded data removed]",
            "text/plain": [
              "<Figure size 1250x1250 with 1 Axes>"
            ]
          },
          "metadata": {
            "tags": [],
            "needs_background": "light"
          }
        }
      ]
    },
    {
      "cell_type": "markdown",
      "metadata": {
        "id": "q2SKp66bF8kg"
      },
      "source": [
        "## Conclusion"
      ]
    }
  ]
}