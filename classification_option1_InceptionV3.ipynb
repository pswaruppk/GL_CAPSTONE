{
  "nbformat": 4,
  "nbformat_minor": 0,
  "metadata": {
    "colab": {
      "name": "classification_option1_InceptionV3.ipynb",
      "provenance": [],
      "collapsed_sections": [],
      "toc_visible": true,
      "include_colab_link": true
    },
    "kernelspec": {
      "name": "python3",
      "display_name": "Python 3"
    },
    "accelerator": "GPU"
  },
  "cells": [
    {
      "cell_type": "markdown",
      "metadata": {
        "id": "view-in-github",
        "colab_type": "text"
      },
      "source": [
        "<a href=\"https://colab.research.google.com/github/pswaruppk/GL_CAPSTONE/blob/master/classification_option1_InceptionV3.ipynb\" target=\"_parent\"><img src=\"https://colab.research.google.com/assets/colab-badge.svg\" alt=\"Open In Colab\"/></a>"
      ]
    },
    {
      "cell_type": "markdown",
      "metadata": {
        "id": "kYO-8BhGLYJs"
      },
      "source": [
        "#### Stage1 \"class\" Classification\n",
        "\n",
        "![Proposed Architecture](https://raw.githubusercontent.com/pswaruppk/GL_CAPSTONE/master/data/classification_stage1.PNG)"
      ]
    },
    {
      "cell_type": "markdown",
      "metadata": {
        "id": "X3C_dALGLd0q"
      },
      "source": [
        "#### Stage2 \"Target\" classification\n",
        "![Proposed Architecture](https://raw.githubusercontent.com/pswaruppk/GL_CAPSTONE/master/data/classification_stage2.PNG)"
      ]
    },
    {
      "cell_type": "markdown",
      "metadata": {
        "id": "C3cc-ie1mDe9"
      },
      "source": [
        "#Hybrid Model\n",
        "\n",
        "**With this notebook we are trying to build classification Module of option 1 architecture which involves Pre-processing and Classification models of InceptionV3(stage 1) and Feed Forward Neural Network(FFNN)(stage 2) that are executed sequentially.**\n",
        "\n",
        "**Classification Stage 1:** Classification of classes(No Lung Opacity/Not Normal, Normal and Lung Opacity) using InceptioinV3. The output of this will form part of input for stage 2 classification.\n",
        "\n",
        "**Classification Stage 2:** Classification of Target(Pneumonia/Not Pneumonia) using Feed Forward Nueral Network based on stage 1 output and few metadata features(Age, Sex & View Position) as input.\n",
        "\n",
        "**Classification:**\n",
        "  1. ChexNet- Densnet121\n",
        "  2. VGG16\n",
        "  3. **InceptionV3**-This model is implemented in this notebook.\n",
        "  4. InceptionRestNetV2\n",
        "  5. **Feed Forward Neural Network**-This model is implemented in this notebook\n",
        "\n",
        "Detection:\n",
        "  RetinaNet based architecture\n",
        "  1. ResNet101 \n",
        "  2. ResNet152"
      ]
    },
    {
      "cell_type": "code",
      "metadata": {
        "id": "kbTCr_5QEzad"
      },
      "source": [
        "import os"
      ],
      "execution_count": null,
      "outputs": []
    },
    {
      "cell_type": "code",
      "metadata": {
        "id": "Rkx68scFlb8-",
        "outputId": "a4bc4fee-6ad0-41d0-ba7b-7afbf1e24350",
        "colab": {
          "base_uri": "https://localhost:8080/",
          "height": 54
        }
      },
      "source": [
        "from google.colab import drive\n",
        "drive.mount('/content/drive')"
      ],
      "execution_count": null,
      "outputs": [
        {
          "output_type": "stream",
          "text": [
            "Drive already mounted at /content/drive; to attempt to forcibly remount, call drive.mount(\"/content/drive\", force_remount=True).\n"
          ],
          "name": "stdout"
        }
      ]
    },
    {
      "cell_type": "code",
      "metadata": {
        "id": "uOtuMJIjncTt",
        "outputId": "724d0a4d-4108-4468-fb6a-5d083b9b8e9f",
        "colab": {
          "base_uri": "https://localhost:8080/",
          "height": 35
        }
      },
      "source": [
        "project_path = \"/content/drive/My Drive/rsna-pneumonia-detection-challenge\"\n",
        "os.chdir(project_path)\n",
        "os.getcwd()"
      ],
      "execution_count": null,
      "outputs": [
        {
          "output_type": "execute_result",
          "data": {
            "application/vnd.google.colaboratory.intrinsic+json": {
              "type": "string"
            },
            "text/plain": [
              "'/content/drive/My Drive/rsna-pneumonia-detection-challenge'"
            ]
          },
          "metadata": {
            "tags": []
          },
          "execution_count": 11
        }
      ]
    },
    {
      "cell_type": "markdown",
      "metadata": {
        "id": "zxH2DzwT8mkl"
      },
      "source": [
        "## Model Parameters"
      ]
    },
    {
      "cell_type": "code",
      "metadata": {
        "id": "wFHbskXlX4QR"
      },
      "source": [
        "#Set global parameters here\n",
        "BASE_MODEL = \"InceptionV3\"\n",
        "MODEL_NAME  = \"Option-1\" + \".\" + BASE_MODEL\n",
        "if os.path.isdir(MODEL_NAME) == False:\n",
        "  os.mkdir(MODEL_NAME)\n",
        "WEIGHTS_FILE = MODEL_NAME+\"/\" + \"weights.best.final1.h5\"\n",
        "HISTORY_FILE = MODEL_NAME+\"/\" +\"history_final1.csv\"\n",
        "PREDICTION_FILE = MODEL_NAME+\"/\" + \"prediction_final1.pkl\"\n",
        "BATCH_SIZE = 32\n",
        "IMAGE_SIZE = 299 #target image width\n",
        "IMG_WIDTH = 1024 #Original image width\n",
        "FORCE_TRAINING = False #True , change it to force training\n",
        "DROPOUT = 0.25 # [0, 0.25, 0.5]\n",
        "DENSE_COUNT = 128 # [32, 64, 128, 256]\n",
        "LEARN_RATE = 1e-3 # [1e-4, 1e-3, 4e-3]\n",
        "ALPHA = 1.0\n",
        "EPOCHS = 12"
      ],
      "execution_count": null,
      "outputs": []
    },
    {
      "cell_type": "markdown",
      "metadata": {
        "id": "xY6t34_UyXgt"
      },
      "source": [
        "- Each notebook is structured and designed in such a way by just sepcifying the name of the base model a new model could be configured.\n",
        "- This is made possible by creating a separate notebook containing necessary utility funcitions which can be called in this notebook.\n",
        "- The following parameters are set at this stage and can be tuned without touching the rest of the flow. \n",
        " - Here we have option to load the model weights and start afresh or controlling force training from previous pretrained model weights so to keep the continuum of the training process. \n",
        " - Different model has different image input requirement which can be globally set from here.\n",
        " - Setting hyper-parameters like: Dropout value, Dense layer count, Learning Rate, Epochs and Batch size.\n",
        "\n",
        "\n"
      ]
    },
    {
      "cell_type": "code",
      "metadata": {
        "id": "brBroOQSp-5M",
        "outputId": "e6bf1c09-68bf-4be9-88cd-d494e7d7bec1",
        "colab": {
          "base_uri": "https://localhost:8080/",
          "height": 211
        }
      },
      "source": [
        "oldPath = os.getcwd()\n",
        "utility_path = \"/content/drive/My Drive/GL_CAPSTONE\"\n",
        "os.chdir(utility_path)\n",
        "%run pneumonia_utility.ipynb\n",
        "baseModel,preprocess_input = selectBaseModel(BASE_MODEL)\n",
        "os.chdir(oldPath)\n",
        "print(os.getcwd())\n",
        "print(baseModel,preprocess_input)"
      ],
      "execution_count": null,
      "outputs": [
        {
          "output_type": "stream",
          "text": [
            "Loading functions from Pneumonia utility notebook\n",
            "Loading pydicom package\n",
            "Requirement already satisfied: pydicom in /usr/local/lib/python3.6/dist-packages (2.0.0)\n",
            "Setting baseModel : InceptionV3\n",
            "<module 'tensorflow.keras.applications.inception_v3' from '/usr/local/lib/python3.6/dist-packages/tensorflow/keras/applications/inception_v3/__init__.py'>\n",
            "global BaseModel; BaseModel =np.InceptionV3\n",
            "global preprocess_input; preprocess_input =np.preprocess_input\n",
            "<class 'function'>\n",
            "/content/drive/My Drive/rsna-pneumonia-detection-challenge\n",
            "<function InceptionV3 at 0x7feda8c45730> <function preprocess_input at 0x7feda8c45840>\n"
          ],
          "name": "stdout"
        }
      ]
    },
    {
      "cell_type": "markdown",
      "metadata": {
        "id": "QR1OXVRmz0EC"
      },
      "source": [
        "- Loading all utility functions and specified model and its preprocessing input package. We would reemphasise that the loading of preprocessing input package is restricted only to the relevant model chosen in the model mapping. \n",
        "- The notebook created for Phase 1 was already too long and heavy. So continuing the rest of the work in same notebook was not feasible as we were experimenting with different architectures. \n",
        "- This challenge of creating different notebooks for different activity and linking them together was overcome by finding solution by referring internet. \n",
        "- We have used different notebooks for different models, phase 1 submission and for utility functions. \n",
        "We are now able to interlink and execute other jupyter notebooks from current notebook and thereby use multiple notebooks and share functions created across multiple applications. "
      ]
    },
    {
      "cell_type": "code",
      "metadata": {
        "id": "oFPh9QxB5-1b",
        "outputId": "d93a6b3a-e970-4658-9a39-a7cfc60cca4b",
        "colab": {
          "base_uri": "https://localhost:8080/",
          "height": 52
        }
      },
      "source": [
        "baseModel,preprocess_input"
      ],
      "execution_count": null,
      "outputs": [
        {
          "output_type": "execute_result",
          "data": {
            "text/plain": [
              "(<function tensorflow.python.keras.applications.inception_v3.InceptionV3>,\n",
              " <function tensorflow.python.keras.applications.inception_v3.preprocess_input>)"
            ]
          },
          "metadata": {
            "tags": []
          },
          "execution_count": 14
        }
      ]
    },
    {
      "cell_type": "code",
      "metadata": {
        "id": "n2y2P8aO7Rpw",
        "outputId": "eb5422d8-2929-4b42-d21a-bd9227b37c4c",
        "colab": {
          "base_uri": "https://localhost:8080/",
          "height": 34
        }
      },
      "source": [
        "image_shape = MODEL_MAP[BASE_MODEL]['input_shape']\n",
        "IMAGE_SIZE = image_shape[0]\n",
        "image_shape,IMAGE_SIZE"
      ],
      "execution_count": null,
      "outputs": [
        {
          "output_type": "execute_result",
          "data": {
            "text/plain": [
              "((299, 299, 3), 299)"
            ]
          },
          "metadata": {
            "tags": []
          },
          "execution_count": 15
        }
      ]
    },
    {
      "cell_type": "markdown",
      "metadata": {
        "id": "IgAmXUp60kNd"
      },
      "source": [
        "- Generically setting the model input image size as required for the model selected. "
      ]
    },
    {
      "cell_type": "code",
      "metadata": {
        "id": "7GDQHACIndcb",
        "outputId": "0b8e4a90-ed27-458a-dab3-88257a03a9f3",
        "colab": {
          "base_uri": "https://localhost:8080/",
          "height": 52
        }
      },
      "source": [
        "#Loading full data\n",
        "full_df,bbox_map,class_enc = loadData()"
      ],
      "execution_count": null,
      "outputs": [
        {
          "output_type": "stream",
          "text": [
            "Loading full CXR info\n",
            "Loading bbox map\n"
          ],
          "name": "stdout"
        }
      ]
    },
    {
      "cell_type": "markdown",
      "metadata": {
        "id": "2S8aGoQR1j6Z"
      },
      "source": [
        "- The loadData utility draws from different csv files created during milestone 1 for EDA, metadata analysis and VGG16 implementations and creates a comprehensive dataframe.\n",
        "- The dataframe so created contains bounding box details, metadata, encoded class and path of image file for use down the line."
      ]
    },
    {
      "cell_type": "code",
      "metadata": {
        "id": "Qmw2L5Yo3SE1",
        "outputId": "119854b4-e3ad-42d7-cecf-fe8cdda5e72a",
        "colab": {
          "base_uri": "https://localhost:8080/",
          "height": 284
        }
      },
      "source": [
        "full_df.head(2)"
      ],
      "execution_count": null,
      "outputs": [
        {
          "output_type": "execute_result",
          "data": {
            "text/html": [
              "<div>\n",
              "<style scoped>\n",
              "    .dataframe tbody tr th:only-of-type {\n",
              "        vertical-align: middle;\n",
              "    }\n",
              "\n",
              "    .dataframe tbody tr th {\n",
              "        vertical-align: top;\n",
              "    }\n",
              "\n",
              "    .dataframe thead th {\n",
              "        text-align: right;\n",
              "    }\n",
              "</style>\n",
              "<table border=\"1\" class=\"dataframe\">\n",
              "  <thead>\n",
              "    <tr style=\"text-align: right;\">\n",
              "      <th></th>\n",
              "      <th>Unnamed: 0</th>\n",
              "      <th>patientId</th>\n",
              "      <th>x</th>\n",
              "      <th>y</th>\n",
              "      <th>width</th>\n",
              "      <th>height</th>\n",
              "      <th>Target</th>\n",
              "      <th>BboxNo</th>\n",
              "      <th>PatientAge</th>\n",
              "      <th>PatientSex</th>\n",
              "      <th>ViewPosition</th>\n",
              "      <th>class</th>\n",
              "      <th>class_id</th>\n",
              "      <th>class_vector</th>\n",
              "      <th>path</th>\n",
              "    </tr>\n",
              "  </thead>\n",
              "  <tbody>\n",
              "    <tr>\n",
              "      <th>0</th>\n",
              "      <td>0</td>\n",
              "      <td>0004cfab-14fd-4e49-80ba-63a80b6bddd6</td>\n",
              "      <td>NaN</td>\n",
              "      <td>NaN</td>\n",
              "      <td>NaN</td>\n",
              "      <td>NaN</td>\n",
              "      <td>0</td>\n",
              "      <td>1</td>\n",
              "      <td>51</td>\n",
              "      <td>0</td>\n",
              "      <td>0</td>\n",
              "      <td>No Lung Opacity / Not Normal</td>\n",
              "      <td>1</td>\n",
              "      <td>[0.0, 1.0, 0.0]</td>\n",
              "      <td>stage_2_train_images/0004cfab-14fd-4e49-80ba-6...</td>\n",
              "    </tr>\n",
              "    <tr>\n",
              "      <th>1</th>\n",
              "      <td>1</td>\n",
              "      <td>00313ee0-9eaa-42f4-b0ab-c148ed3241cd</td>\n",
              "      <td>NaN</td>\n",
              "      <td>NaN</td>\n",
              "      <td>NaN</td>\n",
              "      <td>NaN</td>\n",
              "      <td>0</td>\n",
              "      <td>1</td>\n",
              "      <td>48</td>\n",
              "      <td>0</td>\n",
              "      <td>0</td>\n",
              "      <td>No Lung Opacity / Not Normal</td>\n",
              "      <td>1</td>\n",
              "      <td>[0.0, 1.0, 0.0]</td>\n",
              "      <td>stage_2_train_images/00313ee0-9eaa-42f4-b0ab-c...</td>\n",
              "    </tr>\n",
              "  </tbody>\n",
              "</table>\n",
              "</div>"
            ],
            "text/plain": [
              "   Unnamed: 0  ...                                               path\n",
              "0           0  ...  stage_2_train_images/0004cfab-14fd-4e49-80ba-6...\n",
              "1           1  ...  stage_2_train_images/00313ee0-9eaa-42f4-b0ab-c...\n",
              "\n",
              "[2 rows x 15 columns]"
            ]
          },
          "metadata": {
            "tags": []
          },
          "execution_count": 17
        }
      ]
    },
    {
      "cell_type": "code",
      "metadata": {
        "id": "j5JQWuj59Y7q"
      },
      "source": [
        "full_df.drop(full_df.columns[0],inplace=True,axis=1)"
      ],
      "execution_count": null,
      "outputs": []
    },
    {
      "cell_type": "code",
      "metadata": {
        "id": "_MjIEYAJPBIc",
        "outputId": "3932c554-53b3-4407-bd9c-3aa3f6e6852c",
        "colab": {
          "base_uri": "https://localhost:8080/",
          "height": 34
        }
      },
      "source": [
        "print('{}:Total Pneumonia Patient'.format(len(full_df[full_df.Target == 1])))"
      ],
      "execution_count": null,
      "outputs": [
        {
          "output_type": "stream",
          "text": [
            "9555:Total Pneumonia Patient\n"
          ],
          "name": "stdout"
        }
      ]
    },
    {
      "cell_type": "code",
      "metadata": {
        "id": "36J8-8yN4mtp",
        "outputId": "b87a0b19-b074-456d-f72d-fcffb3c9a8ca",
        "colab": {
          "base_uri": "https://localhost:8080/",
          "height": 87
        }
      },
      "source": [
        "#Split the dataset  into 3 train/valid/test\n",
        "unbalanced_train_df, valid_df, test_df = splitData(full_df,target='class')"
      ],
      "execution_count": null,
      "outputs": [
        {
          "output_type": "stream",
          "text": [
            "(21347, 14) training data\n",
            "(5337, 14) raw validation data\n",
            "(2668, 14) Validation data\n",
            "(2669, 14) test data\n"
          ],
          "name": "stdout"
        }
      ]
    },
    {
      "cell_type": "markdown",
      "metadata": {
        "id": "q3uYIbANWrSY"
      },
      "source": [
        "- The full dataset is split into training, validation and test dataset in the ratio of 80:10:10\n",
        "- As we have set stratify based on target, the train_test_split method returns training and test subsets that have the same proportions of class labels as the input dataset.  This is evident from the following pie charts.\n",
        "- This will ensure that the consistency in the split dataset is retained and imbalance continues as in original data.\n",
        "- However, as a next step we have balanced only the training dataset so that there is no bias while training the model. The balancing is done based on class variable using random sampling. \n",
        "- Due to constrain in computational resources and time required for training, the sample size is reduced to the least class count(which is pneumonia class) of 4208 and hence the training set will consists of 4208 number of records in each class with total training size of 12624. "
      ]
    },
    {
      "cell_type": "code",
      "metadata": {
        "id": "1nnOpD6jFxPn",
        "outputId": "22541a8d-ada9-4e24-89c5-6d64479ea97d",
        "colab": {
          "base_uri": "https://localhost:8080/",
          "height": 195
        }
      },
      "source": [
        "import matplotlib.pyplot as plt\n",
        "f, ax = plt.subplots(1, 3, figsize=(10,7))\n",
        "unique_values, count = np.unique(unbalanced_train_df['class'], return_counts=True)\n",
        "ax[0].pie(count, labels = ['Lung Opacity', 'No Lung Opacity / Not Normal', 'Normal'],\n",
        "          autopct='%1.1f%%', startangle=90)\n",
        "\n",
        "unique_values, count = np.unique(valid_df['class'], return_counts=True)\n",
        "ax[1].pie(count, labels = ['Lung Opacity', 'No Lung Opacity / Not Normal', 'Normal'],\n",
        "          autopct='%1.1f%%', startangle=90)\n",
        "\n",
        "unique_values, count = np.unique(test_df['class'], return_counts=True)\n",
        "ax[2].pie(count, labels = ['Lung Opacity', 'No Lung Opacity / Not Normal', 'Normal'],\n",
        "          autopct='%1.1f%%', startangle=90)\n",
        "plt.show()"
      ],
      "execution_count": null,
      "outputs": [
        {
          "output_type": "display_data",
          "data": {
            "image/png": "[encoded data removed]",
            "text/plain": [
              "<Figure size 720x504 with 3 Axes>"
            ]
          },
          "metadata": {
            "tags": []
          }
        }
      ]
    },
    {
      "cell_type": "code",
      "metadata": {
        "id": "ljMpXIjlAYtE",
        "outputId": "75930f38-5a6c-4e4c-b003-dcfe4618e70e",
        "colab": {
          "base_uri": "https://localhost:8080/",
          "height": 34
        }
      },
      "source": [
        "unbalanced_train_df[unbalanced_train_df.class_id == 0].shape[0]"
      ],
      "execution_count": null,
      "outputs": [
        {
          "output_type": "execute_result",
          "data": {
            "text/plain": [
              "4809"
            ]
          },
          "metadata": {
            "tags": []
          },
          "execution_count": 22
        }
      ]
    },
    {
      "cell_type": "code",
      "metadata": {
        "id": "RylZ8ieH5umF",
        "outputId": "4a7e0d18-ddf3-491f-8eb3-0577585a0248",
        "colab": {
          "base_uri": "https://localhost:8080/",
          "height": 489
        }
      },
      "source": [
        "import matplotlib.pyplot as plt\n",
        "TRAIN_SAMPLES = 12624 # 4208 x 3 class targets\n",
        "#Balancing training set\n",
        "train_df = balance_df(unbalanced_train_df,TRAIN_SAMPLES,target='class')\n",
        "print(train_df.shape[0], 'Final training size')"
      ],
      "execution_count": null,
      "outputs": [
        {
          "output_type": "stream",
          "text": [
            "12624 Final training size\n"
          ],
          "name": "stdout"
        },
        {
          "output_type": "display_data",
          "data": {
            "image/png": "[encoded data removed]",
            "text/plain": [
              "<Figure size 720x360 with 2 Axes>"
            ]
          },
          "metadata": {
            "tags": [],
            "needs_background": "light"
          }
        }
      ]
    },
    {
      "cell_type": "markdown",
      "metadata": {
        "id": "1Rrcr3o85HFw"
      },
      "source": [
        "- We have run the model with and  without balancing the class variable. We observe that the balanced data gives better results."
      ]
    },
    {
      "cell_type": "code",
      "metadata": {
        "id": "r1IOoBVOfqKK"
      },
      "source": [
        "train_df = pd.read_csv('classification_train_df.csv',converters={'class_vector':eval})\n",
        "valid_df = pd.read_csv('classification_valid_df.csv',converters={'class_vector':eval})\n",
        "test_df = pd.read_csv('classification_test_df.csv',converters={'class_vector':eval})"
      ],
      "execution_count": null,
      "outputs": []
    },
    {
      "cell_type": "code",
      "metadata": {
        "id": "Pr6acskCgKHt",
        "outputId": "31fd60f0-c904-487a-c698-1f2dce442486",
        "colab": {
          "base_uri": "https://localhost:8080/",
          "height": 34
        }
      },
      "source": [
        "y = train_df.class_vector[0]\n",
        "type(y)"
      ],
      "execution_count": null,
      "outputs": [
        {
          "output_type": "execute_result",
          "data": {
            "text/plain": [
              "list"
            ]
          },
          "metadata": {
            "tags": []
          },
          "execution_count": 25
        }
      ]
    },
    {
      "cell_type": "markdown",
      "metadata": {
        "id": "kkJH_Cet8AlW"
      },
      "source": [
        "## Build model"
      ]
    },
    {
      "cell_type": "code",
      "metadata": {
        "id": "u4mdtUO2U2UH",
        "outputId": "658fa561-283b-4c31-f8be-ac3a4db965a6",
        "colab": {
          "base_uri": "https://localhost:8080/",
          "height": 34
        }
      },
      "source": [
        "len(np.unique(train_df[\"path\"].to_numpy()))"
      ],
      "execution_count": null,
      "outputs": [
        {
          "output_type": "execute_result",
          "data": {
            "text/plain": [
              "12624"
            ]
          },
          "metadata": {
            "tags": []
          },
          "execution_count": 26
        }
      ]
    },
    {
      "cell_type": "code",
      "metadata": {
        "id": "wN24TMo_E2wE",
        "outputId": "2a6609d4-7fed-4419-8cf6-c4c46d7a541c",
        "colab": {
          "base_uri": "https://localhost:8080/",
          "height": 87
        }
      },
      "source": [
        "train_gen = MyLabelDataGenerator(train_df, augment= True)\n",
        "valid_gen = MyLabelDataGenerator(valid_df, augment= True)\n",
        "\n",
        "print(len(train_gen), \"# of iterations in one train epoch\")\n",
        "print(len(valid_gen), \"# of iterations in one validate epoch\")"
      ],
      "execution_count": null,
      "outputs": [
        {
          "output_type": "stream",
          "text": [
            "12624 :No of generator Image\n",
            "2668 :No of generator Image\n",
            "394 # of iterations in one train epoch\n",
            "83 # of iterations in one validate epoch\n"
          ],
          "name": "stdout"
        }
      ]
    },
    {
      "cell_type": "markdown",
      "metadata": {
        "id": "W_eyGtyq5wP0"
      },
      "source": [
        "- When batch size is set at 16,  we will have 789 batches to be completed for training the entire dataset of 12624 records.\n",
        "- Similarly, we will have 250 batches to be completed for validation purpose.\n",
        "- MyLabelDataGenerator preprocesses the image and aguments/flips and passes to the model while training."
      ]
    },
    {
      "cell_type": "code",
      "metadata": {
        "id": "4BUmH2tNtton"
      },
      "source": [
        "Set = 0\n",
        "imageSet = train_gen[Set][0]\n",
        "maskSet = train_gen[Set][1]   #Label"
      ],
      "execution_count": null,
      "outputs": []
    },
    {
      "cell_type": "code",
      "metadata": {
        "id": "eBuvjnaOZq2a",
        "outputId": "b6c6f60e-2f7b-48f9-fb7d-a177c9409c17",
        "colab": {
          "base_uri": "https://localhost:8080/",
          "height": 34
        }
      },
      "source": [
        "imageSet.shape,maskSet.shape"
      ],
      "execution_count": null,
      "outputs": [
        {
          "output_type": "execute_result",
          "data": {
            "text/plain": [
              "((32, 299, 299, 3), (32, 3))"
            ]
          },
          "metadata": {
            "tags": []
          },
          "execution_count": 30
        }
      ]
    },
    {
      "cell_type": "code",
      "metadata": {
        "id": "JX9j7eButzvw"
      },
      "source": [
        "SetIndex = 0\n",
        "imageIndex = Set*BATCH_SIZE + SetIndex\n",
        "path = train_gen.filenames[imageIndex]\n",
        "img = train_gen.getImage(path)"
      ],
      "execution_count": null,
      "outputs": []
    },
    {
      "cell_type": "markdown",
      "metadata": {
        "id": "grcqRyhPsN6B"
      },
      "source": [
        "- We are showing a sample image below which is before and after preprocessing. This gives us idea as to how the transformation is done by the preprocess_input package of the selected model before feeding it to the model. "
      ]
    },
    {
      "cell_type": "code",
      "metadata": {
        "id": "qQ4_f9Hrt3Ty",
        "outputId": "b83888d8-813d-492f-b645-ba219f56a760",
        "colab": {
          "base_uri": "https://localhost:8080/",
          "height": 335
        }
      },
      "source": [
        "f, ax = plt.subplots(1, 2, figsize=(10,7))\n",
        "ax[0].imshow(img, cmap=plt.cm.bone)\n",
        "ax[0].set_title(\"Original Xray\")\n",
        "ax[1].imshow(imageSet[SetIndex][:,:,0],cmap=plt.cm.bone)\n",
        "ax[1].set_title(\"Pre-Processed:Label:{}\".format(maskSet[SetIndex]))\n",
        "# The images are converted from RGB to BGR, \n",
        "#then each color channel is zero-centered with respect to the ImageNet dataset, without scaling."
      ],
      "execution_count": null,
      "outputs": [
        {
          "output_type": "execute_result",
          "data": {
            "text/plain": [
              "Text(0.5, 1.0, 'Pre-Processed:Label:[1. 0. 0.]')"
            ]
          },
          "metadata": {
            "tags": []
          },
          "execution_count": 32
        },
        {
          "output_type": "display_data",
          "data": {
            "image/png": "[encoded data removed]",
            "text/plain": [
              "<Figure size 720x504 with 2 Axes>"
            ]
          },
          "metadata": {
            "tags": [],
            "needs_background": "light"
          }
        }
      ]
    },
    {
      "cell_type": "markdown",
      "metadata": {
        "id": "G_FX8H-TQd7z"
      },
      "source": [
        "**Background of InceptionV3**\n",
        "\n",
        "*In this noetbook, we will focus on an efficient deep neural network architecture for computer vision, code named Inception, which derives its name from the famous “we need to go deeper” internet meme.*\n",
        "\n",
        "- Let us now understand InceptionV3 Nueral Network in brief, which is used for Transfer Learning.\n",
        "- We can make a bigger model, either in terms of deepness, i.e., number of layers, or the number of neurons in each layer. This can often create complications:\n",
        " - Bigger the model, more prone it is to overfitting. This is particularly noticeable when the training data is small.\n",
        " - Increasing the number of parameters means we need to increase the existing computational resources.\n",
        "- The novel solution used in InceptionV3 is to move on to sparsely connected network architectures which will replace fully connected network architectures, especially inside convolutional layers.\n",
        "- This is achieved by introducing inception layers, a sparsely connected architecture.\n",
        "- The inception layer is a combination of all 3 layers: 1×1 Convolutional layer, 3×3 Convolutional layer, 5×5 Convolutional layer with their output filter concatenated into a single output vector forming the input of the next stage.\n",
        "- Additionally, the inceptin layer consists of:\n",
        " - 1×1 Convolutional layer before applying another layer, which is mainly used for dimensionality reduction.\n",
        " - A parallel Max Pooling layer, which provides another option to the inception layer.\n",
        "- While creating a subsequent layer in a deep learning model, it should be so built to pay attention to the learnings of the previous layer.\n",
        "- Suppose, for example, a layer in our deep learning model has learned to focus on individual parts of a face. The next layer of the network would probably focus on the overall face in the image to identify the different objects present there. Now to actually do this, the layer should have the appropriate filter sizes to detect different objects.\n",
        "- Inception layer allows the internal layers to pick and choose which filter size will be relevant to learn the required information.\n",
        "- This approach lets us to maintain the “computational budget”, while increasing the depth and width of the network.\n",
        "\n",
        "In order to use InceptionV3 we need to pre-process the images in a manner suitable for the Deep Neural Network. This is achieved using utility functions created."
      ]
    },
    {
      "cell_type": "markdown",
      "metadata": {
        "id": "ft5UMzhaFlNV"
      },
      "source": [
        "**Transfer Learning Background**\n",
        "\n",
        "-\tMost of deep learning models need a whole lot of data (in Millions) and getting vast amounts of labelled data for supervised models can be really difficult, considering the time and effort it takes to label data points.\n",
        "-\tMoreover, getting such a dataset for every domain is tough.\n",
        "-\tBesides, most deep learning models are very specialized to a particular domain or even a specific task. \n",
        "-\tWhile these might be state-of-the-art models, with really high accuracy and beating all benchmarks, it would be only on very specific datasets and end up suffering a significant loss in performance when used in a new task which might still be similar to the one it was trained on. \n",
        "-\tThis forms the motivation for transfer learning, which goes beyond specific tasks and domains, and tries to see how to leverage knowledge from pre-trained models and use it to solve new problems.\n",
        "\n",
        "-\tIn transfer learning we can leverage knowledge (features, weights etc) from previously trained models for training newer models and even tackle problems like having less data for the newer task.\n",
        "-\tParticularly, in computer vision domain, certain low-level features, such as edges, shapes, corners and intensity, can be shared across tasks, and thus enable knowledge transfer among tasks. \n",
        "-\tAlso, knowledge from an existing task acts as an additional input when learning a new target task.\n",
        "-\tDeep learning systems and models are layered architectures that learn different features at different layers (hierarchical representations of layered features). These layers are then finally connected to a last layer/top layers (usually a fully connected layer/layers, in the case of supervised learning) to get the final output. This layered architecture allows us to utilize a pre-trained network without its final layer/top layers as a fixed feature extractor for other tasks.\n",
        "-\tIdea is to use the outputs of one or more layers of network trained on different task as generic feature extractor. Train a new shallow model on these features.\n",
        "-\tThat is, to just leverage the pre-trained model’s weighted layers to extract features but not to update the weights of the model’s layers during training with new data for the new task.\n",
        "-\tInitial lower layers of the network learn very generic features and the higher layers learn very task-specific features.\n",
        "-\tGenerally, replace the final layer/top layers (for classification/regression) and train these new shallow layers with limited data available. \n",
        "-\tThus, the transfer learning reduces the time & resources required to train and also reduces the large sample requirement. \n",
        "-\tTransfer Learning makes:\n",
        " - Learning process faster\n",
        " - More accurate and\n",
        " -Training on small data viable\n",
        "\n",
        "**InceptionV3 Model Implementation using Transfer Learning**\n",
        "\n",
        "-\tWe are now interested in classification of classes(No Lung Opacity/Not Normal, Normal and Lung Opacity) using InceptioinV3 model from CXR images. \n",
        "- In the process we are faced with two broad issues while training a model.\n",
        "\n",
        "**Insufficient samples to train a DNN**: \n",
        "\n",
        "- We are provided with around 30,000 images which is insufficient to train a Deep Neural Network. Further, we do not have the required resources even to train the model on these many images. Hence, we are constrained to take smaller sample out of these 30,000 for training purposes. This is to overcome high training time due to non-availability of large computing resources. \n",
        "\n",
        "**Differences in Natural Images and Medical Images(Different data content)**: \n",
        "- The pre-trained networks are mainly trained on natural images. Due to the huge difference between natural images and medical images we have to fine-tune the network to extract task-specific features. \n",
        "-\tOne such fine tuning process is to create a few appropriate layers in lieu of the top layer/layers of the InceptionV3 to train on available data to extract task-specific features. \n",
        "-\tIn transfer learning instead of training all the layers of the model we lock some of the layers and use those trained weights in the locked layers to extract generic features from our data. We choose to retrain some of the modified shallow top layers as those top layers will be specialised to extract task-specific features from the available data. \n",
        "-\tTo achieve this, we have constructed the following new model.\n",
        " - **Base Model**: All layers of pretrained InceptionV3 upto \"mixed10\". That is excluding dense prediction top layer. The pre-trained weights of InceptionV3 will be downloaded only for base model and no weights will be downloaded for last dense layer.\n",
        " - **Top Layer**: Top layer consists of following custom built trainable layers in lieu of the existing top layer of InceptioinV3. \n",
        " - - BatchNormalization 1\n",
        " - - GlobalAverage Polling 2D\n",
        " - - Dropout 1\n",
        " - - Dense  with linear activation\n",
        " - - BatchNormalization 2\n",
        " - - LeakyReLU\n",
        " - - Output Dense Layer with softmax activation.\n",
        "- Since we are now interested in classifying the three classes (No Lung Opacity/Not Normal, Normal and Lung Opacity) the last dense layer of the model should be a 3 unit softmax dense layer.\n",
        "\n",
        "**Fine Tuning certain base layers of Pre-trained Model apart from Top layers**\n",
        "\n",
        "-\tThis is a more involved technique, where we do not just replace the final top layer/layers, but we also selectively retrain some of the previous layers. \n",
        "-\tDeep neural networks are highly configurable architectures with various hyperparameters. \n",
        "-\tThe initial layers capture generic features, while the later ones focus more on the specific task at hand. By fine tuning these later layers we can capture relevant features of the data on hand and improve performance. \n",
        "-\tAs this is highly involved technique it is parked for taking up in due course.\n",
        "\n"
      ]
    },
    {
      "cell_type": "code",
      "metadata": {
        "id": "6XDAF8UlwUKu"
      },
      "source": [
        "def build_pretrained_model():\n",
        "  #Build base model\n",
        "  input_shape = MODEL_MAP[BASE_MODEL]['input_shape']\n",
        "  base_pretrained_model = BaseModel(input_shape =  input_shape, \n",
        "                              include_top = False, weights = 'imagenet')\n",
        "  base_pretrained_model.trainable = False\n",
        "  #Build Top layer\n",
        "  lastlayer = MODEL_MAP[BASE_MODEL]['last_conv_layer']\n",
        "  lastlayershape = base_pretrained_model.get_layer(lastlayer).output_shape[1:]\n",
        "  pt_features = Input(lastlayershape, name = 'feature_input')\n",
        "    \n",
        "  bn_features = BatchNormalization()(pt_features)\n",
        "  gap = GlobalAveragePooling2D()(bn_features)\n",
        "\n",
        "  gap_dr = Dropout(DROPOUT)(gap)\n",
        "  dr_steps = Dropout(DROPOUT)(Dense(DENSE_COUNT, activation = 'linear', use_bias=False)(gap_dr))\n",
        "  dr_steps = BatchNormalization()(dr_steps)\n",
        "  dr_steps = layers.LeakyReLU(0.1)(dr_steps)\n",
        "  out_layer = Dense(3, activation = 'softmax')(dr_steps)\n",
        "\n",
        "  attn_model = Model(inputs = [pt_features], \n",
        "                    outputs = [out_layer], name = 'top_model')\n",
        "  #Combine base & top model\n",
        "  pneu_model = Sequential(name = 'combined_model')\n",
        "  # base_pretrained_model.trainable = False\n",
        "  pneu_model.add(base_pretrained_model)\n",
        "  pneu_model.add(attn_model)\n",
        "  #Add loss & optimizer\n",
        "  lr = LEARN_RATE\n",
        "  decay = lr/10 # or in the factor of 10\n",
        "  adamOptimizer = Adam(lr=lr, beta_1=0.9, beta_2=0.999, epsilon=None, decay=decay, amsgrad=False)  \n",
        "  pneu_model.compile(optimizer =adamOptimizer, loss = 'categorical_crossentropy',\n",
        "                           metrics = ['categorical_accuracy'])\n",
        "  \n",
        "  return pneu_model,base_pretrained_model,attn_model"
      ],
      "execution_count": null,
      "outputs": []
    },
    {
      "cell_type": "code",
      "metadata": {
        "id": "4qJ9-w2xU7Lu",
        "outputId": "68f9dea6-8bcd-4d45-a76f-ef15db9b2c12",
        "colab": {
          "base_uri": "https://localhost:8080/",
          "height": 281
        }
      },
      "source": [
        "class_model,base_model,top_model = build_pretrained_model()\n",
        "class_model.summary()"
      ],
      "execution_count": null,
      "outputs": [
        {
          "output_type": "stream",
          "text": [
            "Downloading data from https://storage.googleapis.com/tensorflow/keras-applications/inception_v3/inception_v3_weights_tf_dim_ordering_tf_kernels_notop.h5\n",
            "87916544/87910968 [==============================] - 1s 0us/step\n",
            "Model: \"combined_model\"\n",
            "_________________________________________________________________\n",
            "Layer (type)                 Output Shape              Param #   \n",
            "=================================================================\n",
            "inception_v3 (Functional)    (None, 8, 8, 2048)        21802784  \n",
            "_________________________________________________________________\n",
            "top_model (Functional)       (None, 3)                 271235    \n",
            "=================================================================\n",
            "Total params: 22,074,019\n",
            "Trainable params: 266,883\n",
            "Non-trainable params: 21,807,136\n",
            "_________________________________________________________________\n"
          ],
          "name": "stdout"
        }
      ]
    },
    {
      "cell_type": "code",
      "metadata": {
        "id": "rgvZwss8LeKW",
        "outputId": "bf16d30e-8e23-426a-8394-cbf9779ed459",
        "colab": {
          "base_uri": "https://localhost:8080/",
          "height": 856
        }
      },
      "source": [
        "from keras.utils.vis_utils import plot_model\n",
        "plot_model(top_model)"
      ],
      "execution_count": null,
      "outputs": [
        {
          "output_type": "execute_result",
          "data": {
            "image/png": "[encoded data removed]",
            "text/plain": [
              "<IPython.core.display.Image object>"
            ]
          },
          "metadata": {
            "tags": []
          },
          "execution_count": 35
        }
      ]
    },
    {
      "cell_type": "markdown",
      "metadata": {
        "id": "wFll77W7ylZF"
      },
      "source": [
        "**Activation function:**<br>\n",
        "- Every activation function (or non-linearity) takes a single number and performs a certain fixed mathematical operation on it.\n",
        "- There are several activation functions but let us see the effect of changing four functions:<br>\n",
        "\n",
        "**Sigmoid:**<br>  \n",
        "- The sigmoid non-linearity has the mathematical form \n",
        " - σ(x)=1/(1+e−x)\n",
        " - It takes a real-valued number and “squashes” it into range between 0 and 1, normalizing the output of each neuron. In particular, large negative numbers become 0 and large positive numbers become 1. Smooth gradient prevents “jumps” in output values. However, the sigmoid non-linearity is rarely used now due to the following factors. \n",
        "- Major drawbacks:\n",
        " - 1) Sigmoids saturate and kill gradients(Vanishing gradient). If the initial weights are too large then most neurons would become saturated and the network will barely learn. When the neuron’s activation saturates at either tail of 0 or 1, the gradient at these regions is almost zero. It will effectively “kill” the gradient and almost no signal will flow through the neuron to its weights and recursively to its data.\n",
        "- 2) Sigmoid outputs are not zero-centered. This could introduce undesirable zig-zagging dynamics in the gradient updates for the weights. However, it is noticed that once these gradients are added up across a batch of data the final update for the weights can have variable signs which somewhat mitigates this issue. So batch size is also one of the important factors to be considered while setting up the network.\n",
        "- Outputs not zero centered and is computationally expensive<br> \n",
        "\n",
        "**Tanh:**<br> \n",
        "- It is like the Sigmoid function but squashes a real-valued number to the range [-1, 1]. Like the sigmoid neuron, its activations saturate, but unlike the sigmoid neuron its output is zero-centered. Therefore, in practice the tanh non-linearity is always preferred to the sigmoid nonlinearity. \n",
        "\n",
        "**ReLU:**<br>\n",
        "- The Rectified Linear Unit has become very popular in the last few years. It computes the function f(x)=max(0,x). In other words, the activation is simply thresholded at zero.\n",
        "- It was found to greatly accelerate (e.g. a factor of 6) the convergence of stochastic gradient descent compared to the sigmoid/tanh functions. It is argued that this is due to its linear, non-saturating form.\n",
        "- Compared to tanh/sigmoid neurons that involve expensive operations (exponentials), the ReLU can be implemented by simply thresholding a matrix of activations at zero. \n",
        "- Computationally efficient—allows the network to converge very quickly.\n",
        "- ReLU is Non Zero centered and is non differentiable at Zero, but differentiable anywhere else.\n",
        "- The Dying ReLU problem: When inputs approach zero or are negative, the gradient of the function becomes zero, the network cannot perform backpropagation and cannot learn. That is, ReLU units can be fragile during training and can irreversibly die during training since they can knock off the data manifold. With Leaky ReLu this problem can be overcome.\n",
        "\n",
        "\n",
        "**LeakyReLu**\n",
        "\n",
        "- The Leaky ReLU (LReLU) modifies the ReLu function to allow small negative values when the input is less than zero.\n",
        "- That is, Leaky ReLU has a small slope for negative values, instead of altogether zero. \n",
        "- For example, leaky ReLU may have y = 0.01x when x < 0.\n",
        "\n",
        "- The Dying ReLU problem explained above under ReLU can be corrected by making use of Leaky ReLU where slope is changed left of x=0 and thus causing a leak and extending the range of ReLU. We have used Leaky ReLU in the current implementation.\n",
        "- The other advantage is it speeds up training. There is evidence that having the “mean activation” be close to 0 makes training faster.  \n",
        "- Unlike ReLU, leaky ReLU is more “balanced,” and may therefore learn faster.\n",
        "\n",
        "**Softmax**\n",
        "\n",
        "- A Softmax function is a type of squashing function. Squashing functions limit the output of the function into the range 0 to 1. This allows the output to be interpreted directly as a probability. Similarly, softmax functions are multi-class sigmoids, meaning they are used in determining probability of multiple classes at once. Since the outputs of a softmax function can be interpreted as a probability (i.e.they must sum to 1), a softmax layer is typically the final layer used in neural network functions. It is important to note that a softmax layer must have the same number of nodes as the output layer.\n",
        "- Softmax turns arbitrary real values into probabilities.\n",
        "- Softmax classifiers gives probabilities for each class label.\n",
        "- The Softmax classifier is a generalization of the binary form of Logistic Regression.\n",
        "- Since the project is with output of multi-class, the softmax is used in the final layer."
      ]
    },
    {
      "cell_type": "markdown",
      "metadata": {
        "id": "jwGUHRiNnCgo"
      },
      "source": [
        "**Batch Normalization Background**\n",
        "\n",
        "- One way to make deep networks easier to train is to use more sophisticated optimization procedures such as SGD+momentum, RMSProp, or Adam. Another strategy is to change the architecture of the network to make it easier to train. One idea along these lines is Batch Normalization.\n",
        "- The idea is relatively straightforward. Machine learning methods tend to work better when their input data consists of uncorrelated features with zero mean and unit variance. When training a neural network, we can preprocess the data before feeding it to the network to explicitly decorrelate its features; this will ensure that the first layer of the network sees data that follows a nice distribution. However even if we preprocess the input data, the activations at deeper layers of the network will likely no longer be decorrelated and will no longer have zero mean or unit variance since they are output from earlier layers in the network. Even worse, during the training process the distribution of features at each layer of the network will shift as the weights of each layer are updated.\n",
        "- Batch Normalization seeks to overcome this problem by inserting the BatchNorm layer immediately after fully connected layers and before non-linearities. At training time, a batch normalization layer uses a minibatch of data to estimate the mean and standard deviation of each feature. These estimated means and standard deviations are then used to center and normalize the features of the minibatch. A running average of these means and standard deviations is kept during training, and at test time these running averages are used to center and normalize features.\n",
        "- It is possible that this normalization strategy could reduce the representational power of the network, since it may sometimes be optimal for certain layers to have features that are not zero-mean or unit variance. Hence, the batch normalization layer includes learnable shift and scale parameters for each feature dimension. That is we add extra weights (parameters) that need to be learned by the network.\n",
        "- Using Batch Normalization in neural networks has become very common. In practice networks that use Batch Normalization are significantly more robust to bad initialization.\n",
        "\n",
        "**BatchNormalization Analysis**\n",
        "\n",
        "- Batch normalization may be used on the inputs to the layer before or after the activation function in the previous layer. It may be appropriate before the activation function for activations that may result in non-Gaussian distributions like the rectified linear activation function, the modern default for most network types.\n",
        "- Our observation from the experimental results : While the test accuracy is similar in both cases the training accuracy has increased when BatchNormalization is before activation layer.\n",
        "- Hence, we have adopted BatchNormalization layer before activation layer in the current project and tried to bridge the gap between training and test results using other fine tuning methods. \n",
        "\n",
        "**GlobalAveragePooling2D**\n",
        "\n",
        "- Flattening will take a tensor of any shape and transform it into a one dimensional tensor.\n",
        "- global average pooling (GAP) layers is used to minimize overfitting by reducing the total number of parameters in the model. \n",
        "- Similar to max pooling layers, GAP layers are used to reduce the spatial dimensions of a three-dimensional tensor. \n",
        "-GlobalAveragePooling2D applies average pooling on the spatial dimensions until each spatial dimension is one, and leaves other dimensions unchanged.\n",
        "- GAP layers perform a more extreme type of dimensionality reduction, where a tensor with dimensions h×w×d is reduced in size to have dimensions 1×1×d. \n",
        "- GAP layers reduce each h×w feature map to a single number by simply taking the average of all hw values.\n",
        "\n",
        "\n",
        "**Dropout Background**\n",
        "\n",
        "- Dropout is a technique for improving neural networks by reducing overfitting. Standard backpropagation learning builds up brittle co-adaptations that work for the training data but do not generalize to unseen data. Random dropout breaks up these co-adaptations. This technique was found to improve the performance of neural nets in a wide variety of application domains.\n",
        "•\tDropout is meant to block information from certain neurons completely to make sure the neurons do not co-adapt.\n",
        "•\tDropout is typically used to reduce overfitting, in a batch-normalized network. That is, we can be either remove or reduce the strength of overfitting.\n",
        "•\tTypically, dropout is applied after the non-linear activation function. However, when using rectified linear units (ReLU), dropout is applied before the non-linear activation for reasons of computational efficiency and better results of generalization. \n",
        " In TensorFlow 2.x, dropout() uses dropout rate instead of keep_prob.\n",
        "- This indicates that 0 refers to no dropout and 1 means no outputs from the layer. Hence the parameter to be passed should be < 0.50. \n",
        "- A good value for dropout in a hidden layer is between 0.5 and 0.2.\n",
        "\n",
        "**Dropout Analysis**\n",
        "\n",
        "- From number of trials with different combinations of before and after activation with different dropout rates, the following has emerged:\n",
        "- The sequence BatchNormalization, Dropout and then activation has given better result than BatchNormalization, activation and then Dropout.\n",
        "- The Dropout(0, 0.25, 0.5) is tried and Dropout of 0.25 has given best Training and Test accuracy.\n",
        "- Only with BatchNormalisation without Dropout had fetched Training and Test accuracy with wide gap indicating overfitting, which is now generalized by Dropout layer.\n",
        "\n"
      ]
    },
    {
      "cell_type": "markdown",
      "metadata": {
        "id": "WeR7sAKNyze-"
      },
      "source": [
        "**Stochastic Gradient Descent:**<br>\n",
        "- A very popular technique that is used along with SGD is called Momentum. Instead of using only the gradient of the current step to guide the search, momentum also accumulates the gradient of the past steps to determine the direction to go. \n",
        "- The gradient that is retained from previous iterations is multiplied by a value called \"Coefficient of Momentum\" which is the percentage of the gradient retained every iteration.\n",
        "- The previous gradients are also included in subsequent updates, but the weightage of the most recent previous gradients is more than the less recent ones. That is, by taking an exponential average of the gradient steps(the most recent term is weighted as p, the next one as squared of p, then cube of p, and so on).\n",
        "- Most of the gradient updates are in a zig-zag direction. Momentum helps to move more quickly towards the minima by zeroing out the components in one direction. This technique dampens oscillations in our search.\n",
        "- In practice, the coefficient of momentum is initialized at 0.5, and gradually annealed to 0.9 over multiple epochs. \n",
        "- Hence, we set the momentum for the current project at 0.9 and experimented.<br>\n",
        "\n",
        "**RMSprop/Root Mean Square Propogation**\n",
        "\n",
        "- The RMSprop optimizer is similar to the gradient descent algorithm with momentum.\n",
        "- RMSProp also tries to dampen the oscillations, but in a different way than momentum.\n",
        "- The RMSprop optimizer restricts the oscillations in the vertical direction.\n",
        "- Therefore, we can increase our learning rate and our algorithm could take larger steps in the horizontal direction converging faster.\n",
        "- Exponentially weigh the more recent gradient updates more than the less recent ones just like in momentum.The hyperparameter p is generally chosen to be 0.9, but we may have to tune it.\n",
        "- The epsilon is to ensure that we do not end up dividing by zero, and is generally chosen to be 1e-10.\n",
        "- It's also to be noted that RMSProp implicitly performs simulated annealing. Suppose if we are heading towards the minima, and we want to slow down so as to not to overshoot the minima. RMSProp automatically will decrease the size of the gradient steps towards minima when the steps are too large (Large steps make us prone to overshooting)\n",
        "\n",
        "**Adam**\n",
        "\n",
        "- RMSProp and Momentum take contrasting approaches. While momentum accelerates search in direction of minima, RMSProp impedes search in direction of oscillations.\n",
        "- Adam optimizer can be looked at as a combination of RMSprop and Stochastic Gradient Descent with momentum.\n",
        "- It uses the squared gradients to scale the learning rate like RMSprop and it takes advantage of momentum by using moving average of the gradient instead of gradient itself like SGD with momentum.\n",
        "- Adam is an adaptive learning rate optimization algorithm that is designed specifically for training deep neural networks.\n",
        "- To estimate the moments, Adam utilizes exponentially moving averages, computed on the gradient evaluated on a current mini-batch.\n",
        "- Empirical results have shown that all these algorithms can converge to different optimal local minima given the same loss. However, the adaptive method tends to converge quickly towards minima.  \n",
        "\n",
        "**Selection of Optimizer**\n",
        "- We experimented with all the three and found that Adam optimizer generalizes better.\n",
        "- betas (beta1 and beta2) are hyper-parameters of the Adam algorithm. The default values are 0.9 and 0.999 respectively.\n",
        "- Accordingly, model is compiled with Adam optimizer, using categorical Crossentropy loss function and categorical accuracy as metrics with default values of betas. The learning rate is set at 1e-4 with decay factor of 0.10. \n",
        "\n"
      ]
    },
    {
      "cell_type": "code",
      "metadata": {
        "id": "jqkqIBnl12yZ"
      },
      "source": [
        "checkpoint = ModelCheckpoint(WEIGHTS_FILE, monitor='val_loss', verbose=1, \n",
        "                             save_best_only=True, mode='min', save_weights_only = True)\n",
        "\n",
        "reduceLROnPlat = ReduceLROnPlateau(monitor='val_loss', factor=0.2, \n",
        "                                   patience=3, verbose=1, mode='auto', \n",
        "                                   min_delta=0.0001, cooldown=5, min_lr=1e-8)\n",
        "early = EarlyStopping(monitor=\"val_loss\", \n",
        "                      mode=\"min\", \n",
        "                      patience=3) \n",
        "callbacks_list = [checkpoint, early, reduceLROnPlat]"
      ],
      "execution_count": null,
      "outputs": []
    },
    {
      "cell_type": "markdown",
      "metadata": {
        "id": "JMJ8asL42nDv"
      },
      "source": [
        "**Callbacks**\n",
        "\n",
        "**ModelCheckpoint:**\n",
        "\n",
        "- ModelCheckpoint is used in conjunction with training, using model.fit() to save a weights and/or model (in a checkpoint file) at some interval, so the weights and/or model can be loaded later to continue the training from the state saved.\n",
        "- A few options this callback provides include:\n",
        " - Whether only weights(save_weights_only = True) are saved, or the whole model is saved.\n",
        " - Whether to only keep the weights(save_weights_only = True)and/or model of the model that has achieved the \"best performance\" so far(save_best_only=True) or whether to save the weights and/or model at the end of every epoch regardless of performance. \n",
        "- Since, save_best_only=True, is set the latest best model according to the loss monitored will be overwritten by each new better model weights as filepath does not contain formatting options like {epoch}.\n",
        " - Definition of 'best'; which quantity to monitor(monitor='val_loss') and whether it should be maximized or minimized(mode='min').\n",
        " - The frequency it should save at. Currently, the callback supports saving at the end of every epoch, or after a fixed number of training batches(used default).\n",
        "\n",
        "**Early Stopping**\n",
        "\n",
        "•\tThe goal of a training is to minimize the loss( mode=\"min\") whether the val loss is no longer decreasing, considering the min_delta (defualt) and patience applied(patience=3). Once it's found no longer decreasing, model.stop_training is marked True and the training terminates.\n",
        "- The goal of a training is to minimize the loss( mode=\"min\")and the metric to be monitored would be 'val loss'. A model.fit() training loop will check at end of every epoch whether the loss is no longer decreasing, considering the min_delta(default) and patience applied(patience=3). Once it's found no longer decreasing, model.stop_training is marked True and the training terminates.\n",
        "- Early stopping is set at patience level of 3, so that, if the validation loss does not improve for 3 continues epochs training terminates.\n",
        "\n",
        "**Reduce Learning Rate**\n",
        "\n",
        "- This callback monitors val loss(monitor='val_loss') and if no improvement is seen for a 'patience' numberof epochs(patience=3), the learning rate is reduced.                                  \n",
        "- Model benefits from reducing the learning rate by a factor(factor=0.2)(new_lr = lr * factor) once learning stagnates. \n",
        "- mode can be set as one of {'auto', 'min', 'max'}. \n",
        " - In 'min' mode, the learning rate will be reduced when the quantity monitored has stopped decreasing; \n",
        " - In 'max' mode it will be reduced when the quantity monitored has stopped increasing; \n",
        " - In 'auto' mode, the direction is automatically inferred from the name of the monitored quantity.\n",
        "- verbose when set to 0: quiet mode for messages and on setting to 1 we get update messages.\n",
        "- cooldown:\tnumber of epochs(cooldown=5) to wait before resuming normal operation after lr has been reduced.\n",
        "- min_delta:\tthreshold (epsilon=0.0001) for measuring the new optimum, to only focus on significant changes.\n",
        "- However, learning rate will not be reduced below lower bound(min_lr=0.0001).\n",
        "- We have tried to fine tune these hyper-parametes and arrived at the set of parameters showcased. However, there could be a lot of scope to tune these hyper-parameters and further improve the model performance.\n",
        "\n",
        "- To facilitate resuming training from the last epoch using the weights saved during earlier run model.load_weights is added.\n",
        "- On reloading the best weights saved and rerunning we were able to get improved performance as under:\n",
        "- *loss:*   \n",
        "- *Accuracy:* \n",
        "- *val loss*\n",
        "- *val Accuracy*\n"
      ]
    },
    {
      "cell_type": "markdown",
      "metadata": {
        "id": "pSyqHQCl76q_"
      },
      "source": [
        "##Model Fit"
      ]
    },
    {
      "cell_type": "code",
      "metadata": {
        "id": "MgwtfdmOFb3f",
        "outputId": "2c0c88a7-edb0-4fd5-9d07-f0b90f165ec9",
        "colab": {
          "base_uri": "https://localhost:8080/",
          "height": 700
        }
      },
      "source": [
        "history = pd.DataFrame()\n",
        "FORCE_TRAINING = False\n",
        "if (os.path.isfile(WEIGHTS_FILE) & (FORCE_TRAINING == False) ):\n",
        "  class_model.load_weights(WEIGHTS_FILE)\n",
        "  history = loadHistory(HISTORY_FILE)\n",
        "else:\n",
        "  if (os.path.isfile(WEIGHTS_FILE)):\n",
        "    class_model.load_weights(WEIGHTS_FILE)\n",
        "  history = class_model.fit(train_gen,   # (X_train, y_train)\n",
        "                        epochs=EPOCHS,\n",
        "                        validation_data=valid_gen,#(X_valid, y_valid)\n",
        "                        callbacks=callbacks_list,\n",
        "                        shuffle=True,\n",
        "                        verbose=1)\n",
        "  \n",
        "  history = saveHistory(history,HISTORY_FILE)"
      ],
      "execution_count": null,
      "outputs": [
        {
          "output_type": "stream",
          "text": [
            "Epoch 1/12\n",
            "394/394 [==============================] - ETA: 0s - loss: 0.8347 - categorical_accuracy: 0.6155 \n",
            "Epoch 00001: val_loss improved from inf to 0.75070, saving model to Option-1.InceptionV3/weights.best.final1.h5\n",
            "394/394 [==============================] - 5155s 13s/step - loss: 0.8347 - categorical_accuracy: 0.6155 - val_loss: 0.7507 - val_categorical_accuracy: 0.6502\n",
            "Epoch 2/12\n",
            "394/394 [==============================] - ETA: 0s - loss: 0.7384 - categorical_accuracy: 0.6589\n",
            "Epoch 00002: val_loss did not improve from 0.75070\n",
            "394/394 [==============================] - 305s 774ms/step - loss: 0.7384 - categorical_accuracy: 0.6589 - val_loss: 0.7650 - val_categorical_accuracy: 0.6314\n",
            "Epoch 3/12\n",
            "394/394 [==============================] - ETA: 0s - loss: 0.7127 - categorical_accuracy: 0.6720\n",
            "Epoch 00003: val_loss did not improve from 0.75070\n",
            "394/394 [==============================] - 302s 767ms/step - loss: 0.7127 - categorical_accuracy: 0.6720 - val_loss: 0.7618 - val_categorical_accuracy: 0.6273\n",
            "Epoch 4/12\n",
            "394/394 [==============================] - ETA: 0s - loss: 0.7018 - categorical_accuracy: 0.6775\n",
            "Epoch 00004: val_loss improved from 0.75070 to 0.74577, saving model to Option-1.InceptionV3/weights.best.final1.h5\n",
            "394/394 [==============================] - 301s 765ms/step - loss: 0.7018 - categorical_accuracy: 0.6775 - val_loss: 0.7458 - val_categorical_accuracy: 0.6412\n",
            "Epoch 5/12\n",
            "394/394 [==============================] - ETA: 0s - loss: 0.6846 - categorical_accuracy: 0.6938\n",
            "Epoch 00005: val_loss did not improve from 0.74577\n",
            "394/394 [==============================] - 300s 761ms/step - loss: 0.6846 - categorical_accuracy: 0.6938 - val_loss: 0.7490 - val_categorical_accuracy: 0.6450\n",
            "Epoch 6/12\n",
            "394/394 [==============================] - ETA: 0s - loss: 0.6738 - categorical_accuracy: 0.6953\n",
            "Epoch 00006: val_loss improved from 0.74577 to 0.74058, saving model to Option-1.InceptionV3/weights.best.final1.h5\n",
            "394/394 [==============================] - 299s 759ms/step - loss: 0.6738 - categorical_accuracy: 0.6953 - val_loss: 0.7406 - val_categorical_accuracy: 0.6378\n",
            "Epoch 7/12\n",
            "394/394 [==============================] - ETA: 0s - loss: 0.6667 - categorical_accuracy: 0.7003\n",
            "Epoch 00007: val_loss did not improve from 0.74058\n",
            "394/394 [==============================] - 297s 754ms/step - loss: 0.6667 - categorical_accuracy: 0.7003 - val_loss: 0.7428 - val_categorical_accuracy: 0.6521\n",
            "Epoch 8/12\n",
            "394/394 [==============================] - ETA: 0s - loss: 0.6455 - categorical_accuracy: 0.7130\n",
            "Epoch 00008: val_loss did not improve from 0.74058\n",
            "394/394 [==============================] - 305s 773ms/step - loss: 0.6455 - categorical_accuracy: 0.7130 - val_loss: 0.7630 - val_categorical_accuracy: 0.6329\n",
            "Epoch 9/12\n",
            "394/394 [==============================] - ETA: 0s - loss: 0.6390 - categorical_accuracy: 0.7126\n",
            "Epoch 00009: val_loss did not improve from 0.74058\n",
            "\n",
            "Epoch 00009: ReduceLROnPlateau reducing learning rate to 0.00020000000949949026.\n",
            "394/394 [==============================] - 314s 796ms/step - loss: 0.6390 - categorical_accuracy: 0.7126 - val_loss: 0.7590 - val_categorical_accuracy: 0.6419\n"
          ],
          "name": "stdout"
        }
      ]
    },
    {
      "cell_type": "markdown",
      "metadata": {
        "id": "EoKqYv0gT_Vx"
      },
      "source": [
        "## History"
      ]
    },
    {
      "cell_type": "code",
      "metadata": {
        "id": "mOOZuv5TNRRz",
        "outputId": "fae498a4-bbef-416b-a02a-0e83ada6381c",
        "colab": {
          "base_uri": "https://localhost:8080/",
          "height": 374
        }
      },
      "source": [
        "plot_his(history,'categorical_accuracy')\n",
        "#Save the model as well for future use"
      ],
      "execution_count": null,
      "outputs": [
        {
          "output_type": "display_data",
          "data": {
            "image/png": "[encoded data removed]",
            "text/plain": [
              "<Figure size 1080x432 with 2 Axes>"
            ]
          },
          "metadata": {
            "tags": [],
            "needs_background": "light"
          }
        }
      ]
    },
    {
      "cell_type": "markdown",
      "metadata": {
        "id": "_265gC06kjvE"
      },
      "source": [
        "- It is clear from the above graph that as we train for more epochs the Trainining accuracy improves. However, the gap between training and validation scores divergence increases indicating overfitting. "
      ]
    },
    {
      "cell_type": "markdown",
      "metadata": {
        "id": "CMghxAoEigFA"
      },
      "source": [
        "## Classification-Stage1 performance"
      ]
    },
    {
      "cell_type": "code",
      "metadata": {
        "id": "CFOJOc2sugIm",
        "outputId": "7a54cfcf-1067-45f7-fc1e-dd699d4c1ea6",
        "colab": {
          "base_uri": "https://localhost:8080/",
          "height": 52
        }
      },
      "source": [
        "# FORCE_TRAINING = False\n",
        "patients= []\n",
        "pred_Y= []\n",
        "valid_Y = []\n",
        "if (os.path.isfile(PREDICTION_FILE) & (FORCE_TRAINING == False) ):\n",
        "  file = open(PREDICTION_FILE, 'rb')\n",
        "  patients = pickle.load(file)\n",
        "  pred_Y = pickle.load(file)\n",
        "  valid_Y = pickle.load(file)\n",
        "  file.close()\n",
        "else:\n",
        "  predict_gen = MyLabelTestDataGenerator(train_df)\n",
        "  patients, pred_Y,valid_Y = class_predict(predict_gen,class_model,no_of_batch=0)\n",
        "  file = open(PREDICTION_FILE,'wb')\n",
        "  pickle.dump(patients, file)\n",
        "  pickle.dump(pred_Y, file)\n",
        "  pickle.dump(valid_Y, file)\n",
        "  file.close()\n"
      ],
      "execution_count": null,
      "outputs": [
        {
          "output_type": "stream",
          "text": [
            "\r  0%|          | 0/395 [00:00<?, ?it/s]"
          ],
          "name": "stderr"
        },
        {
          "output_type": "stream",
          "text": [
            "12624 :No of generator Image\n"
          ],
          "name": "stdout"
        },
        {
          "output_type": "stream",
          "text": [
            "100%|██████████| 395/395 [05:19<00:00,  1.24it/s]\n"
          ],
          "name": "stderr"
        }
      ]
    },
    {
      "cell_type": "code",
      "metadata": {
        "id": "J247dM-S8T8H",
        "outputId": "ec8dbab1-a59d-4f02-c6f7-3a47b96ae575",
        "colab": {
          "base_uri": "https://localhost:8080/",
          "height": 52
        }
      },
      "source": [
        "predict_gen = MyLabelTestDataGenerator(test_df)\n",
        "test_patients, test_pred_Y, test_Y = class_predict(predict_gen,class_model,no_of_batch=0)"
      ],
      "execution_count": null,
      "outputs": [
        {
          "output_type": "stream",
          "text": [
            "\r  0%|          | 0/84 [00:00<?, ?it/s]"
          ],
          "name": "stderr"
        },
        {
          "output_type": "stream",
          "text": [
            "2669 :No of generator Image\n"
          ],
          "name": "stdout"
        },
        {
          "output_type": "stream",
          "text": [
            "100%|██████████| 84/84 [14:25<00:00, 10.30s/it]\n"
          ],
          "name": "stderr"
        }
      ]
    },
    {
      "cell_type": "code",
      "metadata": {
        "id": "veC7zOqEi46F",
        "outputId": "15ca0990-7609-4a62-aa54-febe33dc457b",
        "colab": {
          "base_uri": "https://localhost:8080/",
          "height": 539
        }
      },
      "source": [
        "from sklearn.metrics import confusion_matrix\n",
        "plt.matshow(confusion_matrix(np.argmax(valid_Y, -1), np.argmax(pred_Y,-1)))\n",
        "print(confusion_matrix(np.argmax(valid_Y, -1), np.argmax(pred_Y,-1)))\n",
        "print(classification_report(np.argmax(valid_Y, -1), \n",
        "                            np.argmax(pred_Y,-1), target_names = class_enc.classes_))\n",
        "plt.title('Confusion Matrix Train Set', fontsize = 12, fontweight=\"bold\")\n",
        "plt.xlabel('Predicted')\n",
        "plt.ylabel('True')\n",
        "\n"
      ],
      "execution_count": null,
      "outputs": [
        {
          "output_type": "stream",
          "text": [
            "[[3273  708  227]\n",
            " [ 947 2520  741]\n",
            " [  66  379 3763]]\n",
            "                              precision    recall  f1-score   support\n",
            "\n",
            "                Lung Opacity       0.76      0.78      0.77      4208\n",
            "No Lung Opacity / Not Normal       0.70      0.60      0.64      4208\n",
            "                      Normal       0.80      0.89      0.84      4208\n",
            "\n",
            "                    accuracy                           0.76     12624\n",
            "                   macro avg       0.75      0.76      0.75     12624\n",
            "                weighted avg       0.75      0.76      0.75     12624\n",
            "\n"
          ],
          "name": "stdout"
        },
        {
          "output_type": "execute_result",
          "data": {
            "text/plain": [
              "Text(0, 0.5, 'True')"
            ]
          },
          "metadata": {
            "tags": []
          },
          "execution_count": 41
        },
        {
          "output_type": "display_data",
          "data": {
            "image/png": "[encoded data removed]",
            "text/plain": [
              "<Figure size 288x288 with 1 Axes>"
            ]
          },
          "metadata": {
            "tags": [],
            "needs_background": "light"
          }
        }
      ]
    },
    {
      "cell_type": "code",
      "metadata": {
        "id": "f63nqaUzgM2V",
        "outputId": "7bbd675a-2ef2-4a34-e89d-ca3d75a1c6b9",
        "colab": {
          "base_uri": "https://localhost:8080/",
          "height": 522
        }
      },
      "source": [
        "from sklearn.metrics import confusion_matrix\n",
        "plt.matshow(confusion_matrix(np.argmax(test_Y, -1), np.argmax(test_pred_Y,-1)))\n",
        "print(confusion_matrix(np.argmax(test_Y, -1), np.argmax(test_pred_Y,-1)))\n",
        "print(classification_report(np.argmax(test_Y, -1), np.argmax(test_pred_Y,-1), target_names = class_enc.classes_))\n",
        "plt.title('Confusion Matrix Test Set', fontsize = 12, fontweight=\"bold\")\n",
        "plt.xlabel('Predicted')\n",
        "plt.ylabel('True')\n",
        "plt.show()"
      ],
      "execution_count": null,
      "outputs": [
        {
          "output_type": "stream",
          "text": [
            "[[400 152  50]\n",
            " [359 537 286]\n",
            " [ 20 127 738]]\n",
            "                              precision    recall  f1-score   support\n",
            "\n",
            "                Lung Opacity       0.51      0.66      0.58       602\n",
            "No Lung Opacity / Not Normal       0.66      0.45      0.54      1182\n",
            "                      Normal       0.69      0.83      0.75       885\n",
            "\n",
            "                    accuracy                           0.63      2669\n",
            "                   macro avg       0.62      0.65      0.62      2669\n",
            "                weighted avg       0.64      0.63      0.62      2669\n",
            "\n"
          ],
          "name": "stdout"
        },
        {
          "output_type": "display_data",
          "data": {
            "image/png": "[encoded data removed]",
            "text/plain": [
              "<Figure size 288x288 with 1 Axes>"
            ]
          },
          "metadata": {
            "tags": [],
            "needs_background": "light"
          }
        }
      ]
    },
    {
      "cell_type": "code",
      "metadata": {
        "id": "_HCrKWLS7Oh5",
        "outputId": "f78e9836-6615-47b4-acd1-8837086fc0c9",
        "colab": {
          "base_uri": "https://localhost:8080/",
          "height": 327
        }
      },
      "source": [
        "import seaborn as sns\n",
        "plt.figure(figsize= (15,10))\n",
        "plt.subplot(2,2,1)\n",
        "\n",
        "mat = metrics.confusion_matrix(np.argmax(valid_Y, -1), np.argmax(pred_Y,-1))\n",
        "sns.heatmap(mat, square=True, annot = True, fmt = 'd', cbar = False, linewidth=0.5)\n",
        "plt.title('Confusion Matrix Train Set', fontsize = 15, fontweight=\"bold\")\n",
        "plt.xlabel('Predicted')\n",
        "plt.ylabel('True')\n",
        "\n",
        "plt.subplot(2,2,2)\n",
        "mat = metrics.confusion_matrix(np.argmax(test_Y, -1), np.argmax(test_pred_Y,-1))\n",
        "sns.heatmap(mat, square=True, annot = True, fmt = 'd', cbar = False, linewidth=0.5)\n",
        "plt.title('Confusion Matrix Test Set', fontsize = 15, fontweight=\"bold\")\n",
        "plt.xlabel('Predicted')\n",
        "plt.ylabel('True')\n",
        "plt.show()"
      ],
      "execution_count": null,
      "outputs": [
        {
          "output_type": "display_data",
          "data": {
            "image/png": "[encoded data removed]",
            "text/plain": [
              "<Figure size 1080x720 with 2 Axes>"
            ]
          },
          "metadata": {
            "tags": [],
            "needs_background": "light"
          }
        }
      ]
    },
    {
      "cell_type": "markdown",
      "metadata": {
        "id": "Mp1s2zsKwT4b"
      },
      "source": [
        "- Three Class Confustion Matrix presented here is 3X3 matrix with:\n",
        "- 0 indicates cases of Pneumonia\n",
        "- 1 indicates cases of Not Normal/No Pneumonia\n",
        "- 2 indicates cases of Normal\n",
        "- True class indexed by coloumn.\n",
        "- Predicted Class indexed by row.\n",
        "- Correct predictions by the classifier, where True class matches with predicted class are all on the diagonal.\n",
        "- Misclassified are off the diagonal.\n",
        "- For the True class Pneumonia(0), model(predicted) has misclassified as 1 and this happened 940 times.\n",
        "- For the True class Normal(2), model (predicted) has misclassified as Pneumonia(0) and this happened 90 times.\n",
        "- These type of large misclassification gives signal to us to verify these images in the provided DICOM files and if required to take up corrective steps in the pre-processing stage(like removal of black borders, ViewPosition alteration, Cropping...).\n",
        "- If we take the total of row1+row2+row3 for a column 0, we get True Positive + False Positive(Total Predicted label counts in the train/test set for the particular class represented by the column(0)).\n",
        "- For example for **Training Set**: \n",
        " - Predicted label counts for Pneumonia(0) cases is 4115 which comprises of TP3050+FP(975+90)\n",
        " - True(Actual) label counts for Pneumonia(0) cases is 4208 which comprises of TP3050+FN(940+218)\n",
        " - Precsion for Pneumonia cases(0) = 3050/4115 = 0.74\n",
        " - Recall for Pneumonia cases (0)  = 3050/4208 = 0.72\n",
        "\n",
        "- On similar lines: \n",
        " - Predicted label counts for Not Normal/No Pneumonia(1) cases is 3989 which comprises of TP510+FP(940+539)\n",
        " - True(Actual) label counts for Not Normal/No Pneumonia(1) cases is 4208 which comprises of TP2510+FN(975+723)\n",
        " - Precsion for Not Normal/No Pneumonia(1) = 2510/3989 = 0.63\n",
        " - Recall for Not Normal/No Pneumonia(1)   = 2510/4208 = 0.60\n",
        "\n",
        "- Overall Accuracy of Training Set:\n",
        " - Sum of elements of diagonal (3050+2510+3579)= 9139\n",
        " - Sum of elements of the confusion matrix = Number of training samples used = 12624.\n",
        " - Overall Accuracy = 9139/12624 = 0.72\n",
        "\n",
        "- Weighted average f1 score, which is the combination of both precision and recall is also very low at 0.64.\n",
        "- Recall & f1 scores being very low the model requires to be tuned."
      ]
    },
    {
      "cell_type": "code",
      "metadata": {
        "id": "L5L3JM3zAvl5"
      },
      "source": [
        ""
      ],
      "execution_count": null,
      "outputs": []
    },
    {
      "cell_type": "markdown",
      "metadata": {
        "id": "TIQ4xwvp66AV"
      },
      "source": [
        "### ROC AUC"
      ]
    },
    {
      "cell_type": "code",
      "metadata": {
        "id": "o22yVE447piN",
        "outputId": "6523ea61-d2b0-4cae-d440-77ad19291c98",
        "colab": {
          "base_uri": "https://localhost:8080/",
          "height": 34
        }
      },
      "source": [
        "type(valid_Y[0])"
      ],
      "execution_count": null,
      "outputs": [
        {
          "output_type": "execute_result",
          "data": {
            "text/plain": [
              "numpy.ndarray"
            ]
          },
          "metadata": {
            "tags": []
          },
          "execution_count": 44
        }
      ]
    },
    {
      "cell_type": "code",
      "metadata": {
        "id": "H8VR0Ow88BcZ",
        "outputId": "c9eb071f-2183-4f46-afb0-e9af5d651c94",
        "colab": {
          "base_uri": "https://localhost:8080/",
          "height": 34
        }
      },
      "source": [
        "np.argmax(valid_Y,-1)==0"
      ],
      "execution_count": null,
      "outputs": [
        {
          "output_type": "execute_result",
          "data": {
            "text/plain": [
              "array([ True,  True, False, ..., False,  True, False])"
            ]
          },
          "metadata": {
            "tags": []
          },
          "execution_count": 45
        }
      ]
    },
    {
      "cell_type": "code",
      "metadata": {
        "id": "-j6VGtG869Q0"
      },
      "source": [
        "# from sklearn.metrics import roc_curve, roc_auc_score\n",
        "# fpr, tpr, _ = roc_curve(np.argmax(valid_Y,-1)==0, pred_Y)\n",
        "# fig, ax1 = plt.subplots(1,1, figsize = (5, 5), dpi = 250)\n",
        "# ax1.plot(fpr, tpr, 'b.-', label = 'DenseNet1 (AUC:%2.2f)' % roc_auc_score(np.argmax(valid_Y,-1)==0, pred_Y))\n",
        "# ax1.plot(fpr, fpr, 'k-', label = 'Random Guessing')\n",
        "# ax1.legend(loc = 4)\n",
        "# ax1.set_xlabel('False Positive Rate')\n",
        "# ax1.set_ylabel('True Positive Rate');\n",
        "# ax1.set_title('Lung Opacity ROC Curve')"
      ],
      "execution_count": null,
      "outputs": []
    },
    {
      "cell_type": "markdown",
      "metadata": {
        "id": "-zONHMPADYtl"
      },
      "source": [
        "## Generate class prediction"
      ]
    },
    {
      "cell_type": "code",
      "metadata": {
        "id": "P2SZXxDLaQ8a"
      },
      "source": [
        "pred_df = get_prediction_map(patients,pred_Y)"
      ],
      "execution_count": null,
      "outputs": []
    },
    {
      "cell_type": "code",
      "metadata": {
        "id": "zMJC1XFXpDn0",
        "outputId": "1ea744f7-7b2e-4efb-adce-46834e64e382",
        "colab": {
          "base_uri": "https://localhost:8080/",
          "height": 203
        }
      },
      "source": [
        "pred_df.reset_index(inplace=True)\n",
        "# pred_df.columns = ['patientId', 'PNEUMONIA', 'NOT_NORMAL', 'NORMAL']\n",
        "\n",
        "pred_df.rename(columns={'index':'patientId'},inplace=True)\n",
        "pred_df.head()"
      ],
      "execution_count": null,
      "outputs": [
        {
          "output_type": "execute_result",
          "data": {
            "text/html": [
              "<div>\n",
              "<style scoped>\n",
              "    .dataframe tbody tr th:only-of-type {\n",
              "        vertical-align: middle;\n",
              "    }\n",
              "\n",
              "    .dataframe tbody tr th {\n",
              "        vertical-align: top;\n",
              "    }\n",
              "\n",
              "    .dataframe thead th {\n",
              "        text-align: right;\n",
              "    }\n",
              "</style>\n",
              "<table border=\"1\" class=\"dataframe\">\n",
              "  <thead>\n",
              "    <tr style=\"text-align: right;\">\n",
              "      <th></th>\n",
              "      <th>patientId</th>\n",
              "      <th>PNEUMONIA</th>\n",
              "      <th>NOT_NORMAL</th>\n",
              "      <th>NORMAL</th>\n",
              "    </tr>\n",
              "  </thead>\n",
              "  <tbody>\n",
              "    <tr>\n",
              "      <th>0</th>\n",
              "      <td>cc1cefc7-0cb1-4ff1-af66-2bd8e8dd5d57</td>\n",
              "      <td>0.903187</td>\n",
              "      <td>0.095160</td>\n",
              "      <td>0.001653</td>\n",
              "    </tr>\n",
              "    <tr>\n",
              "      <th>1</th>\n",
              "      <td>908a9eb7-dc6d-4113-ba9a-28a50140563f</td>\n",
              "      <td>0.803540</td>\n",
              "      <td>0.195681</td>\n",
              "      <td>0.000779</td>\n",
              "    </tr>\n",
              "    <tr>\n",
              "      <th>2</th>\n",
              "      <td>3e94f21d-0159-4f9a-8981-3048c0be9f91</td>\n",
              "      <td>0.015495</td>\n",
              "      <td>0.089923</td>\n",
              "      <td>0.894582</td>\n",
              "    </tr>\n",
              "    <tr>\n",
              "      <th>3</th>\n",
              "      <td>15d9403c-bf5b-41be-add6-a5c2a9e16d35</td>\n",
              "      <td>0.797698</td>\n",
              "      <td>0.197211</td>\n",
              "      <td>0.005091</td>\n",
              "    </tr>\n",
              "    <tr>\n",
              "      <th>4</th>\n",
              "      <td>878ae8b8-f206-4d82-8099-3a56f89bb9c4</td>\n",
              "      <td>0.597438</td>\n",
              "      <td>0.398190</td>\n",
              "      <td>0.004372</td>\n",
              "    </tr>\n",
              "  </tbody>\n",
              "</table>\n",
              "</div>"
            ],
            "text/plain": [
              "                              patientId  PNEUMONIA  NOT_NORMAL    NORMAL\n",
              "0  cc1cefc7-0cb1-4ff1-af66-2bd8e8dd5d57   0.903187    0.095160  0.001653\n",
              "1  908a9eb7-dc6d-4113-ba9a-28a50140563f   0.803540    0.195681  0.000779\n",
              "2  3e94f21d-0159-4f9a-8981-3048c0be9f91   0.015495    0.089923  0.894582\n",
              "3  15d9403c-bf5b-41be-add6-a5c2a9e16d35   0.797698    0.197211  0.005091\n",
              "4  878ae8b8-f206-4d82-8099-3a56f89bb9c4   0.597438    0.398190  0.004372"
            ]
          },
          "metadata": {
            "tags": []
          },
          "execution_count": 48
        }
      ]
    },
    {
      "cell_type": "markdown",
      "metadata": {
        "id": "tP6wAKGX98HV"
      },
      "source": [
        "- The class(No Lung Opacity/Not Normal, Normal and Lung Opacity) prediction probability for all trained patientIds is created for passing as one of the inputs for training FFNN model in stage 2 for target classification(Pneumonia/Not Pneumonia)."
      ]
    },
    {
      "cell_type": "code",
      "metadata": {
        "id": "MMCUGE0hzVYo",
        "outputId": "a1df2965-39c2-4dc2-e1ff-f41b3ed5368e",
        "colab": {
          "base_uri": "https://localhost:8080/",
          "height": 209
        }
      },
      "source": [
        "pred_df.info()"
      ],
      "execution_count": null,
      "outputs": [
        {
          "output_type": "stream",
          "text": [
            "<class 'pandas.core.frame.DataFrame'>\n",
            "RangeIndex: 12624 entries, 0 to 12623\n",
            "Data columns (total 4 columns):\n",
            " #   Column      Non-Null Count  Dtype  \n",
            "---  ------      --------------  -----  \n",
            " 0   patientId   12624 non-null  object \n",
            " 1   PNEUMONIA   12624 non-null  float64\n",
            " 2   NOT_NORMAL  12624 non-null  float64\n",
            " 3   NORMAL      12624 non-null  float64\n",
            "dtypes: float64(3), object(1)\n",
            "memory usage: 394.6+ KB\n"
          ],
          "name": "stdout"
        }
      ]
    },
    {
      "cell_type": "code",
      "metadata": {
        "id": "YeZC3ixOprbZ"
      },
      "source": [
        "#Dump the prediction as it is very time consuming task.\n",
        "pred_dump_file = MODEL_NAME + '/class_prediction.csv'\n",
        "# import pandas as pd\n",
        "# pred_df = pd.DataFrame()\n",
        "# if (os.path.isfile(pred_dump_file)):\n",
        "#   pred_df = pd.read_csv(pred_dump_file)\n",
        "# else:\n",
        "pred_df.to_csv(pred_dump_file,index=False)"
      ],
      "execution_count": null,
      "outputs": []
    },
    {
      "cell_type": "code",
      "metadata": {
        "id": "yeP3tG99i5n2",
        "outputId": "9897c556-801b-4291-bec4-297e73d41046",
        "colab": {
          "base_uri": "https://localhost:8080/",
          "height": 203
        }
      },
      "source": [
        "pred_df.head()"
      ],
      "execution_count": null,
      "outputs": [
        {
          "output_type": "execute_result",
          "data": {
            "text/html": [
              "<div>\n",
              "<style scoped>\n",
              "    .dataframe tbody tr th:only-of-type {\n",
              "        vertical-align: middle;\n",
              "    }\n",
              "\n",
              "    .dataframe tbody tr th {\n",
              "        vertical-align: top;\n",
              "    }\n",
              "\n",
              "    .dataframe thead th {\n",
              "        text-align: right;\n",
              "    }\n",
              "</style>\n",
              "<table border=\"1\" class=\"dataframe\">\n",
              "  <thead>\n",
              "    <tr style=\"text-align: right;\">\n",
              "      <th></th>\n",
              "      <th>patientId</th>\n",
              "      <th>PNEUMONIA</th>\n",
              "      <th>NOT_NORMAL</th>\n",
              "      <th>NORMAL</th>\n",
              "    </tr>\n",
              "  </thead>\n",
              "  <tbody>\n",
              "    <tr>\n",
              "      <th>0</th>\n",
              "      <td>cc1cefc7-0cb1-4ff1-af66-2bd8e8dd5d57</td>\n",
              "      <td>0.903187</td>\n",
              "      <td>0.095160</td>\n",
              "      <td>0.001653</td>\n",
              "    </tr>\n",
              "    <tr>\n",
              "      <th>1</th>\n",
              "      <td>908a9eb7-dc6d-4113-ba9a-28a50140563f</td>\n",
              "      <td>0.803540</td>\n",
              "      <td>0.195681</td>\n",
              "      <td>0.000779</td>\n",
              "    </tr>\n",
              "    <tr>\n",
              "      <th>2</th>\n",
              "      <td>3e94f21d-0159-4f9a-8981-3048c0be9f91</td>\n",
              "      <td>0.015495</td>\n",
              "      <td>0.089923</td>\n",
              "      <td>0.894582</td>\n",
              "    </tr>\n",
              "    <tr>\n",
              "      <th>3</th>\n",
              "      <td>15d9403c-bf5b-41be-add6-a5c2a9e16d35</td>\n",
              "      <td>0.797698</td>\n",
              "      <td>0.197211</td>\n",
              "      <td>0.005091</td>\n",
              "    </tr>\n",
              "    <tr>\n",
              "      <th>4</th>\n",
              "      <td>878ae8b8-f206-4d82-8099-3a56f89bb9c4</td>\n",
              "      <td>0.597438</td>\n",
              "      <td>0.398190</td>\n",
              "      <td>0.004372</td>\n",
              "    </tr>\n",
              "  </tbody>\n",
              "</table>\n",
              "</div>"
            ],
            "text/plain": [
              "                              patientId  PNEUMONIA  NOT_NORMAL    NORMAL\n",
              "0  cc1cefc7-0cb1-4ff1-af66-2bd8e8dd5d57   0.903187    0.095160  0.001653\n",
              "1  908a9eb7-dc6d-4113-ba9a-28a50140563f   0.803540    0.195681  0.000779\n",
              "2  3e94f21d-0159-4f9a-8981-3048c0be9f91   0.015495    0.089923  0.894582\n",
              "3  15d9403c-bf5b-41be-add6-a5c2a9e16d35   0.797698    0.197211  0.005091\n",
              "4  878ae8b8-f206-4d82-8099-3a56f89bb9c4   0.597438    0.398190  0.004372"
            ]
          },
          "metadata": {
            "tags": []
          },
          "execution_count": 51
        }
      ]
    },
    {
      "cell_type": "code",
      "metadata": {
        "id": "6V8cufe4N338"
      },
      "source": [
        "# pred_df.drop(pred_df.columns[0],inplace=True,axis=1)"
      ],
      "execution_count": null,
      "outputs": []
    },
    {
      "cell_type": "code",
      "metadata": {
        "id": "k95nunBlcS4v",
        "outputId": "ab792b59-6f7b-4e97-bdb3-35dab90c10fc",
        "colab": {
          "base_uri": "https://localhost:8080/",
          "height": 203
        }
      },
      "source": [
        "merged_pred_meta_df = get_pred_merged_meta_data(pred_df,full_df)\n",
        "merged_pred_meta_df.head()"
      ],
      "execution_count": null,
      "outputs": [
        {
          "output_type": "execute_result",
          "data": {
            "text/html": [
              "<div>\n",
              "<style scoped>\n",
              "    .dataframe tbody tr th:only-of-type {\n",
              "        vertical-align: middle;\n",
              "    }\n",
              "\n",
              "    .dataframe tbody tr th {\n",
              "        vertical-align: top;\n",
              "    }\n",
              "\n",
              "    .dataframe thead th {\n",
              "        text-align: right;\n",
              "    }\n",
              "</style>\n",
              "<table border=\"1\" class=\"dataframe\">\n",
              "  <thead>\n",
              "    <tr style=\"text-align: right;\">\n",
              "      <th></th>\n",
              "      <th>PNEUMONIA</th>\n",
              "      <th>NOT_NORMAL</th>\n",
              "      <th>NORMAL</th>\n",
              "      <th>PatientAge</th>\n",
              "      <th>PatientSex</th>\n",
              "      <th>ViewPosition</th>\n",
              "      <th>Target</th>\n",
              "    </tr>\n",
              "  </thead>\n",
              "  <tbody>\n",
              "    <tr>\n",
              "      <th>cc1cefc7-0cb1-4ff1-af66-2bd8e8dd5d57</th>\n",
              "      <td>0.903187</td>\n",
              "      <td>0.095160</td>\n",
              "      <td>0.001653</td>\n",
              "      <td>23.0</td>\n",
              "      <td>1.0</td>\n",
              "      <td>1.0</td>\n",
              "      <td>1.0</td>\n",
              "    </tr>\n",
              "    <tr>\n",
              "      <th>908a9eb7-dc6d-4113-ba9a-28a50140563f</th>\n",
              "      <td>0.803540</td>\n",
              "      <td>0.195681</td>\n",
              "      <td>0.000779</td>\n",
              "      <td>25.0</td>\n",
              "      <td>1.0</td>\n",
              "      <td>1.0</td>\n",
              "      <td>1.0</td>\n",
              "    </tr>\n",
              "    <tr>\n",
              "      <th>3e94f21d-0159-4f9a-8981-3048c0be9f91</th>\n",
              "      <td>0.015495</td>\n",
              "      <td>0.089923</td>\n",
              "      <td>0.894582</td>\n",
              "      <td>38.0</td>\n",
              "      <td>0.0</td>\n",
              "      <td>0.0</td>\n",
              "      <td>0.0</td>\n",
              "    </tr>\n",
              "    <tr>\n",
              "      <th>15d9403c-bf5b-41be-add6-a5c2a9e16d35</th>\n",
              "      <td>0.797698</td>\n",
              "      <td>0.197211</td>\n",
              "      <td>0.005091</td>\n",
              "      <td>55.0</td>\n",
              "      <td>1.0</td>\n",
              "      <td>1.0</td>\n",
              "      <td>1.0</td>\n",
              "    </tr>\n",
              "    <tr>\n",
              "      <th>878ae8b8-f206-4d82-8099-3a56f89bb9c4</th>\n",
              "      <td>0.597438</td>\n",
              "      <td>0.398190</td>\n",
              "      <td>0.004372</td>\n",
              "      <td>35.0</td>\n",
              "      <td>1.0</td>\n",
              "      <td>1.0</td>\n",
              "      <td>1.0</td>\n",
              "    </tr>\n",
              "  </tbody>\n",
              "</table>\n",
              "</div>"
            ],
            "text/plain": [
              "                                      PNEUMONIA  ...  Target\n",
              "cc1cefc7-0cb1-4ff1-af66-2bd8e8dd5d57   0.903187  ...     1.0\n",
              "908a9eb7-dc6d-4113-ba9a-28a50140563f   0.803540  ...     1.0\n",
              "3e94f21d-0159-4f9a-8981-3048c0be9f91   0.015495  ...     0.0\n",
              "15d9403c-bf5b-41be-add6-a5c2a9e16d35   0.797698  ...     1.0\n",
              "878ae8b8-f206-4d82-8099-3a56f89bb9c4   0.597438  ...     1.0\n",
              "\n",
              "[5 rows x 7 columns]"
            ]
          },
          "metadata": {
            "tags": []
          },
          "execution_count": 53
        }
      ]
    },
    {
      "cell_type": "markdown",
      "metadata": {
        "id": "ZQMsyqKq-nln"
      },
      "source": [
        "- The class probability predicted for training data is merged with metadata(Age, Sex, ViewPosition) and a consolidated dataframe is created for passing as inputs for training FFNN model in stage 2 for target classification(Pneumonia/Not Pneumonia).\n",
        "- In the dataframe so created the patient index is transformed into a separate column. "
      ]
    },
    {
      "cell_type": "code",
      "metadata": {
        "id": "M0rL6YAEgeXp",
        "outputId": "530e2f46-6d90-41d8-c190-0d4f51aadbe0",
        "colab": {
          "base_uri": "https://localhost:8080/",
          "height": 203
        }
      },
      "source": [
        "merged_pred_meta_df.reset_index(inplace=True)\n",
        "merged_pred_meta_df.rename(columns={'index':'patientId'},inplace=True)\n",
        "merged_pred_meta_df.head()"
      ],
      "execution_count": null,
      "outputs": [
        {
          "output_type": "execute_result",
          "data": {
            "text/html": [
              "<div>\n",
              "<style scoped>\n",
              "    .dataframe tbody tr th:only-of-type {\n",
              "        vertical-align: middle;\n",
              "    }\n",
              "\n",
              "    .dataframe tbody tr th {\n",
              "        vertical-align: top;\n",
              "    }\n",
              "\n",
              "    .dataframe thead th {\n",
              "        text-align: right;\n",
              "    }\n",
              "</style>\n",
              "<table border=\"1\" class=\"dataframe\">\n",
              "  <thead>\n",
              "    <tr style=\"text-align: right;\">\n",
              "      <th></th>\n",
              "      <th>patientId</th>\n",
              "      <th>PNEUMONIA</th>\n",
              "      <th>NOT_NORMAL</th>\n",
              "      <th>NORMAL</th>\n",
              "      <th>PatientAge</th>\n",
              "      <th>PatientSex</th>\n",
              "      <th>ViewPosition</th>\n",
              "      <th>Target</th>\n",
              "    </tr>\n",
              "  </thead>\n",
              "  <tbody>\n",
              "    <tr>\n",
              "      <th>0</th>\n",
              "      <td>cc1cefc7-0cb1-4ff1-af66-2bd8e8dd5d57</td>\n",
              "      <td>0.903187</td>\n",
              "      <td>0.095160</td>\n",
              "      <td>0.001653</td>\n",
              "      <td>23.0</td>\n",
              "      <td>1.0</td>\n",
              "      <td>1.0</td>\n",
              "      <td>1.0</td>\n",
              "    </tr>\n",
              "    <tr>\n",
              "      <th>1</th>\n",
              "      <td>908a9eb7-dc6d-4113-ba9a-28a50140563f</td>\n",
              "      <td>0.803540</td>\n",
              "      <td>0.195681</td>\n",
              "      <td>0.000779</td>\n",
              "      <td>25.0</td>\n",
              "      <td>1.0</td>\n",
              "      <td>1.0</td>\n",
              "      <td>1.0</td>\n",
              "    </tr>\n",
              "    <tr>\n",
              "      <th>2</th>\n",
              "      <td>3e94f21d-0159-4f9a-8981-3048c0be9f91</td>\n",
              "      <td>0.015495</td>\n",
              "      <td>0.089923</td>\n",
              "      <td>0.894582</td>\n",
              "      <td>38.0</td>\n",
              "      <td>0.0</td>\n",
              "      <td>0.0</td>\n",
              "      <td>0.0</td>\n",
              "    </tr>\n",
              "    <tr>\n",
              "      <th>3</th>\n",
              "      <td>15d9403c-bf5b-41be-add6-a5c2a9e16d35</td>\n",
              "      <td>0.797698</td>\n",
              "      <td>0.197211</td>\n",
              "      <td>0.005091</td>\n",
              "      <td>55.0</td>\n",
              "      <td>1.0</td>\n",
              "      <td>1.0</td>\n",
              "      <td>1.0</td>\n",
              "    </tr>\n",
              "    <tr>\n",
              "      <th>4</th>\n",
              "      <td>878ae8b8-f206-4d82-8099-3a56f89bb9c4</td>\n",
              "      <td>0.597438</td>\n",
              "      <td>0.398190</td>\n",
              "      <td>0.004372</td>\n",
              "      <td>35.0</td>\n",
              "      <td>1.0</td>\n",
              "      <td>1.0</td>\n",
              "      <td>1.0</td>\n",
              "    </tr>\n",
              "  </tbody>\n",
              "</table>\n",
              "</div>"
            ],
            "text/plain": [
              "                              patientId  PNEUMONIA  ...  ViewPosition  Target\n",
              "0  cc1cefc7-0cb1-4ff1-af66-2bd8e8dd5d57   0.903187  ...           1.0     1.0\n",
              "1  908a9eb7-dc6d-4113-ba9a-28a50140563f   0.803540  ...           1.0     1.0\n",
              "2  3e94f21d-0159-4f9a-8981-3048c0be9f91   0.015495  ...           0.0     0.0\n",
              "3  15d9403c-bf5b-41be-add6-a5c2a9e16d35   0.797698  ...           1.0     1.0\n",
              "4  878ae8b8-f206-4d82-8099-3a56f89bb9c4   0.597438  ...           1.0     1.0\n",
              "\n",
              "[5 rows x 8 columns]"
            ]
          },
          "metadata": {
            "tags": []
          },
          "execution_count": 54
        }
      ]
    },
    {
      "cell_type": "code",
      "metadata": {
        "id": "i7adCsuzghyL",
        "outputId": "87ee2dab-bc89-4b81-e87c-fe39e136022e",
        "colab": {
          "base_uri": "https://localhost:8080/",
          "height": 203
        }
      },
      "source": [
        "merged_pred_meta_df[merged_pred_meta_df.Target==1].sample(5)"
      ],
      "execution_count": null,
      "outputs": [
        {
          "output_type": "execute_result",
          "data": {
            "text/html": [
              "<div>\n",
              "<style scoped>\n",
              "    .dataframe tbody tr th:only-of-type {\n",
              "        vertical-align: middle;\n",
              "    }\n",
              "\n",
              "    .dataframe tbody tr th {\n",
              "        vertical-align: top;\n",
              "    }\n",
              "\n",
              "    .dataframe thead th {\n",
              "        text-align: right;\n",
              "    }\n",
              "</style>\n",
              "<table border=\"1\" class=\"dataframe\">\n",
              "  <thead>\n",
              "    <tr style=\"text-align: right;\">\n",
              "      <th></th>\n",
              "      <th>patientId</th>\n",
              "      <th>PNEUMONIA</th>\n",
              "      <th>NOT_NORMAL</th>\n",
              "      <th>NORMAL</th>\n",
              "      <th>PatientAge</th>\n",
              "      <th>PatientSex</th>\n",
              "      <th>ViewPosition</th>\n",
              "      <th>Target</th>\n",
              "    </tr>\n",
              "  </thead>\n",
              "  <tbody>\n",
              "    <tr>\n",
              "      <th>1965</th>\n",
              "      <td>72dc0bc2-8c6a-4214-b06f-862e9e8444bd</td>\n",
              "      <td>0.577369</td>\n",
              "      <td>0.343510</td>\n",
              "      <td>0.079121</td>\n",
              "      <td>64.0</td>\n",
              "      <td>1.0</td>\n",
              "      <td>1.0</td>\n",
              "      <td>1.0</td>\n",
              "    </tr>\n",
              "    <tr>\n",
              "      <th>10493</th>\n",
              "      <td>be6444fb-5c41-436a-ad7b-278dc59eec67</td>\n",
              "      <td>0.776164</td>\n",
              "      <td>0.223667</td>\n",
              "      <td>0.000169</td>\n",
              "      <td>65.0</td>\n",
              "      <td>0.0</td>\n",
              "      <td>1.0</td>\n",
              "      <td>1.0</td>\n",
              "    </tr>\n",
              "    <tr>\n",
              "      <th>1624</th>\n",
              "      <td>cae03a83-a903-4087-b324-a67fe98638d4</td>\n",
              "      <td>0.968049</td>\n",
              "      <td>0.031901</td>\n",
              "      <td>0.000049</td>\n",
              "      <td>41.0</td>\n",
              "      <td>1.0</td>\n",
              "      <td>0.0</td>\n",
              "      <td>1.0</td>\n",
              "    </tr>\n",
              "    <tr>\n",
              "      <th>1369</th>\n",
              "      <td>bda78d8f-77ca-4806-a095-e0df852f821f</td>\n",
              "      <td>0.712120</td>\n",
              "      <td>0.286782</td>\n",
              "      <td>0.001098</td>\n",
              "      <td>69.0</td>\n",
              "      <td>0.0</td>\n",
              "      <td>1.0</td>\n",
              "      <td>1.0</td>\n",
              "    </tr>\n",
              "    <tr>\n",
              "      <th>12381</th>\n",
              "      <td>a95a4817-482e-48bd-96bf-c661573e7032</td>\n",
              "      <td>0.317394</td>\n",
              "      <td>0.497894</td>\n",
              "      <td>0.184712</td>\n",
              "      <td>17.0</td>\n",
              "      <td>1.0</td>\n",
              "      <td>1.0</td>\n",
              "      <td>1.0</td>\n",
              "    </tr>\n",
              "  </tbody>\n",
              "</table>\n",
              "</div>"
            ],
            "text/plain": [
              "                                  patientId  PNEUMONIA  ...  ViewPosition  Target\n",
              "1965   72dc0bc2-8c6a-4214-b06f-862e9e8444bd   0.577369  ...           1.0     1.0\n",
              "10493  be6444fb-5c41-436a-ad7b-278dc59eec67   0.776164  ...           1.0     1.0\n",
              "1624   cae03a83-a903-4087-b324-a67fe98638d4   0.968049  ...           0.0     1.0\n",
              "1369   bda78d8f-77ca-4806-a095-e0df852f821f   0.712120  ...           1.0     1.0\n",
              "12381  a95a4817-482e-48bd-96bf-c661573e7032   0.317394  ...           1.0     1.0\n",
              "\n",
              "[5 rows x 8 columns]"
            ]
          },
          "metadata": {
            "tags": []
          },
          "execution_count": 55
        }
      ]
    },
    {
      "cell_type": "markdown",
      "metadata": {
        "id": "7oI8Y7pd_gFZ"
      },
      "source": [
        "- This provides us view of sample distribution of the dataframe.\n",
        "- There are cases where the probability of Not Normal and Pneumonia case are very close to each other. In order to provide more features to correctly identify the pneumonia cases we have explicitly used few elements of metadata as features which is found to be having predictive power.\n",
        "These may be the special cases where the Radiologist is not able to identify from CXR whether the Opacity is attributable to pneumonia or not. \n",
        "This is where the application will be most helpful in correctly diagnosing pneumonia cases."
      ]
    },
    {
      "cell_type": "markdown",
      "metadata": {
        "id": "SfWbPHMY_xIX"
      },
      "source": [
        "- Based on the probability of class predcition output of stage 1 we can classify the training dataset into No Lung Opacity/Not Normal, Normal and Lung Opacity. \n",
        "- Based on this classification and mappings of target we can find the predicted target for the training set. \n",
        "- We here below provide visualization of the distribution of predicted(at stage 1) target variable of training set. \n",
        "- The target variable is significantly imbalanced and requires balancing for better results.\n",
        "\n"
      ]
    },
    {
      "cell_type": "code",
      "metadata": {
        "id": "8fS3QANFgkz_",
        "outputId": "db7f8e44-17b2-4ed1-acc2-0e670ddd27d2",
        "colab": {
          "base_uri": "https://localhost:8080/",
          "height": 248
        }
      },
      "source": [
        "import matplotlib.pyplot as plt\n",
        "import numpy as np\n",
        "unique_values, count = np.unique(merged_pred_meta_df['Target'], return_counts=True)\n",
        "\n",
        "plt.pie(count, labels = ['0-No Pneumonia', '1-Pneumonia'],\n",
        "          autopct='%1.1f%%', startangle=90)\n",
        "plt.show()\n",
        "#Need to balance the data here."
      ],
      "execution_count": null,
      "outputs": [
        {
          "output_type": "display_data",
          "data": {
            "image/png": "[encoded data removed]",
            "text/plain": [
              "<Figure size 432x288 with 1 Axes>"
            ]
          },
          "metadata": {
            "tags": []
          }
        }
      ]
    },
    {
      "cell_type": "code",
      "metadata": {
        "id": "5FJd_jgMgriX"
      },
      "source": [
        "#Split the data into train & valid\n",
        "y = merged_pred_meta_df['Target'].to_numpy()\n",
        "X = merged_pred_meta_df[merged_pred_meta_df.columns[1:7]]"
      ],
      "execution_count": null,
      "outputs": []
    },
    {
      "cell_type": "markdown",
      "metadata": {
        "id": "oMKZx6b2A4GA"
      },
      "source": [
        "- We separate features X and target y for splitting.\n"
      ]
    },
    {
      "cell_type": "code",
      "metadata": {
        "id": "F-JzQDWZgse_",
        "outputId": "40802fbb-47c8-4c8d-d199-3dd3794840d7",
        "colab": {
          "base_uri": "https://localhost:8080/",
          "height": 203
        }
      },
      "source": [
        "X.head()"
      ],
      "execution_count": null,
      "outputs": [
        {
          "output_type": "execute_result",
          "data": {
            "text/html": [
              "<div>\n",
              "<style scoped>\n",
              "    .dataframe tbody tr th:only-of-type {\n",
              "        vertical-align: middle;\n",
              "    }\n",
              "\n",
              "    .dataframe tbody tr th {\n",
              "        vertical-align: top;\n",
              "    }\n",
              "\n",
              "    .dataframe thead th {\n",
              "        text-align: right;\n",
              "    }\n",
              "</style>\n",
              "<table border=\"1\" class=\"dataframe\">\n",
              "  <thead>\n",
              "    <tr style=\"text-align: right;\">\n",
              "      <th></th>\n",
              "      <th>PNEUMONIA</th>\n",
              "      <th>NOT_NORMAL</th>\n",
              "      <th>NORMAL</th>\n",
              "      <th>PatientAge</th>\n",
              "      <th>PatientSex</th>\n",
              "      <th>ViewPosition</th>\n",
              "    </tr>\n",
              "  </thead>\n",
              "  <tbody>\n",
              "    <tr>\n",
              "      <th>0</th>\n",
              "      <td>0.903187</td>\n",
              "      <td>0.095160</td>\n",
              "      <td>0.001653</td>\n",
              "      <td>23.0</td>\n",
              "      <td>1.0</td>\n",
              "      <td>1.0</td>\n",
              "    </tr>\n",
              "    <tr>\n",
              "      <th>1</th>\n",
              "      <td>0.803540</td>\n",
              "      <td>0.195681</td>\n",
              "      <td>0.000779</td>\n",
              "      <td>25.0</td>\n",
              "      <td>1.0</td>\n",
              "      <td>1.0</td>\n",
              "    </tr>\n",
              "    <tr>\n",
              "      <th>2</th>\n",
              "      <td>0.015495</td>\n",
              "      <td>0.089923</td>\n",
              "      <td>0.894582</td>\n",
              "      <td>38.0</td>\n",
              "      <td>0.0</td>\n",
              "      <td>0.0</td>\n",
              "    </tr>\n",
              "    <tr>\n",
              "      <th>3</th>\n",
              "      <td>0.797698</td>\n",
              "      <td>0.197211</td>\n",
              "      <td>0.005091</td>\n",
              "      <td>55.0</td>\n",
              "      <td>1.0</td>\n",
              "      <td>1.0</td>\n",
              "    </tr>\n",
              "    <tr>\n",
              "      <th>4</th>\n",
              "      <td>0.597438</td>\n",
              "      <td>0.398190</td>\n",
              "      <td>0.004372</td>\n",
              "      <td>35.0</td>\n",
              "      <td>1.0</td>\n",
              "      <td>1.0</td>\n",
              "    </tr>\n",
              "  </tbody>\n",
              "</table>\n",
              "</div>"
            ],
            "text/plain": [
              "   PNEUMONIA  NOT_NORMAL    NORMAL  PatientAge  PatientSex  ViewPosition\n",
              "0   0.903187    0.095160  0.001653        23.0         1.0           1.0\n",
              "1   0.803540    0.195681  0.000779        25.0         1.0           1.0\n",
              "2   0.015495    0.089923  0.894582        38.0         0.0           0.0\n",
              "3   0.797698    0.197211  0.005091        55.0         1.0           1.0\n",
              "4   0.597438    0.398190  0.004372        35.0         1.0           1.0"
            ]
          },
          "metadata": {
            "tags": []
          },
          "execution_count": 58
        }
      ]
    },
    {
      "cell_type": "code",
      "metadata": {
        "id": "A6tMdhPygxWY"
      },
      "source": [
        "from sklearn.model_selection import train_test_split\n",
        "X_train, X_test, y_train, y_test = train_test_split(X, y, test_size=0.10, random_state=42)"
      ],
      "execution_count": null,
      "outputs": []
    },
    {
      "cell_type": "markdown",
      "metadata": {
        "id": "yJTY0CahBJQj"
      },
      "source": [
        "- We make train/test split of the data to be fed into FFNN model in the ratio of 90% to 10% for target classifiction. "
      ]
    },
    {
      "cell_type": "markdown",
      "metadata": {
        "id": "eijJdoREf0m1"
      },
      "source": [
        "## FFNN model"
      ]
    },
    {
      "cell_type": "code",
      "metadata": {
        "id": "8toeJToDg4Fn"
      },
      "source": [
        "#Build neural netwrok\n",
        "\n",
        "from tensorflow.keras.layers import  Reshape\n",
        "def add_layer(model):\n",
        "  kinit ='he_normal' #tf.keras.initializers.he_normal()\n",
        "  actv = 'relu' #activation.relu\n",
        "  # model.add(Reshape((6,),input_shape=(32,32,)))\n",
        "  # #Add batch normalization to avoid NAN in training loss\n",
        "  # model.add(kl.normalization.BatchNormalization())\n",
        "  #Add input layer -- \n",
        "  model.add(Dense(6,input_dim= 6,activation=actv,kernel_initializer=kinit))\n",
        "  model.add(BatchNormalization())\n",
        "  #How many hidden layer? No clear rule, trial & error? Literature says, it 3 hidden layer sufficient\n",
        "  #Add hidden layer -1\n",
        "  model.add(Dense(16,activation=actv,kernel_initializer=kinit))\n",
        "  model.add(BatchNormalization())\n",
        "  #Add hidden layer -2\n",
        "  model.add(Dense(8,activation=actv,kernel_initializer=kinit))\n",
        "  model.add(BatchNormalization())\n",
        "  #Add hidden layer -3\n",
        "  model.add(Dense(4,activation=actv,kernel_initializer=kinit))\n",
        "  model.add(BatchNormalization())\n",
        "\n",
        "\n",
        "  #Add output layer -- number of output neoron 1(as the number of output is 10)\n",
        "  #Add hidden layer -1\n",
        "  model.add(Dense(1,activation='sigmoid',kernel_initializer=kinit))\n",
        "  \n",
        "nn_model = Sequential()\n",
        "add_layer(nn_model)"
      ],
      "execution_count": null,
      "outputs": []
    },
    {
      "cell_type": "code",
      "metadata": {
        "id": "-Y4QjrKJg5GX",
        "outputId": "456f03a7-711a-469e-a292-eb2216a863c9",
        "colab": {
          "base_uri": "https://localhost:8080/",
          "height": 1000
        }
      },
      "source": [
        "def fit_model(opt,model,epoch=60,verbo=1,batchsize=128):\n",
        "  model.compile(optimizer = opt, loss = 'binary_crossentropy', metrics = ['accuracy'])\n",
        "  history = model.fit(X_train, y_train, validation_data=(X_test,y_test),batch_size=batchsize, epochs=epoch, verbose=verbo)\n",
        "  return history\n",
        "opt = Adam(lr = LEARN_RATE)\n",
        "history = fit_model(opt,nn_model)"
      ],
      "execution_count": null,
      "outputs": [
        {
          "output_type": "stream",
          "text": [
            "Epoch 1/60\n",
            "89/89 [==============================] - 1s 7ms/step - loss: 0.6498 - accuracy: 0.5695 - val_loss: 0.6788 - val_accuracy: 0.6358\n",
            "Epoch 2/60\n",
            "89/89 [==============================] - 0s 5ms/step - loss: 0.5460 - accuracy: 0.7930 - val_loss: 0.6568 - val_accuracy: 0.6975\n",
            "Epoch 3/60\n",
            "89/89 [==============================] - 0s 5ms/step - loss: 0.4186 - accuracy: 0.8276 - val_loss: 0.6963 - val_accuracy: 0.5384\n",
            "Epoch 4/60\n",
            "89/89 [==============================] - 0s 5ms/step - loss: 0.3833 - accuracy: 0.8402 - val_loss: 0.6441 - val_accuracy: 0.6176\n",
            "Epoch 5/60\n",
            "89/89 [==============================] - 0s 5ms/step - loss: 0.3714 - accuracy: 0.8409 - val_loss: 0.5671 - val_accuracy: 0.8044\n",
            "Epoch 6/60\n",
            "89/89 [==============================] - 0s 5ms/step - loss: 0.3633 - accuracy: 0.8402 - val_loss: 0.7323 - val_accuracy: 0.5653\n",
            "Epoch 7/60\n",
            "89/89 [==============================] - 0s 5ms/step - loss: 0.3653 - accuracy: 0.8422 - val_loss: 0.3700 - val_accuracy: 0.8298\n",
            "Epoch 8/60\n",
            "89/89 [==============================] - 0s 5ms/step - loss: 0.3611 - accuracy: 0.8397 - val_loss: 0.4134 - val_accuracy: 0.8440\n",
            "Epoch 9/60\n",
            "89/89 [==============================] - 0s 5ms/step - loss: 0.3600 - accuracy: 0.8402 - val_loss: 0.4030 - val_accuracy: 0.8369\n",
            "Epoch 10/60\n",
            "89/89 [==============================] - 0s 5ms/step - loss: 0.3602 - accuracy: 0.8412 - val_loss: 0.3701 - val_accuracy: 0.8195\n",
            "Epoch 11/60\n",
            "89/89 [==============================] - 0s 5ms/step - loss: 0.3592 - accuracy: 0.8437 - val_loss: 0.3594 - val_accuracy: 0.8329\n",
            "Epoch 12/60\n",
            "89/89 [==============================] - 0s 5ms/step - loss: 0.3590 - accuracy: 0.8404 - val_loss: 0.4308 - val_accuracy: 0.8353\n",
            "Epoch 13/60\n",
            "89/89 [==============================] - 0s 5ms/step - loss: 0.3580 - accuracy: 0.8431 - val_loss: 0.3822 - val_accuracy: 0.8203\n",
            "Epoch 14/60\n",
            "89/89 [==============================] - 0s 5ms/step - loss: 0.3597 - accuracy: 0.8398 - val_loss: 0.3774 - val_accuracy: 0.8496\n",
            "Epoch 15/60\n",
            "89/89 [==============================] - 0s 5ms/step - loss: 0.3610 - accuracy: 0.8412 - val_loss: 0.5935 - val_accuracy: 0.7142\n",
            "Epoch 16/60\n",
            "89/89 [==============================] - 0s 5ms/step - loss: 0.3589 - accuracy: 0.8439 - val_loss: 0.4103 - val_accuracy: 0.8203\n",
            "Epoch 17/60\n",
            "89/89 [==============================] - 0s 5ms/step - loss: 0.3575 - accuracy: 0.8428 - val_loss: 0.3594 - val_accuracy: 0.8480\n",
            "Epoch 18/60\n",
            "89/89 [==============================] - 0s 5ms/step - loss: 0.3583 - accuracy: 0.8432 - val_loss: 0.6351 - val_accuracy: 0.6698\n",
            "Epoch 19/60\n",
            "89/89 [==============================] - 0s 5ms/step - loss: 0.3584 - accuracy: 0.8434 - val_loss: 0.4407 - val_accuracy: 0.8203\n",
            "Epoch 20/60\n",
            "89/89 [==============================] - 0s 5ms/step - loss: 0.3568 - accuracy: 0.8451 - val_loss: 0.4448 - val_accuracy: 0.8274\n",
            "Epoch 21/60\n",
            "89/89 [==============================] - 0s 6ms/step - loss: 0.3562 - accuracy: 0.8413 - val_loss: 0.3936 - val_accuracy: 0.8345\n",
            "Epoch 22/60\n",
            "89/89 [==============================] - 0s 5ms/step - loss: 0.3560 - accuracy: 0.8438 - val_loss: 0.3374 - val_accuracy: 0.8456\n",
            "Epoch 23/60\n",
            "89/89 [==============================] - 0s 5ms/step - loss: 0.3545 - accuracy: 0.8436 - val_loss: 0.3641 - val_accuracy: 0.8424\n",
            "Epoch 24/60\n",
            "89/89 [==============================] - 0s 5ms/step - loss: 0.3544 - accuracy: 0.8451 - val_loss: 0.3369 - val_accuracy: 0.8464\n",
            "Epoch 25/60\n",
            "89/89 [==============================] - 0s 6ms/step - loss: 0.3558 - accuracy: 0.8434 - val_loss: 0.3624 - val_accuracy: 0.8393\n",
            "Epoch 26/60\n",
            "89/89 [==============================] - 0s 5ms/step - loss: 0.3555 - accuracy: 0.8423 - val_loss: 0.3454 - val_accuracy: 0.8377\n",
            "Epoch 27/60\n",
            "89/89 [==============================] - 0s 5ms/step - loss: 0.3534 - accuracy: 0.8454 - val_loss: 0.3443 - val_accuracy: 0.8488\n",
            "Epoch 28/60\n",
            "89/89 [==============================] - 0s 5ms/step - loss: 0.3559 - accuracy: 0.8453 - val_loss: 0.3429 - val_accuracy: 0.8409\n",
            "Epoch 29/60\n",
            "89/89 [==============================] - 0s 5ms/step - loss: 0.3543 - accuracy: 0.8453 - val_loss: 0.3997 - val_accuracy: 0.8472\n",
            "Epoch 30/60\n",
            "89/89 [==============================] - 0s 5ms/step - loss: 0.3546 - accuracy: 0.8432 - val_loss: 0.3410 - val_accuracy: 0.8416\n",
            "Epoch 31/60\n",
            "89/89 [==============================] - 0s 6ms/step - loss: 0.3556 - accuracy: 0.8444 - val_loss: 0.3455 - val_accuracy: 0.8456\n",
            "Epoch 32/60\n",
            "89/89 [==============================] - 0s 5ms/step - loss: 0.3531 - accuracy: 0.8459 - val_loss: 0.3770 - val_accuracy: 0.8345\n",
            "Epoch 33/60\n",
            "89/89 [==============================] - 0s 5ms/step - loss: 0.3549 - accuracy: 0.8417 - val_loss: 0.3577 - val_accuracy: 0.8488\n",
            "Epoch 34/60\n",
            "89/89 [==============================] - 0s 5ms/step - loss: 0.3541 - accuracy: 0.8439 - val_loss: 0.3918 - val_accuracy: 0.8377\n",
            "Epoch 35/60\n",
            "89/89 [==============================] - 0s 5ms/step - loss: 0.3550 - accuracy: 0.8446 - val_loss: 0.3556 - val_accuracy: 0.8369\n",
            "Epoch 36/60\n",
            "89/89 [==============================] - 0s 5ms/step - loss: 0.3541 - accuracy: 0.8453 - val_loss: 0.4131 - val_accuracy: 0.8401\n",
            "Epoch 37/60\n",
            "89/89 [==============================] - 0s 5ms/step - loss: 0.3555 - accuracy: 0.8423 - val_loss: 0.3483 - val_accuracy: 0.8456\n",
            "Epoch 38/60\n",
            "89/89 [==============================] - 1s 6ms/step - loss: 0.3525 - accuracy: 0.8453 - val_loss: 0.3461 - val_accuracy: 0.8504\n",
            "Epoch 39/60\n",
            "89/89 [==============================] - 0s 5ms/step - loss: 0.3537 - accuracy: 0.8457 - val_loss: 0.3331 - val_accuracy: 0.8440\n",
            "Epoch 40/60\n",
            "89/89 [==============================] - 0s 5ms/step - loss: 0.3549 - accuracy: 0.8427 - val_loss: 0.4140 - val_accuracy: 0.8424\n",
            "Epoch 41/60\n",
            "89/89 [==============================] - 0s 5ms/step - loss: 0.3537 - accuracy: 0.8445 - val_loss: 0.3456 - val_accuracy: 0.8464\n",
            "Epoch 42/60\n",
            "89/89 [==============================] - 0s 5ms/step - loss: 0.3527 - accuracy: 0.8439 - val_loss: 0.3835 - val_accuracy: 0.8504\n",
            "Epoch 43/60\n",
            "89/89 [==============================] - 0s 5ms/step - loss: 0.3541 - accuracy: 0.8450 - val_loss: 0.3774 - val_accuracy: 0.8504\n",
            "Epoch 44/60\n",
            "89/89 [==============================] - 0s 5ms/step - loss: 0.3530 - accuracy: 0.8452 - val_loss: 0.4269 - val_accuracy: 0.8321\n",
            "Epoch 45/60\n",
            "89/89 [==============================] - 0s 5ms/step - loss: 0.3527 - accuracy: 0.8451 - val_loss: 0.3692 - val_accuracy: 0.8519\n",
            "Epoch 46/60\n",
            "89/89 [==============================] - 0s 5ms/step - loss: 0.3546 - accuracy: 0.8443 - val_loss: 0.4539 - val_accuracy: 0.8274\n",
            "Epoch 47/60\n",
            "89/89 [==============================] - 0s 5ms/step - loss: 0.3529 - accuracy: 0.8441 - val_loss: 0.4528 - val_accuracy: 0.8298\n",
            "Epoch 48/60\n",
            "89/89 [==============================] - 0s 5ms/step - loss: 0.3540 - accuracy: 0.8447 - val_loss: 0.3414 - val_accuracy: 0.8488\n",
            "Epoch 49/60\n",
            "89/89 [==============================] - 0s 5ms/step - loss: 0.3552 - accuracy: 0.8444 - val_loss: 0.3367 - val_accuracy: 0.8519\n",
            "Epoch 50/60\n",
            "89/89 [==============================] - 0s 6ms/step - loss: 0.3563 - accuracy: 0.8422 - val_loss: 0.3522 - val_accuracy: 0.8369\n",
            "Epoch 51/60\n",
            "89/89 [==============================] - 0s 5ms/step - loss: 0.3551 - accuracy: 0.8455 - val_loss: 0.3565 - val_accuracy: 0.8464\n",
            "Epoch 52/60\n",
            "89/89 [==============================] - 0s 5ms/step - loss: 0.3547 - accuracy: 0.8431 - val_loss: 0.3755 - val_accuracy: 0.8504\n",
            "Epoch 53/60\n",
            "89/89 [==============================] - 0s 5ms/step - loss: 0.3535 - accuracy: 0.8450 - val_loss: 0.4206 - val_accuracy: 0.8416\n",
            "Epoch 54/60\n",
            "89/89 [==============================] - 0s 5ms/step - loss: 0.3533 - accuracy: 0.8439 - val_loss: 0.3440 - val_accuracy: 0.8401\n",
            "Epoch 55/60\n",
            "89/89 [==============================] - 0s 5ms/step - loss: 0.3521 - accuracy: 0.8463 - val_loss: 0.4292 - val_accuracy: 0.8274\n",
            "Epoch 56/60\n",
            "89/89 [==============================] - 0s 5ms/step - loss: 0.3530 - accuracy: 0.8454 - val_loss: 0.3786 - val_accuracy: 0.8393\n",
            "Epoch 57/60\n",
            "89/89 [==============================] - 0s 6ms/step - loss: 0.3555 - accuracy: 0.8428 - val_loss: 0.3706 - val_accuracy: 0.8464\n",
            "Epoch 58/60\n",
            "89/89 [==============================] - 0s 5ms/step - loss: 0.3540 - accuracy: 0.8452 - val_loss: 0.4060 - val_accuracy: 0.8448\n",
            "Epoch 59/60\n",
            "89/89 [==============================] - 0s 5ms/step - loss: 0.3524 - accuracy: 0.8465 - val_loss: 0.4061 - val_accuracy: 0.8353\n",
            "Epoch 60/60\n",
            "89/89 [==============================] - 0s 5ms/step - loss: 0.3540 - accuracy: 0.8427 - val_loss: 0.3356 - val_accuracy: 0.8480\n"
          ],
          "name": "stdout"
        }
      ]
    },
    {
      "cell_type": "code",
      "metadata": {
        "id": "Xt0uxoAqh4g1"
      },
      "source": [
        "HISTORY_FILE = MODEL_NAME+\"/\" +\"history_FFNN_final1.csv\"\n",
        "his_ffnn = saveHistory(history,HISTORY_FILE)"
      ],
      "execution_count": null,
      "outputs": []
    },
    {
      "cell_type": "markdown",
      "metadata": {
        "id": "nQILEwofEBon"
      },
      "source": [
        "## Classification Performance(Recall)"
      ]
    },
    {
      "cell_type": "code",
      "metadata": {
        "id": "wtzHlRxbhdLw",
        "outputId": "bfc8e5e7-edfe-4464-8655-b52fdfe0691d",
        "colab": {
          "base_uri": "https://localhost:8080/",
          "height": 376
        }
      },
      "source": [
        "plot_his(his_ffnn,'accuracy')"
      ],
      "execution_count": null,
      "outputs": [
        {
          "output_type": "display_data",
          "data": {
            "image/png": "[encoded data removed]",
            "text/plain": [
              "<Figure size 1080x432 with 2 Axes>"
            ]
          },
          "metadata": {
            "tags": [],
            "needs_background": "light"
          }
        }
      ]
    },
    {
      "cell_type": "code",
      "metadata": {
        "id": "je9KvBDnH7Aw"
      },
      "source": [
        "pred_y_train = nn_model.predict(X_train)\n",
        "pred_y_train_class = (pred_y_train >= 0.45).astype(np.int)"
      ],
      "execution_count": null,
      "outputs": []
    },
    {
      "cell_type": "code",
      "metadata": {
        "id": "_r7pfll_hASO"
      },
      "source": [
        "pred_y = nn_model.predict(X_test)"
      ],
      "execution_count": null,
      "outputs": []
    },
    {
      "cell_type": "code",
      "metadata": {
        "id": "s1lp1ZDgPJHO"
      },
      "source": [
        "pred_y;"
      ],
      "execution_count": null,
      "outputs": []
    },
    {
      "cell_type": "code",
      "metadata": {
        "id": "cau9QmZSupPQ"
      },
      "source": [
        "pred_y_class = (pred_y >= 0.45).astype(np.int)"
      ],
      "execution_count": null,
      "outputs": []
    },
    {
      "cell_type": "code",
      "metadata": {
        "id": "gT-A3gSdxdwp"
      },
      "source": [
        "y_test = (y_test >= 0.5).astype(np.int)\n"
      ],
      "execution_count": null,
      "outputs": []
    },
    {
      "cell_type": "code",
      "metadata": {
        "id": "x1oQwG9bFqQ1",
        "outputId": "7156336c-4b32-4cd6-c911-29340a307b7e",
        "colab": {
          "base_uri": "https://localhost:8080/",
          "height": 325
        }
      },
      "source": [
        "plt.figure(figsize= (15,10))\n",
        "plt.subplot(2,2,1)\n",
        "\n",
        "mat = metrics.confusion_matrix(y_train, pred_y_train_class)\n",
        "sns.heatmap(mat, square=True, annot = True, fmt = 'd', cbar = False, linewidth=0.5)\n",
        "plt.title('Confusion Matrix Train Set', fontsize = 12, fontweight=\"bold\")\n",
        "plt.xlabel('Predicted')\n",
        "plt.ylabel('True')\n",
        "#plt.show()\n",
        "\n",
        "plt.subplot(2,2,2)\n",
        "mat = metrics.confusion_matrix(y_test, pred_y_class)\n",
        "sns.heatmap(mat, square=True, annot = True, fmt = 'd', cbar = False, linewidth=0.5)\n",
        "plt.title('Confusion Matrix Test Set', fontsize = 12, fontweight=\"bold\")\n",
        "plt.xlabel('Predicted')\n",
        "plt.ylabel('True')\n",
        "plt.show()"
      ],
      "execution_count": null,
      "outputs": [
        {
          "output_type": "display_data",
          "data": {
            "image/png": "[encoded data removed]",
            "text/plain": [
              "<Figure size 1080x720 with 2 Axes>"
            ]
          },
          "metadata": {
            "tags": [],
            "needs_background": "light"
          }
        }
      ]
    },
    {
      "cell_type": "code",
      "metadata": {
        "id": "qxTg5lpWnJJa",
        "outputId": "ad8106a4-7894-4ced-f34b-3421166cbf7b",
        "colab": {
          "base_uri": "https://localhost:8080/",
          "height": 261
        }
      },
      "source": [
        "print(\"Confusion Matrix:- \\n\", metrics.confusion_matrix(y_train, pred_y_train_class), \"\\n\")\n",
        "print(\"Classification Report Test Set:- \\n\", metrics.classification_report(y_train, pred_y_train_class))"
      ],
      "execution_count": null,
      "outputs": [
        {
          "output_type": "stream",
          "text": [
            "Confusion Matrix:- \n",
            " [[6637  930]\n",
            " [ 840 2954]] \n",
            "\n",
            "Classification Report Test Set:- \n",
            "               precision    recall  f1-score   support\n",
            "\n",
            "         0.0       0.89      0.88      0.88      7567\n",
            "         1.0       0.76      0.78      0.77      3794\n",
            "\n",
            "    accuracy                           0.84     11361\n",
            "   macro avg       0.82      0.83      0.83     11361\n",
            "weighted avg       0.85      0.84      0.84     11361\n",
            "\n"
          ],
          "name": "stdout"
        }
      ]
    },
    {
      "cell_type": "code",
      "metadata": {
        "id": "mk2Ow2pMQvzF",
        "outputId": "32604620-e2b3-49da-bacc-39a17a1b2f75",
        "colab": {
          "base_uri": "https://localhost:8080/",
          "height": 261
        }
      },
      "source": [
        "print(\"Confusion Matrix:- \\n\", metrics.confusion_matrix(y_test, pred_y_class), \"\\n\")\n",
        "print(\"Classification Report Test Set:- \\n\", metrics.classification_report(y_test, pred_y_class))"
      ],
      "execution_count": null,
      "outputs": [
        {
          "output_type": "stream",
          "text": [
            "Confusion Matrix:- \n",
            " [[739 110]\n",
            " [ 81 333]] \n",
            "\n",
            "Classification Report Test Set:- \n",
            "               precision    recall  f1-score   support\n",
            "\n",
            "           0       0.90      0.87      0.89       849\n",
            "           1       0.75      0.80      0.78       414\n",
            "\n",
            "    accuracy                           0.85      1263\n",
            "   macro avg       0.83      0.84      0.83      1263\n",
            "weighted avg       0.85      0.85      0.85      1263\n",
            "\n"
          ],
          "name": "stdout"
        }
      ]
    },
    {
      "cell_type": "markdown",
      "metadata": {
        "id": "D2Dk6nZzFEIP"
      },
      "source": [
        "**Metrics Background**\n",
        "\n",
        "**Accuracy:**\n",
        "\n",
        "- Accuracy simply measures how often the classifier makes the correct prediction. It is the ratio between the number of correct predictions and the total number of predictions (the number of test data points). Accuracy = No. of correct predictions/Total No. of predictions.\n",
        " - TP/(TP+TN+FP+FN)\n",
        "\n",
        "**Precision & Recall:**\n",
        "\n",
        "- Precision and recall are actually two metrics. But they are often used together.\n",
        "- Precision answers the question: Out of the items that the classifier predicted to be true, how many are actually true?\n",
        "- Recall answers the question: Out of all the items that are actually true, how many are found to be true by the classifier?\n",
        "\n",
        "- The precision score quantifies the ability of a classifier to not label a negative example as positive. High precision implies not many 'not pneumonia' cases are wrogly labeled as pneumonia. So wrong treatement is avoided. \n",
        "- The precision score can be interpreted as the probability that a positive prediction made by the classifier is positive. That is precision score is probability of pneumonia cases predicted by the classifier is infact pneuonia cases. \n",
        "- The score is in the range [0,1] with 0 being the worst, and 1 being perfect.\n",
        "\n",
        "- Recall is a metric that quantifies the number of correct positive predictions made out of all positive predictions that could have been made(Correct positive predictions out of actual positives).\n",
        "- Unlike precision that only comments on the correct positive predictions out of all positive predictions, recall provides an indication of missed positive predictions.\n",
        "- In this way, recall provides some notion of the coverage of the positive class.\n",
        "- High recall score could be interpreted as high probability of identifying positive cases. That is the probability of classifier identifying pneumonia cases out of the positive cases. \n",
        "- If the recall is low the risk of not identify pneumonia cases will be high and the patient will be deprived of treatment. Hence, recall should be high in this case. \n",
        "- The precision and recall scores are calculated as under:\n",
        " - Precision = No. of True Positive/(No. of True Positive + No. of False Positive). That is , the denominator is Predicted Positives.\n",
        " - Recall = No. of True Positive/( No. of True Positive + No. of False Negative. That is the denominator is Actual Positives.\n",
        "\n",
        "**F1 Score:**\n",
        "\n",
        "- The F1-score is a single metric that combines both precision and recall via their harmonic mean:\n",
        " - F1 Score =2xprecision∗recall/(precision + recall)\n",
        "- The score lies in the range [0,1] with 1 being ideal and 0 being the worst. \n",
        "- Unlike the arithmetic mean, the harmonic mean tends toward the smaller of the two elements. Hence the F1 score will be small if either precision or recall is small.\n"
      ]
    },
    {
      "cell_type": "markdown",
      "metadata": {
        "id": "6YX2FQZd53lA"
      },
      "source": [
        "### ROC curve"
      ]
    },
    {
      "cell_type": "code",
      "metadata": {
        "id": "q13uvWLk56pf",
        "outputId": "c3a4ea78-78b9-46d3-a7e5-fd513985a743",
        "colab": {
          "base_uri": "https://localhost:8080/",
          "height": 458
        }
      },
      "source": [
        "from sklearn.metrics import roc_curve, roc_auc_score\n",
        "from matplotlib.font_manager import FontProperties\n",
        "fontP = FontProperties()\n",
        "fontP.set_size('xx-small')\n",
        "fpr, tpr, _ = roc_curve(y_test, pred_y)\n",
        "fig, ax1 = plt.subplots(1,1, figsize = (7, 7))\n",
        "ax1.plot(fpr, tpr, marker='.', label = 'InceptionV3 (AUC:%2.2f)' % roc_auc_score(y_test, pred_y))\n",
        "ax1.plot(fpr, fpr, linestyle='--', label = 'Random Guessing')\n",
        "ax1.legend(title='legend',  loc='lower right')\n",
        "ax1.set_xlabel('False Positive Rate')\n",
        "ax1.set_ylabel('True Positive Rate');\n",
        "ax1.set_title('Lung Opacity ROC Curve');"
      ],
      "execution_count": null,
      "outputs": [
        {
          "output_type": "display_data",
          "data": {
            "image/png": "[encoded data removed]",
            "text/plain": [
              "<Figure size 504x504 with 1 Axes>"
            ]
          },
          "metadata": {
            "tags": [],
            "needs_background": "light"
          }
        }
      ]
    },
    {
      "cell_type": "markdown",
      "metadata": {
        "id": "FCDJKV0d9HeQ"
      },
      "source": [
        "- The presence of imbalanced data may distort the algorithms and its predicting performance. This problem often happens in real world dataset, since people with certain behavior account for relatively smaller part. \n",
        "- In the current project being handled the Pneumonia/Not Pneumonia is surely a significantly imbalanced dataset.\n",
        "- How to deal with this problem can be divided into two parts:\n",
        " - First, change the way of measuring algorithm’s performance. As a traditional and common measurement of performance, the test accuracy rate cannot be simply used here because the model will tend to fit the majority class better to improve the overall accuracy. However, we prefer to be more successful in identifying people who have pneumonia than the overall power of prediction. Therefore, we will have to use ROC (Receiver Operating Characteristic) curve and AUC (Area Under Curve )as the performance measurement.\n",
        "\n",
        " - Second, change the dataset using resampling method or apply different weights to the observations in objective function. \n",
        "  - The most commonly used resampling method is oversampling (sample with replacement from the group with less data until the number equals to the larger group).\n",
        "  - Undersampling (sample with replacement from the group with more data until the number equals to the lesser group) and \n",
        "  - mix sampling (mixture of oversampling and undersampling). The method with reweighting can vary a lot by applying different weights."
      ]
    },
    {
      "cell_type": "markdown",
      "metadata": {
        "id": "eYFPcqNDFVA7"
      },
      "source": [
        "**Background of ROC Curve**\n",
        "\n",
        "- It is one of the most important evaluation metrics for checking any classification model’s performance. \n",
        "- It is also written as AUROC (Area Under the Receiver Operating Characteristics)\n",
        "- AUC - ROC curve is a performance measurement for classification problem at various thresholds settings. \n",
        "- ROC is a probability curve and AUC represents degree or measure of separability. \n",
        "- It tells how much model is capable of distinguishing between classes. - Higher the AUC, better the model is at predicting 0s as 0s and 1s as 1s. \n",
        "- By analogy, Higher the AUC, better the model is at distinguishing between patients with disease and no disease.\n",
        "- The ROC curve is plotted with TPR(True Positive Rate) against the FPR(False Positive Rate) where TPR is on y-axis and FPR is on the x-axis.\n",
        " - TPR//Recall//Sensitivity = TP/(TP+FN)\n",
        " - Specificity = TN/(TN+FP)\n",
        " - FPR = 1-Specificity = FP/(TN+FP)\n",
        "- An excellent model has AUC near to the 1 which means it has good measure of separability. \n",
        "- A poor model has AUC near to the 0 which means it has worst measure of separability. In fact it means it is reciprocating the result. It is predicting 0s as 1s and 1s as 0s. \n",
        "- And when AUC is 0.5, it means model has no class separation capacity whatsoever.\n",
        "- When AUC is 0.9, it means there is 90% chance that model will be able to distinguish between positive class and negative class."
      ]
    },
    {
      "cell_type": "markdown",
      "metadata": {
        "id": "Yg9QoxJ-BgGu"
      },
      "source": [
        "- Among all the models experimented, InceptionV3 has given consistent and good performance. \n",
        "- Hence, Option 1 comprises of classification Module based on InceptionV3 model in stage 1 for classification of classes followed by FFNN model for classifiction of Target variable in stage 2 and then RetinaNet for detection. \n",
        "\n",
        "- **This classification module comprising of the sequential InceptionV3 and FFNN models itself can be used as a standalone Global Pneumonia Classification System for taking up clinical decisions.** \n",
        "\n",
        "- Going further for detection of opacity we have two choices:\n",
        " - **Choice 1**: Use only the images of pneumonia cases identified by the final classifiction model(FFNN) to be passed to the RetinaNet model for detection. That is the corresponding images classified as pneumonia cases by the classification Module only will be filtered and fed to the detection model based on RetinaNet. \n",
        "\n",
        " - **Choice 2**: Additionally pass the probability of pneumonia arrived at by the stage 2 of classification module weighted(based on GridSearchCV) appropriately with  predicted confidence score arrived by the RetinaNet model. This additional information has influence on the predicted bounding box confidence score. This is only the concept but not implemented. But can be implemented easily as all data required is available. \n",
        "\n",
        "- We have created a single pipeline where given an image, the system first exectutes two stage classification and identifies whether the image pertains to pneumonia case or not and if it is classified as penumonia case it will automatically proceed to process further for detecting the bounding boxes via RetinaNet model.\n",
        "\n",
        "- In case the DICOM files are not provided and only JPG files are given as CXR input, then we will not have metadata information to run through the FFNN model of Stage 2 classification. In such cases, the pipline will skip the FFNN stage 2 process and will pass jpg images, of pneumonia cases only as identified at stage 1, to RetinNet model for detection of opacity by predicting bounding boxes.\n",
        "\n",
        "- In such cases of JPG file input, as per the settings, the probability of pneumonia cases arrived at stage 1 classification is also passed to RetinaNet for imporving the accuracy of the confidence score predicted. \n",
        "\n"
      ]
    },
    {
      "cell_type": "markdown",
      "metadata": {
        "id": "q2SKp66bF8kg"
      },
      "source": [
        "## Conclusion\n",
        "\n",
        "> Indented block\n",
        "\n"
      ]
    },
    {
      "cell_type": "code",
      "metadata": {
        "id": "ZO6T3dAKeLyo"
      },
      "source": [
        ""
      ],
      "execution_count": null,
      "outputs": []
    }
  ]
}