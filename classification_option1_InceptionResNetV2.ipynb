{
  "nbformat": 4,
  "nbformat_minor": 0,
  "metadata": {
    "colab": {
      "name": "classification_option1_InceptionResNetV2.ipynb",
      "provenance": [],
      "collapsed_sections": [],
      "toc_visible": true,
      "authorship_tag": "ABX9TyMTRCTsi9fesg7RQfEw56VV",
      "include_colab_link": true
    },
    "kernelspec": {
      "name": "python3",
      "display_name": "Python 3"
    },
    "accelerator": "GPU"
  },
  "cells": [
    {
      "cell_type": "markdown",
      "metadata": {
        "id": "view-in-github",
        "colab_type": "text"
      },
      "source": [
        "<a href=\"https://colab.research.google.com/github/pswaruppk/GL_CAPSTONE/blob/master/classification_option1_InceptionResNetV2.ipynb\" target=\"_parent\"><img src=\"https://colab.research.google.com/assets/colab-badge.svg\" alt=\"Open In Colab\"/></a>"
      ]
    },
    {
      "cell_type": "markdown",
      "metadata": {
        "id": "58f4F_QondId"
      },
      "source": [
        "#Hybrid model\n",
        "  This notebook is trying to build option-1 which includes classification followed by detection.\n",
        "\n",
        "Classification:\n",
        "  1. ChexNet- Densnet121 - This has been implemented here.\n",
        "  2. VGG NET\n",
        "  3. InceptionV3\n",
        "  4. **InceptionRestNetV2** This has been implemented here\n",
        "\n",
        "Detection:\n",
        "  RetinaNet based architecture\n",
        "  1. ResNet101 \n",
        "  2. ResNet152"
      ]
    },
    {
      "cell_type": "code",
      "metadata": {
        "id": "kbTCr_5QEzad"
      },
      "source": [
        "import os"
      ],
      "execution_count": null,
      "outputs": []
    },
    {
      "cell_type": "code",
      "metadata": {
        "id": "Rkx68scFlb8-",
        "outputId": "903eca38-492d-40f6-9c07-ba845bd56dba",
        "colab": {
          "base_uri": "https://localhost:8080/",
          "height": 34
        }
      },
      "source": [
        "from google.colab import drive\n",
        "drive.mount('/content/drive')"
      ],
      "execution_count": null,
      "outputs": [
        {
          "output_type": "stream",
          "text": [
            "Mounted at /content/drive\n"
          ],
          "name": "stdout"
        }
      ]
    },
    {
      "cell_type": "code",
      "metadata": {
        "id": "uOtuMJIjncTt",
        "outputId": "524eb6dd-b409-4572-8ded-c954339c0a69",
        "colab": {
          "base_uri": "https://localhost:8080/",
          "height": 35
        }
      },
      "source": [
        "project_path = \"/content/drive/My Drive/rsna-pneumonia-detection-challenge\"\n",
        "os.chdir(project_path)\n",
        "os.getcwd()"
      ],
      "execution_count": null,
      "outputs": [
        {
          "output_type": "execute_result",
          "data": {
            "application/vnd.google.colaboratory.intrinsic+json": {
              "type": "string"
            },
            "text/plain": [
              "'/content/drive/My Drive/rsna-pneumonia-detection-challenge'"
            ]
          },
          "metadata": {
            "tags": []
          },
          "execution_count": 3
        }
      ]
    },
    {
      "cell_type": "markdown",
      "metadata": {
        "id": "zxH2DzwT8mkl"
      },
      "source": [
        "## Model Parameters"
      ]
    },
    {
      "cell_type": "code",
      "metadata": {
        "id": "wFHbskXlX4QR"
      },
      "source": [
        "#Set global parameters here\n",
        "BASE_MODEL = \"InceptionResNetV2\"\n",
        "MODEL_NAME  = \"Option-1\" + \".\" + BASE_MODEL\n",
        "if os.path.isdir(MODEL_NAME) == False:\n",
        "  os.mkdir(MODEL_NAME)\n",
        "WEIGHTS_FILE = MODEL_NAME+\"/\" + \"weights.best_299.h5\"\n",
        "HISTORY_FILE = MODEL_NAME+\"/\" +\"history_299.csv\"\n",
        "BATCH_SIZE = 16\n",
        "IMAGE_SIZE = 299 #target image width\n",
        "IMG_WIDTH = 1024 #Original image width\n",
        "FORCE_TRAINING = False #True , change it to force training\n",
        "DROPOUT = 0.25 # [0, 0.25, 0.5]\n",
        "DENSE_COUNT = 128 # [32, 64, 128, 256]\n",
        "LEARN_RATE = 1e-4 # [1e-4, 1e-3, 4e-3]\n",
        "ALPHA = 1.0\n",
        "EPOCHS = 5"
      ],
      "execution_count": null,
      "outputs": []
    },
    {
      "cell_type": "code",
      "metadata": {
        "id": "brBroOQSp-5M",
        "outputId": "2401171d-e625-436f-8379-04b10d71e0e9",
        "colab": {
          "base_uri": "https://localhost:8080/",
          "height": 281
        }
      },
      "source": [
        "oldPath = os.getcwd()\n",
        "utility_path = \"/content/drive/My Drive/GL_CAPSTONE\"\n",
        "os.chdir(utility_path)\n",
        "%run pneumonia_utility.ipynb\n",
        "baseModel,preprocess_input = selectBaseModel(BASE_MODEL)\n",
        "os.chdir(oldPath)\n",
        "print(os.getcwd())\n",
        "print(baseModel,preprocess_input)"
      ],
      "execution_count": null,
      "outputs": [
        {
          "output_type": "stream",
          "text": [
            "Loading functions from Pneumonia utility notebook\n",
            "Loading pydicom package\n",
            "Collecting pydicom\n",
            "\u001b[?25l  Downloading https://files.pythonhosted.org/packages/d3/56/342e1f8ce5afe63bf65c23d0b2c1cd5a05600caad1c211c39725d3a4cc56/pydicom-2.0.0-py3-none-any.whl (35.4MB)\n",
            "\u001b[K     |████████████████████████████████| 35.5MB 89kB/s \n",
            "\u001b[?25hInstalling collected packages: pydicom\n",
            "Successfully installed pydicom-2.0.0\n",
            "Setting baseModel : InceptionResNetV2\n",
            "<module 'tensorflow.keras.applications.inception_resnet_v2' from '/usr/local/lib/python3.6/dist-packages/tensorflow/keras/applications/inception_resnet_v2/__init__.py'>\n",
            "global BaseModel; BaseModel =np.InceptionResNetV2\n",
            "global preprocess_input; preprocess_input =np.preprocess_input\n",
            "<class 'function'>\n",
            "/content/drive/My Drive/rsna-pneumonia-detection-challenge\n",
            "<function InceptionResNetV2 at 0x7ffa93e1a620> <function preprocess_input at 0x7ffa93e1a7b8>\n"
          ],
          "name": "stdout"
        }
      ]
    },
    {
      "cell_type": "code",
      "metadata": {
        "id": "oFPh9QxB5-1b",
        "outputId": "72aa7420-7975-4af2-9c66-d8952266eddb",
        "colab": {
          "base_uri": "https://localhost:8080/",
          "height": 52
        }
      },
      "source": [
        "baseModel,preprocess_input"
      ],
      "execution_count": null,
      "outputs": [
        {
          "output_type": "execute_result",
          "data": {
            "text/plain": [
              "(<function tensorflow.python.keras.applications.inception_resnet_v2.InceptionResNetV2>,\n",
              " <function tensorflow.python.keras.applications.inception_resnet_v2.preprocess_input>)"
            ]
          },
          "metadata": {
            "tags": []
          },
          "execution_count": 6
        }
      ]
    },
    {
      "cell_type": "code",
      "metadata": {
        "id": "n2y2P8aO7Rpw",
        "outputId": "a8cabe33-ffda-48ef-fd16-1f5aedae70f3",
        "colab": {
          "base_uri": "https://localhost:8080/",
          "height": 34
        }
      },
      "source": [
        "shape = MODEL_MAP[BASE_MODEL]['input_shape']\n",
        "IMAGE_SIZE = shape[0]\n",
        "print('{}:IMAGE_SIZE, {}:Model Input Shape'.format(IMAGE_SIZE,shape))"
      ],
      "execution_count": null,
      "outputs": [
        {
          "output_type": "stream",
          "text": [
            "299:IMAGE_SIZE, (299, 299, 3):Model Input Shape\n"
          ],
          "name": "stdout"
        }
      ]
    },
    {
      "cell_type": "code",
      "metadata": {
        "id": "7GDQHACIndcb",
        "outputId": "9d905a34-3ddc-45db-a963-acca711f051a",
        "colab": {
          "base_uri": "https://localhost:8080/",
          "height": 52
        }
      },
      "source": [
        "#Loading full data\n",
        "full_df,bbox_map,class_enc = loadData()"
      ],
      "execution_count": null,
      "outputs": [
        {
          "output_type": "stream",
          "text": [
            "Loading full CXR info\n",
            "Loading bbox map\n"
          ],
          "name": "stdout"
        }
      ]
    },
    {
      "cell_type": "code",
      "metadata": {
        "id": "3PcE8k6vu1HK"
      },
      "source": [
        "\n",
        "# CLASS_VECTORS = get_class_map(full_df)"
      ],
      "execution_count": null,
      "outputs": []
    },
    {
      "cell_type": "code",
      "metadata": {
        "id": "Qmw2L5Yo3SE1",
        "outputId": "5196655e-2cf5-4997-9d7a-4bd82534c293",
        "colab": {
          "base_uri": "https://localhost:8080/",
          "height": 284
        }
      },
      "source": [
        "full_df.head(2)"
      ],
      "execution_count": null,
      "outputs": [
        {
          "output_type": "execute_result",
          "data": {
            "text/html": [
              "<div>\n",
              "<style scoped>\n",
              "    .dataframe tbody tr th:only-of-type {\n",
              "        vertical-align: middle;\n",
              "    }\n",
              "\n",
              "    .dataframe tbody tr th {\n",
              "        vertical-align: top;\n",
              "    }\n",
              "\n",
              "    .dataframe thead th {\n",
              "        text-align: right;\n",
              "    }\n",
              "</style>\n",
              "<table border=\"1\" class=\"dataframe\">\n",
              "  <thead>\n",
              "    <tr style=\"text-align: right;\">\n",
              "      <th></th>\n",
              "      <th>Unnamed: 0</th>\n",
              "      <th>patientId</th>\n",
              "      <th>x</th>\n",
              "      <th>y</th>\n",
              "      <th>width</th>\n",
              "      <th>height</th>\n",
              "      <th>Target</th>\n",
              "      <th>BboxNo</th>\n",
              "      <th>PatientAge</th>\n",
              "      <th>PatientSex</th>\n",
              "      <th>ViewPosition</th>\n",
              "      <th>class</th>\n",
              "      <th>class_id</th>\n",
              "      <th>class_vector</th>\n",
              "      <th>path</th>\n",
              "    </tr>\n",
              "  </thead>\n",
              "  <tbody>\n",
              "    <tr>\n",
              "      <th>0</th>\n",
              "      <td>0</td>\n",
              "      <td>0004cfab-14fd-4e49-80ba-63a80b6bddd6</td>\n",
              "      <td>NaN</td>\n",
              "      <td>NaN</td>\n",
              "      <td>NaN</td>\n",
              "      <td>NaN</td>\n",
              "      <td>0</td>\n",
              "      <td>1</td>\n",
              "      <td>51</td>\n",
              "      <td>0</td>\n",
              "      <td>0</td>\n",
              "      <td>No Lung Opacity / Not Normal</td>\n",
              "      <td>1</td>\n",
              "      <td>[0.0, 1.0, 0.0]</td>\n",
              "      <td>stage_2_train_images/0004cfab-14fd-4e49-80ba-6...</td>\n",
              "    </tr>\n",
              "    <tr>\n",
              "      <th>1</th>\n",
              "      <td>1</td>\n",
              "      <td>00313ee0-9eaa-42f4-b0ab-c148ed3241cd</td>\n",
              "      <td>NaN</td>\n",
              "      <td>NaN</td>\n",
              "      <td>NaN</td>\n",
              "      <td>NaN</td>\n",
              "      <td>0</td>\n",
              "      <td>1</td>\n",
              "      <td>48</td>\n",
              "      <td>0</td>\n",
              "      <td>0</td>\n",
              "      <td>No Lung Opacity / Not Normal</td>\n",
              "      <td>1</td>\n",
              "      <td>[0.0, 1.0, 0.0]</td>\n",
              "      <td>stage_2_train_images/00313ee0-9eaa-42f4-b0ab-c...</td>\n",
              "    </tr>\n",
              "  </tbody>\n",
              "</table>\n",
              "</div>"
            ],
            "text/plain": [
              "   Unnamed: 0  ...                                               path\n",
              "0           0  ...  stage_2_train_images/0004cfab-14fd-4e49-80ba-6...\n",
              "1           1  ...  stage_2_train_images/00313ee0-9eaa-42f4-b0ab-c...\n",
              "\n",
              "[2 rows x 15 columns]"
            ]
          },
          "metadata": {
            "tags": []
          },
          "execution_count": 10
        }
      ]
    },
    {
      "cell_type": "code",
      "metadata": {
        "id": "0yiA-qXmOyLi",
        "outputId": "58c494d8-745a-402a-d843-b9f9819a270f",
        "colab": {
          "base_uri": "https://localhost:8080/",
          "height": 401
        }
      },
      "source": [
        "full_df.info()"
      ],
      "execution_count": null,
      "outputs": [
        {
          "output_type": "stream",
          "text": [
            "<class 'pandas.core.frame.DataFrame'>\n",
            "RangeIndex: 30227 entries, 0 to 30226\n",
            "Data columns (total 15 columns):\n",
            " #   Column        Non-Null Count  Dtype  \n",
            "---  ------        --------------  -----  \n",
            " 0   Unnamed: 0    30227 non-null  int64  \n",
            " 1   patientId     30227 non-null  object \n",
            " 2   x             9555 non-null   float64\n",
            " 3   y             9555 non-null   float64\n",
            " 4   width         9555 non-null   float64\n",
            " 5   height        9555 non-null   float64\n",
            " 6   Target        30227 non-null  int64  \n",
            " 7   BboxNo        30227 non-null  int64  \n",
            " 8   PatientAge    30227 non-null  int64  \n",
            " 9   PatientSex    30227 non-null  int64  \n",
            " 10  ViewPosition  30227 non-null  int64  \n",
            " 11  class         30227 non-null  object \n",
            " 12  class_id      30227 non-null  int64  \n",
            " 13  class_vector  30227 non-null  object \n",
            " 14  path          30227 non-null  object \n",
            "dtypes: float64(4), int64(7), object(4)\n",
            "memory usage: 3.5+ MB\n"
          ],
          "name": "stdout"
        }
      ]
    },
    {
      "cell_type": "code",
      "metadata": {
        "id": "j5JQWuj59Y7q"
      },
      "source": [
        "full_df.drop(full_df.columns[0],inplace=True,axis=1)"
      ],
      "execution_count": null,
      "outputs": []
    },
    {
      "cell_type": "code",
      "metadata": {
        "id": "_MjIEYAJPBIc",
        "outputId": "4af1517b-e9af-43cb-c713-ebdefe4dd8f8",
        "colab": {
          "base_uri": "https://localhost:8080/",
          "height": 34
        }
      },
      "source": [
        "print('{}:Total Pneumonia Patient'.format(len(full_df[full_df.Target == 1])))"
      ],
      "execution_count": null,
      "outputs": [
        {
          "output_type": "stream",
          "text": [
            "9555:Total Pneumonia Patient\n"
          ],
          "name": "stdout"
        }
      ]
    },
    {
      "cell_type": "code",
      "metadata": {
        "id": "36J8-8yN4mtp",
        "outputId": "26de8d31-1461-4587-b04a-5549ac951554",
        "colab": {
          "base_uri": "https://localhost:8080/",
          "height": 87
        }
      },
      "source": [
        "#Split the dataset  into 3 train/valid/test\n",
        "unbalanced_train_df, valid_df, test_df = splitData(full_df,target='class')"
      ],
      "execution_count": null,
      "outputs": [
        {
          "output_type": "stream",
          "text": [
            "(21347, 14) training data\n",
            "(5337, 14) raw validation data\n",
            "(2668, 14) Validation data\n",
            "(2669, 14) test data\n"
          ],
          "name": "stdout"
        }
      ]
    },
    {
      "cell_type": "code",
      "metadata": {
        "id": "ljMpXIjlAYtE",
        "outputId": "c7cf2bc0-c55e-438a-9c90-2bde3827d91a",
        "colab": {
          "base_uri": "https://localhost:8080/",
          "height": 34
        }
      },
      "source": [
        "unbalanced_train_df[unbalanced_train_df.class_id == 0].shape[0]"
      ],
      "execution_count": null,
      "outputs": [
        {
          "output_type": "execute_result",
          "data": {
            "text/plain": [
              "4809"
            ]
          },
          "metadata": {
            "tags": []
          },
          "execution_count": 15
        }
      ]
    },
    {
      "cell_type": "code",
      "metadata": {
        "id": "RylZ8ieH5umF",
        "outputId": "ee2bcc02-a79a-4be9-9f6e-9a21e9f36e84",
        "colab": {
          "base_uri": "https://localhost:8080/",
          "height": 489
        }
      },
      "source": [
        "import matplotlib.pyplot as plt\n",
        "TRAIN_SAMPLES = 12624 # 4208 x 3 class targets\n",
        "#Balancing training set\n",
        "train_df = balance_df(unbalanced_train_df,TRAIN_SAMPLES,target='class')\n",
        "print(train_df.shape[0], 'Final training size')"
      ],
      "execution_count": null,
      "outputs": [
        {
          "output_type": "stream",
          "text": [
            "12624 Final training size\n"
          ],
          "name": "stdout"
        },
        {
          "output_type": "display_data",
          "data": {
            "image/png": "[encoded data removed]",
            "text/plain": [
              "<Figure size 720x360 with 2 Axes>"
            ]
          },
          "metadata": {
            "tags": [],
            "needs_background": "light"
          }
        }
      ]
    },
    {
      "cell_type": "code",
      "metadata": {
        "id": "cwS3fIC3C0Se"
      },
      "source": [
        "# train_df.to_csv('classification_train_df.csv',index=False)\n",
        "# valid_df.to_csv('classification_valid_df.csv',index=False)\n",
        "# test_df.to_csv('classification_test_df.csv',index=False)\n",
        "train_df = pd.read_csv('classification_train_df.csv',converters={'class_vector':eval})\n",
        "valid_df = pd.read_csv('classification_valid_df.csv',converters={'class_vector':eval})\n",
        "test_df = pd.read_csv('classification_test_df.csv',converters={'class_vector':eval})"
      ],
      "execution_count": null,
      "outputs": []
    },
    {
      "cell_type": "code",
      "metadata": {
        "id": "dwIQgUr4EZQ7"
      },
      "source": [
        "y = train_df.class_vector[0]"
      ],
      "execution_count": null,
      "outputs": []
    },
    {
      "cell_type": "code",
      "metadata": {
        "id": "8G3mYA0LQe3J",
        "outputId": "1a1d55be-6f90-43e2-8e68-c2d6cddb1a4b",
        "colab": {
          "base_uri": "https://localhost:8080/",
          "height": 34
        }
      },
      "source": [
        "type(y)"
      ],
      "execution_count": null,
      "outputs": [
        {
          "output_type": "execute_result",
          "data": {
            "text/plain": [
              "list"
            ]
          },
          "metadata": {
            "tags": []
          },
          "execution_count": 19
        }
      ]
    },
    {
      "cell_type": "markdown",
      "metadata": {
        "id": "kkJH_Cet8AlW"
      },
      "source": [
        "## Build model"
      ]
    },
    {
      "cell_type": "code",
      "metadata": {
        "id": "u4mdtUO2U2UH",
        "outputId": "9e079483-c8d2-4f2d-a19a-cebedbebbecf",
        "colab": {
          "base_uri": "https://localhost:8080/",
          "height": 34
        }
      },
      "source": [
        "len(np.unique(train_df[\"path\"].to_numpy()))"
      ],
      "execution_count": null,
      "outputs": [
        {
          "output_type": "execute_result",
          "data": {
            "text/plain": [
              "12624"
            ]
          },
          "metadata": {
            "tags": []
          },
          "execution_count": 20
        }
      ]
    },
    {
      "cell_type": "code",
      "metadata": {
        "id": "wN24TMo_E2wE",
        "outputId": "f9dea05a-9aba-4b06-ec1a-595f5c3ec19a",
        "colab": {
          "base_uri": "https://localhost:8080/",
          "height": 87
        }
      },
      "source": [
        "# BATCH_SIZE = 8\n",
        "# IMAGE_SIZE = 224\n",
        "# IMG_WIDTH = 1024\n",
        "train_gen = MyLabelDataGenerator(train_df)\n",
        "valid_gen = MyLabelDataGenerator(valid_df)\n",
        "\n",
        "print(len(train_gen), \"# of iterations in one train epoch\")\n",
        "print(len(valid_gen), \"# of iterations in one validate epoch\")"
      ],
      "execution_count": null,
      "outputs": [
        {
          "output_type": "stream",
          "text": [
            "12624 :No of generator Image\n",
            "2668 :No of generator Image\n",
            "789 # of iterations in one train epoch\n",
            "166 # of iterations in one validate epoch\n"
          ],
          "name": "stdout"
        }
      ]
    },
    {
      "cell_type": "code",
      "metadata": {
        "id": "nVBX69WApYW1",
        "outputId": "713fd328-065e-4910-d954-169db0bc3ac9",
        "colab": {
          "base_uri": "https://localhost:8080/",
          "height": 286
        }
      },
      "source": [
        "path = bbox_map['000db696-cf54-4385-b10b-6b16fbb3f985'].get('path')\n",
        "img = train_gen.getImage(path)\n",
        "plt.imshow(img, cmap=plt.cm.bone)"
      ],
      "execution_count": null,
      "outputs": [
        {
          "output_type": "execute_result",
          "data": {
            "text/plain": [
              "<matplotlib.image.AxesImage at 0x7ffa09ce4da0>"
            ]
          },
          "metadata": {
            "tags": []
          },
          "execution_count": 25
        },
        {
          "output_type": "display_data",
          "data": {
            "image/png": "[encoded data removed]",
            "text/plain": [
              "<Figure size 432x288 with 1 Axes>"
            ]
          },
          "metadata": {
            "tags": [],
            "needs_background": "light"
          }
        }
      ]
    },
    {
      "cell_type": "code",
      "metadata": {
        "id": "UPrqPNLZYVgB"
      },
      "source": [
        "imageSet = train_gen[9][0]\n",
        "maskSet = train_gen[9][1]   #Label"
      ],
      "execution_count": null,
      "outputs": []
    },
    {
      "cell_type": "code",
      "metadata": {
        "id": "eBuvjnaOZq2a",
        "outputId": "2e7c189e-4fe2-4383-d1ef-1ab76a415631",
        "colab": {
          "base_uri": "https://localhost:8080/",
          "height": 34
        }
      },
      "source": [
        "imageSet.shape,maskSet.shape"
      ],
      "execution_count": null,
      "outputs": [
        {
          "output_type": "execute_result",
          "data": {
            "text/plain": [
              "((16, 299, 299, 3), (16, 3))"
            ]
          },
          "metadata": {
            "tags": []
          },
          "execution_count": 27
        }
      ]
    },
    {
      "cell_type": "code",
      "metadata": {
        "id": "3NjGWW0OKDQp",
        "outputId": "c50f1c77-e105-49f8-e4cf-3bc32786a68e",
        "colab": {
          "base_uri": "https://localhost:8080/",
          "height": 304
        }
      },
      "source": [
        "plt.imshow(imageSet[9], cmap=plt.cm.bone)"
      ],
      "execution_count": null,
      "outputs": [
        {
          "output_type": "stream",
          "text": [
            "Clipping input data to the valid range for imshow with RGB data ([0..1] for floats or [0..255] for integers).\n"
          ],
          "name": "stderr"
        },
        {
          "output_type": "execute_result",
          "data": {
            "text/plain": [
              "<matplotlib.image.AxesImage at 0x7ffa1101e710>"
            ]
          },
          "metadata": {
            "tags": []
          },
          "execution_count": 28
        },
        {
          "output_type": "display_data",
          "data": {
            "image/png": "[encoded data removed]",
            "text/plain": [
              "<Figure size 432x288 with 1 Axes>"
            ]
          },
          "metadata": {
            "tags": [],
            "needs_background": "light"
          }
        }
      ]
    },
    {
      "cell_type": "code",
      "metadata": {
        "id": "6XDAF8UlwUKu"
      },
      "source": [
        "\n",
        "def build_pretrained_model():\n",
        "  #Build base model\n",
        "  input_shape = MODEL_MAP[BASE_MODEL]['input_shape']\n",
        "  base_pretrained_model = BaseModel(input_shape =  input_shape, \n",
        "                              include_top = False, weights = 'imagenet')\n",
        "  base_pretrained_model.trainable = False\n",
        "  #Build Top layer\n",
        "  lastlayer = MODEL_MAP[BASE_MODEL]['last_conv_layer']\n",
        "  lastlayershape = base_pretrained_model.get_layer(lastlayer).output_shape[1:]\n",
        "  pt_features = Input(lastlayershape, name = 'feature_input')\n",
        "    \n",
        "  bn_features = BatchNormalization()(pt_features)\n",
        "  gap = GlobalAveragePooling2D()(bn_features)\n",
        "\n",
        "  gap_dr = Dropout(DROPOUT)(gap)\n",
        "  dr_steps = Dropout(DROPOUT)(Dense(DENSE_COUNT, activation = 'linear', use_bias=False)(gap_dr))\n",
        "  dr_steps = BatchNormalization()(dr_steps)\n",
        "  dr_steps = layers.LeakyReLU(0.1)(dr_steps)\n",
        "  out_layer = Dense(3, activation = 'softmax')(dr_steps)\n",
        "\n",
        "  attn_model = Model(inputs = [pt_features], \n",
        "                    outputs = [out_layer], name = 'top_model')\n",
        "  #Combine base & top model\n",
        "  pneu_model = Sequential(name = 'combined_model')\n",
        "  # base_pretrained_model.trainable = False\n",
        "  pneu_model.add(base_pretrained_model)\n",
        "  pneu_model.add(attn_model)\n",
        "  #Add loss & optimizer\n",
        "  lr = LEARN_RATE\n",
        "  decay = lr/10 # or in the factor of 10\n",
        "  adamOptimizer = Adam(lr=lr, beta_1=0.9, beta_2=0.999, epsilon=None, decay=decay, amsgrad=False)\n",
        "  pneu_model.compile(optimizer =adamOptimizer, loss = 'categorical_crossentropy',\n",
        "                           metrics = ['categorical_accuracy'])\n",
        "  \n",
        "  return pneu_model,base_pretrained_model,attn_model"
      ],
      "execution_count": null,
      "outputs": []
    },
    {
      "cell_type": "code",
      "metadata": {
        "id": "4qJ9-w2xU7Lu",
        "outputId": "803ea225-e7c7-43bd-b009-64ce75f9f2c7",
        "colab": {
          "base_uri": "https://localhost:8080/",
          "height": 281
        }
      },
      "source": [
        "class_model,base_model,top_model = build_pretrained_model()\n",
        "class_model.summary()"
      ],
      "execution_count": null,
      "outputs": [
        {
          "output_type": "stream",
          "text": [
            "Downloading data from https://storage.googleapis.com/tensorflow/keras-applications/inception_resnet_v2/inception_resnet_v2_weights_tf_dim_ordering_tf_kernels_notop.h5\n",
            "219062272/219055592 [==============================] - 3s 0us/step\n",
            "Model: \"combined_model\"\n",
            "_________________________________________________________________\n",
            "Layer (type)                 Output Shape              Param #   \n",
            "=================================================================\n",
            "inception_resnet_v2 (Functio (None, 8, 8, 1536)        54336736  \n",
            "_________________________________________________________________\n",
            "top_model (Functional)       (None, 3)                 203651    \n",
            "=================================================================\n",
            "Total params: 54,540,387\n",
            "Trainable params: 200,323\n",
            "Non-trainable params: 54,340,064\n",
            "_________________________________________________________________\n"
          ],
          "name": "stdout"
        }
      ]
    },
    {
      "cell_type": "code",
      "metadata": {
        "id": "rgvZwss8LeKW",
        "outputId": "46c8aad8-782c-4474-95a6-e63e6321e668",
        "colab": {
          "base_uri": "https://localhost:8080/",
          "height": 272
        }
      },
      "source": [
        "from keras.utils.vis_utils import plot_model\n",
        "plot_model(class_model)"
      ],
      "execution_count": null,
      "outputs": [
        {
          "output_type": "execute_result",
          "data": {
            "image/png": "[encoded data removed]",
            "text/plain": [
              "<IPython.core.display.Image object>"
            ]
          },
          "metadata": {
            "tags": []
          },
          "execution_count": 31
        }
      ]
    },
    {
      "cell_type": "code",
      "metadata": {
        "id": "jqkqIBnl12yZ",
        "outputId": "3a5274be-f360-4759-fb29-45bfc6f0b476",
        "colab": {
          "base_uri": "https://localhost:8080/",
          "height": 34
        }
      },
      "source": [
        "checkpoint = ModelCheckpoint(WEIGHTS_FILE, monitor='val_loss', verbose=1, \n",
        "                             save_best_only=True, mode='min', save_weights_only = True)\n",
        "\n",
        "reduceLROnPlat = ReduceLROnPlateau(monitor='val_loss', factor=0.8, \n",
        "                                   patience=10, verbose=1, mode='auto', \n",
        "                                   epsilon=0.0001, cooldown=5, min_lr=0.0001)\n",
        "early = EarlyStopping(monitor=\"val_loss\", \n",
        "                      mode=\"min\", \n",
        "                      patience=10) \n",
        "callbacks_list = [checkpoint, early, reduceLROnPlat]"
      ],
      "execution_count": null,
      "outputs": [
        {
          "output_type": "stream",
          "text": [
            "WARNING:tensorflow:`epsilon` argument is deprecated and will be removed, use `min_delta` instead.\n"
          ],
          "name": "stdout"
        }
      ]
    },
    {
      "cell_type": "markdown",
      "metadata": {
        "id": "pSyqHQCl76q_"
      },
      "source": [
        "##Model Fit"
      ]
    },
    {
      "cell_type": "code",
      "metadata": {
        "id": "MgwtfdmOFb3f",
        "outputId": "46da063c-c8fb-4df2-8e61-9d2598acc176",
        "colab": {
          "base_uri": "https://localhost:8080/",
          "height": 421
        }
      },
      "source": [
        "%%time\n",
        "history = pd.DataFrame()\n",
        "FORCE_TRAINING = True\n",
        "if (os.path.isfile(WEIGHTS_FILE) & (FORCE_TRAINING == False) ):\n",
        "  class_model.load_weights(WEIGHTS_FILE)\n",
        "  history = loadHistory(HISTORY_FILE)\n",
        "else:\n",
        "  if (os.path.isfile(WEIGHTS_FILE)):\n",
        "    class_model.load_weights(WEIGHTS_FILE)\n",
        "  history = class_model.fit(train_gen,   # (X_train, y_train)\n",
        "                        epochs=EPOCHS,\n",
        "                        validation_data=valid_gen,#(X_valid, y_valid)\n",
        "                        callbacks=callbacks_list,\n",
        "                        shuffle=True,\n",
        "                        verbose=1)\n",
        "  \n",
        "  history = saveHistory(history,HISTORY_FILE)"
      ],
      "execution_count": null,
      "outputs": [
        {
          "output_type": "stream",
          "text": [
            "Epoch 1/5\n",
            "789/789 [==============================] - ETA: 0s - loss: 0.7888 - categorical_accuracy: 0.6349\n",
            "Epoch 00001: val_loss improved from inf to 0.75397, saving model to Option-1.InceptionResNetV2/weights.best_299.h5\n",
            "789/789 [==============================] - 4982s 6s/step - loss: 0.7888 - categorical_accuracy: 0.6349 - val_loss: 0.7540 - val_categorical_accuracy: 0.6427\n",
            "Epoch 2/5\n",
            "789/789 [==============================] - ETA: 0s - loss: 0.7655 - categorical_accuracy: 0.6460\n",
            "Epoch 00002: val_loss improved from 0.75397 to 0.75194, saving model to Option-1.InceptionResNetV2/weights.best_299.h5\n",
            "789/789 [==============================] - 298s 378ms/step - loss: 0.7655 - categorical_accuracy: 0.6460 - val_loss: 0.7519 - val_categorical_accuracy: 0.6465\n",
            "Epoch 3/5\n",
            "789/789 [==============================] - ETA: 0s - loss: 0.7517 - categorical_accuracy: 0.6536\n",
            "Epoch 00003: val_loss improved from 0.75194 to 0.75052, saving model to Option-1.InceptionResNetV2/weights.best_299.h5\n",
            "789/789 [==============================] - 296s 375ms/step - loss: 0.7517 - categorical_accuracy: 0.6536 - val_loss: 0.7505 - val_categorical_accuracy: 0.6525\n",
            "Epoch 4/5\n",
            "789/789 [==============================] - ETA: 0s - loss: 0.7386 - categorical_accuracy: 0.6606\n",
            "Epoch 00004: val_loss improved from 0.75052 to 0.74685, saving model to Option-1.InceptionResNetV2/weights.best_299.h5\n",
            "789/789 [==============================] - 300s 381ms/step - loss: 0.7386 - categorical_accuracy: 0.6606 - val_loss: 0.7469 - val_categorical_accuracy: 0.6476\n",
            "Epoch 5/5\n",
            "789/789 [==============================] - ETA: 0s - loss: 0.7373 - categorical_accuracy: 0.6628\n",
            "Epoch 00005: val_loss did not improve from 0.74685\n",
            "789/789 [==============================] - 297s 376ms/step - loss: 0.7373 - categorical_accuracy: 0.6628 - val_loss: 0.7530 - val_categorical_accuracy: 0.6450\n",
            "CPU times: user 25min 17s, sys: 52.2 s, total: 26min 10s\n",
            "Wall time: 1h 43min 22s\n"
          ],
          "name": "stdout"
        }
      ]
    },
    {
      "cell_type": "markdown",
      "metadata": {
        "id": "EoKqYv0gT_Vx"
      },
      "source": [
        "## History"
      ]
    },
    {
      "cell_type": "code",
      "metadata": {
        "id": "mOOZuv5TNRRz",
        "outputId": "169b5264-d6ea-4b8d-e23d-1a7e22fca8e3",
        "colab": {
          "base_uri": "https://localhost:8080/",
          "height": 374
        }
      },
      "source": [
        "plot_his(history,'categorical_accuracy')\n",
        "#Save the model as well for future use"
      ],
      "execution_count": null,
      "outputs": [
        {
          "output_type": "display_data",
          "data": {
            "image/png": "[encoded data removed]",
            "text/plain": [
              "<Figure size 1080x432 with 2 Axes>"
            ]
          },
          "metadata": {
            "tags": [],
            "needs_background": "light"
          }
        }
      ]
    },
    {
      "cell_type": "markdown",
      "metadata": {
        "id": "CMghxAoEigFA"
      },
      "source": [
        "## Classification-Stage1 performance"
      ]
    },
    {
      "cell_type": "code",
      "metadata": {
        "id": "ujDI37BRimfi",
        "outputId": "b3fff56d-d5ea-4b5b-e325-69013527ee85",
        "colab": {
          "base_uri": "https://localhost:8080/",
          "height": 34
        }
      },
      "source": [
        "predict_gen = MyLabelTestDataGenerator(train_df)"
      ],
      "execution_count": null,
      "outputs": [
        {
          "output_type": "stream",
          "text": [
            "12624 :No of generator Image\n"
          ],
          "name": "stdout"
        }
      ]
    },
    {
      "cell_type": "code",
      "metadata": {
        "id": "CFOJOc2sugIm",
        "outputId": "bebbde7a-44ee-40ee-8b46-4b818805fb09",
        "colab": {
          "base_uri": "https://localhost:8080/",
          "height": 34
        }
      },
      "source": [
        "patients, pred_Y,valid_Y = class_predict(predict_gen,class_model,no_of_batch=0)"
      ],
      "execution_count": null,
      "outputs": [
        {
          "output_type": "stream",
          "text": [
            "100%|██████████| 789/789 [05:31<00:00,  2.38it/s]\n"
          ],
          "name": "stderr"
        }
      ]
    },
    {
      "cell_type": "code",
      "metadata": {
        "id": "veC7zOqEi46F",
        "outputId": "bbc9ebec-27c8-4a27-c629-1d9bd4a69dc1",
        "colab": {
          "base_uri": "https://localhost:8080/",
          "height": 449
        }
      },
      "source": [
        "from sklearn.metrics import confusion_matrix\n",
        "plt.matshow(confusion_matrix(np.argmax(valid_Y, -1), np.argmax(pred_Y,-1)))\n",
        "print(classification_report(np.argmax(valid_Y, -1), \n",
        "                            np.argmax(pred_Y,-1), target_names = class_enc.classes_))"
      ],
      "execution_count": null,
      "outputs": [
        {
          "output_type": "stream",
          "text": [
            "                              precision    recall  f1-score   support\n",
            "\n",
            "                Lung Opacity       0.72      0.74      0.73      4208\n",
            "No Lung Opacity / Not Normal       0.64      0.51      0.57      4208\n",
            "                      Normal       0.75      0.88      0.81      4208\n",
            "\n",
            "                    accuracy                           0.71     12624\n",
            "                   macro avg       0.70      0.71      0.70     12624\n",
            "                weighted avg       0.70      0.71      0.70     12624\n",
            "\n"
          ],
          "name": "stdout"
        },
        {
          "output_type": "display_data",
          "data": {
            "image/png": "[encoded data removed]",
            "text/plain": [
              "<Figure size 288x288 with 1 Axes>"
            ]
          },
          "metadata": {
            "tags": [],
            "needs_background": "light"
          }
        }
      ]
    },
    {
      "cell_type": "markdown",
      "metadata": {
        "id": "TIQ4xwvp66AV"
      },
      "source": [
        "### ROC AUC"
      ]
    },
    {
      "cell_type": "code",
      "metadata": {
        "id": "o22yVE447piN",
        "outputId": "f1ca0f83-8044-4c8d-a75b-3c94b3574409",
        "colab": {
          "base_uri": "https://localhost:8080/",
          "height": 34
        }
      },
      "source": [
        "type(valid_Y[0])"
      ],
      "execution_count": null,
      "outputs": [
        {
          "output_type": "execute_result",
          "data": {
            "text/plain": [
              "numpy.ndarray"
            ]
          },
          "metadata": {
            "tags": []
          },
          "execution_count": 38
        }
      ]
    },
    {
      "cell_type": "code",
      "metadata": {
        "id": "H8VR0Ow88BcZ",
        "outputId": "722be995-5a04-47e6-aad9-879f057a2937",
        "colab": {
          "base_uri": "https://localhost:8080/",
          "height": 34
        }
      },
      "source": [
        "np.argmax(valid_Y,-1)==0"
      ],
      "execution_count": null,
      "outputs": [
        {
          "output_type": "execute_result",
          "data": {
            "text/plain": [
              "array([False, False,  True, ...,  True, False,  True])"
            ]
          },
          "metadata": {
            "tags": []
          },
          "execution_count": 39
        }
      ]
    },
    {
      "cell_type": "code",
      "metadata": {
        "id": "-j6VGtG869Q0"
      },
      "source": [
        "# from sklearn.metrics import roc_curve, roc_auc_score\n",
        "# fpr, tpr, _ = roc_curve(np.argmax(valid_Y,-1)==0, pred_Y)\n",
        "# fig, ax1 = plt.subplots(1,1, figsize = (5, 5), dpi = 250)\n",
        "# ax1.plot(fpr, tpr, 'b.-', label = 'DenseNet1 (AUC:%2.2f)' % roc_auc_score(np.argmax(valid_Y,-1)==0, pred_Y))\n",
        "# ax1.plot(fpr, fpr, 'k-', label = 'Random Guessing')\n",
        "# ax1.legend(loc = 4)\n",
        "# ax1.set_xlabel('False Positive Rate')\n",
        "# ax1.set_ylabel('True Positive Rate');\n",
        "# ax1.set_title('Lung Opacity ROC Curve')"
      ],
      "execution_count": null,
      "outputs": []
    },
    {
      "cell_type": "markdown",
      "metadata": {
        "id": "-zONHMPADYtl"
      },
      "source": [
        "## Generate class prediction"
      ]
    },
    {
      "cell_type": "code",
      "metadata": {
        "id": "P2SZXxDLaQ8a"
      },
      "source": [
        "pred_df = get_prediction_map(patients,pred_Y)"
      ],
      "execution_count": null,
      "outputs": []
    },
    {
      "cell_type": "code",
      "metadata": {
        "id": "zMJC1XFXpDn0",
        "outputId": "bf6495d0-38df-43fc-b097-743c12a43dbe",
        "colab": {
          "base_uri": "https://localhost:8080/",
          "height": 203
        }
      },
      "source": [
        "pred_df.reset_index(inplace=True)\n",
        "# pred_df.columns = ['patientId', 'PNEUMONIA', 'NOT_NORMAL', 'NORMAL']\n",
        "\n",
        "pred_df.rename(columns={'index':'patientId'},inplace=True)\n",
        "pred_df.head()"
      ],
      "execution_count": null,
      "outputs": [
        {
          "output_type": "execute_result",
          "data": {
            "text/html": [
              "<div>\n",
              "<style scoped>\n",
              "    .dataframe tbody tr th:only-of-type {\n",
              "        vertical-align: middle;\n",
              "    }\n",
              "\n",
              "    .dataframe tbody tr th {\n",
              "        vertical-align: top;\n",
              "    }\n",
              "\n",
              "    .dataframe thead th {\n",
              "        text-align: right;\n",
              "    }\n",
              "</style>\n",
              "<table border=\"1\" class=\"dataframe\">\n",
              "  <thead>\n",
              "    <tr style=\"text-align: right;\">\n",
              "      <th></th>\n",
              "      <th>patientId</th>\n",
              "      <th>PNEUMONIA</th>\n",
              "      <th>NOT_NORMAL</th>\n",
              "      <th>NORMAL</th>\n",
              "    </tr>\n",
              "  </thead>\n",
              "  <tbody>\n",
              "    <tr>\n",
              "      <th>0</th>\n",
              "      <td>9827bfae-729a-455c-817b-e775253bf568</td>\n",
              "      <td>0.217899</td>\n",
              "      <td>0.721338</td>\n",
              "      <td>0.060763</td>\n",
              "    </tr>\n",
              "    <tr>\n",
              "      <th>1</th>\n",
              "      <td>5006f783-56af-4ad9-a37b-c80bd789ddbd</td>\n",
              "      <td>0.039144</td>\n",
              "      <td>0.230550</td>\n",
              "      <td>0.730305</td>\n",
              "    </tr>\n",
              "    <tr>\n",
              "      <th>2</th>\n",
              "      <td>e065606f-3368-47ff-b4d1-ef783e97813f</td>\n",
              "      <td>0.900557</td>\n",
              "      <td>0.098824</td>\n",
              "      <td>0.000619</td>\n",
              "    </tr>\n",
              "    <tr>\n",
              "      <th>3</th>\n",
              "      <td>99306946-1577-4724-be54-9b8b1b1a7869</td>\n",
              "      <td>0.621295</td>\n",
              "      <td>0.370927</td>\n",
              "      <td>0.007778</td>\n",
              "    </tr>\n",
              "    <tr>\n",
              "      <th>4</th>\n",
              "      <td>156634a8-5ca7-4822-92cd-677aedc2247a</td>\n",
              "      <td>0.750515</td>\n",
              "      <td>0.229232</td>\n",
              "      <td>0.020253</td>\n",
              "    </tr>\n",
              "  </tbody>\n",
              "</table>\n",
              "</div>"
            ],
            "text/plain": [
              "                              patientId  PNEUMONIA  NOT_NORMAL    NORMAL\n",
              "0  9827bfae-729a-455c-817b-e775253bf568   0.217899    0.721338  0.060763\n",
              "1  5006f783-56af-4ad9-a37b-c80bd789ddbd   0.039144    0.230550  0.730305\n",
              "2  e065606f-3368-47ff-b4d1-ef783e97813f   0.900557    0.098824  0.000619\n",
              "3  99306946-1577-4724-be54-9b8b1b1a7869   0.621295    0.370927  0.007778\n",
              "4  156634a8-5ca7-4822-92cd-677aedc2247a   0.750515    0.229232  0.020253"
            ]
          },
          "metadata": {
            "tags": []
          },
          "execution_count": 42
        }
      ]
    },
    {
      "cell_type": "code",
      "metadata": {
        "id": "MMCUGE0hzVYo",
        "outputId": "1ae75f72-c91e-4bb0-bce7-1fbf1f032411",
        "colab": {
          "base_uri": "https://localhost:8080/",
          "height": 209
        }
      },
      "source": [
        "pred_df.info()"
      ],
      "execution_count": null,
      "outputs": [
        {
          "output_type": "stream",
          "text": [
            "<class 'pandas.core.frame.DataFrame'>\n",
            "RangeIndex: 12624 entries, 0 to 12623\n",
            "Data columns (total 4 columns):\n",
            " #   Column      Non-Null Count  Dtype  \n",
            "---  ------      --------------  -----  \n",
            " 0   patientId   12624 non-null  object \n",
            " 1   PNEUMONIA   12624 non-null  float64\n",
            " 2   NOT_NORMAL  12624 non-null  float64\n",
            " 3   NORMAL      12624 non-null  float64\n",
            "dtypes: float64(3), object(1)\n",
            "memory usage: 394.6+ KB\n"
          ],
          "name": "stdout"
        }
      ]
    },
    {
      "cell_type": "code",
      "metadata": {
        "id": "B6j_akjwgRlw"
      },
      "source": [
        "pred_dump_file = MODEL_NAME + '/class_prediction_299.csv'\n",
        "if (os.path.isfile(pred_dump_file)):\n",
        "  os.remove(pred_dump_file)"
      ],
      "execution_count": null,
      "outputs": []
    },
    {
      "cell_type": "code",
      "metadata": {
        "id": "YeZC3ixOprbZ"
      },
      "source": [
        "#Dump the prediction as it is very time consuming task.\n",
        "\n",
        "import pandas as pd\n",
        "\n",
        "if (os.path.isfile(pred_dump_file)):\n",
        "  global pred_df\n",
        "  pred_df = pd.read_csv(pred_dump_file)\n",
        "else:\n",
        "  pred_df.to_csv(pred_dump_file,index=False)"
      ],
      "execution_count": null,
      "outputs": []
    },
    {
      "cell_type": "code",
      "metadata": {
        "id": "6V8cufe4N338"
      },
      "source": [
        "# pred_df.drop(pred_df.columns[0],inplace=True,axis=1)"
      ],
      "execution_count": null,
      "outputs": []
    },
    {
      "cell_type": "code",
      "metadata": {
        "id": "k95nunBlcS4v",
        "outputId": "d61d8b31-ef6f-4815-a774-2c63dcca4149",
        "colab": {
          "base_uri": "https://localhost:8080/",
          "height": 203
        }
      },
      "source": [
        "merged_pred_meta_df = get_pred_merged_meta_data(pred_df,full_df)\n",
        "merged_pred_meta_df.head()"
      ],
      "execution_count": null,
      "outputs": [
        {
          "output_type": "execute_result",
          "data": {
            "text/html": [
              "<div>\n",
              "<style scoped>\n",
              "    .dataframe tbody tr th:only-of-type {\n",
              "        vertical-align: middle;\n",
              "    }\n",
              "\n",
              "    .dataframe tbody tr th {\n",
              "        vertical-align: top;\n",
              "    }\n",
              "\n",
              "    .dataframe thead th {\n",
              "        text-align: right;\n",
              "    }\n",
              "</style>\n",
              "<table border=\"1\" class=\"dataframe\">\n",
              "  <thead>\n",
              "    <tr style=\"text-align: right;\">\n",
              "      <th></th>\n",
              "      <th>PNEUMONIA</th>\n",
              "      <th>NOT_NORMAL</th>\n",
              "      <th>NORMAL</th>\n",
              "      <th>PatientAge</th>\n",
              "      <th>PatientSex</th>\n",
              "      <th>ViewPosition</th>\n",
              "      <th>Target</th>\n",
              "    </tr>\n",
              "  </thead>\n",
              "  <tbody>\n",
              "    <tr>\n",
              "      <th>9827bfae-729a-455c-817b-e775253bf568</th>\n",
              "      <td>0.217899</td>\n",
              "      <td>0.721338</td>\n",
              "      <td>0.060763</td>\n",
              "      <td>23.0</td>\n",
              "      <td>1.0</td>\n",
              "      <td>1.0</td>\n",
              "      <td>0.0</td>\n",
              "    </tr>\n",
              "    <tr>\n",
              "      <th>5006f783-56af-4ad9-a37b-c80bd789ddbd</th>\n",
              "      <td>0.039144</td>\n",
              "      <td>0.230550</td>\n",
              "      <td>0.730305</td>\n",
              "      <td>80.0</td>\n",
              "      <td>0.0</td>\n",
              "      <td>0.0</td>\n",
              "      <td>0.0</td>\n",
              "    </tr>\n",
              "    <tr>\n",
              "      <th>e065606f-3368-47ff-b4d1-ef783e97813f</th>\n",
              "      <td>0.900557</td>\n",
              "      <td>0.098824</td>\n",
              "      <td>0.000619</td>\n",
              "      <td>44.0</td>\n",
              "      <td>1.0</td>\n",
              "      <td>1.0</td>\n",
              "      <td>1.0</td>\n",
              "    </tr>\n",
              "    <tr>\n",
              "      <th>99306946-1577-4724-be54-9b8b1b1a7869</th>\n",
              "      <td>0.621295</td>\n",
              "      <td>0.370927</td>\n",
              "      <td>0.007778</td>\n",
              "      <td>56.0</td>\n",
              "      <td>0.0</td>\n",
              "      <td>1.0</td>\n",
              "      <td>0.0</td>\n",
              "    </tr>\n",
              "    <tr>\n",
              "      <th>156634a8-5ca7-4822-92cd-677aedc2247a</th>\n",
              "      <td>0.750515</td>\n",
              "      <td>0.229232</td>\n",
              "      <td>0.020253</td>\n",
              "      <td>22.0</td>\n",
              "      <td>1.0</td>\n",
              "      <td>1.0</td>\n",
              "      <td>1.0</td>\n",
              "    </tr>\n",
              "  </tbody>\n",
              "</table>\n",
              "</div>"
            ],
            "text/plain": [
              "                                      PNEUMONIA  ...  Target\n",
              "9827bfae-729a-455c-817b-e775253bf568   0.217899  ...     0.0\n",
              "5006f783-56af-4ad9-a37b-c80bd789ddbd   0.039144  ...     0.0\n",
              "e065606f-3368-47ff-b4d1-ef783e97813f   0.900557  ...     1.0\n",
              "99306946-1577-4724-be54-9b8b1b1a7869   0.621295  ...     0.0\n",
              "156634a8-5ca7-4822-92cd-677aedc2247a   0.750515  ...     1.0\n",
              "\n",
              "[5 rows x 7 columns]"
            ]
          },
          "metadata": {
            "tags": []
          },
          "execution_count": 47
        }
      ]
    },
    {
      "cell_type": "code",
      "metadata": {
        "id": "M0rL6YAEgeXp",
        "outputId": "976bc94e-ac0e-47e7-c17c-712fed9c884c",
        "colab": {
          "base_uri": "https://localhost:8080/",
          "height": 203
        }
      },
      "source": [
        "merged_pred_meta_df.reset_index(inplace=True)\n",
        "merged_pred_meta_df.rename(columns={'index':'patientId'},inplace=True)\n",
        "merged_pred_meta_df.head()"
      ],
      "execution_count": null,
      "outputs": [
        {
          "output_type": "execute_result",
          "data": {
            "text/html": [
              "<div>\n",
              "<style scoped>\n",
              "    .dataframe tbody tr th:only-of-type {\n",
              "        vertical-align: middle;\n",
              "    }\n",
              "\n",
              "    .dataframe tbody tr th {\n",
              "        vertical-align: top;\n",
              "    }\n",
              "\n",
              "    .dataframe thead th {\n",
              "        text-align: right;\n",
              "    }\n",
              "</style>\n",
              "<table border=\"1\" class=\"dataframe\">\n",
              "  <thead>\n",
              "    <tr style=\"text-align: right;\">\n",
              "      <th></th>\n",
              "      <th>patientId</th>\n",
              "      <th>PNEUMONIA</th>\n",
              "      <th>NOT_NORMAL</th>\n",
              "      <th>NORMAL</th>\n",
              "      <th>PatientAge</th>\n",
              "      <th>PatientSex</th>\n",
              "      <th>ViewPosition</th>\n",
              "      <th>Target</th>\n",
              "    </tr>\n",
              "  </thead>\n",
              "  <tbody>\n",
              "    <tr>\n",
              "      <th>0</th>\n",
              "      <td>9827bfae-729a-455c-817b-e775253bf568</td>\n",
              "      <td>0.217899</td>\n",
              "      <td>0.721338</td>\n",
              "      <td>0.060763</td>\n",
              "      <td>23.0</td>\n",
              "      <td>1.0</td>\n",
              "      <td>1.0</td>\n",
              "      <td>0.0</td>\n",
              "    </tr>\n",
              "    <tr>\n",
              "      <th>1</th>\n",
              "      <td>5006f783-56af-4ad9-a37b-c80bd789ddbd</td>\n",
              "      <td>0.039144</td>\n",
              "      <td>0.230550</td>\n",
              "      <td>0.730305</td>\n",
              "      <td>80.0</td>\n",
              "      <td>0.0</td>\n",
              "      <td>0.0</td>\n",
              "      <td>0.0</td>\n",
              "    </tr>\n",
              "    <tr>\n",
              "      <th>2</th>\n",
              "      <td>e065606f-3368-47ff-b4d1-ef783e97813f</td>\n",
              "      <td>0.900557</td>\n",
              "      <td>0.098824</td>\n",
              "      <td>0.000619</td>\n",
              "      <td>44.0</td>\n",
              "      <td>1.0</td>\n",
              "      <td>1.0</td>\n",
              "      <td>1.0</td>\n",
              "    </tr>\n",
              "    <tr>\n",
              "      <th>3</th>\n",
              "      <td>99306946-1577-4724-be54-9b8b1b1a7869</td>\n",
              "      <td>0.621295</td>\n",
              "      <td>0.370927</td>\n",
              "      <td>0.007778</td>\n",
              "      <td>56.0</td>\n",
              "      <td>0.0</td>\n",
              "      <td>1.0</td>\n",
              "      <td>0.0</td>\n",
              "    </tr>\n",
              "    <tr>\n",
              "      <th>4</th>\n",
              "      <td>156634a8-5ca7-4822-92cd-677aedc2247a</td>\n",
              "      <td>0.750515</td>\n",
              "      <td>0.229232</td>\n",
              "      <td>0.020253</td>\n",
              "      <td>22.0</td>\n",
              "      <td>1.0</td>\n",
              "      <td>1.0</td>\n",
              "      <td>1.0</td>\n",
              "    </tr>\n",
              "  </tbody>\n",
              "</table>\n",
              "</div>"
            ],
            "text/plain": [
              "                              patientId  PNEUMONIA  ...  ViewPosition  Target\n",
              "0  9827bfae-729a-455c-817b-e775253bf568   0.217899  ...           1.0     0.0\n",
              "1  5006f783-56af-4ad9-a37b-c80bd789ddbd   0.039144  ...           0.0     0.0\n",
              "2  e065606f-3368-47ff-b4d1-ef783e97813f   0.900557  ...           1.0     1.0\n",
              "3  99306946-1577-4724-be54-9b8b1b1a7869   0.621295  ...           1.0     0.0\n",
              "4  156634a8-5ca7-4822-92cd-677aedc2247a   0.750515  ...           1.0     1.0\n",
              "\n",
              "[5 rows x 8 columns]"
            ]
          },
          "metadata": {
            "tags": []
          },
          "execution_count": 48
        }
      ]
    },
    {
      "cell_type": "code",
      "metadata": {
        "id": "i7adCsuzghyL",
        "outputId": "b94e5dfa-19c0-483d-fb96-eda24ca464a1",
        "colab": {
          "base_uri": "https://localhost:8080/",
          "height": 203
        }
      },
      "source": [
        "merged_pred_meta_df[merged_pred_meta_df.Target==1].sample(5)"
      ],
      "execution_count": null,
      "outputs": [
        {
          "output_type": "execute_result",
          "data": {
            "text/html": [
              "<div>\n",
              "<style scoped>\n",
              "    .dataframe tbody tr th:only-of-type {\n",
              "        vertical-align: middle;\n",
              "    }\n",
              "\n",
              "    .dataframe tbody tr th {\n",
              "        vertical-align: top;\n",
              "    }\n",
              "\n",
              "    .dataframe thead th {\n",
              "        text-align: right;\n",
              "    }\n",
              "</style>\n",
              "<table border=\"1\" class=\"dataframe\">\n",
              "  <thead>\n",
              "    <tr style=\"text-align: right;\">\n",
              "      <th></th>\n",
              "      <th>patientId</th>\n",
              "      <th>PNEUMONIA</th>\n",
              "      <th>NOT_NORMAL</th>\n",
              "      <th>NORMAL</th>\n",
              "      <th>PatientAge</th>\n",
              "      <th>PatientSex</th>\n",
              "      <th>ViewPosition</th>\n",
              "      <th>Target</th>\n",
              "    </tr>\n",
              "  </thead>\n",
              "  <tbody>\n",
              "    <tr>\n",
              "      <th>7590</th>\n",
              "      <td>72fd2587-d327-4e42-9e18-03479b1a18f9</td>\n",
              "      <td>0.807429</td>\n",
              "      <td>0.191502</td>\n",
              "      <td>0.001069</td>\n",
              "      <td>40.0</td>\n",
              "      <td>1.0</td>\n",
              "      <td>1.0</td>\n",
              "      <td>1.0</td>\n",
              "    </tr>\n",
              "    <tr>\n",
              "      <th>12358</th>\n",
              "      <td>a69636c7-d292-4e42-9114-a5a1c1158086</td>\n",
              "      <td>0.511497</td>\n",
              "      <td>0.393024</td>\n",
              "      <td>0.095479</td>\n",
              "      <td>33.0</td>\n",
              "      <td>1.0</td>\n",
              "      <td>1.0</td>\n",
              "      <td>1.0</td>\n",
              "    </tr>\n",
              "    <tr>\n",
              "      <th>11203</th>\n",
              "      <td>ba174e17-bdad-4a4e-98dc-21e270b93248</td>\n",
              "      <td>0.451444</td>\n",
              "      <td>0.444509</td>\n",
              "      <td>0.104046</td>\n",
              "      <td>38.0</td>\n",
              "      <td>0.0</td>\n",
              "      <td>1.0</td>\n",
              "      <td>1.0</td>\n",
              "    </tr>\n",
              "    <tr>\n",
              "      <th>10307</th>\n",
              "      <td>cf7e865e-f0b1-4a22-8508-f0636247f895</td>\n",
              "      <td>0.777721</td>\n",
              "      <td>0.217873</td>\n",
              "      <td>0.004406</td>\n",
              "      <td>47.0</td>\n",
              "      <td>1.0</td>\n",
              "      <td>1.0</td>\n",
              "      <td>1.0</td>\n",
              "    </tr>\n",
              "    <tr>\n",
              "      <th>8703</th>\n",
              "      <td>d0370ad5-e503-4826-be45-b710ffc5066f</td>\n",
              "      <td>0.881395</td>\n",
              "      <td>0.113273</td>\n",
              "      <td>0.005332</td>\n",
              "      <td>36.0</td>\n",
              "      <td>0.0</td>\n",
              "      <td>1.0</td>\n",
              "      <td>1.0</td>\n",
              "    </tr>\n",
              "  </tbody>\n",
              "</table>\n",
              "</div>"
            ],
            "text/plain": [
              "                                  patientId  PNEUMONIA  ...  ViewPosition  Target\n",
              "7590   72fd2587-d327-4e42-9e18-03479b1a18f9   0.807429  ...           1.0     1.0\n",
              "12358  a69636c7-d292-4e42-9114-a5a1c1158086   0.511497  ...           1.0     1.0\n",
              "11203  ba174e17-bdad-4a4e-98dc-21e270b93248   0.451444  ...           1.0     1.0\n",
              "10307  cf7e865e-f0b1-4a22-8508-f0636247f895   0.777721  ...           1.0     1.0\n",
              "8703   d0370ad5-e503-4826-be45-b710ffc5066f   0.881395  ...           1.0     1.0\n",
              "\n",
              "[5 rows x 8 columns]"
            ]
          },
          "metadata": {
            "tags": []
          },
          "execution_count": 49
        }
      ]
    },
    {
      "cell_type": "code",
      "metadata": {
        "id": "8fS3QANFgkz_",
        "outputId": "7d07c85e-3f0f-4f46-a9ea-0f1124beda3b",
        "colab": {
          "base_uri": "https://localhost:8080/",
          "height": 248
        }
      },
      "source": [
        "import matplotlib.pyplot as plt\n",
        "import numpy as np\n",
        "unique_values, count = np.unique(merged_pred_meta_df['Target'], return_counts=True)\n",
        "\n",
        "plt.pie(count, labels = ['0-No Pneumonia', '1-Pneumonia'],\n",
        "          autopct='%1.1f%%', startangle=90)\n",
        "plt.show()\n",
        "#Need to balance the data here."
      ],
      "execution_count": null,
      "outputs": [
        {
          "output_type": "display_data",
          "data": {
            "image/png": "[encoded data removed]",
            "text/plain": [
              "<Figure size 432x288 with 1 Axes>"
            ]
          },
          "metadata": {
            "tags": []
          }
        }
      ]
    },
    {
      "cell_type": "code",
      "metadata": {
        "id": "5FJd_jgMgriX"
      },
      "source": [
        "#Split the data into train & valid\n",
        "y = merged_pred_meta_df['Target'].to_numpy()\n",
        "X = merged_pred_meta_df[merged_pred_meta_df.columns[1:7]]"
      ],
      "execution_count": null,
      "outputs": []
    },
    {
      "cell_type": "code",
      "metadata": {
        "id": "F-JzQDWZgse_",
        "outputId": "efe291b0-10c7-46d0-c03f-d53cb477cf27",
        "colab": {
          "base_uri": "https://localhost:8080/",
          "height": 203
        }
      },
      "source": [
        "X.head()"
      ],
      "execution_count": null,
      "outputs": [
        {
          "output_type": "execute_result",
          "data": {
            "text/html": [
              "<div>\n",
              "<style scoped>\n",
              "    .dataframe tbody tr th:only-of-type {\n",
              "        vertical-align: middle;\n",
              "    }\n",
              "\n",
              "    .dataframe tbody tr th {\n",
              "        vertical-align: top;\n",
              "    }\n",
              "\n",
              "    .dataframe thead th {\n",
              "        text-align: right;\n",
              "    }\n",
              "</style>\n",
              "<table border=\"1\" class=\"dataframe\">\n",
              "  <thead>\n",
              "    <tr style=\"text-align: right;\">\n",
              "      <th></th>\n",
              "      <th>PNEUMONIA</th>\n",
              "      <th>NOT_NORMAL</th>\n",
              "      <th>NORMAL</th>\n",
              "      <th>PatientAge</th>\n",
              "      <th>PatientSex</th>\n",
              "      <th>ViewPosition</th>\n",
              "    </tr>\n",
              "  </thead>\n",
              "  <tbody>\n",
              "    <tr>\n",
              "      <th>0</th>\n",
              "      <td>0.217899</td>\n",
              "      <td>0.721338</td>\n",
              "      <td>0.060763</td>\n",
              "      <td>23.0</td>\n",
              "      <td>1.0</td>\n",
              "      <td>1.0</td>\n",
              "    </tr>\n",
              "    <tr>\n",
              "      <th>1</th>\n",
              "      <td>0.039144</td>\n",
              "      <td>0.230550</td>\n",
              "      <td>0.730305</td>\n",
              "      <td>80.0</td>\n",
              "      <td>0.0</td>\n",
              "      <td>0.0</td>\n",
              "    </tr>\n",
              "    <tr>\n",
              "      <th>2</th>\n",
              "      <td>0.900557</td>\n",
              "      <td>0.098824</td>\n",
              "      <td>0.000619</td>\n",
              "      <td>44.0</td>\n",
              "      <td>1.0</td>\n",
              "      <td>1.0</td>\n",
              "    </tr>\n",
              "    <tr>\n",
              "      <th>3</th>\n",
              "      <td>0.621295</td>\n",
              "      <td>0.370927</td>\n",
              "      <td>0.007778</td>\n",
              "      <td>56.0</td>\n",
              "      <td>0.0</td>\n",
              "      <td>1.0</td>\n",
              "    </tr>\n",
              "    <tr>\n",
              "      <th>4</th>\n",
              "      <td>0.750515</td>\n",
              "      <td>0.229232</td>\n",
              "      <td>0.020253</td>\n",
              "      <td>22.0</td>\n",
              "      <td>1.0</td>\n",
              "      <td>1.0</td>\n",
              "    </tr>\n",
              "  </tbody>\n",
              "</table>\n",
              "</div>"
            ],
            "text/plain": [
              "   PNEUMONIA  NOT_NORMAL    NORMAL  PatientAge  PatientSex  ViewPosition\n",
              "0   0.217899    0.721338  0.060763        23.0         1.0           1.0\n",
              "1   0.039144    0.230550  0.730305        80.0         0.0           0.0\n",
              "2   0.900557    0.098824  0.000619        44.0         1.0           1.0\n",
              "3   0.621295    0.370927  0.007778        56.0         0.0           1.0\n",
              "4   0.750515    0.229232  0.020253        22.0         1.0           1.0"
            ]
          },
          "metadata": {
            "tags": []
          },
          "execution_count": 52
        }
      ]
    },
    {
      "cell_type": "code",
      "metadata": {
        "id": "A6tMdhPygxWY"
      },
      "source": [
        "from sklearn.model_selection import train_test_split\n",
        "X_train, X_test, y_train, y_test = train_test_split(X, y, test_size=0.10, random_state=42)"
      ],
      "execution_count": null,
      "outputs": []
    },
    {
      "cell_type": "markdown",
      "metadata": {
        "id": "eijJdoREf0m1"
      },
      "source": [
        "## FFNN model"
      ]
    },
    {
      "cell_type": "code",
      "metadata": {
        "id": "8toeJToDg4Fn"
      },
      "source": [
        "#Build neural netwrok\n",
        "\n",
        "from tensorflow.keras.layers import  Reshape\n",
        "def add_layer(model):\n",
        "  kinit ='he_normal' #tf.keras.initializers.he_normal()\n",
        "  actv = 'relu' #activation.relu\n",
        "  # model.add(Reshape((6,),input_shape=(32,32,)))\n",
        "  # #Add batch normalization to avoid NAN in training loss\n",
        "  # model.add(kl.normalization.BatchNormalization())\n",
        "  #Add input layer -- \n",
        "  model.add(Dense(6,input_dim= 6,activation=actv,kernel_initializer=kinit))\n",
        "  model.add(BatchNormalization())\n",
        "  #How many hidden layer? No clear rule, trial & error? Literature says, it 3 hidden layer sufficient\n",
        "  #Add hidden layer -1\n",
        "  model.add(Dense(16,activation=actv,kernel_initializer=kinit))\n",
        "  model.add(BatchNormalization())\n",
        "  #Add hidden layer -2\n",
        "  model.add(Dense(8,activation=actv,kernel_initializer=kinit))\n",
        "  model.add(BatchNormalization())\n",
        "  #Add hidden layer -3\n",
        "  model.add(Dense(4,activation=actv,kernel_initializer=kinit))\n",
        "  model.add(BatchNormalization())\n",
        "\n",
        "\n",
        "  #Add output layer -- number of output neoron 1(as the number of output is 10)\n",
        "  #Add hidden layer -1\n",
        "  model.add(Dense(1,activation='sigmoid',kernel_initializer=kinit))\n",
        "  \n",
        "nn_model = Sequential()\n",
        "add_layer(nn_model)"
      ],
      "execution_count": null,
      "outputs": []
    },
    {
      "cell_type": "code",
      "metadata": {
        "id": "-Y4QjrKJg5GX",
        "outputId": "86cf1855-d16d-4476-dff8-12d1f2903d9f",
        "colab": {
          "base_uri": "https://localhost:8080/",
          "height": 1000
        }
      },
      "source": [
        "def fit_model(opt,model,epoch=60,verbo=1,batchsize=128):\n",
        "  model.compile(optimizer = opt, loss = 'binary_crossentropy', metrics = ['accuracy'])\n",
        "  history = model.fit(X_train, y_train, validation_data=(X_test,y_test),batch_size=batchsize, epochs=epoch, verbose=verbo)\n",
        "  return history\n",
        "opt = Adam(lr = LEARN_RATE)\n",
        "history = fit_model(opt,nn_model)"
      ],
      "execution_count": null,
      "outputs": [
        {
          "output_type": "stream",
          "text": [
            "Epoch 1/60\n",
            "89/89 [==============================] - 1s 6ms/step - loss: 1.0614 - accuracy: 0.5507 - val_loss: 1.6426 - val_accuracy: 0.3793\n",
            "Epoch 2/60\n",
            "89/89 [==============================] - 0s 5ms/step - loss: 0.9997 - accuracy: 0.5698 - val_loss: 0.8936 - val_accuracy: 0.4790\n",
            "Epoch 3/60\n",
            "89/89 [==============================] - 0s 4ms/step - loss: 0.9348 - accuracy: 0.5816 - val_loss: 0.7831 - val_accuracy: 0.5210\n",
            "Epoch 4/60\n",
            "89/89 [==============================] - 0s 5ms/step - loss: 0.8887 - accuracy: 0.5937 - val_loss: 0.7886 - val_accuracy: 0.5709\n",
            "Epoch 5/60\n",
            "89/89 [==============================] - 0s 5ms/step - loss: 0.8441 - accuracy: 0.5998 - val_loss: 0.7715 - val_accuracy: 0.5914\n",
            "Epoch 6/60\n",
            "89/89 [==============================] - 0s 4ms/step - loss: 0.7998 - accuracy: 0.6133 - val_loss: 0.7484 - val_accuracy: 0.6057\n",
            "Epoch 7/60\n",
            "89/89 [==============================] - 0s 5ms/step - loss: 0.7582 - accuracy: 0.6284 - val_loss: 0.6999 - val_accuracy: 0.6271\n",
            "Epoch 8/60\n",
            "89/89 [==============================] - 0s 4ms/step - loss: 0.6992 - accuracy: 0.6504 - val_loss: 0.6967 - val_accuracy: 0.6635\n",
            "Epoch 9/60\n",
            "89/89 [==============================] - 0s 5ms/step - loss: 0.6603 - accuracy: 0.6679 - val_loss: 0.6926 - val_accuracy: 0.6738\n",
            "Epoch 10/60\n",
            "89/89 [==============================] - 0s 5ms/step - loss: 0.6306 - accuracy: 0.6868 - val_loss: 0.6660 - val_accuracy: 0.6801\n",
            "Epoch 11/60\n",
            "89/89 [==============================] - 0s 4ms/step - loss: 0.6092 - accuracy: 0.7002 - val_loss: 0.6133 - val_accuracy: 0.6944\n",
            "Epoch 12/60\n",
            "89/89 [==============================] - 0s 5ms/step - loss: 0.5875 - accuracy: 0.7152 - val_loss: 0.5894 - val_accuracy: 0.7110\n",
            "Epoch 13/60\n",
            "89/89 [==============================] - 0s 4ms/step - loss: 0.5763 - accuracy: 0.7234 - val_loss: 0.5704 - val_accuracy: 0.7253\n",
            "Epoch 14/60\n",
            "89/89 [==============================] - 0s 5ms/step - loss: 0.5603 - accuracy: 0.7327 - val_loss: 0.5654 - val_accuracy: 0.7268\n",
            "Epoch 15/60\n",
            "89/89 [==============================] - 0s 5ms/step - loss: 0.5540 - accuracy: 0.7329 - val_loss: 0.5533 - val_accuracy: 0.7237\n",
            "Epoch 16/60\n",
            "89/89 [==============================] - 0s 4ms/step - loss: 0.5461 - accuracy: 0.7396 - val_loss: 0.5563 - val_accuracy: 0.7268\n",
            "Epoch 17/60\n",
            "89/89 [==============================] - 0s 5ms/step - loss: 0.5368 - accuracy: 0.7446 - val_loss: 0.5399 - val_accuracy: 0.7340\n",
            "Epoch 18/60\n",
            "89/89 [==============================] - 0s 4ms/step - loss: 0.5321 - accuracy: 0.7488 - val_loss: 0.5375 - val_accuracy: 0.7348\n",
            "Epoch 19/60\n",
            "89/89 [==============================] - 0s 5ms/step - loss: 0.5227 - accuracy: 0.7523 - val_loss: 0.5289 - val_accuracy: 0.7371\n",
            "Epoch 20/60\n",
            "89/89 [==============================] - 0s 4ms/step - loss: 0.5147 - accuracy: 0.7546 - val_loss: 0.5421 - val_accuracy: 0.7340\n",
            "Epoch 21/60\n",
            "89/89 [==============================] - 0s 4ms/step - loss: 0.5126 - accuracy: 0.7585 - val_loss: 0.5376 - val_accuracy: 0.7340\n",
            "Epoch 22/60\n",
            "89/89 [==============================] - 0s 5ms/step - loss: 0.5067 - accuracy: 0.7597 - val_loss: 0.5201 - val_accuracy: 0.7458\n",
            "Epoch 23/60\n",
            "89/89 [==============================] - 0s 4ms/step - loss: 0.5002 - accuracy: 0.7624 - val_loss: 0.5121 - val_accuracy: 0.7458\n",
            "Epoch 24/60\n",
            "89/89 [==============================] - 0s 5ms/step - loss: 0.4960 - accuracy: 0.7631 - val_loss: 0.5051 - val_accuracy: 0.7506\n",
            "Epoch 25/60\n",
            "89/89 [==============================] - 0s 5ms/step - loss: 0.4904 - accuracy: 0.7653 - val_loss: 0.5001 - val_accuracy: 0.7538\n",
            "Epoch 26/60\n",
            "89/89 [==============================] - 0s 5ms/step - loss: 0.4860 - accuracy: 0.7699 - val_loss: 0.5066 - val_accuracy: 0.7490\n",
            "Epoch 27/60\n",
            "89/89 [==============================] - 0s 5ms/step - loss: 0.4791 - accuracy: 0.7719 - val_loss: 0.5216 - val_accuracy: 0.7490\n",
            "Epoch 28/60\n",
            "89/89 [==============================] - 0s 5ms/step - loss: 0.4749 - accuracy: 0.7741 - val_loss: 0.4926 - val_accuracy: 0.7577\n",
            "Epoch 29/60\n",
            "89/89 [==============================] - 0s 5ms/step - loss: 0.4719 - accuracy: 0.7808 - val_loss: 0.4853 - val_accuracy: 0.7664\n",
            "Epoch 30/60\n",
            "89/89 [==============================] - 0s 5ms/step - loss: 0.4698 - accuracy: 0.7807 - val_loss: 0.4901 - val_accuracy: 0.7609\n",
            "Epoch 31/60\n",
            "89/89 [==============================] - 0s 5ms/step - loss: 0.4633 - accuracy: 0.7885 - val_loss: 0.4743 - val_accuracy: 0.7783\n",
            "Epoch 32/60\n",
            "89/89 [==============================] - 0s 5ms/step - loss: 0.4627 - accuracy: 0.7858 - val_loss: 0.4675 - val_accuracy: 0.7838\n",
            "Epoch 33/60\n",
            "89/89 [==============================] - 0s 4ms/step - loss: 0.4596 - accuracy: 0.7925 - val_loss: 0.4677 - val_accuracy: 0.7823\n",
            "Epoch 34/60\n",
            "89/89 [==============================] - 0s 5ms/step - loss: 0.4588 - accuracy: 0.7888 - val_loss: 0.4908 - val_accuracy: 0.7672\n",
            "Epoch 35/60\n",
            "89/89 [==============================] - 0s 4ms/step - loss: 0.4553 - accuracy: 0.7928 - val_loss: 0.4723 - val_accuracy: 0.7759\n",
            "Epoch 36/60\n",
            "89/89 [==============================] - 0s 4ms/step - loss: 0.4550 - accuracy: 0.7958 - val_loss: 0.4691 - val_accuracy: 0.7720\n",
            "Epoch 37/60\n",
            "89/89 [==============================] - 0s 4ms/step - loss: 0.4540 - accuracy: 0.7954 - val_loss: 0.4755 - val_accuracy: 0.7704\n",
            "Epoch 38/60\n",
            "89/89 [==============================] - 0s 4ms/step - loss: 0.4505 - accuracy: 0.7948 - val_loss: 0.4669 - val_accuracy: 0.7838\n",
            "Epoch 39/60\n",
            "89/89 [==============================] - 0s 5ms/step - loss: 0.4504 - accuracy: 0.7983 - val_loss: 0.4646 - val_accuracy: 0.7799\n",
            "Epoch 40/60\n",
            "89/89 [==============================] - 0s 4ms/step - loss: 0.4448 - accuracy: 0.7991 - val_loss: 0.4636 - val_accuracy: 0.7886\n",
            "Epoch 41/60\n",
            "89/89 [==============================] - 0s 4ms/step - loss: 0.4472 - accuracy: 0.7983 - val_loss: 0.4598 - val_accuracy: 0.7886\n",
            "Epoch 42/60\n",
            "89/89 [==============================] - 0s 4ms/step - loss: 0.4443 - accuracy: 0.8028 - val_loss: 0.4684 - val_accuracy: 0.7823\n",
            "Epoch 43/60\n",
            "89/89 [==============================] - 0s 4ms/step - loss: 0.4417 - accuracy: 0.8027 - val_loss: 0.4630 - val_accuracy: 0.7870\n",
            "Epoch 44/60\n",
            "89/89 [==============================] - 0s 4ms/step - loss: 0.4393 - accuracy: 0.8042 - val_loss: 0.4717 - val_accuracy: 0.7759\n",
            "Epoch 45/60\n",
            "89/89 [==============================] - 0s 4ms/step - loss: 0.4405 - accuracy: 0.8019 - val_loss: 0.4622 - val_accuracy: 0.7767\n",
            "Epoch 46/60\n",
            "89/89 [==============================] - 0s 5ms/step - loss: 0.4414 - accuracy: 0.8012 - val_loss: 0.4741 - val_accuracy: 0.7815\n",
            "Epoch 47/60\n",
            "89/89 [==============================] - 0s 4ms/step - loss: 0.4441 - accuracy: 0.7998 - val_loss: 0.4688 - val_accuracy: 0.7791\n",
            "Epoch 48/60\n",
            "89/89 [==============================] - 0s 4ms/step - loss: 0.4369 - accuracy: 0.8059 - val_loss: 0.4638 - val_accuracy: 0.7767\n",
            "Epoch 49/60\n",
            "89/89 [==============================] - 0s 4ms/step - loss: 0.4374 - accuracy: 0.8063 - val_loss: 0.4635 - val_accuracy: 0.7838\n",
            "Epoch 50/60\n",
            "89/89 [==============================] - 0s 5ms/step - loss: 0.4355 - accuracy: 0.8059 - val_loss: 0.4628 - val_accuracy: 0.7854\n",
            "Epoch 51/60\n",
            "89/89 [==============================] - 0s 4ms/step - loss: 0.4363 - accuracy: 0.8045 - val_loss: 0.4678 - val_accuracy: 0.7823\n",
            "Epoch 52/60\n",
            "89/89 [==============================] - 0s 4ms/step - loss: 0.4391 - accuracy: 0.8035 - val_loss: 0.4765 - val_accuracy: 0.7791\n",
            "Epoch 53/60\n",
            "89/89 [==============================] - 0s 4ms/step - loss: 0.4321 - accuracy: 0.8088 - val_loss: 0.4637 - val_accuracy: 0.7862\n",
            "Epoch 54/60\n",
            "89/89 [==============================] - 0s 5ms/step - loss: 0.4384 - accuracy: 0.8035 - val_loss: 0.4688 - val_accuracy: 0.7838\n",
            "Epoch 55/60\n",
            "89/89 [==============================] - 0s 4ms/step - loss: 0.4334 - accuracy: 0.8068 - val_loss: 0.4614 - val_accuracy: 0.7854\n",
            "Epoch 56/60\n",
            "89/89 [==============================] - 0s 4ms/step - loss: 0.4341 - accuracy: 0.8053 - val_loss: 0.4693 - val_accuracy: 0.7846\n",
            "Epoch 57/60\n",
            "89/89 [==============================] - 0s 5ms/step - loss: 0.4303 - accuracy: 0.8082 - val_loss: 0.4523 - val_accuracy: 0.7933\n",
            "Epoch 58/60\n",
            "89/89 [==============================] - 0s 4ms/step - loss: 0.4302 - accuracy: 0.8069 - val_loss: 0.4575 - val_accuracy: 0.7838\n",
            "Epoch 59/60\n",
            "89/89 [==============================] - 0s 5ms/step - loss: 0.4307 - accuracy: 0.8093 - val_loss: 0.4779 - val_accuracy: 0.7783\n",
            "Epoch 60/60\n",
            "89/89 [==============================] - 0s 5ms/step - loss: 0.4310 - accuracy: 0.8058 - val_loss: 0.4556 - val_accuracy: 0.7775\n"
          ],
          "name": "stdout"
        }
      ]
    },
    {
      "cell_type": "code",
      "metadata": {
        "id": "Xt0uxoAqh4g1"
      },
      "source": [
        "HISTORY_FILE = MODEL_NAME+\"/\" +\"history_FFNN.csv\"\n",
        "his_ffnn = saveHistory(history,HISTORY_FILE)"
      ],
      "execution_count": null,
      "outputs": []
    },
    {
      "cell_type": "markdown",
      "metadata": {
        "id": "nQILEwofEBon"
      },
      "source": [
        "## Classification Performance(Recall)"
      ]
    },
    {
      "cell_type": "code",
      "metadata": {
        "id": "wtzHlRxbhdLw",
        "outputId": "9cdf2334-2053-4cc8-da64-decb7d796409",
        "colab": {
          "base_uri": "https://localhost:8080/",
          "height": 374
        }
      },
      "source": [
        "plot_his(his_ffnn,'accuracy')"
      ],
      "execution_count": null,
      "outputs": [
        {
          "output_type": "display_data",
          "data": {
            "image/png": "[encoded data removed]",
            "text/plain": [
              "<Figure size 1080x432 with 2 Axes>"
            ]
          },
          "metadata": {
            "tags": [],
            "needs_background": "light"
          }
        }
      ]
    },
    {
      "cell_type": "code",
      "metadata": {
        "id": "_r7pfll_hASO"
      },
      "source": [
        "pred_y = nn_model.predict(X_test)"
      ],
      "execution_count": null,
      "outputs": []
    },
    {
      "cell_type": "code",
      "metadata": {
        "id": "s1lp1ZDgPJHO",
        "outputId": "88ce295e-ce1e-4837-f4cc-5fd16f842e3a",
        "colab": {
          "base_uri": "https://localhost:8080/",
          "height": 139
        }
      },
      "source": [
        "pred_y"
      ],
      "execution_count": null,
      "outputs": [
        {
          "output_type": "execute_result",
          "data": {
            "text/plain": [
              "array([[0.0750732 ],\n",
              "       [0.16094582],\n",
              "       [0.35262147],\n",
              "       ...,\n",
              "       [0.8412152 ],\n",
              "       [0.07064176],\n",
              "       [0.08158308]], dtype=float32)"
            ]
          },
          "metadata": {
            "tags": []
          },
          "execution_count": 59
        }
      ]
    },
    {
      "cell_type": "code",
      "metadata": {
        "id": "cau9QmZSupPQ"
      },
      "source": [
        "pred_y_class = (pred_y >= 0.45).astype(np.int)"
      ],
      "execution_count": null,
      "outputs": []
    },
    {
      "cell_type": "code",
      "metadata": {
        "id": "gT-A3gSdxdwp"
      },
      "source": [
        "y_test = (y_test >= 0.5).astype(np.int)\n"
      ],
      "execution_count": null,
      "outputs": []
    },
    {
      "cell_type": "code",
      "metadata": {
        "id": "mk2Ow2pMQvzF",
        "outputId": "431d12f8-ff95-4234-9eb3-214b5ad66f63",
        "colab": {
          "base_uri": "https://localhost:8080/",
          "height": 261
        }
      },
      "source": [
        "print(\"Confusion Matrix:- \\n\", metrics.confusion_matrix(y_test, pred_y_class), \"\\n\")\n",
        "print(\"Classification Report:- \\n\", metrics.classification_report(y_test, pred_y_class))"
      ],
      "execution_count": null,
      "outputs": [
        {
          "output_type": "stream",
          "text": [
            "Confusion Matrix:- \n",
            " [[743 101]\n",
            " [170 249]] \n",
            "\n",
            "Classification Report:- \n",
            "               precision    recall  f1-score   support\n",
            "\n",
            "           0       0.81      0.88      0.85       844\n",
            "           1       0.71      0.59      0.65       419\n",
            "\n",
            "    accuracy                           0.79      1263\n",
            "   macro avg       0.76      0.74      0.75      1263\n",
            "weighted avg       0.78      0.79      0.78      1263\n",
            "\n"
          ],
          "name": "stdout"
        }
      ]
    },
    {
      "cell_type": "markdown",
      "metadata": {
        "id": "6YX2FQZd53lA"
      },
      "source": [
        "### ROC curve"
      ]
    },
    {
      "cell_type": "code",
      "metadata": {
        "id": "q13uvWLk56pf",
        "outputId": "e3373af5-2283-49a5-e03f-edda250612f1",
        "colab": {
          "base_uri": "https://localhost:8080/",
          "height": 1000
        }
      },
      "source": [
        "from sklearn.metrics import roc_curve, roc_auc_score\n",
        "from matplotlib.font_manager import FontProperties\n",
        "fontP = FontProperties()\n",
        "fontP.set_size('xx-small')\n",
        "fpr, tpr, _ = roc_curve(y_test, pred_y)\n",
        "fig, ax1 = plt.subplots(1,1, figsize = (5, 5), dpi = 250)\n",
        "ax1.plot(fpr, tpr, marker='.', label = 'InceptionResNetV2 (AUC:%2.2f)' % roc_auc_score(y_test, pred_y))\n",
        "ax1.plot(fpr, fpr, linestyle='--', label = 'Random Guessing')\n",
        "ax1.legend(title='legend',  loc='lower right', prop=fontP)\n",
        "ax1.set_xlabel('False Positive Rate')\n",
        "ax1.set_ylabel('True Positive Rate');\n",
        "ax1.set_title('Lung Opacity ROC Curve')"
      ],
      "execution_count": null,
      "outputs": [
        {
          "output_type": "execute_result",
          "data": {
            "text/plain": [
              "Text(0.5, 1.0, 'Lung Opacity ROC Curve')"
            ]
          },
          "metadata": {
            "tags": []
          },
          "execution_count": 63
        },
        {
          "output_type": "display_data",
          "data": {
            "image/png": "[encoded data removed]",
            "text/plain": [
              "<Figure size 1250x1250 with 1 Axes>"
            ]
          },
          "metadata": {
            "tags": [],
            "needs_background": "light"
          }
        }
      ]
    },
    {
      "cell_type": "markdown",
      "metadata": {
        "id": "q2SKp66bF8kg"
      },
      "source": [
        "## Conclusion"
      ]
    },
    {
      "cell_type": "code",
      "metadata": {
        "id": "SEAKtNvFgyrZ"
      },
      "source": [
        ""
      ],
      "execution_count": null,
      "outputs": []
    }
  ]
}