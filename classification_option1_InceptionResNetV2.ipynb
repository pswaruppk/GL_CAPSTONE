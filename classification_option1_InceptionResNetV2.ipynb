{
  "nbformat": 4,
  "nbformat_minor": 0,
  "metadata": {
    "colab": {
      "name": "classification_option1_InceptionResNetV2.ipynb",
      "provenance": [],
      "collapsed_sections": [],
      "toc_visible": true,
      "authorship_tag": "ABX9TyNC+W+pLVIFAiXh52D4lS2c",
      "include_colab_link": true
    },
    "kernelspec": {
      "name": "python3",
      "display_name": "Python 3"
    },
    "accelerator": "GPU"
  },
  "cells": [
    {
      "cell_type": "markdown",
      "metadata": {
        "id": "view-in-github",
        "colab_type": "text"
      },
      "source": [
        "<a href=\"https://colab.research.google.com/github/pswaruppk/GL_CAPSTONE/blob/master/classification_option1_InceptionResNetV2.ipynb\" target=\"_parent\"><img src=\"https://colab.research.google.com/assets/colab-badge.svg\" alt=\"Open In Colab\"/></a>"
      ]
    },
    {
      "cell_type": "markdown",
      "metadata": {
        "id": "58f4F_QondId",
        "colab_type": "text"
      },
      "source": [
        "#Hybrid model\n",
        "  This notebook is trying to build option-1 which includes classification followed by detection.\n",
        "\n",
        "Classification:\n",
        "  1. ChexNet- Densnet121 - This has been implemented here.\n",
        "  2. VGG NET\n",
        "  3. InceptionV3\n",
        "  4. **InceptionRestNetV2** This has been implemented here\n",
        "\n",
        "Detection:\n",
        "  RetinaNet based architecture\n",
        "  1. ResNet101 \n",
        "  2. ResNet152"
      ]
    },
    {
      "cell_type": "code",
      "metadata": {
        "id": "kbTCr_5QEzad",
        "colab_type": "code",
        "colab": {}
      },
      "source": [
        "import os"
      ],
      "execution_count": 63,
      "outputs": []
    },
    {
      "cell_type": "code",
      "metadata": {
        "id": "Rkx68scFlb8-",
        "colab_type": "code",
        "colab": {
          "base_uri": "https://localhost:8080/",
          "height": 54
        },
        "outputId": "7534cee0-1ca4-4006-fd00-56fc9774147a"
      },
      "source": [
        "from google.colab import drive\n",
        "drive.mount('/content/drive')"
      ],
      "execution_count": 64,
      "outputs": [
        {
          "output_type": "stream",
          "text": [
            "Drive already mounted at /content/drive; to attempt to forcibly remount, call drive.mount(\"/content/drive\", force_remount=True).\n"
          ],
          "name": "stdout"
        }
      ]
    },
    {
      "cell_type": "code",
      "metadata": {
        "id": "uOtuMJIjncTt",
        "colab_type": "code",
        "colab": {
          "base_uri": "https://localhost:8080/",
          "height": 35
        },
        "outputId": "a6b4d2be-31db-4dd6-ebde-a2a69f0308e2"
      },
      "source": [
        "project_path = \"/content/drive/My Drive/rsna-pneumonia-detection-challenge\"\n",
        "os.chdir(project_path)\n",
        "os.getcwd()"
      ],
      "execution_count": 65,
      "outputs": [
        {
          "output_type": "execute_result",
          "data": {
            "application/vnd.google.colaboratory.intrinsic+json": {
              "type": "string"
            },
            "text/plain": [
              "'/content/drive/My Drive/rsna-pneumonia-detection-challenge'"
            ]
          },
          "metadata": {
            "tags": []
          },
          "execution_count": 65
        }
      ]
    },
    {
      "cell_type": "markdown",
      "metadata": {
        "id": "zxH2DzwT8mkl",
        "colab_type": "text"
      },
      "source": [
        "## Model Parameters"
      ]
    },
    {
      "cell_type": "code",
      "metadata": {
        "id": "wFHbskXlX4QR",
        "colab_type": "code",
        "colab": {}
      },
      "source": [
        "#Set global parameters here\n",
        "BASE_MODEL = \"InceptionResNetV2\"\n",
        "MODEL_NAME  = \"Option-1\" + \".\" + BASE_MODEL\n",
        "if os.path.isdir(MODEL_NAME) == False:\n",
        "  os.mkdir(MODEL_NAME)\n",
        "WEIGHTS_FILE = MODEL_NAME+\"/\" + \"weights.best_299.h5\"\n",
        "HISTORY_FILE = MODEL_NAME+\"/\" +\"history_299.csv\"\n",
        "BATCH_SIZE = 16\n",
        "IMAGE_SIZE = 299 #target image width\n",
        "IMG_WIDTH = 1024 #Original image width\n",
        "FORCE_TRAINING = False #True , change it to force training\n",
        "DROPOUT = 0.25 # [0, 0.25, 0.5]\n",
        "DENSE_COUNT = 128 # [32, 64, 128, 256]\n",
        "LEARN_RATE = 1e-4 # [1e-4, 1e-3, 4e-3]\n",
        "ALPHA = 1.0\n",
        "EPOCHS = 5"
      ],
      "execution_count": 66,
      "outputs": []
    },
    {
      "cell_type": "code",
      "metadata": {
        "id": "brBroOQSp-5M",
        "colab_type": "code",
        "colab": {
          "base_uri": "https://localhost:8080/",
          "height": 211
        },
        "outputId": "fd062ad3-99cc-48a9-f842-f4dbf5061be7"
      },
      "source": [
        "oldPath = os.getcwd()\n",
        "utility_path = \"/content/drive/My Drive/GL_CAPSTONE\"\n",
        "os.chdir(utility_path)\n",
        "%run pneumonia_utility.ipynb\n",
        "baseModel,preprocess_input = selectBaseModel(BASE_MODEL)\n",
        "os.chdir(oldPath)\n",
        "print(os.getcwd())\n",
        "print(baseModel,preprocess_input)"
      ],
      "execution_count": 67,
      "outputs": [
        {
          "output_type": "stream",
          "text": [
            "Loading functions from Pneumonia utility notebook\n",
            "Loading pydicom package\n",
            "Requirement already satisfied: pydicom in /usr/local/lib/python3.6/dist-packages (2.0.0)\n",
            "Setting baseModel : InceptionResNetV2\n",
            "<module 'tensorflow.keras.applications.inception_resnet_v2' from '/usr/local/lib/python3.6/dist-packages/tensorflow/keras/applications/inception_resnet_v2/__init__.py'>\n",
            "global BaseModel; BaseModel =np.InceptionResNetV2\n",
            "global preprocess_input; preprocess_input =np.preprocess_input\n",
            "<class 'function'>\n",
            "/content/drive/My Drive/rsna-pneumonia-detection-challenge\n",
            "<function InceptionResNetV2 at 0x7f70be4e5ae8> <function preprocess_input at 0x7f70be4e5c80>\n"
          ],
          "name": "stdout"
        }
      ]
    },
    {
      "cell_type": "code",
      "metadata": {
        "id": "oFPh9QxB5-1b",
        "colab_type": "code",
        "colab": {
          "base_uri": "https://localhost:8080/",
          "height": 52
        },
        "outputId": "402790bb-fc50-4902-f439-7a9aeaa2360a"
      },
      "source": [
        "baseModel,preprocess_input"
      ],
      "execution_count": 68,
      "outputs": [
        {
          "output_type": "execute_result",
          "data": {
            "text/plain": [
              "(<function tensorflow.python.keras.applications.inception_resnet_v2.InceptionResNetV2>,\n",
              " <function tensorflow.python.keras.applications.inception_resnet_v2.preprocess_input>)"
            ]
          },
          "metadata": {
            "tags": []
          },
          "execution_count": 68
        }
      ]
    },
    {
      "cell_type": "code",
      "metadata": {
        "id": "n2y2P8aO7Rpw",
        "colab_type": "code",
        "colab": {
          "base_uri": "https://localhost:8080/",
          "height": 34
        },
        "outputId": "f9dfc12a-76a4-4486-ebeb-878e3f82703b"
      },
      "source": [
        "shape = MODEL_MAP[BASE_MODEL]['input_shape']\n",
        "IMAGE_SIZE = shape[0]\n",
        "print('{}:IMAGE_SIZE, {}:Model Input Shape'.format(IMAGE_SIZE,shape))"
      ],
      "execution_count": 69,
      "outputs": [
        {
          "output_type": "stream",
          "text": [
            "299:IMAGE_SIZE, (299, 299, 3):Model Input Shape\n"
          ],
          "name": "stdout"
        }
      ]
    },
    {
      "cell_type": "code",
      "metadata": {
        "id": "7GDQHACIndcb",
        "colab_type": "code",
        "colab": {
          "base_uri": "https://localhost:8080/",
          "height": 52
        },
        "outputId": "1c7aa5f6-514b-4d43-fe21-71c962369f29"
      },
      "source": [
        "#Loading full data\n",
        "full_df,bbox_map,class_enc = loadData()"
      ],
      "execution_count": 70,
      "outputs": [
        {
          "output_type": "stream",
          "text": [
            "Loading full CXR info\n",
            "Loading bbox map\n"
          ],
          "name": "stdout"
        }
      ]
    },
    {
      "cell_type": "code",
      "metadata": {
        "id": "3PcE8k6vu1HK",
        "colab_type": "code",
        "colab": {}
      },
      "source": [
        "\n",
        "# CLASS_VECTORS = get_class_map(full_df)"
      ],
      "execution_count": 71,
      "outputs": []
    },
    {
      "cell_type": "code",
      "metadata": {
        "id": "Qmw2L5Yo3SE1",
        "colab_type": "code",
        "colab": {
          "base_uri": "https://localhost:8080/",
          "height": 284
        },
        "outputId": "0c53109c-a5ad-4490-8a0d-dd0a51d37420"
      },
      "source": [
        "full_df.head(2)"
      ],
      "execution_count": 72,
      "outputs": [
        {
          "output_type": "execute_result",
          "data": {
            "text/html": [
              "<div>\n",
              "<style scoped>\n",
              "    .dataframe tbody tr th:only-of-type {\n",
              "        vertical-align: middle;\n",
              "    }\n",
              "\n",
              "    .dataframe tbody tr th {\n",
              "        vertical-align: top;\n",
              "    }\n",
              "\n",
              "    .dataframe thead th {\n",
              "        text-align: right;\n",
              "    }\n",
              "</style>\n",
              "<table border=\"1\" class=\"dataframe\">\n",
              "  <thead>\n",
              "    <tr style=\"text-align: right;\">\n",
              "      <th></th>\n",
              "      <th>Unnamed: 0</th>\n",
              "      <th>patientId</th>\n",
              "      <th>x</th>\n",
              "      <th>y</th>\n",
              "      <th>width</th>\n",
              "      <th>height</th>\n",
              "      <th>Target</th>\n",
              "      <th>BboxNo</th>\n",
              "      <th>PatientAge</th>\n",
              "      <th>PatientSex</th>\n",
              "      <th>ViewPosition</th>\n",
              "      <th>class</th>\n",
              "      <th>class_id</th>\n",
              "      <th>class_vector</th>\n",
              "      <th>path</th>\n",
              "    </tr>\n",
              "  </thead>\n",
              "  <tbody>\n",
              "    <tr>\n",
              "      <th>0</th>\n",
              "      <td>0</td>\n",
              "      <td>0004cfab-14fd-4e49-80ba-63a80b6bddd6</td>\n",
              "      <td>NaN</td>\n",
              "      <td>NaN</td>\n",
              "      <td>NaN</td>\n",
              "      <td>NaN</td>\n",
              "      <td>0</td>\n",
              "      <td>1</td>\n",
              "      <td>51</td>\n",
              "      <td>0</td>\n",
              "      <td>0</td>\n",
              "      <td>No Lung Opacity / Not Normal</td>\n",
              "      <td>1</td>\n",
              "      <td>[0.0, 1.0, 0.0]</td>\n",
              "      <td>stage_2_train_images/0004cfab-14fd-4e49-80ba-6...</td>\n",
              "    </tr>\n",
              "    <tr>\n",
              "      <th>1</th>\n",
              "      <td>1</td>\n",
              "      <td>00313ee0-9eaa-42f4-b0ab-c148ed3241cd</td>\n",
              "      <td>NaN</td>\n",
              "      <td>NaN</td>\n",
              "      <td>NaN</td>\n",
              "      <td>NaN</td>\n",
              "      <td>0</td>\n",
              "      <td>1</td>\n",
              "      <td>48</td>\n",
              "      <td>0</td>\n",
              "      <td>0</td>\n",
              "      <td>No Lung Opacity / Not Normal</td>\n",
              "      <td>1</td>\n",
              "      <td>[0.0, 1.0, 0.0]</td>\n",
              "      <td>stage_2_train_images/00313ee0-9eaa-42f4-b0ab-c...</td>\n",
              "    </tr>\n",
              "  </tbody>\n",
              "</table>\n",
              "</div>"
            ],
            "text/plain": [
              "   Unnamed: 0  ...                                               path\n",
              "0           0  ...  stage_2_train_images/0004cfab-14fd-4e49-80ba-6...\n",
              "1           1  ...  stage_2_train_images/00313ee0-9eaa-42f4-b0ab-c...\n",
              "\n",
              "[2 rows x 15 columns]"
            ]
          },
          "metadata": {
            "tags": []
          },
          "execution_count": 72
        }
      ]
    },
    {
      "cell_type": "code",
      "metadata": {
        "id": "j5JQWuj59Y7q",
        "colab_type": "code",
        "colab": {}
      },
      "source": [
        "full_df.drop(full_df.columns[0],inplace=True,axis=1)"
      ],
      "execution_count": 73,
      "outputs": []
    },
    {
      "cell_type": "code",
      "metadata": {
        "id": "_MjIEYAJPBIc",
        "colab_type": "code",
        "colab": {
          "base_uri": "https://localhost:8080/",
          "height": 34
        },
        "outputId": "46516919-c774-4620-d214-6d7ac6216a86"
      },
      "source": [
        "print('{}:Total Pneumonia Patient'.format(len(full_df[full_df.Target == 1])))"
      ],
      "execution_count": 74,
      "outputs": [
        {
          "output_type": "stream",
          "text": [
            "9555:Total Pneumonia Patient\n"
          ],
          "name": "stdout"
        }
      ]
    },
    {
      "cell_type": "code",
      "metadata": {
        "id": "36J8-8yN4mtp",
        "colab_type": "code",
        "colab": {
          "base_uri": "https://localhost:8080/",
          "height": 87
        },
        "outputId": "88adf636-e13a-497e-91cd-3832219d2b95"
      },
      "source": [
        "#Split the dataset  into 3 train/valid/test\n",
        "unbalanced_train_df, valid_df, test_df = splitData(full_df,target='class')"
      ],
      "execution_count": 75,
      "outputs": [
        {
          "output_type": "stream",
          "text": [
            "(21347, 14) training data\n",
            "(5337, 14) raw validation data\n",
            "(2668, 14) Validation data\n",
            "(2669, 14) test data\n"
          ],
          "name": "stdout"
        }
      ]
    },
    {
      "cell_type": "code",
      "metadata": {
        "id": "ljMpXIjlAYtE",
        "colab_type": "code",
        "colab": {
          "base_uri": "https://localhost:8080/",
          "height": 34
        },
        "outputId": "637f7815-377f-44f3-b783-df22f5cd927d"
      },
      "source": [
        "unbalanced_train_df[unbalanced_train_df.class_id == 0].shape[0]"
      ],
      "execution_count": 76,
      "outputs": [
        {
          "output_type": "execute_result",
          "data": {
            "text/plain": [
              "4809"
            ]
          },
          "metadata": {
            "tags": []
          },
          "execution_count": 76
        }
      ]
    },
    {
      "cell_type": "code",
      "metadata": {
        "id": "RylZ8ieH5umF",
        "colab_type": "code",
        "colab": {
          "base_uri": "https://localhost:8080/",
          "height": 489
        },
        "outputId": "fd1558c1-947a-435b-c07a-779579b8f86c"
      },
      "source": [
        "import matplotlib.pyplot as plt\n",
        "TRAIN_SAMPLES = 12624 # 4208 x 3 class targets\n",
        "#Balancing training set\n",
        "train_df = balance_df(unbalanced_train_df,TRAIN_SAMPLES,target='class')\n",
        "print(train_df.shape[0], 'Final training size')"
      ],
      "execution_count": 77,
      "outputs": [
        {
          "output_type": "stream",
          "text": [
            "12624 Final training size\n"
          ],
          "name": "stdout"
        },
        {
          "output_type": "display_data",
          "data": {
            "image/png": "[encoded data removed]",
            "text/plain": [
              "<Figure size 720x360 with 2 Axes>"
            ]
          },
          "metadata": {
            "tags": [],
            "needs_background": "light"
          }
        }
      ]
    },
    {
      "cell_type": "markdown",
      "metadata": {
        "id": "kkJH_Cet8AlW",
        "colab_type": "text"
      },
      "source": [
        "## Build model"
      ]
    },
    {
      "cell_type": "code",
      "metadata": {
        "id": "u4mdtUO2U2UH",
        "colab_type": "code",
        "colab": {
          "base_uri": "https://localhost:8080/",
          "height": 34
        },
        "outputId": "fe1efdbb-83cc-4445-da75-64fbee6c3385"
      },
      "source": [
        "len(np.unique(train_df[\"path\"].to_numpy()))"
      ],
      "execution_count": 78,
      "outputs": [
        {
          "output_type": "execute_result",
          "data": {
            "text/plain": [
              "12624"
            ]
          },
          "metadata": {
            "tags": []
          },
          "execution_count": 78
        }
      ]
    },
    {
      "cell_type": "code",
      "metadata": {
        "id": "wN24TMo_E2wE",
        "colab_type": "code",
        "colab": {
          "base_uri": "https://localhost:8080/",
          "height": 87
        },
        "outputId": "51eac4c7-cf74-407c-ec5e-bb7feecd0530"
      },
      "source": [
        "# BATCH_SIZE = 8\n",
        "# IMAGE_SIZE = 224\n",
        "# IMG_WIDTH = 1024\n",
        "train_gen = MyLabelDataGenerator(train_df)\n",
        "valid_gen = MyLabelDataGenerator(valid_df)\n",
        "\n",
        "print(len(train_gen), \"# of iterations in one train epoch\")\n",
        "print(len(valid_gen), \"# of iterations in one validate epoch\")"
      ],
      "execution_count": 79,
      "outputs": [
        {
          "output_type": "stream",
          "text": [
            "12624 :No of generator Image\n",
            "2668 :No of generator Image\n",
            "789 # of iterations in one train epoch\n",
            "166 # of iterations in one validate epoch\n"
          ],
          "name": "stdout"
        }
      ]
    },
    {
      "cell_type": "code",
      "metadata": {
        "id": "nVBX69WApYW1",
        "colab_type": "code",
        "colab": {
          "base_uri": "https://localhost:8080/",
          "height": 286
        },
        "outputId": "4e4cb186-7fe2-4729-c9ac-8a4199335473"
      },
      "source": [
        "path = bbox_map['000db696-cf54-4385-b10b-6b16fbb3f985'].get('path')\n",
        "img = train_gen.getImage(path)\n",
        "plt.imshow(img, cmap=plt.cm.bone)"
      ],
      "execution_count": 80,
      "outputs": [
        {
          "output_type": "execute_result",
          "data": {
            "text/plain": [
              "<matplotlib.image.AxesImage at 0x7f7041e88630>"
            ]
          },
          "metadata": {
            "tags": []
          },
          "execution_count": 80
        },
        {
          "output_type": "display_data",
          "data": {
            "image/png": "[encoded data removed]",
            "text/plain": [
              "<Figure size 432x288 with 1 Axes>"
            ]
          },
          "metadata": {
            "tags": [],
            "needs_background": "light"
          }
        }
      ]
    },
    {
      "cell_type": "code",
      "metadata": {
        "id": "UPrqPNLZYVgB",
        "colab_type": "code",
        "colab": {}
      },
      "source": [
        "imageSet = train_gen[9][0]\n",
        "maskSet = train_gen[9][1]   #Label"
      ],
      "execution_count": 81,
      "outputs": []
    },
    {
      "cell_type": "code",
      "metadata": {
        "id": "eBuvjnaOZq2a",
        "colab_type": "code",
        "colab": {
          "base_uri": "https://localhost:8080/",
          "height": 34
        },
        "outputId": "75e8487c-725d-42d4-b762-acf0cf7673be"
      },
      "source": [
        "imageSet.shape,maskSet.shape"
      ],
      "execution_count": 82,
      "outputs": [
        {
          "output_type": "execute_result",
          "data": {
            "text/plain": [
              "((16, 299, 299, 3), (16, 3))"
            ]
          },
          "metadata": {
            "tags": []
          },
          "execution_count": 82
        }
      ]
    },
    {
      "cell_type": "code",
      "metadata": {
        "id": "3NjGWW0OKDQp",
        "colab_type": "code",
        "colab": {
          "base_uri": "https://localhost:8080/",
          "height": 324
        },
        "outputId": "bfdfb2b0-a0ac-4c4b-f757-c38090e102b7"
      },
      "source": [
        "plt.imshow(imageSet[9], cmap=plt.cm.bone)"
      ],
      "execution_count": 83,
      "outputs": [
        {
          "output_type": "stream",
          "text": [
            "WARNING:matplotlib.image:Clipping input data to the valid range for imshow with RGB data ([0..1] for floats or [0..255] for integers).\n"
          ],
          "name": "stderr"
        },
        {
          "output_type": "execute_result",
          "data": {
            "text/plain": [
              "<matplotlib.image.AxesImage at 0x7f7041784eb8>"
            ]
          },
          "metadata": {
            "tags": []
          },
          "execution_count": 83
        },
        {
          "output_type": "display_data",
          "data": {
            "image/png": "[encoded data removed]",
            "text/plain": [
              "<Figure size 432x288 with 1 Axes>"
            ]
          },
          "metadata": {
            "tags": [],
            "needs_background": "light"
          }
        }
      ]
    },
    {
      "cell_type": "code",
      "metadata": {
        "id": "6XDAF8UlwUKu",
        "colab_type": "code",
        "colab": {}
      },
      "source": [
        "\n",
        "def build_pretrained_model():\n",
        "  #Build base model\n",
        "  input_shape = MODEL_MAP[BASE_MODEL]['input_shape']\n",
        "  base_pretrained_model = BaseModel(input_shape =  input_shape, \n",
        "                              include_top = False, weights = 'imagenet')\n",
        "  base_pretrained_model.trainable = False\n",
        "  #Build Top layer\n",
        "  lastlayer = MODEL_MAP[BASE_MODEL]['last_conv_layer']\n",
        "  lastlayershape = base_pretrained_model.get_layer(lastlayer).output_shape[1:]\n",
        "  pt_features = Input(lastlayershape, name = 'feature_input')\n",
        "    \n",
        "  bn_features = BatchNormalization()(pt_features)\n",
        "  gap = GlobalAveragePooling2D()(bn_features)\n",
        "\n",
        "  gap_dr = Dropout(DROPOUT)(gap)\n",
        "  dr_steps = Dropout(DROPOUT)(Dense(DENSE_COUNT, activation = 'linear', use_bias=False)(gap_dr))\n",
        "  dr_steps = BatchNormalization()(dr_steps)\n",
        "  dr_steps = layers.LeakyReLU(0.1)(dr_steps)\n",
        "  out_layer = Dense(3, activation = 'softmax')(dr_steps)\n",
        "\n",
        "  attn_model = Model(inputs = [pt_features], \n",
        "                    outputs = [out_layer], name = 'top_model')\n",
        "  #Combine base & top model\n",
        "  pneu_model = Sequential(name = 'combined_model')\n",
        "  # base_pretrained_model.trainable = False\n",
        "  pneu_model.add(base_pretrained_model)\n",
        "  pneu_model.add(attn_model)\n",
        "  #Add loss & optimizer\n",
        "  lr = LEARN_RATE\n",
        "  decay = lr/10 # or in the factor of 10\n",
        "  adamOptimizer = Adam(lr=lr, beta_1=0.9, beta_2=0.999, epsilon=None, decay=decay, amsgrad=False)\n",
        "  pneu_model.compile(optimizer =adamOptimizer, loss = 'categorical_crossentropy',\n",
        "                           metrics = ['categorical_accuracy'])\n",
        "  \n",
        "  return pneu_model,base_pretrained_model,attn_model"
      ],
      "execution_count": 84,
      "outputs": []
    },
    {
      "cell_type": "code",
      "metadata": {
        "id": "4qJ9-w2xU7Lu",
        "colab_type": "code",
        "colab": {
          "base_uri": "https://localhost:8080/",
          "height": 226
        },
        "outputId": "6184c4ae-7b13-4d72-8bcf-25cfb56a1bd6"
      },
      "source": [
        "class_model,base_model,top_model = build_pretrained_model()\n",
        "class_model.summary()"
      ],
      "execution_count": 85,
      "outputs": [
        {
          "output_type": "stream",
          "text": [
            "Model: \"combined_model\"\n",
            "_________________________________________________________________\n",
            "Layer (type)                 Output Shape              Param #   \n",
            "=================================================================\n",
            "inception_resnet_v2 (Functio (None, 8, 8, 1536)        54336736  \n",
            "_________________________________________________________________\n",
            "top_model (Functional)       (None, 3)                 203651    \n",
            "=================================================================\n",
            "Total params: 54,540,387\n",
            "Trainable params: 200,323\n",
            "Non-trainable params: 54,340,064\n",
            "_________________________________________________________________\n"
          ],
          "name": "stdout"
        }
      ]
    },
    {
      "cell_type": "code",
      "metadata": {
        "id": "rgvZwss8LeKW",
        "colab_type": "code",
        "colab": {
          "base_uri": "https://localhost:8080/",
          "height": 272
        },
        "outputId": "405d17c3-bf72-48f4-969e-025009dbce53"
      },
      "source": [
        "from keras.utils.vis_utils import plot_model\n",
        "plot_model(class_model)"
      ],
      "execution_count": 86,
      "outputs": [
        {
          "output_type": "execute_result",
          "data": {
            "image/png": "[encoded data removed]",
            "text/plain": [
              "<IPython.core.display.Image object>"
            ]
          },
          "metadata": {
            "tags": []
          },
          "execution_count": 86
        }
      ]
    },
    {
      "cell_type": "code",
      "metadata": {
        "id": "jqkqIBnl12yZ",
        "colab_type": "code",
        "colab": {
          "base_uri": "https://localhost:8080/",
          "height": 52
        },
        "outputId": "e0219776-06db-4a06-d627-cc90c7da4075"
      },
      "source": [
        "checkpoint = ModelCheckpoint(WEIGHTS_FILE, monitor='val_loss', verbose=1, \n",
        "                             save_best_only=True, mode='min', save_weights_only = True)\n",
        "\n",
        "reduceLROnPlat = ReduceLROnPlateau(monitor='val_loss', factor=0.8, \n",
        "                                   patience=10, verbose=1, mode='auto', \n",
        "                                   epsilon=0.0001, cooldown=5, min_lr=0.0001)\n",
        "early = EarlyStopping(monitor=\"val_loss\", \n",
        "                      mode=\"min\", \n",
        "                      patience=10) \n",
        "callbacks_list = [checkpoint, early, reduceLROnPlat]"
      ],
      "execution_count": 87,
      "outputs": [
        {
          "output_type": "stream",
          "text": [
            "WARNING:tensorflow:`epsilon` argument is deprecated and will be removed, use `min_delta` instead.\n"
          ],
          "name": "stdout"
        },
        {
          "output_type": "stream",
          "text": [
            "WARNING:tensorflow:`epsilon` argument is deprecated and will be removed, use `min_delta` instead.\n"
          ],
          "name": "stderr"
        }
      ]
    },
    {
      "cell_type": "markdown",
      "metadata": {
        "id": "pSyqHQCl76q_",
        "colab_type": "text"
      },
      "source": [
        "##Model Fit"
      ]
    },
    {
      "cell_type": "code",
      "metadata": {
        "id": "MgwtfdmOFb3f",
        "colab_type": "code",
        "colab": {
          "base_uri": "https://localhost:8080/",
          "height": 421
        },
        "outputId": "5d3dc0dd-aaa6-48e3-b033-693878ca288e"
      },
      "source": [
        "%%time\n",
        "history = pd.DataFrame()\n",
        "\n",
        "if (os.path.isfile(WEIGHTS_FILE) & (FORCE_TRAINING == False) ):\n",
        "  class_model.load_weights(WEIGHTS_FILE)\n",
        "  history = loadHistory(HISTORY_FILE)\n",
        "else:\n",
        "  if (os.path.isfile(WEIGHTS_FILE)):\n",
        "    class_model.load_weights(WEIGHTS_FILE)\n",
        "  history = class_model.fit(train_gen,   # (X_train, y_train)\n",
        "                        epochs=EPOCHS,\n",
        "                        validation_data=valid_gen,#(X_valid, y_valid)\n",
        "                        callbacks=callbacks_list,\n",
        "                        shuffle=True,\n",
        "                        verbose=1)\n",
        "  \n",
        "  history = saveHistory(history,HISTORY_FILE)"
      ],
      "execution_count": 88,
      "outputs": [
        {
          "output_type": "stream",
          "text": [
            "Epoch 1/5\n",
            "789/789 [==============================] - ETA: 0s - loss: 0.9454 - categorical_accuracy: 0.5644\n",
            "Epoch 00001: val_loss improved from inf to 0.83093, saving model to Option-1.InceptionResNetV2/weights.best_299.h5\n",
            "789/789 [==============================] - 3563s 5s/step - loss: 0.9454 - categorical_accuracy: 0.5644 - val_loss: 0.8309 - val_categorical_accuracy: 0.6002\n",
            "Epoch 2/5\n",
            "789/789 [==============================] - ETA: 0s - loss: 0.8374 - categorical_accuracy: 0.6128\n",
            "Epoch 00002: val_loss improved from 0.83093 to 0.78309, saving model to Option-1.InceptionResNetV2/weights.best_299.h5\n",
            "789/789 [==============================] - 328s 416ms/step - loss: 0.8374 - categorical_accuracy: 0.6128 - val_loss: 0.7831 - val_categorical_accuracy: 0.6242\n",
            "Epoch 3/5\n",
            "789/789 [==============================] - ETA: 0s - loss: 0.8064 - categorical_accuracy: 0.6253\n",
            "Epoch 00003: val_loss improved from 0.78309 to 0.78164, saving model to Option-1.InceptionResNetV2/weights.best_299.h5\n",
            "789/789 [==============================] - 318s 403ms/step - loss: 0.8064 - categorical_accuracy: 0.6253 - val_loss: 0.7816 - val_categorical_accuracy: 0.6310\n",
            "Epoch 4/5\n",
            "789/789 [==============================] - ETA: 0s - loss: 0.7872 - categorical_accuracy: 0.6309\n",
            "Epoch 00004: val_loss improved from 0.78164 to 0.77450, saving model to Option-1.InceptionResNetV2/weights.best_299.h5\n",
            "789/789 [==============================] - 318s 403ms/step - loss: 0.7872 - categorical_accuracy: 0.6309 - val_loss: 0.7745 - val_categorical_accuracy: 0.6318\n",
            "Epoch 5/5\n",
            "789/789 [==============================] - ETA: 0s - loss: 0.7631 - categorical_accuracy: 0.6471\n",
            "Epoch 00005: val_loss improved from 0.77450 to 0.76939, saving model to Option-1.InceptionResNetV2/weights.best_299.h5\n",
            "789/789 [==============================] - 319s 404ms/step - loss: 0.7631 - categorical_accuracy: 0.6471 - val_loss: 0.7694 - val_categorical_accuracy: 0.6419\n",
            "CPU times: user 28min 13s, sys: 1min 25s, total: 29min 38s\n",
            "Wall time: 1h 21min 5s\n"
          ],
          "name": "stdout"
        }
      ]
    },
    {
      "cell_type": "markdown",
      "metadata": {
        "id": "EoKqYv0gT_Vx",
        "colab_type": "text"
      },
      "source": [
        "## History"
      ]
    },
    {
      "cell_type": "code",
      "metadata": {
        "id": "mOOZuv5TNRRz",
        "colab_type": "code",
        "colab": {
          "base_uri": "https://localhost:8080/",
          "height": 374
        },
        "outputId": "aa48f9cf-4e41-4b26-c00b-dcd306dd728b"
      },
      "source": [
        "plot_his(history,'categorical_accuracy')\n",
        "#Save the model as well for future use"
      ],
      "execution_count": 89,
      "outputs": [
        {
          "output_type": "display_data",
          "data": {
            "image/png": "[encoded data removed]",
            "text/plain": [
              "<Figure size 1080x432 with 2 Axes>"
            ]
          },
          "metadata": {
            "tags": [],
            "needs_background": "light"
          }
        }
      ]
    },
    {
      "cell_type": "markdown",
      "metadata": {
        "id": "CMghxAoEigFA",
        "colab_type": "text"
      },
      "source": [
        "## Classification-Stage1 performance"
      ]
    },
    {
      "cell_type": "code",
      "metadata": {
        "id": "ujDI37BRimfi",
        "colab_type": "code",
        "colab": {
          "base_uri": "https://localhost:8080/",
          "height": 34
        },
        "outputId": "857629c7-5ce3-47f8-b397-154d50d748a7"
      },
      "source": [
        "predict_gen = MyLabelTestDataGenerator(train_df)"
      ],
      "execution_count": 90,
      "outputs": [
        {
          "output_type": "stream",
          "text": [
            "12624 :No of generator Image\n"
          ],
          "name": "stdout"
        }
      ]
    },
    {
      "cell_type": "code",
      "metadata": {
        "id": "CFOJOc2sugIm",
        "colab_type": "code",
        "colab": {
          "base_uri": "https://localhost:8080/",
          "height": 244
        },
        "outputId": "c7a7b21a-1727-4804-bef3-762630ecbceb"
      },
      "source": [
        "patients, pred_Y,valid_Y = class_predict(predict_gen,class_model,no_of_batch=0)"
      ],
      "execution_count": 91,
      "outputs": [
        {
          "output_type": "stream",
          "text": [
            "\n",
            " 99%|█████████▊| 778/789 [06:24<00:05,  2.04it/s]\u001b[A\n",
            " 99%|█████████▊| 779/789 [06:25<00:04,  2.05it/s]\u001b[A\n",
            " 99%|█████████▉| 780/789 [06:25<00:04,  2.05it/s]\u001b[A\n",
            " 99%|█████████▉| 781/789 [06:26<00:03,  2.05it/s]\u001b[A\n",
            " 99%|█████████▉| 782/789 [06:26<00:03,  2.06it/s]\u001b[A\n",
            " 99%|█████████▉| 783/789 [06:27<00:02,  2.06it/s]\u001b[A\n",
            " 99%|█████████▉| 784/789 [06:27<00:02,  2.07it/s]\u001b[A\n",
            " 99%|█████████▉| 785/789 [06:28<00:01,  2.05it/s]\u001b[A\n",
            "100%|█████████▉| 786/789 [06:28<00:01,  2.06it/s]\u001b[A\n",
            "100%|█████████▉| 787/789 [06:29<00:00,  2.05it/s]\u001b[A\n",
            "100%|█████████▉| 788/789 [06:29<00:00,  2.05it/s]\u001b[A\n",
            "100%|██████████| 789/789 [06:30<00:00,  2.02it/s]\n"
          ],
          "name": "stderr"
        }
      ]
    },
    {
      "cell_type": "code",
      "metadata": {
        "id": "veC7zOqEi46F",
        "colab_type": "code",
        "colab": {
          "base_uri": "https://localhost:8080/",
          "height": 449
        },
        "outputId": "704722de-d252-485d-fa56-ccd3625f7a83"
      },
      "source": [
        "from sklearn.metrics import confusion_matrix\n",
        "plt.matshow(confusion_matrix(np.argmax(valid_Y, -1), np.argmax(pred_Y,-1)))\n",
        "print(classification_report(np.argmax(valid_Y, -1), \n",
        "                            np.argmax(pred_Y,-1), target_names = class_enc.classes_))"
      ],
      "execution_count": 92,
      "outputs": [
        {
          "output_type": "stream",
          "text": [
            "                              precision    recall  f1-score   support\n",
            "\n",
            "                Lung Opacity       0.71      0.70      0.71      4208\n",
            "No Lung Opacity / Not Normal       0.61      0.52      0.56      4208\n",
            "                      Normal       0.75      0.86      0.80      4208\n",
            "\n",
            "                    accuracy                           0.70     12624\n",
            "                   macro avg       0.69      0.70      0.69     12624\n",
            "                weighted avg       0.69      0.70      0.69     12624\n",
            "\n"
          ],
          "name": "stdout"
        },
        {
          "output_type": "display_data",
          "data": {
            "image/png": "[encoded data removed]",
            "text/plain": [
              "<Figure size 288x288 with 1 Axes>"
            ]
          },
          "metadata": {
            "tags": [],
            "needs_background": "light"
          }
        }
      ]
    },
    {
      "cell_type": "markdown",
      "metadata": {
        "id": "TIQ4xwvp66AV",
        "colab_type": "text"
      },
      "source": [
        "### ROC AUC"
      ]
    },
    {
      "cell_type": "code",
      "metadata": {
        "id": "o22yVE447piN",
        "colab_type": "code",
        "colab": {
          "base_uri": "https://localhost:8080/",
          "height": 34
        },
        "outputId": "52fb5f06-663d-4728-b33c-a5dbcaa4ee29"
      },
      "source": [
        "type(valid_Y[0])"
      ],
      "execution_count": 93,
      "outputs": [
        {
          "output_type": "execute_result",
          "data": {
            "text/plain": [
              "numpy.ndarray"
            ]
          },
          "metadata": {
            "tags": []
          },
          "execution_count": 93
        }
      ]
    },
    {
      "cell_type": "code",
      "metadata": {
        "id": "H8VR0Ow88BcZ",
        "colab_type": "code",
        "colab": {
          "base_uri": "https://localhost:8080/",
          "height": 34
        },
        "outputId": "8220a122-d2c7-425b-ef3f-d775754d4dd0"
      },
      "source": [
        "np.argmax(valid_Y,-1)==0"
      ],
      "execution_count": 105,
      "outputs": [
        {
          "output_type": "execute_result",
          "data": {
            "text/plain": [
              "array([False, False, False, ..., False, False, False])"
            ]
          },
          "metadata": {
            "tags": []
          },
          "execution_count": 105
        }
      ]
    },
    {
      "cell_type": "code",
      "metadata": {
        "id": "-j6VGtG869Q0",
        "colab_type": "code",
        "colab": {}
      },
      "source": [
        "# from sklearn.metrics import roc_curve, roc_auc_score\n",
        "# fpr, tpr, _ = roc_curve(np.argmax(valid_Y,-1)==0, pred_Y)\n",
        "# fig, ax1 = plt.subplots(1,1, figsize = (5, 5), dpi = 250)\n",
        "# ax1.plot(fpr, tpr, 'b.-', label = 'DenseNet1 (AUC:%2.2f)' % roc_auc_score(np.argmax(valid_Y,-1)==0, pred_Y))\n",
        "# ax1.plot(fpr, fpr, 'k-', label = 'Random Guessing')\n",
        "# ax1.legend(loc = 4)\n",
        "# ax1.set_xlabel('False Positive Rate')\n",
        "# ax1.set_ylabel('True Positive Rate');\n",
        "# ax1.set_title('Lung Opacity ROC Curve')"
      ],
      "execution_count": 95,
      "outputs": []
    },
    {
      "cell_type": "markdown",
      "metadata": {
        "id": "-zONHMPADYtl",
        "colab_type": "text"
      },
      "source": [
        "## Generate class prediction"
      ]
    },
    {
      "cell_type": "code",
      "metadata": {
        "id": "P2SZXxDLaQ8a",
        "colab_type": "code",
        "colab": {}
      },
      "source": [
        "pred_df = get_prediction_map(patients,pred_Y)"
      ],
      "execution_count": 129,
      "outputs": []
    },
    {
      "cell_type": "code",
      "metadata": {
        "id": "zMJC1XFXpDn0",
        "colab_type": "code",
        "colab": {
          "base_uri": "https://localhost:8080/",
          "height": 203
        },
        "outputId": "1efe7881-7b5c-4ccf-ac6c-a2bc4d68f03e"
      },
      "source": [
        "pred_df.reset_index(inplace=True)\n",
        "# pred_df.columns = ['patientId', 'PNEUMONIA', 'NOT_NORMAL', 'NORMAL']\n",
        "\n",
        "pred_df.rename(columns={'index':'patientId'},inplace=True)\n",
        "pred_df.head()"
      ],
      "execution_count": 130,
      "outputs": [
        {
          "output_type": "execute_result",
          "data": {
            "text/html": [
              "<div>\n",
              "<style scoped>\n",
              "    .dataframe tbody tr th:only-of-type {\n",
              "        vertical-align: middle;\n",
              "    }\n",
              "\n",
              "    .dataframe tbody tr th {\n",
              "        vertical-align: top;\n",
              "    }\n",
              "\n",
              "    .dataframe thead th {\n",
              "        text-align: right;\n",
              "    }\n",
              "</style>\n",
              "<table border=\"1\" class=\"dataframe\">\n",
              "  <thead>\n",
              "    <tr style=\"text-align: right;\">\n",
              "      <th></th>\n",
              "      <th>patientId</th>\n",
              "      <th>PNEUMONIA</th>\n",
              "      <th>NOT_NORMAL</th>\n",
              "      <th>NORMAL</th>\n",
              "    </tr>\n",
              "  </thead>\n",
              "  <tbody>\n",
              "    <tr>\n",
              "      <th>0</th>\n",
              "      <td>c76aa53f-ef52-41b4-827c-4fa7ccbd26e1</td>\n",
              "      <td>0.031641</td>\n",
              "      <td>0.369000</td>\n",
              "      <td>0.599359</td>\n",
              "    </tr>\n",
              "    <tr>\n",
              "      <th>1</th>\n",
              "      <td>5480fc2a-1d5b-49a8-9e66-7e8b76aef97a</td>\n",
              "      <td>0.151872</td>\n",
              "      <td>0.389743</td>\n",
              "      <td>0.458385</td>\n",
              "    </tr>\n",
              "    <tr>\n",
              "      <th>2</th>\n",
              "      <td>eefe766c-7628-48a6-be6f-f464945b06da</td>\n",
              "      <td>0.656788</td>\n",
              "      <td>0.339746</td>\n",
              "      <td>0.003466</td>\n",
              "    </tr>\n",
              "    <tr>\n",
              "      <th>3</th>\n",
              "      <td>f320d4f9-9c2b-4b13-aae5-5c9e751a2e45</td>\n",
              "      <td>0.329035</td>\n",
              "      <td>0.428885</td>\n",
              "      <td>0.242079</td>\n",
              "    </tr>\n",
              "    <tr>\n",
              "      <th>4</th>\n",
              "      <td>06e09ebb-cb5b-4c30-8d3a-67a6ec34692b</td>\n",
              "      <td>0.439853</td>\n",
              "      <td>0.382535</td>\n",
              "      <td>0.177611</td>\n",
              "    </tr>\n",
              "  </tbody>\n",
              "</table>\n",
              "</div>"
            ],
            "text/plain": [
              "                              patientId  PNEUMONIA  NOT_NORMAL    NORMAL\n",
              "0  c76aa53f-ef52-41b4-827c-4fa7ccbd26e1   0.031641    0.369000  0.599359\n",
              "1  5480fc2a-1d5b-49a8-9e66-7e8b76aef97a   0.151872    0.389743  0.458385\n",
              "2  eefe766c-7628-48a6-be6f-f464945b06da   0.656788    0.339746  0.003466\n",
              "3  f320d4f9-9c2b-4b13-aae5-5c9e751a2e45   0.329035    0.428885  0.242079\n",
              "4  06e09ebb-cb5b-4c30-8d3a-67a6ec34692b   0.439853    0.382535  0.177611"
            ]
          },
          "metadata": {
            "tags": []
          },
          "execution_count": 130
        }
      ]
    },
    {
      "cell_type": "code",
      "metadata": {
        "id": "MMCUGE0hzVYo",
        "colab_type": "code",
        "colab": {
          "base_uri": "https://localhost:8080/",
          "height": 209
        },
        "outputId": "26b083a3-0e61-4de2-9289-1311bd3d21a9"
      },
      "source": [
        "pred_df.info()"
      ],
      "execution_count": 135,
      "outputs": [
        {
          "output_type": "stream",
          "text": [
            "<class 'pandas.core.frame.DataFrame'>\n",
            "RangeIndex: 12624 entries, 0 to 12623\n",
            "Data columns (total 4 columns):\n",
            " #   Column      Non-Null Count  Dtype  \n",
            "---  ------      --------------  -----  \n",
            " 0   patientId   12624 non-null  object \n",
            " 1   PNEUMONIA   12624 non-null  float64\n",
            " 2   NOT_NORMAL  12624 non-null  float64\n",
            " 3   NORMAL      12624 non-null  float64\n",
            "dtypes: float64(3), object(1)\n",
            "memory usage: 394.6+ KB\n"
          ],
          "name": "stdout"
        }
      ]
    },
    {
      "cell_type": "code",
      "metadata": {
        "id": "B6j_akjwgRlw",
        "colab_type": "code",
        "colab": {}
      },
      "source": [
        "pred_dump_file = MODEL_NAME + '/class_prediction_299.csv'\n",
        "if (os.path.isfile(pred_dump_file)):\n",
        "  os.remove(pred_dump_file)"
      ],
      "execution_count": 132,
      "outputs": []
    },
    {
      "cell_type": "code",
      "metadata": {
        "id": "YeZC3ixOprbZ",
        "colab_type": "code",
        "colab": {}
      },
      "source": [
        "#Dump the prediction as it is very time consuming task.\n",
        "\n",
        "import pandas as pd\n",
        "\n",
        "if (os.path.isfile(pred_dump_file)):\n",
        "  global pred_df\n",
        "  pred_df = pd.read_csv(pred_dump_file)\n",
        "else:\n",
        "  pred_df.to_csv(pred_dump_file)"
      ],
      "execution_count": 133,
      "outputs": []
    },
    {
      "cell_type": "code",
      "metadata": {
        "id": "6V8cufe4N338",
        "colab_type": "code",
        "colab": {}
      },
      "source": [
        "# pred_df.drop(pred_df.columns[0],inplace=True,axis=1)"
      ],
      "execution_count": 134,
      "outputs": []
    },
    {
      "cell_type": "code",
      "metadata": {
        "id": "k95nunBlcS4v",
        "colab_type": "code",
        "colab": {
          "base_uri": "https://localhost:8080/",
          "height": 203
        },
        "outputId": "dce0dad0-095c-42d0-fc3d-3d3807478072"
      },
      "source": [
        "merged_pred_meta_df = get_pred_merged_meta_data(pred_df,full_df)\n",
        "merged_pred_meta_df.head()"
      ],
      "execution_count": 136,
      "outputs": [
        {
          "output_type": "execute_result",
          "data": {
            "text/html": [
              "<div>\n",
              "<style scoped>\n",
              "    .dataframe tbody tr th:only-of-type {\n",
              "        vertical-align: middle;\n",
              "    }\n",
              "\n",
              "    .dataframe tbody tr th {\n",
              "        vertical-align: top;\n",
              "    }\n",
              "\n",
              "    .dataframe thead th {\n",
              "        text-align: right;\n",
              "    }\n",
              "</style>\n",
              "<table border=\"1\" class=\"dataframe\">\n",
              "  <thead>\n",
              "    <tr style=\"text-align: right;\">\n",
              "      <th></th>\n",
              "      <th>PNEUMONIA</th>\n",
              "      <th>NOT_NORMAL</th>\n",
              "      <th>NORMAL</th>\n",
              "      <th>PatientAge</th>\n",
              "      <th>PatientSex</th>\n",
              "      <th>ViewPosition</th>\n",
              "      <th>Target</th>\n",
              "    </tr>\n",
              "  </thead>\n",
              "  <tbody>\n",
              "    <tr>\n",
              "      <th>c76aa53f-ef52-41b4-827c-4fa7ccbd26e1</th>\n",
              "      <td>0.031641</td>\n",
              "      <td>0.369000</td>\n",
              "      <td>0.599359</td>\n",
              "      <td>85.0</td>\n",
              "      <td>1.0</td>\n",
              "      <td>0.0</td>\n",
              "      <td>0.0</td>\n",
              "    </tr>\n",
              "    <tr>\n",
              "      <th>5480fc2a-1d5b-49a8-9e66-7e8b76aef97a</th>\n",
              "      <td>0.151872</td>\n",
              "      <td>0.389743</td>\n",
              "      <td>0.458385</td>\n",
              "      <td>43.0</td>\n",
              "      <td>0.0</td>\n",
              "      <td>1.0</td>\n",
              "      <td>0.0</td>\n",
              "    </tr>\n",
              "    <tr>\n",
              "      <th>eefe766c-7628-48a6-be6f-f464945b06da</th>\n",
              "      <td>0.656788</td>\n",
              "      <td>0.339746</td>\n",
              "      <td>0.003466</td>\n",
              "      <td>30.0</td>\n",
              "      <td>1.0</td>\n",
              "      <td>1.0</td>\n",
              "      <td>0.0</td>\n",
              "    </tr>\n",
              "    <tr>\n",
              "      <th>f320d4f9-9c2b-4b13-aae5-5c9e751a2e45</th>\n",
              "      <td>0.329035</td>\n",
              "      <td>0.428885</td>\n",
              "      <td>0.242079</td>\n",
              "      <td>52.0</td>\n",
              "      <td>0.0</td>\n",
              "      <td>0.0</td>\n",
              "      <td>0.0</td>\n",
              "    </tr>\n",
              "    <tr>\n",
              "      <th>06e09ebb-cb5b-4c30-8d3a-67a6ec34692b</th>\n",
              "      <td>0.439853</td>\n",
              "      <td>0.382535</td>\n",
              "      <td>0.177611</td>\n",
              "      <td>46.0</td>\n",
              "      <td>1.0</td>\n",
              "      <td>1.0</td>\n",
              "      <td>1.0</td>\n",
              "    </tr>\n",
              "  </tbody>\n",
              "</table>\n",
              "</div>"
            ],
            "text/plain": [
              "                                      PNEUMONIA  ...  Target\n",
              "c76aa53f-ef52-41b4-827c-4fa7ccbd26e1   0.031641  ...     0.0\n",
              "5480fc2a-1d5b-49a8-9e66-7e8b76aef97a   0.151872  ...     0.0\n",
              "eefe766c-7628-48a6-be6f-f464945b06da   0.656788  ...     0.0\n",
              "f320d4f9-9c2b-4b13-aae5-5c9e751a2e45   0.329035  ...     0.0\n",
              "06e09ebb-cb5b-4c30-8d3a-67a6ec34692b   0.439853  ...     1.0\n",
              "\n",
              "[5 rows x 7 columns]"
            ]
          },
          "metadata": {
            "tags": []
          },
          "execution_count": 136
        }
      ]
    },
    {
      "cell_type": "code",
      "metadata": {
        "id": "M0rL6YAEgeXp",
        "colab_type": "code",
        "colab": {
          "base_uri": "https://localhost:8080/",
          "height": 203
        },
        "outputId": "52e13d14-052e-467e-ff70-b2d3488a7b87"
      },
      "source": [
        "merged_pred_meta_df.reset_index(inplace=True)\n",
        "merged_pred_meta_df.rename(columns={'index':'patientId'},inplace=True)\n",
        "merged_pred_meta_df.head()"
      ],
      "execution_count": 137,
      "outputs": [
        {
          "output_type": "execute_result",
          "data": {
            "text/html": [
              "<div>\n",
              "<style scoped>\n",
              "    .dataframe tbody tr th:only-of-type {\n",
              "        vertical-align: middle;\n",
              "    }\n",
              "\n",
              "    .dataframe tbody tr th {\n",
              "        vertical-align: top;\n",
              "    }\n",
              "\n",
              "    .dataframe thead th {\n",
              "        text-align: right;\n",
              "    }\n",
              "</style>\n",
              "<table border=\"1\" class=\"dataframe\">\n",
              "  <thead>\n",
              "    <tr style=\"text-align: right;\">\n",
              "      <th></th>\n",
              "      <th>patientId</th>\n",
              "      <th>PNEUMONIA</th>\n",
              "      <th>NOT_NORMAL</th>\n",
              "      <th>NORMAL</th>\n",
              "      <th>PatientAge</th>\n",
              "      <th>PatientSex</th>\n",
              "      <th>ViewPosition</th>\n",
              "      <th>Target</th>\n",
              "    </tr>\n",
              "  </thead>\n",
              "  <tbody>\n",
              "    <tr>\n",
              "      <th>0</th>\n",
              "      <td>c76aa53f-ef52-41b4-827c-4fa7ccbd26e1</td>\n",
              "      <td>0.031641</td>\n",
              "      <td>0.369000</td>\n",
              "      <td>0.599359</td>\n",
              "      <td>85.0</td>\n",
              "      <td>1.0</td>\n",
              "      <td>0.0</td>\n",
              "      <td>0.0</td>\n",
              "    </tr>\n",
              "    <tr>\n",
              "      <th>1</th>\n",
              "      <td>5480fc2a-1d5b-49a8-9e66-7e8b76aef97a</td>\n",
              "      <td>0.151872</td>\n",
              "      <td>0.389743</td>\n",
              "      <td>0.458385</td>\n",
              "      <td>43.0</td>\n",
              "      <td>0.0</td>\n",
              "      <td>1.0</td>\n",
              "      <td>0.0</td>\n",
              "    </tr>\n",
              "    <tr>\n",
              "      <th>2</th>\n",
              "      <td>eefe766c-7628-48a6-be6f-f464945b06da</td>\n",
              "      <td>0.656788</td>\n",
              "      <td>0.339746</td>\n",
              "      <td>0.003466</td>\n",
              "      <td>30.0</td>\n",
              "      <td>1.0</td>\n",
              "      <td>1.0</td>\n",
              "      <td>0.0</td>\n",
              "    </tr>\n",
              "    <tr>\n",
              "      <th>3</th>\n",
              "      <td>f320d4f9-9c2b-4b13-aae5-5c9e751a2e45</td>\n",
              "      <td>0.329035</td>\n",
              "      <td>0.428885</td>\n",
              "      <td>0.242079</td>\n",
              "      <td>52.0</td>\n",
              "      <td>0.0</td>\n",
              "      <td>0.0</td>\n",
              "      <td>0.0</td>\n",
              "    </tr>\n",
              "    <tr>\n",
              "      <th>4</th>\n",
              "      <td>06e09ebb-cb5b-4c30-8d3a-67a6ec34692b</td>\n",
              "      <td>0.439853</td>\n",
              "      <td>0.382535</td>\n",
              "      <td>0.177611</td>\n",
              "      <td>46.0</td>\n",
              "      <td>1.0</td>\n",
              "      <td>1.0</td>\n",
              "      <td>1.0</td>\n",
              "    </tr>\n",
              "  </tbody>\n",
              "</table>\n",
              "</div>"
            ],
            "text/plain": [
              "                              patientId  PNEUMONIA  ...  ViewPosition  Target\n",
              "0  c76aa53f-ef52-41b4-827c-4fa7ccbd26e1   0.031641  ...           0.0     0.0\n",
              "1  5480fc2a-1d5b-49a8-9e66-7e8b76aef97a   0.151872  ...           1.0     0.0\n",
              "2  eefe766c-7628-48a6-be6f-f464945b06da   0.656788  ...           1.0     0.0\n",
              "3  f320d4f9-9c2b-4b13-aae5-5c9e751a2e45   0.329035  ...           0.0     0.0\n",
              "4  06e09ebb-cb5b-4c30-8d3a-67a6ec34692b   0.439853  ...           1.0     1.0\n",
              "\n",
              "[5 rows x 8 columns]"
            ]
          },
          "metadata": {
            "tags": []
          },
          "execution_count": 137
        }
      ]
    },
    {
      "cell_type": "code",
      "metadata": {
        "id": "i7adCsuzghyL",
        "colab_type": "code",
        "colab": {
          "base_uri": "https://localhost:8080/",
          "height": 203
        },
        "outputId": "58ec51ba-056b-4ab6-91b9-89dccf4eff1e"
      },
      "source": [
        "merged_pred_meta_df[merged_pred_meta_df.Target==1].sample(5)"
      ],
      "execution_count": 138,
      "outputs": [
        {
          "output_type": "execute_result",
          "data": {
            "text/html": [
              "<div>\n",
              "<style scoped>\n",
              "    .dataframe tbody tr th:only-of-type {\n",
              "        vertical-align: middle;\n",
              "    }\n",
              "\n",
              "    .dataframe tbody tr th {\n",
              "        vertical-align: top;\n",
              "    }\n",
              "\n",
              "    .dataframe thead th {\n",
              "        text-align: right;\n",
              "    }\n",
              "</style>\n",
              "<table border=\"1\" class=\"dataframe\">\n",
              "  <thead>\n",
              "    <tr style=\"text-align: right;\">\n",
              "      <th></th>\n",
              "      <th>patientId</th>\n",
              "      <th>PNEUMONIA</th>\n",
              "      <th>NOT_NORMAL</th>\n",
              "      <th>NORMAL</th>\n",
              "      <th>PatientAge</th>\n",
              "      <th>PatientSex</th>\n",
              "      <th>ViewPosition</th>\n",
              "      <th>Target</th>\n",
              "    </tr>\n",
              "  </thead>\n",
              "  <tbody>\n",
              "    <tr>\n",
              "      <th>3152</th>\n",
              "      <td>3bd214a7-b62f-4e31-93c5-9cea5c2a8a30</td>\n",
              "      <td>0.585179</td>\n",
              "      <td>0.376441</td>\n",
              "      <td>0.038380</td>\n",
              "      <td>62.0</td>\n",
              "      <td>1.0</td>\n",
              "      <td>0.0</td>\n",
              "      <td>1.0</td>\n",
              "    </tr>\n",
              "    <tr>\n",
              "      <th>7508</th>\n",
              "      <td>bab8d182-b9fe-4db9-88b5-042153c4406e</td>\n",
              "      <td>0.739154</td>\n",
              "      <td>0.258293</td>\n",
              "      <td>0.002553</td>\n",
              "      <td>71.0</td>\n",
              "      <td>1.0</td>\n",
              "      <td>1.0</td>\n",
              "      <td>1.0</td>\n",
              "    </tr>\n",
              "    <tr>\n",
              "      <th>12452</th>\n",
              "      <td>084aa98a-91aa-45d8-aa52-4fad8344b0bf</td>\n",
              "      <td>0.601360</td>\n",
              "      <td>0.370153</td>\n",
              "      <td>0.028487</td>\n",
              "      <td>37.0</td>\n",
              "      <td>0.0</td>\n",
              "      <td>1.0</td>\n",
              "      <td>1.0</td>\n",
              "    </tr>\n",
              "    <tr>\n",
              "      <th>6859</th>\n",
              "      <td>16939adb-3468-4e45-9b87-0ec9a8b0f2ea</td>\n",
              "      <td>0.853694</td>\n",
              "      <td>0.142353</td>\n",
              "      <td>0.003953</td>\n",
              "      <td>20.0</td>\n",
              "      <td>1.0</td>\n",
              "      <td>0.0</td>\n",
              "      <td>1.0</td>\n",
              "    </tr>\n",
              "    <tr>\n",
              "      <th>10107</th>\n",
              "      <td>f1ba9810-861e-4ffc-8fbf-242d5da8e80d</td>\n",
              "      <td>0.975462</td>\n",
              "      <td>0.024532</td>\n",
              "      <td>0.000006</td>\n",
              "      <td>28.0</td>\n",
              "      <td>1.0</td>\n",
              "      <td>1.0</td>\n",
              "      <td>1.0</td>\n",
              "    </tr>\n",
              "  </tbody>\n",
              "</table>\n",
              "</div>"
            ],
            "text/plain": [
              "                                  patientId  PNEUMONIA  ...  ViewPosition  Target\n",
              "3152   3bd214a7-b62f-4e31-93c5-9cea5c2a8a30   0.585179  ...           0.0     1.0\n",
              "7508   bab8d182-b9fe-4db9-88b5-042153c4406e   0.739154  ...           1.0     1.0\n",
              "12452  084aa98a-91aa-45d8-aa52-4fad8344b0bf   0.601360  ...           1.0     1.0\n",
              "6859   16939adb-3468-4e45-9b87-0ec9a8b0f2ea   0.853694  ...           0.0     1.0\n",
              "10107  f1ba9810-861e-4ffc-8fbf-242d5da8e80d   0.975462  ...           1.0     1.0\n",
              "\n",
              "[5 rows x 8 columns]"
            ]
          },
          "metadata": {
            "tags": []
          },
          "execution_count": 138
        }
      ]
    },
    {
      "cell_type": "code",
      "metadata": {
        "id": "8fS3QANFgkz_",
        "colab_type": "code",
        "colab": {
          "base_uri": "https://localhost:8080/",
          "height": 248
        },
        "outputId": "4e7e638d-09bd-469d-a639-58287d1b9411"
      },
      "source": [
        "import matplotlib.pyplot as plt\n",
        "import numpy as np\n",
        "unique_values, count = np.unique(merged_pred_meta_df['Target'], return_counts=True)\n",
        "\n",
        "plt.pie(count, labels = ['0-No Pneumonia', '1-Pneumonia'],\n",
        "          autopct='%1.1f%%', startangle=90)\n",
        "plt.show()\n",
        "#Need to balance the data here."
      ],
      "execution_count": 139,
      "outputs": [
        {
          "output_type": "display_data",
          "data": {
            "image/png": "[encoded data removed]",
            "text/plain": [
              "<Figure size 432x288 with 1 Axes>"
            ]
          },
          "metadata": {
            "tags": []
          }
        }
      ]
    },
    {
      "cell_type": "code",
      "metadata": {
        "id": "5FJd_jgMgriX",
        "colab_type": "code",
        "colab": {}
      },
      "source": [
        "#Split the data into train & valid\n",
        "y = merged_pred_meta_df['Target'].to_numpy()\n",
        "X = merged_pred_meta_df[merged_pred_meta_df.columns[1:7]]"
      ],
      "execution_count": 140,
      "outputs": []
    },
    {
      "cell_type": "code",
      "metadata": {
        "id": "F-JzQDWZgse_",
        "colab_type": "code",
        "colab": {
          "base_uri": "https://localhost:8080/",
          "height": 203
        },
        "outputId": "cbee24ba-9033-4204-cd77-3686656b46ca"
      },
      "source": [
        "X.head()"
      ],
      "execution_count": 141,
      "outputs": [
        {
          "output_type": "execute_result",
          "data": {
            "text/html": [
              "<div>\n",
              "<style scoped>\n",
              "    .dataframe tbody tr th:only-of-type {\n",
              "        vertical-align: middle;\n",
              "    }\n",
              "\n",
              "    .dataframe tbody tr th {\n",
              "        vertical-align: top;\n",
              "    }\n",
              "\n",
              "    .dataframe thead th {\n",
              "        text-align: right;\n",
              "    }\n",
              "</style>\n",
              "<table border=\"1\" class=\"dataframe\">\n",
              "  <thead>\n",
              "    <tr style=\"text-align: right;\">\n",
              "      <th></th>\n",
              "      <th>PNEUMONIA</th>\n",
              "      <th>NOT_NORMAL</th>\n",
              "      <th>NORMAL</th>\n",
              "      <th>PatientAge</th>\n",
              "      <th>PatientSex</th>\n",
              "      <th>ViewPosition</th>\n",
              "    </tr>\n",
              "  </thead>\n",
              "  <tbody>\n",
              "    <tr>\n",
              "      <th>0</th>\n",
              "      <td>0.031641</td>\n",
              "      <td>0.369000</td>\n",
              "      <td>0.599359</td>\n",
              "      <td>85.0</td>\n",
              "      <td>1.0</td>\n",
              "      <td>0.0</td>\n",
              "    </tr>\n",
              "    <tr>\n",
              "      <th>1</th>\n",
              "      <td>0.151872</td>\n",
              "      <td>0.389743</td>\n",
              "      <td>0.458385</td>\n",
              "      <td>43.0</td>\n",
              "      <td>0.0</td>\n",
              "      <td>1.0</td>\n",
              "    </tr>\n",
              "    <tr>\n",
              "      <th>2</th>\n",
              "      <td>0.656788</td>\n",
              "      <td>0.339746</td>\n",
              "      <td>0.003466</td>\n",
              "      <td>30.0</td>\n",
              "      <td>1.0</td>\n",
              "      <td>1.0</td>\n",
              "    </tr>\n",
              "    <tr>\n",
              "      <th>3</th>\n",
              "      <td>0.329035</td>\n",
              "      <td>0.428885</td>\n",
              "      <td>0.242079</td>\n",
              "      <td>52.0</td>\n",
              "      <td>0.0</td>\n",
              "      <td>0.0</td>\n",
              "    </tr>\n",
              "    <tr>\n",
              "      <th>4</th>\n",
              "      <td>0.439853</td>\n",
              "      <td>0.382535</td>\n",
              "      <td>0.177611</td>\n",
              "      <td>46.0</td>\n",
              "      <td>1.0</td>\n",
              "      <td>1.0</td>\n",
              "    </tr>\n",
              "  </tbody>\n",
              "</table>\n",
              "</div>"
            ],
            "text/plain": [
              "   PNEUMONIA  NOT_NORMAL    NORMAL  PatientAge  PatientSex  ViewPosition\n",
              "0   0.031641    0.369000  0.599359        85.0         1.0           0.0\n",
              "1   0.151872    0.389743  0.458385        43.0         0.0           1.0\n",
              "2   0.656788    0.339746  0.003466        30.0         1.0           1.0\n",
              "3   0.329035    0.428885  0.242079        52.0         0.0           0.0\n",
              "4   0.439853    0.382535  0.177611        46.0         1.0           1.0"
            ]
          },
          "metadata": {
            "tags": []
          },
          "execution_count": 141
        }
      ]
    },
    {
      "cell_type": "code",
      "metadata": {
        "id": "A6tMdhPygxWY",
        "colab_type": "code",
        "colab": {}
      },
      "source": [
        "from sklearn.model_selection import train_test_split\n",
        "X_train, X_test, y_train, y_test = train_test_split(X, y, test_size=0.10, random_state=42)"
      ],
      "execution_count": 142,
      "outputs": []
    },
    {
      "cell_type": "markdown",
      "metadata": {
        "id": "eijJdoREf0m1",
        "colab_type": "text"
      },
      "source": [
        "## FFNN model"
      ]
    },
    {
      "cell_type": "code",
      "metadata": {
        "id": "8toeJToDg4Fn",
        "colab_type": "code",
        "colab": {}
      },
      "source": [
        "#Build neural netwrok\n",
        "\n",
        "from tensorflow.keras.layers import  Reshape\n",
        "def add_layer(model):\n",
        "  kinit ='he_normal' #tf.keras.initializers.he_normal()\n",
        "  actv = 'relu' #activation.relu\n",
        "  # model.add(Reshape((6,),input_shape=(32,32,)))\n",
        "  # #Add batch normalization to avoid NAN in training loss\n",
        "  # model.add(kl.normalization.BatchNormalization())\n",
        "  #Add input layer -- \n",
        "  model.add(Dense(6,input_dim= 6,activation=actv,kernel_initializer=kinit))\n",
        "  model.add(BatchNormalization())\n",
        "  #How many hidden layer? No clear rule, trial & error? Literature says, it 3 hidden layer sufficient\n",
        "  #Add hidden layer -1\n",
        "  model.add(Dense(16,activation=actv,kernel_initializer=kinit))\n",
        "  model.add(BatchNormalization())\n",
        "  #Add hidden layer -2\n",
        "  model.add(Dense(8,activation=actv,kernel_initializer=kinit))\n",
        "  model.add(BatchNormalization())\n",
        "  #Add hidden layer -3\n",
        "  model.add(Dense(4,activation=actv,kernel_initializer=kinit))\n",
        "  model.add(BatchNormalization())\n",
        "\n",
        "\n",
        "  #Add output layer -- number of output neoron 1(as the number of output is 10)\n",
        "  #Add hidden layer -1\n",
        "  model.add(Dense(1,activation='sigmoid',kernel_initializer=kinit))\n",
        "  \n",
        "nn_model = Sequential()\n",
        "add_layer(nn_model)"
      ],
      "execution_count": 143,
      "outputs": []
    },
    {
      "cell_type": "code",
      "metadata": {
        "id": "-Y4QjrKJg5GX",
        "colab_type": "code",
        "colab": {
          "base_uri": "https://localhost:8080/",
          "height": 1000
        },
        "outputId": "385f9d8f-abc7-4f84-9f0e-b8d1f2f03a80"
      },
      "source": [
        "def fit_model(opt,model,epoch=60,verbo=1,batchsize=128):\n",
        "  model.compile(optimizer = opt, loss = 'binary_crossentropy', metrics = ['accuracy'])\n",
        "  history = model.fit(X_train, y_train, validation_data=(X_test,y_test),batch_size=batchsize, epochs=epoch, verbose=verbo)\n",
        "  return history\n",
        "opt = Adam(lr = LEARN_RATE)\n",
        "history = fit_model(opt,nn_model)"
      ],
      "execution_count": 144,
      "outputs": [
        {
          "output_type": "stream",
          "text": [
            "Epoch 1/60\n",
            "89/89 [==============================] - 1s 7ms/step - loss: 0.9872 - accuracy: 0.5448 - val_loss: 0.8964 - val_accuracy: 0.5748\n",
            "Epoch 2/60\n",
            "89/89 [==============================] - 0s 5ms/step - loss: 0.9340 - accuracy: 0.5573 - val_loss: 0.7953 - val_accuracy: 0.5424\n",
            "Epoch 3/60\n",
            "89/89 [==============================] - 0s 5ms/step - loss: 0.8938 - accuracy: 0.5738 - val_loss: 0.7956 - val_accuracy: 0.5661\n",
            "Epoch 4/60\n",
            "89/89 [==============================] - 0s 5ms/step - loss: 0.8533 - accuracy: 0.5829 - val_loss: 0.7788 - val_accuracy: 0.5764\n",
            "Epoch 5/60\n",
            "89/89 [==============================] - 0s 5ms/step - loss: 0.8157 - accuracy: 0.5904 - val_loss: 0.7551 - val_accuracy: 0.5740\n",
            "Epoch 6/60\n",
            "89/89 [==============================] - 0s 5ms/step - loss: 0.7761 - accuracy: 0.5946 - val_loss: 0.7377 - val_accuracy: 0.5669\n",
            "Epoch 7/60\n",
            "89/89 [==============================] - 0s 5ms/step - loss: 0.7347 - accuracy: 0.5926 - val_loss: 0.7309 - val_accuracy: 0.5645\n",
            "Epoch 8/60\n",
            "89/89 [==============================] - 0s 5ms/step - loss: 0.7019 - accuracy: 0.5948 - val_loss: 0.7181 - val_accuracy: 0.5566\n",
            "Epoch 9/60\n",
            "89/89 [==============================] - 0s 5ms/step - loss: 0.6743 - accuracy: 0.5995 - val_loss: 0.6954 - val_accuracy: 0.5558\n",
            "Epoch 10/60\n",
            "89/89 [==============================] - 0s 5ms/step - loss: 0.6560 - accuracy: 0.6080 - val_loss: 0.6705 - val_accuracy: 0.5875\n",
            "Epoch 11/60\n",
            "89/89 [==============================] - 0s 5ms/step - loss: 0.6389 - accuracy: 0.6237 - val_loss: 0.6455 - val_accuracy: 0.6065\n",
            "Epoch 12/60\n",
            "89/89 [==============================] - 0s 5ms/step - loss: 0.6281 - accuracy: 0.6367 - val_loss: 0.6312 - val_accuracy: 0.6342\n",
            "Epoch 13/60\n",
            "89/89 [==============================] - 0s 5ms/step - loss: 0.6142 - accuracy: 0.6504 - val_loss: 0.6166 - val_accuracy: 0.6532\n",
            "Epoch 14/60\n",
            "89/89 [==============================] - 0s 5ms/step - loss: 0.6082 - accuracy: 0.6645 - val_loss: 0.6055 - val_accuracy: 0.6635\n",
            "Epoch 15/60\n",
            "89/89 [==============================] - 0s 5ms/step - loss: 0.5996 - accuracy: 0.6751 - val_loss: 0.5928 - val_accuracy: 0.6793\n",
            "Epoch 16/60\n",
            "89/89 [==============================] - 0s 5ms/step - loss: 0.5948 - accuracy: 0.6835 - val_loss: 0.5859 - val_accuracy: 0.6952\n",
            "Epoch 17/60\n",
            "89/89 [==============================] - 0s 5ms/step - loss: 0.5850 - accuracy: 0.6930 - val_loss: 0.5792 - val_accuracy: 0.7086\n",
            "Epoch 18/60\n",
            "89/89 [==============================] - 0s 5ms/step - loss: 0.5799 - accuracy: 0.7010 - val_loss: 0.5721 - val_accuracy: 0.7150\n",
            "Epoch 19/60\n",
            "89/89 [==============================] - 0s 5ms/step - loss: 0.5748 - accuracy: 0.7111 - val_loss: 0.5660 - val_accuracy: 0.7260\n",
            "Epoch 20/60\n",
            "89/89 [==============================] - 0s 5ms/step - loss: 0.5667 - accuracy: 0.7201 - val_loss: 0.5559 - val_accuracy: 0.7260\n",
            "Epoch 21/60\n",
            "89/89 [==============================] - 0s 5ms/step - loss: 0.5611 - accuracy: 0.7291 - val_loss: 0.5508 - val_accuracy: 0.7308\n",
            "Epoch 22/60\n",
            "89/89 [==============================] - 0s 5ms/step - loss: 0.5529 - accuracy: 0.7374 - val_loss: 0.5451 - val_accuracy: 0.7308\n",
            "Epoch 23/60\n",
            "89/89 [==============================] - 0s 5ms/step - loss: 0.5454 - accuracy: 0.7466 - val_loss: 0.5376 - val_accuracy: 0.7356\n",
            "Epoch 24/60\n",
            "89/89 [==============================] - 0s 5ms/step - loss: 0.5378 - accuracy: 0.7571 - val_loss: 0.5383 - val_accuracy: 0.7395\n",
            "Epoch 25/60\n",
            "89/89 [==============================] - 0s 5ms/step - loss: 0.5309 - accuracy: 0.7652 - val_loss: 0.5402 - val_accuracy: 0.7411\n",
            "Epoch 26/60\n",
            "89/89 [==============================] - 0s 5ms/step - loss: 0.5235 - accuracy: 0.7675 - val_loss: 0.5415 - val_accuracy: 0.7435\n",
            "Epoch 27/60\n",
            "89/89 [==============================] - 0s 5ms/step - loss: 0.5178 - accuracy: 0.7704 - val_loss: 0.5361 - val_accuracy: 0.7490\n",
            "Epoch 28/60\n",
            "89/89 [==============================] - 0s 5ms/step - loss: 0.5081 - accuracy: 0.7825 - val_loss: 0.5243 - val_accuracy: 0.7561\n",
            "Epoch 29/60\n",
            "89/89 [==============================] - 0s 5ms/step - loss: 0.5025 - accuracy: 0.7856 - val_loss: 0.5066 - val_accuracy: 0.7743\n",
            "Epoch 30/60\n",
            "89/89 [==============================] - 0s 5ms/step - loss: 0.4947 - accuracy: 0.7814 - val_loss: 0.4930 - val_accuracy: 0.7878\n",
            "Epoch 31/60\n",
            "89/89 [==============================] - 0s 5ms/step - loss: 0.4919 - accuracy: 0.7864 - val_loss: 0.4774 - val_accuracy: 0.8013\n",
            "Epoch 32/60\n",
            "89/89 [==============================] - 0s 5ms/step - loss: 0.4885 - accuracy: 0.7852 - val_loss: 0.4705 - val_accuracy: 0.8076\n",
            "Epoch 33/60\n",
            "89/89 [==============================] - 0s 5ms/step - loss: 0.4848 - accuracy: 0.7885 - val_loss: 0.4649 - val_accuracy: 0.8131\n",
            "Epoch 34/60\n",
            "89/89 [==============================] - 0s 5ms/step - loss: 0.4817 - accuracy: 0.7945 - val_loss: 0.4635 - val_accuracy: 0.8131\n",
            "Epoch 35/60\n",
            "89/89 [==============================] - 0s 5ms/step - loss: 0.4797 - accuracy: 0.7904 - val_loss: 0.4578 - val_accuracy: 0.8124\n",
            "Epoch 36/60\n",
            "89/89 [==============================] - 0s 5ms/step - loss: 0.4784 - accuracy: 0.7923 - val_loss: 0.4625 - val_accuracy: 0.8100\n",
            "Epoch 37/60\n",
            "89/89 [==============================] - 0s 5ms/step - loss: 0.4780 - accuracy: 0.7933 - val_loss: 0.4568 - val_accuracy: 0.8116\n",
            "Epoch 38/60\n",
            "89/89 [==============================] - 0s 5ms/step - loss: 0.4732 - accuracy: 0.7924 - val_loss: 0.4514 - val_accuracy: 0.8131\n",
            "Epoch 39/60\n",
            "89/89 [==============================] - 0s 5ms/step - loss: 0.4742 - accuracy: 0.7907 - val_loss: 0.4517 - val_accuracy: 0.8131\n",
            "Epoch 40/60\n",
            "89/89 [==============================] - 0s 5ms/step - loss: 0.4728 - accuracy: 0.7922 - val_loss: 0.4514 - val_accuracy: 0.8108\n",
            "Epoch 41/60\n",
            "89/89 [==============================] - 0s 5ms/step - loss: 0.4714 - accuracy: 0.7946 - val_loss: 0.4490 - val_accuracy: 0.8131\n",
            "Epoch 42/60\n",
            "89/89 [==============================] - 0s 5ms/step - loss: 0.4719 - accuracy: 0.7942 - val_loss: 0.4450 - val_accuracy: 0.8124\n",
            "Epoch 43/60\n",
            "89/89 [==============================] - 0s 5ms/step - loss: 0.4712 - accuracy: 0.7915 - val_loss: 0.4443 - val_accuracy: 0.8179\n",
            "Epoch 44/60\n",
            "89/89 [==============================] - 0s 5ms/step - loss: 0.4691 - accuracy: 0.7924 - val_loss: 0.4447 - val_accuracy: 0.8100\n",
            "Epoch 45/60\n",
            "89/89 [==============================] - 0s 5ms/step - loss: 0.4688 - accuracy: 0.7926 - val_loss: 0.4446 - val_accuracy: 0.8163\n",
            "Epoch 46/60\n",
            "89/89 [==============================] - 0s 5ms/step - loss: 0.4665 - accuracy: 0.7939 - val_loss: 0.4461 - val_accuracy: 0.8100\n",
            "Epoch 47/60\n",
            "89/89 [==============================] - 0s 5ms/step - loss: 0.4695 - accuracy: 0.7928 - val_loss: 0.4414 - val_accuracy: 0.8131\n",
            "Epoch 48/60\n",
            "89/89 [==============================] - 0s 5ms/step - loss: 0.4657 - accuracy: 0.7919 - val_loss: 0.4421 - val_accuracy: 0.8092\n",
            "Epoch 49/60\n",
            "89/89 [==============================] - 0s 5ms/step - loss: 0.4664 - accuracy: 0.7939 - val_loss: 0.4414 - val_accuracy: 0.8108\n",
            "Epoch 50/60\n",
            "89/89 [==============================] - 0s 5ms/step - loss: 0.4643 - accuracy: 0.7943 - val_loss: 0.4416 - val_accuracy: 0.8084\n",
            "Epoch 51/60\n",
            "89/89 [==============================] - 0s 5ms/step - loss: 0.4632 - accuracy: 0.7928 - val_loss: 0.4394 - val_accuracy: 0.8155\n",
            "Epoch 52/60\n",
            "89/89 [==============================] - 0s 5ms/step - loss: 0.4629 - accuracy: 0.7922 - val_loss: 0.4393 - val_accuracy: 0.8116\n",
            "Epoch 53/60\n",
            "89/89 [==============================] - 0s 5ms/step - loss: 0.4593 - accuracy: 0.7959 - val_loss: 0.4395 - val_accuracy: 0.8092\n",
            "Epoch 54/60\n",
            "89/89 [==============================] - 0s 5ms/step - loss: 0.4608 - accuracy: 0.7931 - val_loss: 0.4372 - val_accuracy: 0.8100\n",
            "Epoch 55/60\n",
            "89/89 [==============================] - 0s 5ms/step - loss: 0.4615 - accuracy: 0.7908 - val_loss: 0.4342 - val_accuracy: 0.8155\n",
            "Epoch 56/60\n",
            "89/89 [==============================] - 0s 5ms/step - loss: 0.4605 - accuracy: 0.7936 - val_loss: 0.4353 - val_accuracy: 0.8124\n",
            "Epoch 57/60\n",
            "89/89 [==============================] - 0s 5ms/step - loss: 0.4615 - accuracy: 0.7928 - val_loss: 0.4336 - val_accuracy: 0.8131\n",
            "Epoch 58/60\n",
            "89/89 [==============================] - 0s 5ms/step - loss: 0.4592 - accuracy: 0.7955 - val_loss: 0.4319 - val_accuracy: 0.8139\n",
            "Epoch 59/60\n",
            "89/89 [==============================] - 0s 5ms/step - loss: 0.4569 - accuracy: 0.7949 - val_loss: 0.4321 - val_accuracy: 0.8147\n",
            "Epoch 60/60\n",
            "89/89 [==============================] - 0s 5ms/step - loss: 0.4557 - accuracy: 0.7949 - val_loss: 0.4321 - val_accuracy: 0.8147\n"
          ],
          "name": "stdout"
        }
      ]
    },
    {
      "cell_type": "code",
      "metadata": {
        "id": "Xt0uxoAqh4g1",
        "colab_type": "code",
        "colab": {}
      },
      "source": [
        "HISTORY_FILE = MODEL_NAME+\"/\" +\"history_FFNN.csv\"\n",
        "his_ffnn = saveHistory(history,HISTORY_FILE)"
      ],
      "execution_count": 145,
      "outputs": []
    },
    {
      "cell_type": "markdown",
      "metadata": {
        "id": "nQILEwofEBon",
        "colab_type": "text"
      },
      "source": [
        "## Classification Performance(Recall)"
      ]
    },
    {
      "cell_type": "code",
      "metadata": {
        "id": "wtzHlRxbhdLw",
        "colab_type": "code",
        "colab": {
          "base_uri": "https://localhost:8080/",
          "height": 374
        },
        "outputId": "c0150cb4-a56c-4b56-93c7-19aa167aff5a"
      },
      "source": [
        "plot_his(his_ffnn,'accuracy')"
      ],
      "execution_count": 146,
      "outputs": [
        {
          "output_type": "display_data",
          "data": {
            "image/png": "[encoded data removed]",
            "text/plain": [
              "<Figure size 1080x432 with 2 Axes>"
            ]
          },
          "metadata": {
            "tags": [],
            "needs_background": "light"
          }
        }
      ]
    },
    {
      "cell_type": "code",
      "metadata": {
        "id": "_r7pfll_hASO",
        "colab_type": "code",
        "colab": {}
      },
      "source": [
        "pred_y = nn_model.predict(X_test)"
      ],
      "execution_count": 147,
      "outputs": []
    },
    {
      "cell_type": "code",
      "metadata": {
        "id": "s1lp1ZDgPJHO",
        "colab_type": "code",
        "colab": {
          "base_uri": "https://localhost:8080/",
          "height": 139
        },
        "outputId": "4d992983-e9c1-4af3-9114-284982ba3348"
      },
      "source": [
        "pred_y"
      ],
      "execution_count": 148,
      "outputs": [
        {
          "output_type": "execute_result",
          "data": {
            "text/plain": [
              "array([[0.37061965],\n",
              "       [0.3633908 ],\n",
              "       [0.10388947],\n",
              "       ...,\n",
              "       [0.6572998 ],\n",
              "       [0.07440966],\n",
              "       [0.08985895]], dtype=float32)"
            ]
          },
          "metadata": {
            "tags": []
          },
          "execution_count": 148
        }
      ]
    },
    {
      "cell_type": "code",
      "metadata": {
        "id": "cau9QmZSupPQ",
        "colab_type": "code",
        "colab": {}
      },
      "source": [
        "pred_y_class = (pred_y >= 0.45).astype(np.int)"
      ],
      "execution_count": 149,
      "outputs": []
    },
    {
      "cell_type": "code",
      "metadata": {
        "id": "gT-A3gSdxdwp",
        "colab_type": "code",
        "colab": {}
      },
      "source": [
        "y_test = (y_test >= 0.5).astype(np.int)\n"
      ],
      "execution_count": 150,
      "outputs": []
    },
    {
      "cell_type": "code",
      "metadata": {
        "id": "mk2Ow2pMQvzF",
        "colab_type": "code",
        "colab": {
          "base_uri": "https://localhost:8080/",
          "height": 261
        },
        "outputId": "63ef8f5c-6d6a-47ec-b3ba-7891030ce2cb"
      },
      "source": [
        "print(\"Confusion Matrix:- \\n\", metrics.confusion_matrix(y_test, pred_y_class), \"\\n\")\n",
        "print(\"Classification Report:- \\n\", metrics.classification_report(y_test, pred_y_class))"
      ],
      "execution_count": 151,
      "outputs": [
        {
          "output_type": "stream",
          "text": [
            "Confusion Matrix:- \n",
            " [[733 112]\n",
            " [126 292]] \n",
            "\n",
            "Classification Report:- \n",
            "               precision    recall  f1-score   support\n",
            "\n",
            "           0       0.85      0.87      0.86       845\n",
            "           1       0.72      0.70      0.71       418\n",
            "\n",
            "    accuracy                           0.81      1263\n",
            "   macro avg       0.79      0.78      0.79      1263\n",
            "weighted avg       0.81      0.81      0.81      1263\n",
            "\n"
          ],
          "name": "stdout"
        }
      ]
    },
    {
      "cell_type": "markdown",
      "metadata": {
        "id": "6YX2FQZd53lA",
        "colab_type": "text"
      },
      "source": [
        "### ROC curve"
      ]
    },
    {
      "cell_type": "code",
      "metadata": {
        "id": "q13uvWLk56pf",
        "colab_type": "code",
        "colab": {
          "base_uri": "https://localhost:8080/",
          "height": 1000
        },
        "outputId": "d32557d4-292a-474c-e020-b98984b6f2a6"
      },
      "source": [
        "from sklearn.metrics import roc_curve, roc_auc_score\n",
        "from matplotlib.font_manager import FontProperties\n",
        "fontP = FontProperties()\n",
        "fontP.set_size('xx-small')\n",
        "fpr, tpr, _ = roc_curve(y_test, pred_y)\n",
        "fig, ax1 = plt.subplots(1,1, figsize = (5, 5), dpi = 250)\n",
        "ax1.plot(fpr, tpr, marker='.', label = 'InceptionResNetV2 (AUC:%2.2f)' % roc_auc_score(y_test, pred_y))\n",
        "ax1.plot(fpr, fpr, linestyle='--', label = 'Random Guessing')\n",
        "ax1.legend(title='legend',  loc='lower right', prop=fontP)\n",
        "ax1.set_xlabel('False Positive Rate')\n",
        "ax1.set_ylabel('True Positive Rate');\n",
        "ax1.set_title('Lung Opacity ROC Curve')"
      ],
      "execution_count": 153,
      "outputs": [
        {
          "output_type": "execute_result",
          "data": {
            "text/plain": [
              "Text(0.5, 1.0, 'Lung Opacity ROC Curve')"
            ]
          },
          "metadata": {
            "tags": []
          },
          "execution_count": 153
        },
        {
          "output_type": "display_data",
          "data": {
            "image/png": "[encoded data removed]",
            "text/plain": [
              "<Figure size 1250x1250 with 1 Axes>"
            ]
          },
          "metadata": {
            "tags": [],
            "needs_background": "light"
          }
        }
      ]
    },
    {
      "cell_type": "markdown",
      "metadata": {
        "id": "q2SKp66bF8kg",
        "colab_type": "text"
      },
      "source": [
        "## Conclusion"
      ]
    },
    {
      "cell_type": "code",
      "metadata": {
        "id": "SEAKtNvFgyrZ",
        "colab_type": "code",
        "colab": {}
      },
      "source": [
        ""
      ],
      "execution_count": null,
      "outputs": []
    }
  ]
}